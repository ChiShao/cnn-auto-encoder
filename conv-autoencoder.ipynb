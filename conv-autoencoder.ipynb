{
 "cells": [
  {
   "cell_type": "code",
   "execution_count": 7,
   "metadata": {},
   "outputs": [
    {
     "name": "stderr",
     "output_type": "stream",
     "text": [
      "C:\\Users\\danie\\.conda\\envs\\tf-env\\lib\\importlib\\_bootstrap.py:219: RuntimeWarning: numpy.ufunc size changed, may indicate binary incompatibility. Expected 192 from C header, got 216 from PyObject\n",
      "  return f(*args, **kwds)\n",
      "C:\\Users\\danie\\.conda\\envs\\tf-env\\lib\\importlib\\_bootstrap.py:219: RuntimeWarning: numpy.ufunc size changed, may indicate binary incompatibility. Expected 192 from C header, got 216 from PyObject\n",
      "  return f(*args, **kwds)\n"
     ]
    }
   ],
   "source": [
    "import os\n",
    "import sys\n",
    "\n",
    "import matplotlib.pyplot as plt\n",
    "import numpy as np\n",
    "import tensorflow as tf\n",
    "from keras.callbacks import EarlyStopping, ModelCheckpoint, ReduceLROnPlateau, TensorBoard\n",
    "from keras.datasets import mnist, fashion_mnist\n",
    "from keras.layers import (\n",
    "    Conv2D, Dense, Flatten, Input, MaxPooling2D, Reshape, UpSampling2D)\n",
    "from keras.models import Model, Sequential, load_model\n",
    "from keras.utils import to_categorical\n",
    "\n",
    "from sklearn.metrics import confusion_matrix"
   ]
  },
  {
   "cell_type": "code",
   "execution_count": 31,
   "metadata": {},
   "outputs": [],
   "source": [
    "# this is the size of our encoded representations\n",
    "ENCODING_DIM = 10\n",
    "\n",
    "# decision boundary for classifier\n",
    "THRESHOLD = 0.7\n",
    "\n",
    "# working directory\n",
    "CUR_DIR = os.path.curdir\n",
    "\n",
    "# setting random seed for reproducable results\n",
    "np.random.seed(42)"
   ]
  },
  {
   "cell_type": "code",
   "execution_count": 32,
   "metadata": {},
   "outputs": [],
   "source": [
    "def train_test_split(X, y, train_split=0.7, test_split=0.85):\n",
    "    indices = np.arange(X.shape[0])\n",
    "    np.random.shuffle(indices)\n",
    "    X = X[indices]\n",
    "    y = y[indices]\n",
    "\n",
    "    # define boundaries for train,validation and test set at .7 and .85 % of the MNIST data set\n",
    "    x_len = len(X)\n",
    "    boundaries = [int(x_len * 0.7), int(x_len * 0.85)]\n",
    "\n",
    "    [X_train, X_test, X_validate] = np.split(X, boundaries)\n",
    "\n",
    "    [y_train, y_test, y_validate] = np.split(y, boundaries)\n",
    "    return (X_train, X_test, X_validate), (y_train, y_test, y_validate)"
   ]
  },
  {
   "cell_type": "code",
   "execution_count": 33,
   "metadata": {},
   "outputs": [],
   "source": [
    "def get_data(train_split=.7, test_split=.85):\n",
    "    \"\"\"retrieves data MNIST data set and rebalances dataset, such that train=.7, test=.15 and validation=.15\"\"\"\n",
    "    (X_train, y_train), (X_test, y_test) = mnist.load_data()\n",
    "\n",
    "    X_train = X_train.reshape((len(X_train), 28, 28, 1))\n",
    "    test_len = len(X_test)\n",
    "\n",
    "    X_test = X_test.reshape((test_len, 28, 28, 1))\n",
    "\n",
    "    # divide X values bei 255.0 since MNIST data set changed such that pixel values are in [0,255]\n",
    "    X = np.concatenate((X_train, X_test)) / 255.0\n",
    "    y = np.concatenate((y_train, y_test))\n",
    "  \n",
    "    (X_train, X_test, X_validate), (y_train, y_test, y_validate) = train_test_split(X,y) # defaul: .7, .85\n",
    "    # one-hot encode target columns\n",
    "    y_train = to_categorical(y_train)\n",
    "    y_test = to_categorical(y_test)\n",
    "    y_validate = to_categorical(y_validate)\n",
    "\n",
    "    return (X_train, X_test, X_validate), (y_train, y_test, y_validate)"
   ]
  },
  {
   "cell_type": "code",
   "execution_count": 34,
   "metadata": {},
   "outputs": [
    {
     "data": {
      "text/plain": [
       "<matplotlib.image.AxesImage at 0x7f3ffc281748>"
      ]
     },
     "execution_count": 34,
     "metadata": {},
     "output_type": "execute_result"
    },
    {
     "data": {
      "image/png": "[encoded data removed]",
      "text/plain": [
       "<Figure size 432x288 with 1 Axes>"
      ]
     },
     "metadata": {
      "needs_background": "light"
     },
     "output_type": "display_data"
    }
   ],
   "source": [
    "(X_train, X_test, X_validate), (y_train, y_test, y_validate) = get_data()\n",
    "plt.imshow(X_train[2].reshape((28,28)),cmap=\"gray\")"
   ]
  },
  {
   "cell_type": "code",
   "execution_count": 35,
   "metadata": {},
   "outputs": [],
   "source": [
    "def get_specific_data_set(X, y, digit):\n",
    "    # parameters are training AND test data for X respectively y \n",
    "    # is assumed to be in one-hot-encoding\n",
    "    y = np.argmax(y, axis=1)\n",
    "    indices = np.where(y == digit)\n",
    "\n",
    "    # filtering by the passed digit. needs to be an int\n",
    "    X_digit = X[indices]    \n",
    "    y_digit = y[indices]\n",
    "     \n",
    "    y_digit = to_categorical(y_digit) # array of length 2 of form [0., 1.]\n",
    "    \n",
    "    # splitting in training and test sets is not necessary, \n",
    "    # because anomaly detection without knowledge of the labels is aimed for.\n",
    "    \n",
    "    return X_digit, y_digit"
   ]
  },
  {
   "cell_type": "code",
   "execution_count": 36,
   "metadata": {},
   "outputs": [
    {
     "data": {
      "text/plain": [
       "10"
      ]
     },
     "execution_count": 36,
     "metadata": {},
     "output_type": "execute_result"
    }
   ],
   "source": [
    "X = np.concatenate((X_train, X_test, X_validate))\n",
    "y = np.concatenate((y_train, y_test, y_validate))\n",
    "\n",
    "# digit = 0\n",
    "# X_zero, y_zero = get_specific_data_set(X, y, digit)\n",
    "# digit = 8\n",
    "# X_eight, y_eight = get_specific_data_set(X, y, digit)\n",
    "# digit = 1\n",
    "# X_one, y_one =  get_specific_data_set(X, y, digit)\n",
    "# digit = 7\n",
    "# X_seven, y_seven = get_specific_data_set(X, y, digit)\n",
    "digit_data = [get_specific_data_set(X, y, i) for i in range(10)]\n",
    "len(digit_data)"
   ]
  },
  {
   "cell_type": "code",
   "execution_count": 37,
   "metadata": {},
   "outputs": [
    {
     "data": {
      "image/png": "[encoded data removed]",
      "text/plain": [
       "<Figure size 1152x288 with 16 Axes>"
      ]
     },
     "metadata": {
      "needs_background": "light"
     },
     "output_type": "display_data"
    }
   ],
   "source": [
    "plt.figure(figsize=(16, 4))\n",
    "for i in range(len(digit_data[1][0][0]))[:8]:\n",
    "    ax = plt.subplot(2, 8, i+1)\n",
    "    plt.imshow(digit_data[1][0][i].reshape(28, 28))\n",
    "    plt.gray()\n",
    "    ax.get_xaxis().set_visible(False)\n",
    "    ax.get_yaxis().set_visible(False)\n",
    "for i in range(len(digit_data[1][0][0]))[:8]:\n",
    "    ax = plt.subplot(2, 8, 8+i+1)\n",
    "    plt.imshow(digit_data[7][0][i].reshape(28, 28))\n",
    "    ax.get_xaxis().set_visible(False)\n",
    "    ax.get_yaxis().set_visible(False)"
   ]
  },
  {
   "cell_type": "code",
   "execution_count": 38,
   "metadata": {},
   "outputs": [],
   "source": [
    "def build_classifier(input_dim):\n",
    "    \"\"\"Builds classifier for classification of MNIST encoded representation.\"\"\"\n",
    "    classifier = Sequential()\n",
    "    classifier.add(Dense(32, activation=\"relu\", input_dim=input_dim,\n",
    "                         kernel_initializer=\"random_normal\"))\n",
    "    classifier.add(Dense(ENCODING_DIM, activation=\"softmax\",\n",
    "                         kernel_initializer=\"random_normal\"))\n",
    "\n",
    "    classifier.compile(optimizer='adam', loss='mean_squared_error',\n",
    "                       metrics=['accuracy'])\n",
    "    return classifier"
   ]
  },
  {
   "cell_type": "code",
   "execution_count": 39,
   "metadata": {},
   "outputs": [],
   "source": [
    "def build_conv_aue():\n",
    "    INPUT_SHAPE = (28, 28, 1)\n",
    "    DEFAULT_KERNEL = (3, 3)\n",
    "    DEFAULT_POOL_SIZE = (2, 2)\n",
    "    # this is our input placeholder\n",
    "    input_img = Input(shape=INPUT_SHAPE)\n",
    "    # layer between input and middle layer\n",
    "    encode = Conv2D(16, DEFAULT_KERNEL, activation=\"relu\",\n",
    "                    padding=\"same\")(input_img)\n",
    "    encode = MaxPooling2D(DEFAULT_POOL_SIZE, padding=\"same\")(encode)\n",
    "    encode = Conv2D(8, DEFAULT_KERNEL, activation=\"relu\",\n",
    "                    padding=\"same\")(encode)\n",
    "    encode = MaxPooling2D(DEFAULT_POOL_SIZE, padding=\"same\")(encode)\n",
    "    encode = Conv2D(8, DEFAULT_KERNEL, activation=\"relu\",\n",
    "                    padding=\"same\")(encode)\n",
    "    encode = MaxPooling2D(DEFAULT_POOL_SIZE, padding=\"same\")(encode)\n",
    "    encode = Conv2D(6, DEFAULT_KERNEL, activation=\"relu\",\n",
    "                    padding=\"same\")(encode)\n",
    "\n",
    "    # \"encoded\" is the encoded representation of the input, middle layer of the aue\n",
    "    encoded = MaxPooling2D(\n",
    "        DEFAULT_POOL_SIZE, padding=\"same\", name=\"encoder\")(encode)\n",
    "\n",
    "    # layer between middle and output layer\n",
    "    decode = Conv2D(6, DEFAULT_KERNEL, activation=\"relu\", padding=\"same\"\n",
    "                    )(encoded)\n",
    "    decode = UpSampling2D(DEFAULT_POOL_SIZE)(decode)\n",
    "    decode = Conv2D(8, DEFAULT_KERNEL, activation=\"relu\", padding=\"same\"\n",
    "                    )(decode)\n",
    "    decode = UpSampling2D(DEFAULT_POOL_SIZE)(decode)\n",
    "    decode = Conv2D(8, DEFAULT_KERNEL, activation=\"relu\", padding=\"same\"\n",
    "                    )(decode)\n",
    "    decode = UpSampling2D(DEFAULT_POOL_SIZE)(decode)\n",
    "    decode = Conv2D(16, DEFAULT_KERNEL, activation=\"relu\")(decode)\n",
    "    decode = UpSampling2D(DEFAULT_POOL_SIZE)(decode)\n",
    "    decoded = Conv2D(1, DEFAULT_KERNEL, activation=\"sigmoid\",\n",
    "                     padding=\"same\")(decode)\n",
    "\n",
    "    # this model maps an input to its reconstruction\n",
    "    autoencoder = Model(inputs=input_img, outputs=decoded)\n",
    "\n",
    "    encoder, decoder = get_codec_from_aue(autoencoder)\n",
    "\n",
    "    # build (aka \"compile\") the model\n",
    "    autoencoder.compile(optimizer=\"adadelta\", loss=\"binary_crossentropy\")\n",
    "    return autoencoder, encoder, decoder"
   ]
  },
  {
   "cell_type": "code",
   "execution_count": 40,
   "metadata": {},
   "outputs": [],
   "source": [
    "def get_codec_from_aue(autoencoder):\n",
    "    encoder_layer = autoencoder.get_layer(\"encoder\")\n",
    "    # this model maps an input to its encoded representation; Big image to small rep\n",
    "    encoder = Model(\n",
    "        inputs=autoencoder.input, outputs=encoder_layer.output)\n",
    "\n",
    "    # create a placeholder for an encoded (ENCODING_DIM-dimensional) input\n",
    "    encoded_input = Input(shape=encoder_layer.output_shape[1:])\n",
    "\n",
    "    # getting the middle of the autoencoder\n",
    "    start = (len(autoencoder.layers))//2\n",
    "    decoder = autoencoder.layers[-start](encoded_input)\n",
    "    # stacking the decoder layers\n",
    "    for i in range(start-1, 0, -1):\n",
    "        decoder = autoencoder.layers[-i](decoder)\n",
    "\n",
    "    # create the decoder model; \"<\": encoded(small) representation to big image\n",
    "    decoder = Model(encoded_input, decoder)\n",
    "    return encoder, decoder"
   ]
  },
  {
   "cell_type": "code",
   "execution_count": 41,
   "metadata": {},
   "outputs": [],
   "source": [
    "# array to map digits to verbose representation to store model with appropriate naming\n",
    "digits_verbose = [\"zero\", \"one\",\"two\",\"three\",\"four\",\"five\",\"six\",\"seven\",\"eight\",\"nine\"]"
   ]
  },
  {
   "cell_type": "markdown",
   "metadata": {},
   "source": [
    "**all digits auto encoder**"
   ]
  },
  {
   "cell_type": "code",
   "execution_count": 43,
   "metadata": {},
   "outputs": [
    {
     "name": "stdout",
     "output_type": "stream",
     "text": [
      "Training Autoencoder for all digits...\n",
      "Train on 49000 samples, validate on 10500 samples\n",
      "Epoch 1/128\n",
      "49000/49000 [==============================] - 7s 150us/step - loss: 0.2655 - val_loss: 0.2183\n",
      "\n",
      "Epoch 00001: val_loss improved from inf to 0.21827, saving model to ./ckpts/all-conv-ae.hdf5\n",
      "Epoch 2/128\n",
      "49000/49000 [==============================] - 6s 129us/step - loss: 0.2102 - val_loss: 0.1954\n",
      "\n",
      "Epoch 00002: val_loss improved from 0.21827 to 0.19543, saving model to ./ckpts/all-conv-ae.hdf5\n",
      "Epoch 3/128\n",
      "49000/49000 [==============================] - 6s 130us/step - loss: 0.1913 - val_loss: 0.1825\n",
      "\n",
      "Epoch 00003: val_loss improved from 0.19543 to 0.18248, saving model to ./ckpts/all-conv-ae.hdf5\n",
      "Epoch 4/128\n",
      "49000/49000 [==============================] - 6s 126us/step - loss: 0.1805 - val_loss: 0.1845\n",
      "\n",
      "Epoch 00004: val_loss did not improve from 0.18248\n",
      "Epoch 5/128\n",
      "49000/49000 [==============================] - 6s 125us/step - loss: 0.1736 - val_loss: 0.1686\n",
      "\n",
      "Epoch 00005: val_loss improved from 0.18248 to 0.16859, saving model to ./ckpts/all-conv-ae.hdf5\n",
      "Epoch 6/128\n",
      "49000/49000 [==============================] - 6s 125us/step - loss: 0.1688 - val_loss: 0.1684\n",
      "\n",
      "Epoch 00006: val_loss improved from 0.16859 to 0.16840, saving model to ./ckpts/all-conv-ae.hdf5\n",
      "Epoch 7/128\n",
      "49000/49000 [==============================] - 6s 124us/step - loss: 0.1653 - val_loss: 0.1637\n",
      "\n",
      "Epoch 00007: val_loss improved from 0.16840 to 0.16365, saving model to ./ckpts/all-conv-ae.hdf5\n",
      "Epoch 8/128\n",
      "49000/49000 [==============================] - 6s 124us/step - loss: 0.1619 - val_loss: 0.1602\n",
      "\n",
      "Epoch 00008: val_loss improved from 0.16365 to 0.16017, saving model to ./ckpts/all-conv-ae.hdf5\n",
      "Epoch 9/128\n",
      "49000/49000 [==============================] - 6s 124us/step - loss: 0.1583 - val_loss: 0.1613\n",
      "\n",
      "Epoch 00010: val_loss did not improve from 0.16017\n",
      "Epoch 11/128\n",
      "49000/49000 [==============================] - 6s 125us/step - loss: 0.1563 - val_loss: 0.1575\n",
      "\n",
      "Epoch 00011: val_loss improved from 0.16017 to 0.15749, saving model to ./ckpts/all-conv-ae.hdf5\n",
      "Epoch 12/128\n",
      "49000/49000 [==============================] - 6s 125us/step - loss: 0.1548 - val_loss: 0.1544\n",
      "\n",
      "Epoch 00012: val_loss improved from 0.15749 to 0.15444, saving model to ./ckpts/all-conv-ae.hdf5\n",
      "Epoch 13/128\n",
      "49000/49000 [==============================] - 6s 125us/step - loss: 0.1535 - val_loss: 0.1505\n",
      "\n",
      "Epoch 00013: val_loss improved from 0.15444 to 0.15047, saving model to ./ckpts/all-conv-ae.hdf5\n",
      "Epoch 14/128\n",
      "49000/49000 [==============================] - 6s 124us/step - loss: 0.1522 - val_loss: 0.1476\n",
      "\n",
      "Epoch 00014: val_loss improved from 0.15047 to 0.14759, saving model to ./ckpts/all-conv-ae.hdf5\n",
      "Epoch 15/128\n",
      "49000/49000 [==============================] - 6s 125us/step - loss: 0.1506 - val_loss: 0.1482\n",
      "\n",
      "Epoch 00015: val_loss did not improve from 0.14759\n",
      "Epoch 16/128\n",
      "49000/49000 [==============================] - 6s 125us/step - loss: 0.1483 - val_loss: 0.1475\n",
      "\n",
      "Epoch 00017: val_loss improved from 0.14759 to 0.14753, saving model to ./ckpts/all-conv-ae.hdf5\n",
      "\n",
      "Epoch 00017: ReduceLROnPlateau reducing learning rate to 0.3.\n",
      "Epoch 18/128\n",
      "49000/49000 [==============================] - 6s 123us/step - loss: 0.1356 - val_loss: 0.1365\n",
      "\n",
      "Epoch 00023: val_loss improved from 0.13668 to 0.13649, saving model to ./ckpts/all-conv-ae.hdf5\n",
      "Epoch 24/128\n",
      "49000/49000 [==============================] - 6s 126us/step - loss: 0.1352 - val_loss: 0.1359\n",
      "\n",
      "Epoch 00024: val_loss improved from 0.13649 to 0.13589, saving model to ./ckpts/all-conv-ae.hdf5\n",
      "Epoch 25/128\n",
      "49000/49000 [==============================] - 6s 125us/step - loss: 0.1346 - val_loss: 0.1373\n",
      "\n",
      "Epoch 00025: val_loss did not improve from 0.13589\n",
      "Epoch 26/128\n",
      "49000/49000 [==============================] - 6s 123us/step - loss: 0.1336 - val_loss: 0.1344\n",
      "\n",
      "Epoch 00027: val_loss did not improve from 0.13386\n",
      "Epoch 28/128\n",
      "49000/49000 [==============================] - 6s 125us/step - loss: 0.1331 - val_loss: 0.1328\n",
      "\n",
      "Epoch 00028: val_loss improved from 0.13386 to 0.13284, saving model to ./ckpts/all-conv-ae.hdf5\n",
      "Epoch 29/128\n",
      "49000/49000 [==============================] - 6s 124us/step - loss: 0.1328 - val_loss: 0.1341\n",
      "\n",
      "Epoch 00029: val_loss did not improve from 0.13284\n",
      "Epoch 30/128\n",
      "49000/49000 [==============================] - 6s 123us/step - loss: 0.1323 - val_loss: 0.1320\n",
      "\n",
      "Epoch 00030: val_loss improved from 0.13284 to 0.13201, saving model to ./ckpts/all-conv-ae.hdf5\n",
      "Epoch 31/128\n",
      "49000/49000 [==============================] - 6s 124us/step - loss: 0.1320 - val_loss: 0.1315\n",
      "\n",
      "Epoch 00031: val_loss improved from 0.13201 to 0.13149, saving model to ./ckpts/all-conv-ae.hdf5\n",
      "Epoch 32/128\n",
      "49000/49000 [==============================] - 6s 123us/step - loss: 0.1314 - val_loss: 0.1313\n",
      "\n",
      "Epoch 00032: val_loss improved from 0.13149 to 0.13135, saving model to ./ckpts/all-conv-ae.hdf5\n",
      "Epoch 33/128\n",
      "49000/49000 [==============================] - 6s 124us/step - loss: 0.1311 - val_loss: 0.1324\n",
      "\n",
      "Epoch 00033: val_loss did not improve from 0.13135\n",
      "Epoch 34/128\n",
      "49000/49000 [==============================] - 6s 124us/step - loss: 0.1310 - val_loss: 0.1308\n",
      "\n",
      "Epoch 00034: val_loss improved from 0.13135 to 0.13077, saving model to ./ckpts/all-conv-ae.hdf5\n",
      "Epoch 35/128\n",
      "49000/49000 [==============================] - 6s 124us/step - loss: 0.1306 - val_loss: 0.1307\n",
      "\n",
      "Epoch 00035: val_loss improved from 0.13077 to 0.13074, saving model to ./ckpts/all-conv-ae.hdf5\n",
      "Epoch 36/128\n",
      "49000/49000 [==============================] - 6s 123us/step - loss: 0.1305 - val_loss: 0.1311\n",
      "\n",
      "Epoch 00036: val_loss did not improve from 0.13074\n",
      "Epoch 37/128\n",
      "49000/49000 [==============================] - 6s 123us/step - loss: 0.1303 - val_loss: 0.1295\n",
      "\n",
      "Epoch 00037: val_loss improved from 0.13074 to 0.12955, saving model to ./ckpts/all-conv-ae.hdf5\n",
      "Epoch 38/128\n",
      "49000/49000 [==============================] - 6s 122us/step - loss: 0.1300 - val_loss: 0.1325\n",
      "\n",
      "Epoch 00038: val_loss did not improve from 0.12955\n",
      "Epoch 39/128\n",
      "49000/49000 [==============================] - 6s 124us/step - loss: 0.1294 - val_loss: 0.1299\n",
      "\n",
      "Epoch 00039: val_loss did not improve from 0.12955\n",
      "Epoch 40/128\n",
      "49000/49000 [==============================] - 6s 123us/step - loss: 0.1294 - val_loss: 0.1293\n",
      "\n",
      "Epoch 00040: val_loss improved from 0.12955 to 0.12930, saving model to ./ckpts/all-conv-ae.hdf5\n",
      "Epoch 41/128\n",
      "49000/49000 [==============================] - 6s 124us/step - loss: 0.1292 - val_loss: 0.1292\n",
      "\n",
      "Epoch 00041: val_loss improved from 0.12930 to 0.12924, saving model to ./ckpts/all-conv-ae.hdf5\n",
      "Epoch 42/128\n",
      "49000/49000 [==============================] - 6s 124us/step - loss: 0.1290 - val_loss: 0.1310\n",
      "\n",
      "Epoch 00042: val_loss did not improve from 0.12924\n",
      "Epoch 43/128\n",
      "49000/49000 [==============================] - 6s 124us/step - loss: 0.1264 - val_loss: 0.1265\n",
      "\n",
      "Epoch 00044: val_loss improved from 0.12924 to 0.12650, saving model to ./ckpts/all-conv-ae.hdf5\n",
      "Epoch 45/128\n",
      "49000/49000 [==============================] - 6s 124us/step - loss: 0.1262 - val_loss: 0.1264\n",
      "\n",
      "Epoch 00045: val_loss improved from 0.12650 to 0.12641, saving model to ./ckpts/all-conv-ae.hdf5\n",
      "Epoch 46/128\n",
      "49000/49000 [==============================] - 6s 123us/step - loss: 0.1260 - val_loss: 0.1262\n",
      "\n",
      "Epoch 00046: val_loss improved from 0.12641 to 0.12623, saving model to ./ckpts/all-conv-ae.hdf5\n",
      "Epoch 47/128\n",
      "49000/49000 [==============================] - 6s 123us/step - loss: 0.1259 - val_loss: 0.1262\n",
      "\n",
      "Epoch 00047: val_loss improved from 0.12623 to 0.12618, saving model to ./ckpts/all-conv-ae.hdf5\n",
      "Epoch 48/128\n",
      "49000/49000 [==============================] - 6s 124us/step - loss: 0.1256 - val_loss: 0.1258\n",
      "\n",
      "Epoch 00049: val_loss improved from 0.12592 to 0.12576, saving model to ./ckpts/all-conv-ae.hdf5\n",
      "Epoch 50/128\n",
      "49000/49000 [==============================] - 6s 124us/step - loss: 0.1255 - val_loss: 0.1256\n",
      "\n",
      "Epoch 00050: val_loss improved from 0.12576 to 0.12561, saving model to ./ckpts/all-conv-ae.hdf5\n",
      "Epoch 51/128\n",
      "49000/49000 [==============================] - 6s 125us/step - loss: 0.1253 - val_loss: 0.1254\n",
      "\n",
      "Epoch 00052: val_loss improved from 0.12555 to 0.12537, saving model to ./ckpts/all-conv-ae.hdf5\n",
      "Epoch 53/128\n",
      "49000/49000 [==============================] - 6s 129us/step - loss: 0.1251 - val_loss: 0.1252\n",
      "\n",
      "Epoch 00053: val_loss improved from 0.12537 to 0.12524, saving model to ./ckpts/all-conv-ae.hdf5\n",
      "Epoch 54/128\n",
      "49000/49000 [==============================] - 6s 123us/step - loss: 0.1249 - val_loss: 0.1250\n",
      "\n",
      "Epoch 00055: val_loss improved from 0.12513 to 0.12498, saving model to ./ckpts/all-conv-ae.hdf5\n",
      "Epoch 56/128\n",
      "49000/49000 [==============================] - 6s 125us/step - loss: 0.1248 - val_loss: 0.1249\n",
      "\n",
      "Epoch 00056: val_loss improved from 0.12498 to 0.12492, saving model to ./ckpts/all-conv-ae.hdf5\n",
      "Epoch 57/128\n",
      "49000/49000 [==============================] - 6s 125us/step - loss: 0.1247 - val_loss: 0.1249\n",
      "\n",
      "Epoch 00057: val_loss improved from 0.12492 to 0.12488, saving model to ./ckpts/all-conv-ae.hdf5\n",
      "Epoch 58/128\n",
      "49000/49000 [==============================] - 6s 124us/step - loss: 0.1246 - val_loss: 0.1247\n",
      "\n",
      "Epoch 00058: val_loss improved from 0.12488 to 0.12472, saving model to ./ckpts/all-conv-ae.hdf5\n",
      "Epoch 59/128\n",
      "49000/49000 [==============================] - 6s 125us/step - loss: 0.1245 - val_loss: 0.1247\n",
      "\n",
      "Epoch 00059: val_loss improved from 0.12472 to 0.12467, saving model to ./ckpts/all-conv-ae.hdf5\n",
      "Epoch 60/128\n",
      "49000/49000 [==============================] - 6s 125us/step - loss: 0.1243 - val_loss: 0.1245\n",
      "\n",
      "Epoch 00060: val_loss improved from 0.12467 to 0.12447, saving model to ./ckpts/all-conv-ae.hdf5\n",
      "Epoch 61/128\n",
      "49000/49000 [==============================] - 6s 124us/step - loss: 0.1241 - val_loss: 0.1242\n",
      "\n",
      "Epoch 00062: val_loss improved from 0.12435 to 0.12423, saving model to ./ckpts/all-conv-ae.hdf5\n",
      "Epoch 63/128\n",
      "49000/49000 [==============================] - 6s 123us/step - loss: 0.1240 - val_loss: 0.1242\n",
      "\n",
      "Epoch 00063: val_loss improved from 0.12423 to 0.12421, saving model to ./ckpts/all-conv-ae.hdf5\n",
      "Epoch 64/128\n",
      "49000/49000 [==============================] - 6s 123us/step - loss: 0.1240 - val_loss: 0.1241\n",
      "\n",
      "Epoch 00064: val_loss improved from 0.12421 to 0.12406, saving model to ./ckpts/all-conv-ae.hdf5\n",
      "Epoch 65/128\n",
      "49000/49000 [==============================] - 6s 126us/step - loss: 0.1238 - val_loss: 0.1239\n",
      "\n",
      "Epoch 00066: val_loss improved from 0.12404 to 0.12386, saving model to ./ckpts/all-conv-ae.hdf5\n",
      "Epoch 67/128\n",
      "49000/49000 [==============================] - 6s 127us/step - loss: 0.1237 - val_loss: 0.1237\n",
      "\n",
      "Epoch 00067: val_loss improved from 0.12386 to 0.12374, saving model to ./ckpts/all-conv-ae.hdf5\n",
      "Epoch 68/128\n",
      "49000/49000 [==============================] - 6s 124us/step - loss: 0.1236 - val_loss: 0.1236\n",
      "\n",
      "Epoch 00068: val_loss improved from 0.12374 to 0.12363, saving model to ./ckpts/all-conv-ae.hdf5\n",
      "Epoch 69/128\n",
      "49000/49000 [==============================] - 6s 123us/step - loss: 0.1235 - val_loss: 0.1236\n",
      "\n",
      "Epoch 00069: val_loss improved from 0.12363 to 0.12361, saving model to ./ckpts/all-conv-ae.hdf5\n",
      "Epoch 70/128\n",
      "49000/49000 [==============================] - 6s 124us/step - loss: 0.1234 - val_loss: 0.1236\n",
      "\n",
      "Epoch 00070: val_loss improved from 0.12361 to 0.12358, saving model to ./ckpts/all-conv-ae.hdf5\n",
      "Epoch 71/128\n",
      "49000/49000 [==============================] - 6s 123us/step - loss: 0.1229 - val_loss: 0.1230\n",
      "\n",
      "Epoch 00076: val_loss improved from 0.12301 to 0.12300, saving model to ./ckpts/all-conv-ae.hdf5\n",
      "Epoch 77/128\n",
      "49000/49000 [==============================] - 6s 124us/step - loss: 0.1228 - val_loss: 0.1229\n",
      "\n",
      "Epoch 00077: val_loss improved from 0.12300 to 0.12288, saving model to ./ckpts/all-conv-ae.hdf5\n",
      "Epoch 78/128\n",
      "49000/49000 [==============================] - 6s 123us/step - loss: 0.1227 - val_loss: 0.1228\n",
      "\n",
      "Epoch 00078: val_loss improved from 0.12288 to 0.12277, saving model to ./ckpts/all-conv-ae.hdf5\n",
      "Epoch 79/128\n",
      "49000/49000 [==============================] - 6s 123us/step - loss: 0.1225 - val_loss: 0.1227\n",
      "\n",
      "Epoch 00081: val_loss improved from 0.12277 to 0.12273, saving model to ./ckpts/all-conv-ae.hdf5\n",
      "\n",
      "Epoch 00081: ReduceLROnPlateau reducing learning rate to 0.027000001072883605.\n",
      "Epoch 82/128\n",
      "49000/49000 [==============================] - 6s 124us/step - loss: 0.1223 - val_loss: 0.1224\n",
      "\n",
      "Epoch 00082: val_loss improved from 0.12273 to 0.12239, saving model to ./ckpts/all-conv-ae.hdf5\n",
      "Epoch 83/128\n",
      "49000/49000 [==============================] - 6s 124us/step - loss: 0.1222 - val_loss: 0.1224\n",
      "\n",
      "Epoch 00083: val_loss improved from 0.12239 to 0.12237, saving model to ./ckpts/all-conv-ae.hdf5\n",
      "Epoch 84/128\n",
      "49000/49000 [==============================] - 6s 123us/step - loss: 0.1222 - val_loss: 0.1223\n",
      "\n",
      "Epoch 00085: val_loss improved from 0.12235 to 0.12233, saving model to ./ckpts/all-conv-ae.hdf5\n",
      "\n",
      "Epoch 00085: ReduceLROnPlateau reducing learning rate to 0.008100000210106373.\n",
      "Epoch 86/128\n",
      "49000/49000 [==============================] - 6s 124us/step - loss: 0.1221 - val_loss: 0.1223\n",
      "\n",
      "Epoch 00086: val_loss improved from 0.12233 to 0.12228, saving model to ./ckpts/all-conv-ae.hdf5\n",
      "Epoch 87/128\n",
      "49000/49000 [==============================] - 6s 124us/step - loss: 0.1221 - val_loss: 0.1223\n",
      "\n",
      "Epoch 00087: val_loss did not improve from 0.12228\n",
      "Epoch 88/128\n",
      "49000/49000 [==============================] - 6s 123us/step - loss: 0.1221 - val_loss: 0.1223\n",
      "\n",
      "Epoch 00089: val_loss improved from 0.12227 to 0.12226, saving model to ./ckpts/all-conv-ae.hdf5\n",
      "\n",
      "Epoch 00089: ReduceLROnPlateau reducing learning rate to 0.0024300000630319116.\n",
      "Epoch 90/128\n",
      "49000/49000 [==============================] - 6s 123us/step - loss: 0.1221 - val_loss: 0.1222\n",
      "\n",
      "Epoch 00092: val_loss improved from 0.12225 to 0.12224, saving model to ./ckpts/all-conv-ae.hdf5\n",
      "\n",
      "Epoch 00092: ReduceLROnPlateau reducing learning rate to 0.0007290000328794121.\n",
      "Epoch 00092: early stopping\n",
      "_________________________________________________________________\n",
      "Layer (type)                 Output Shape              Param #   \n",
      "=================================================================\n",
      "input_6 (InputLayer)         (None, 28, 28, 1)         0         \n",
      "_________________________________________________________________\n",
      "conv2d_19 (Conv2D)           (None, 28, 28, 16)        160       \n",
      "_________________________________________________________________\n",
      "max_pooling2d_7 (MaxPooling2 (None, 14, 14, 16)        0         \n",
      "_________________________________________________________________\n",
      "conv2d_20 (Conv2D)           (None, 14, 14, 8)         1160      \n",
      "_________________________________________________________________\n",
      "max_pooling2d_8 (MaxPooling2 (None, 7, 7, 8)           0         \n",
      "_________________________________________________________________\n",
      "conv2d_21 (Conv2D)           (None, 7, 7, 8)           584       \n",
      "_________________________________________________________________\n",
      "max_pooling2d_9 (MaxPooling2 (None, 4, 4, 8)           0         \n",
      "_________________________________________________________________\n",
      "conv2d_22 (Conv2D)           (None, 4, 4, 6)           438       \n",
      "_________________________________________________________________\n",
      "encoder (MaxPooling2D)       (None, 2, 2, 6)           0         \n",
      "_________________________________________________________________\n",
      "conv2d_23 (Conv2D)           (None, 2, 2, 6)           330       \n",
      "_________________________________________________________________\n",
      "up_sampling2d_9 (UpSampling2 (None, 4, 4, 6)           0         \n",
      "_________________________________________________________________\n",
      "conv2d_24 (Conv2D)           (None, 4, 4, 8)           440       \n",
      "_________________________________________________________________\n",
      "up_sampling2d_10 (UpSampling (None, 8, 8, 8)           0         \n",
      "_________________________________________________________________\n",
      "conv2d_25 (Conv2D)           (None, 8, 8, 8)           584       \n",
      "_________________________________________________________________\n",
      "up_sampling2d_11 (UpSampling (None, 16, 16, 8)         0         \n",
      "_________________________________________________________________\n",
      "conv2d_26 (Conv2D)           (None, 14, 14, 16)        1168      \n",
      "_________________________________________________________________\n",
      "up_sampling2d_12 (UpSampling (None, 28, 28, 16)        0         \n",
      "_________________________________________________________________\n",
      "conv2d_27 (Conv2D)           (None, 28, 28, 1)         145       \n",
      "=================================================================\n",
      "Total params: 5,009\n",
      "Trainable params: 5,009\n",
      "Non-trainable params: 0\n",
      "_________________________________________________________________\n"
     ]
    }
   ],
   "source": [
    "ckpt_loc = os.path.join(CUR_DIR, \"ckpts\", \"all-conv-ae.hdf5\")\n",
    "\n",
    "if(os.path.isfile(ckpt_loc)):\n",
    "    print(\"Loading Autoencoder for all digits from directory %s...\" % ckpt_loc)\n",
    "    all_ae = load_model(ckpt_loc)\n",
    "    all_encoder, all_decoder = get_codec_from_aue(all_ae)\n",
    "else:\n",
    "    print(\"Training Autoencoder for all digits...\")\n",
    "    all_ae, all_encoder, all_decoder = build_conv_aue()\n",
    "    earlyStopping = EarlyStopping(\n",
    "        monitor='val_loss', patience=10, verbose=1, mode='min', min_delta=0.0005)\n",
    "    mcp_save = ModelCheckpoint(ckpt_loc,\n",
    "                               save_best_only=True, verbose=1, monitor='val_loss', mode='min')\n",
    "    reduce_lr_loss = ReduceLROnPlateau(\n",
    "        monitor='val_loss', factor=0.3, patience=3, verbose=1, mode='min')\n",
    "    all_ae.fit(X_train, X_train,\n",
    "                    epochs=128,\n",
    "                    batch_size=128,\n",
    "                    shuffle=True,\n",
    "                    validation_data=(X_validate, X_validate), callbacks=[earlyStopping, mcp_save, reduce_lr_loss])\n",
    "all_ae.summary()"
   ]
  },
  {
   "cell_type": "code",
   "execution_count": 52,
   "metadata": {},
   "outputs": [
    {
     "name": "stdout",
     "output_type": "stream",
     "text": [
      "49000/49000 [==============================] - 5s 98us/step\n",
      "10500/10500 [==============================] - 1s 98us/step\n",
      "10500/10500 [==============================] - 1s 100us/step\n"
     ]
    },
    {
     "data": {
      "text/plain": [
       "(0.12209356144982941, 0.12224460220336913, 0.12298451796032134)"
      ]
     },
     "execution_count": 52,
     "metadata": {},
     "output_type": "execute_result"
    }
   ],
   "source": [
    "eval_train = all_ae.evaluate(X_train, X_train)\n",
    "eval_validate = all_ae.evaluate(X_validate, X_validate)\n",
    "eval_test = all_ae.evaluate(X_test, X_test)\n",
    "eval_train, eval_validate,eval_test"
   ]
  },
  {
   "cell_type": "code",
   "execution_count": 53,
   "metadata": {},
   "outputs": [
    {
     "data": {
      "image/png": "[encoded data removed]",
      "text/plain": [
       "<Figure size 1440x288 with 20 Axes>"
      ]
     },
     "metadata": {
      "needs_background": "light"
     },
     "output_type": "display_data"
    }
   ],
   "source": [
    "encoded_imgs_train = all_encoder.predict(X_train)\n",
    "encoded_imgs_validate = all_encoder.predict(X_validate)\n",
    "encoded_imgs_test = all_encoder.predict(X_test)\n",
    "\n",
    "decoded_imgs = all_decoder.predict(encoded_imgs_test)\n",
    "n = 10  # how many digits we will display\n",
    "plt.figure(figsize=(20, 4))\n",
    "for i in range(n):\n",
    "    # display original\n",
    "    ax = plt.subplot(2, n, i + 1)\n",
    "    plt.imshow(X_test[i].reshape(28, 28))\n",
    "    plt.gray()\n",
    "    ax.get_xaxis().set_visible(False)\n",
    "    ax.get_yaxis().set_visible(False)\n",
    "\n",
    "    # display reconstruction\n",
    "    ax = plt.subplot(2, n, i + 1 + n)\n",
    "    plt.imshow(decoded_imgs[i].reshape(28, 28))\n",
    "    plt.gray()\n",
    "    ax.get_xaxis().set_visible(False)\n",
    "    ax.get_yaxis().set_visible(False)\n",
    "plt.savefig(os.path.join(\"imgs\", \"all-conv-ae.png\"))"
   ]
  },
  {
   "cell_type": "markdown",
   "metadata": {},
   "source": [
    "**\"one\" auto encoder**\n",
    "\n",
    "Learning features of the digit one. Afterwards, the distribution of the features will be computed to detect outliers which have low probability."
   ]
  },
  {
   "cell_type": "code",
   "execution_count": 55,
   "metadata": {},
   "outputs": [
    {
     "data": {
      "text/plain": [
       "(5513, 1182, 1182)"
      ]
     },
     "execution_count": 55,
     "metadata": {},
     "output_type": "execute_result"
    }
   ],
   "source": [
    "X_one = digit_data[1][0]\n",
    "y_one = digit_data[1][1]\n",
    "\n",
    "(X_one_train, X_one_test, X_one_validate), (y_one_train, y_one_test, y_one_validate) = train_test_split(X_one, y_one)\n",
    "len(X_one_train), len(X_one_test), len(X_one_validate)"
   ]
  },
  {
   "cell_type": "code",
   "execution_count": 60,
   "metadata": {},
   "outputs": [
    {
     "name": "stdout",
     "output_type": "stream",
     "text": [
      "Training Autoencoder for digit one...\n",
      "Train on 5513 samples, validate on 1182 samples\n",
      "Epoch 1/128\n",
      "5513/5513 [==============================] - 2s 273us/step - loss: 0.2806 - val_loss: 0.1422\n",
      "\n",
      "Epoch 00001: val_loss improved from inf to 0.14225, saving model to ./ckpts/one-conv-ae.hdf5\n",
      "Epoch 2/128\n",
      "5513/5513 [==============================] - 1s 141us/step - loss: 0.1391 - val_loss: 0.1300\n",
      "\n",
      "Epoch 00002: val_loss improved from 0.14225 to 0.12999, saving model to ./ckpts/one-conv-ae.hdf5\n",
      "Epoch 3/128\n",
      "5513/5513 [==============================] - 1s 141us/step - loss: 0.1300 - val_loss: 0.1246\n",
      "\n",
      "Epoch 00003: val_loss improved from 0.12999 to 0.12456, saving model to ./ckpts/one-conv-ae.hdf5\n",
      "Epoch 4/128\n",
      "5513/5513 [==============================] - 1s 140us/step - loss: 0.1228 - val_loss: 0.1165\n",
      "\n",
      "Epoch 00004: val_loss improved from 0.12456 to 0.11646, saving model to ./ckpts/one-conv-ae.hdf5\n",
      "Epoch 5/128\n",
      "5513/5513 [==============================] - 1s 134us/step - loss: 0.1147 - val_loss: 0.1127\n",
      "\n",
      "Epoch 00005: val_loss improved from 0.11646 to 0.11273, saving model to ./ckpts/one-conv-ae.hdf5\n",
      "Epoch 6/128\n",
      "5513/5513 [==============================] - 1s 129us/step - loss: 0.1051 - val_loss: 0.0978\n",
      "\n",
      "Epoch 00006: val_loss improved from 0.11273 to 0.09777, saving model to ./ckpts/one-conv-ae.hdf5\n",
      "Epoch 7/128\n",
      "5513/5513 [==============================] - 1s 128us/step - loss: 0.0981 - val_loss: 0.0972\n",
      "\n",
      "Epoch 00007: val_loss improved from 0.09777 to 0.09720, saving model to ./ckpts/one-conv-ae.hdf5\n",
      "Epoch 8/128\n",
      "5513/5513 [==============================] - 1s 129us/step - loss: 0.0938 - val_loss: 0.0949\n",
      "\n",
      "Epoch 00008: val_loss improved from 0.09720 to 0.09491, saving model to ./ckpts/one-conv-ae.hdf5\n",
      "Epoch 9/128\n",
      "5513/5513 [==============================] - 1s 127us/step - loss: 0.0904 - val_loss: 0.0901\n",
      "\n",
      "Epoch 00009: val_loss improved from 0.09491 to 0.09012, saving model to ./ckpts/one-conv-ae.hdf5\n",
      "Epoch 10/128\n",
      "5513/5513 [==============================] - 1s 129us/step - loss: 0.0875 - val_loss: 0.0933\n",
      "\n",
      "Epoch 00010: val_loss did not improve from 0.09012\n",
      "Epoch 11/128\n",
      "5513/5513 [==============================] - 1s 127us/step - loss: 0.0851 - val_loss: 0.0894\n",
      "\n",
      "Epoch 00011: val_loss improved from 0.09012 to 0.08944, saving model to ./ckpts/one-conv-ae.hdf5\n",
      "Epoch 12/128\n",
      "5513/5513 [==============================] - 1s 128us/step - loss: 0.0838 - val_loss: 0.0786\n",
      "\n",
      "Epoch 00012: val_loss improved from 0.08944 to 0.07861, saving model to ./ckpts/one-conv-ae.hdf5\n",
      "Epoch 13/128\n",
      "5513/5513 [==============================] - 1s 128us/step - loss: 0.0808 - val_loss: 0.0831\n",
      "\n",
      "Epoch 00013: val_loss did not improve from 0.07861\n",
      "Epoch 14/128\n",
      "5513/5513 [==============================] - 1s 127us/step - loss: 0.0791 - val_loss: 0.0799\n",
      "\n",
      "Epoch 00014: val_loss did not improve from 0.07861\n",
      "Epoch 15/128\n",
      "5513/5513 [==============================] - 1s 126us/step - loss: 0.0770 - val_loss: 0.0937\n",
      "\n",
      "Epoch 00015: val_loss did not improve from 0.07861\n",
      "\n",
      "Epoch 00015: ReduceLROnPlateau reducing learning rate to 0.3.\n",
      "Epoch 16/128\n",
      "5513/5513 [==============================] - 1s 128us/step - loss: 0.0700 - val_loss: 0.0677\n",
      "\n",
      "Epoch 00016: val_loss improved from 0.07861 to 0.06771, saving model to ./ckpts/one-conv-ae.hdf5\n",
      "Epoch 17/128\n",
      "5513/5513 [==============================] - 1s 131us/step - loss: 0.0677 - val_loss: 0.0681\n",
      "\n",
      "Epoch 00017: val_loss did not improve from 0.06771\n",
      "Epoch 18/128\n",
      "5513/5513 [==============================] - 1s 128us/step - loss: 0.0670 - val_loss: 0.0668\n",
      "\n",
      "Epoch 00018: val_loss improved from 0.06771 to 0.06678, saving model to ./ckpts/one-conv-ae.hdf5\n",
      "Epoch 19/128\n",
      "5513/5513 [==============================] - 1s 127us/step - loss: 0.0668 - val_loss: 0.0658\n",
      "\n",
      "Epoch 00019: val_loss improved from 0.06678 to 0.06583, saving model to ./ckpts/one-conv-ae.hdf5\n",
      "Epoch 20/128\n",
      "5513/5513 [==============================] - 1s 129us/step - loss: 0.0662 - val_loss: 0.0656\n",
      "\n",
      "Epoch 00020: val_loss improved from 0.06583 to 0.06563, saving model to ./ckpts/one-conv-ae.hdf5\n",
      "Epoch 21/128\n",
      "5513/5513 [==============================] - 1s 128us/step - loss: 0.0656 - val_loss: 0.0706\n",
      "\n",
      "Epoch 00021: val_loss did not improve from 0.06563\n",
      "Epoch 22/128\n",
      "5513/5513 [==============================] - 1s 128us/step - loss: 0.0658 - val_loss: 0.0641\n",
      "\n",
      "Epoch 00022: val_loss improved from 0.06563 to 0.06413, saving model to ./ckpts/one-conv-ae.hdf5\n",
      "Epoch 23/128\n",
      "5513/5513 [==============================] - 1s 130us/step - loss: 0.0652 - val_loss: 0.0645\n",
      "\n",
      "Epoch 00023: val_loss did not improve from 0.06413\n",
      "Epoch 24/128\n",
      "5513/5513 [==============================] - 1s 129us/step - loss: 0.0651 - val_loss: 0.0641\n",
      "\n",
      "Epoch 00024: val_loss improved from 0.06413 to 0.06406, saving model to ./ckpts/one-conv-ae.hdf5\n",
      "Epoch 25/128\n",
      "5513/5513 [==============================] - 1s 130us/step - loss: 0.0644 - val_loss: 0.0651\n",
      "\n",
      "Epoch 00025: val_loss did not improve from 0.06406\n",
      "\n",
      "Epoch 00025: ReduceLROnPlateau reducing learning rate to 0.09000000357627869.\n",
      "Epoch 26/128\n",
      "5513/5513 [==============================] - 1s 130us/step - loss: 0.0625 - val_loss: 0.0620\n",
      "\n",
      "Epoch 00026: val_loss improved from 0.06406 to 0.06200, saving model to ./ckpts/one-conv-ae.hdf5\n",
      "Epoch 27/128\n",
      "5513/5513 [==============================] - 1s 129us/step - loss: 0.0622 - val_loss: 0.0618\n",
      "\n",
      "Epoch 00027: val_loss improved from 0.06200 to 0.06178, saving model to ./ckpts/one-conv-ae.hdf5\n",
      "Epoch 28/128\n",
      "5513/5513 [==============================] - 1s 129us/step - loss: 0.0620 - val_loss: 0.0618\n",
      "\n",
      "Epoch 00028: val_loss improved from 0.06178 to 0.06177, saving model to ./ckpts/one-conv-ae.hdf5\n",
      "Epoch 29/128\n",
      "5513/5513 [==============================] - 1s 129us/step - loss: 0.0619 - val_loss: 0.0613\n",
      "\n",
      "Epoch 00029: val_loss improved from 0.06177 to 0.06128, saving model to ./ckpts/one-conv-ae.hdf5\n",
      "Epoch 30/128\n",
      "5513/5513 [==============================] - 1s 128us/step - loss: 0.0617 - val_loss: 0.0616\n",
      "\n",
      "Epoch 00030: val_loss did not improve from 0.06128\n",
      "Epoch 31/128\n",
      "5513/5513 [==============================] - 1s 130us/step - loss: 0.0615 - val_loss: 0.0610\n",
      "\n",
      "Epoch 00031: val_loss improved from 0.06128 to 0.06099, saving model to ./ckpts/one-conv-ae.hdf5\n",
      "Epoch 32/128\n",
      "5513/5513 [==============================] - 1s 129us/step - loss: 0.0614 - val_loss: 0.0608\n",
      "\n",
      "Epoch 00032: val_loss improved from 0.06099 to 0.06082, saving model to ./ckpts/one-conv-ae.hdf5\n",
      "Epoch 33/128\n",
      "5513/5513 [==============================] - 1s 129us/step - loss: 0.0612 - val_loss: 0.0609\n",
      "\n",
      "Epoch 00033: val_loss did not improve from 0.06082\n",
      "Epoch 34/128\n",
      "5513/5513 [==============================] - 1s 129us/step - loss: 0.0611 - val_loss: 0.0606\n",
      "\n",
      "Epoch 00034: val_loss improved from 0.06082 to 0.06055, saving model to ./ckpts/one-conv-ae.hdf5\n",
      "Epoch 35/128\n",
      "5513/5513 [==============================] - 1s 128us/step - loss: 0.0610 - val_loss: 0.0605\n",
      "\n",
      "Epoch 00035: val_loss improved from 0.06055 to 0.06051, saving model to ./ckpts/one-conv-ae.hdf5\n",
      "Epoch 36/128\n",
      "5513/5513 [==============================] - 1s 129us/step - loss: 0.0608 - val_loss: 0.0603\n",
      "\n",
      "Epoch 00036: val_loss improved from 0.06051 to 0.06031, saving model to ./ckpts/one-conv-ae.hdf5\n",
      "Epoch 37/128\n",
      "5513/5513 [==============================] - 1s 129us/step - loss: 0.0607 - val_loss: 0.0599\n",
      "\n",
      "Epoch 00037: val_loss improved from 0.06031 to 0.05994, saving model to ./ckpts/one-conv-ae.hdf5\n",
      "Epoch 38/128\n",
      "5513/5513 [==============================] - 1s 128us/step - loss: 0.0605 - val_loss: 0.0601\n",
      "\n",
      "Epoch 00038: val_loss did not improve from 0.05994\n",
      "Epoch 39/128\n",
      "5513/5513 [==============================] - 1s 129us/step - loss: 0.0604 - val_loss: 0.0601\n",
      "\n",
      "Epoch 00039: val_loss did not improve from 0.05994\n",
      "Epoch 40/128\n",
      "5513/5513 [==============================] - 1s 128us/step - loss: 0.0603 - val_loss: 0.0596\n",
      "\n",
      "Epoch 00040: val_loss improved from 0.05994 to 0.05956, saving model to ./ckpts/one-conv-ae.hdf5\n",
      "Epoch 41/128\n",
      "5513/5513 [==============================] - 1s 129us/step - loss: 0.0602 - val_loss: 0.0594\n",
      "\n",
      "Epoch 00041: val_loss improved from 0.05956 to 0.05940, saving model to ./ckpts/one-conv-ae.hdf5\n",
      "Epoch 42/128\n",
      "5513/5513 [==============================] - 1s 130us/step - loss: 0.0600 - val_loss: 0.0595\n",
      "\n",
      "Epoch 00042: val_loss did not improve from 0.05940\n",
      "Epoch 43/128\n",
      "5513/5513 [==============================] - 1s 129us/step - loss: 0.0599 - val_loss: 0.0595\n",
      "\n",
      "Epoch 00043: val_loss did not improve from 0.05940\n",
      "Epoch 44/128\n",
      "5513/5513 [==============================] - 1s 128us/step - loss: 0.0598 - val_loss: 0.0596\n",
      "\n",
      "Epoch 00044: val_loss did not improve from 0.05940\n",
      "\n",
      "Epoch 00044: ReduceLROnPlateau reducing learning rate to 0.027000001072883605.\n",
      "Epoch 45/128\n",
      "5513/5513 [==============================] - 1s 130us/step - loss: 0.0597 - val_loss: 0.0590\n",
      "\n",
      "Epoch 00045: val_loss improved from 0.05940 to 0.05901, saving model to ./ckpts/one-conv-ae.hdf5\n",
      "Epoch 46/128\n",
      "5513/5513 [==============================] - 1s 128us/step - loss: 0.0596 - val_loss: 0.0590\n",
      "\n",
      "Epoch 00046: val_loss improved from 0.05901 to 0.05899, saving model to ./ckpts/one-conv-ae.hdf5\n",
      "Epoch 47/128\n",
      "5513/5513 [==============================] - 1s 128us/step - loss: 0.0596 - val_loss: 0.0589\n",
      "\n",
      "Epoch 00047: val_loss improved from 0.05899 to 0.05891, saving model to ./ckpts/one-conv-ae.hdf5\n",
      "Epoch 48/128\n",
      "5513/5513 [==============================] - 1s 129us/step - loss: 0.0596 - val_loss: 0.0589\n",
      "\n",
      "Epoch 00048: val_loss improved from 0.05891 to 0.05889, saving model to ./ckpts/one-conv-ae.hdf5\n",
      "Epoch 49/128\n",
      "5513/5513 [==============================] - 1s 128us/step - loss: 0.0595 - val_loss: 0.0589\n",
      "\n",
      "Epoch 00049: val_loss improved from 0.05889 to 0.05885, saving model to ./ckpts/one-conv-ae.hdf5\n",
      "Epoch 50/128\n",
      "5513/5513 [==============================] - 1s 130us/step - loss: 0.0595 - val_loss: 0.0588\n",
      "\n",
      "Epoch 00050: val_loss improved from 0.05885 to 0.05880, saving model to ./ckpts/one-conv-ae.hdf5\n",
      "Epoch 51/128\n",
      "5513/5513 [==============================] - 1s 130us/step - loss: 0.0594 - val_loss: 0.0588\n",
      "\n",
      "Epoch 00051: val_loss improved from 0.05880 to 0.05877, saving model to ./ckpts/one-conv-ae.hdf5\n",
      "Epoch 52/128\n",
      "5513/5513 [==============================] - 1s 130us/step - loss: 0.0594 - val_loss: 0.0587\n",
      "\n",
      "Epoch 00052: val_loss improved from 0.05877 to 0.05875, saving model to ./ckpts/one-conv-ae.hdf5\n",
      "Epoch 53/128\n",
      "5513/5513 [==============================] - 1s 129us/step - loss: 0.0594 - val_loss: 0.0587\n",
      "\n",
      "Epoch 00053: val_loss improved from 0.05875 to 0.05866, saving model to ./ckpts/one-conv-ae.hdf5\n",
      "Epoch 54/128\n",
      "5513/5513 [==============================] - 1s 129us/step - loss: 0.0593 - val_loss: 0.0587\n",
      "\n",
      "Epoch 00054: val_loss improved from 0.05866 to 0.05866, saving model to ./ckpts/one-conv-ae.hdf5\n",
      "Epoch 55/128\n",
      "5513/5513 [==============================] - 1s 129us/step - loss: 0.0593 - val_loss: 0.0586\n",
      "\n",
      "Epoch 00055: val_loss improved from 0.05866 to 0.05863, saving model to ./ckpts/one-conv-ae.hdf5\n",
      "Epoch 56/128\n",
      "5513/5513 [==============================] - 1s 129us/step - loss: 0.0593 - val_loss: 0.0586\n",
      "\n",
      "Epoch 00056: val_loss improved from 0.05863 to 0.05856, saving model to ./ckpts/one-conv-ae.hdf5\n",
      "Epoch 57/128\n",
      "5513/5513 [==============================] - 1s 129us/step - loss: 0.0592 - val_loss: 0.0585\n",
      "\n",
      "Epoch 00057: val_loss improved from 0.05856 to 0.05851, saving model to ./ckpts/one-conv-ae.hdf5\n",
      "Epoch 58/128\n",
      "5513/5513 [==============================] - 1s 130us/step - loss: 0.0592 - val_loss: 0.0585\n",
      "\n",
      "Epoch 00058: val_loss improved from 0.05851 to 0.05848, saving model to ./ckpts/one-conv-ae.hdf5\n",
      "Epoch 00058: early stopping\n",
      "_________________________________________________________________\n",
      "Layer (type)                 Output Shape              Param #   \n",
      "=================================================================\n",
      "input_13 (InputLayer)        (None, 28, 28, 1)         0         \n",
      "_________________________________________________________________\n",
      "conv2d_46 (Conv2D)           (None, 28, 28, 16)        160       \n",
      "_________________________________________________________________\n",
      "max_pooling2d_16 (MaxPooling (None, 14, 14, 16)        0         \n",
      "_________________________________________________________________\n",
      "conv2d_47 (Conv2D)           (None, 14, 14, 8)         1160      \n",
      "_________________________________________________________________\n",
      "max_pooling2d_17 (MaxPooling (None, 7, 7, 8)           0         \n",
      "_________________________________________________________________\n",
      "conv2d_48 (Conv2D)           (None, 7, 7, 8)           584       \n",
      "_________________________________________________________________\n",
      "max_pooling2d_18 (MaxPooling (None, 4, 4, 8)           0         \n",
      "_________________________________________________________________\n",
      "conv2d_49 (Conv2D)           (None, 4, 4, 6)           438       \n",
      "_________________________________________________________________\n",
      "encoder (MaxPooling2D)       (None, 2, 2, 6)           0         \n",
      "_________________________________________________________________\n",
      "conv2d_50 (Conv2D)           (None, 2, 2, 6)           330       \n",
      "_________________________________________________________________\n",
      "up_sampling2d_21 (UpSampling (None, 4, 4, 6)           0         \n",
      "_________________________________________________________________\n",
      "conv2d_51 (Conv2D)           (None, 4, 4, 8)           440       \n",
      "_________________________________________________________________\n",
      "up_sampling2d_22 (UpSampling (None, 8, 8, 8)           0         \n",
      "_________________________________________________________________\n",
      "conv2d_52 (Conv2D)           (None, 8, 8, 8)           584       \n",
      "_________________________________________________________________\n",
      "up_sampling2d_23 (UpSampling (None, 16, 16, 8)         0         \n",
      "_________________________________________________________________\n",
      "conv2d_53 (Conv2D)           (None, 14, 14, 16)        1168      \n",
      "_________________________________________________________________\n",
      "up_sampling2d_24 (UpSampling (None, 28, 28, 16)        0         \n",
      "_________________________________________________________________\n",
      "conv2d_54 (Conv2D)           (None, 28, 28, 1)         145       \n",
      "=================================================================\n",
      "Total params: 5,009\n",
      "Trainable params: 5,009\n",
      "Non-trainable params: 0\n",
      "_________________________________________________________________\n"
     ]
    }
   ],
   "source": [
    "ckpt_loc = os.path.join(CUR_DIR, \"ckpts\", \"%s-conv-ae.hdf5\" % digits_verbose[1])\n",
    "\n",
    "if(os.path.isfile(ckpt_loc)):\n",
    "    print(\"Loading Autoencoder %s from directory %s...\" % (digits_verbose[1] ,ckpt_loc))\n",
    "    one_ae = load_model(ckpt_loc)\n",
    "    one_encoder, one_decoder = get_codec_from_aue(one_ae)\n",
    "else:\n",
    "    print(\"Training Autoencoder for digit %s...\" %digits_verbose[1])\n",
    "    one_ae, one_encoder, one_decoder = build_conv_aue()\n",
    "    earlyStopping = EarlyStopping(\n",
    "        monitor='val_loss', patience=10, verbose=1, mode='min', min_delta=0.0005)\n",
    "    mcp_save = ModelCheckpoint(ckpt_loc,\n",
    "                               save_best_only=True, verbose=1, monitor='val_loss', mode='min')\n",
    "    reduce_lr_loss = ReduceLROnPlateau(\n",
    "        monitor='val_loss', factor=0.3, patience=3, verbose=1, mode='min')\n",
    "    tb = TensorBoard(log_dir='./ckpts', histogram_freq=0,  \n",
    "          write_graph=True, write_images=True)\n",
    "    one_ae.fit(X_one_train, X_one_train,\n",
    "                    epochs=128,\n",
    "                    batch_size=128,\n",
    "                    shuffle=True,\n",
    "                    validation_data=(X_one_validate, X_one_validate), callbacks=[earlyStopping, mcp_save, reduce_lr_loss,tb])\n",
    "one_ae.summary()"
   ]
  },
  {
   "cell_type": "code",
   "execution_count": 61,
   "metadata": {},
   "outputs": [
    {
     "name": "stdout",
     "output_type": "stream",
     "text": [
      "5513/5513 [==============================] - 1s 93us/step\n",
      "1182/1182 [==============================] - 0s 96us/step\n",
      "1182/1182 [==============================] - 0s 93us/step\n"
     ]
    },
    {
     "data": {
      "text/plain": [
       "(0.05916355805714464, 0.05847888652317213, 0.0578022137183425)"
      ]
     },
     "execution_count": 61,
     "metadata": {},
     "output_type": "execute_result"
    }
   ],
   "source": [
    "eval_one_train = one_ae.evaluate(X_one_train, X_one_train)\n",
    "eval_one_validate = one_ae.evaluate(X_one_validate, X_one_validate)\n",
    "eval_one_test = one_ae.evaluate(X_one_test, X_one_test)\n",
    "eval_one_train, eval_one_validate, eval_one_test"
   ]
  },
  {
   "cell_type": "code",
   "execution_count": 62,
   "metadata": {
    "scrolled": true
   },
   "outputs": [
    {
     "data": {
      "image/png": "[encoded data removed]",
      "text/plain": [
       "<Figure size 1440x288 with 20 Axes>"
      ]
     },
     "metadata": {
      "needs_background": "light"
     },
     "output_type": "display_data"
    }
   ],
   "source": [
    "encoded_one_imgs_train = one_encoder.predict(X_one_train)\n",
    "encoded_one_imgs_validate = one_encoder.predict(X_one_validate)\n",
    "encoded_one_imgs_test = one_encoder.predict(X_one_test)\n",
    "\n",
    "decoded_one_imgs = one_decoder.predict(encoded_one_imgs_train)\n",
    "n = 10  # how many digits we will display\n",
    "plt.figure(figsize=(20, 4))\n",
    "for i in range(n):\n",
    "    # display original\n",
    "    ax = plt.subplot(2, n, i + 1)\n",
    "    plt.imshow(X_one_train[i].reshape(28, 28))\n",
    "    plt.gray()\n",
    "    ax.get_xaxis().set_visible(False)\n",
    "    ax.get_yaxis().set_visible(False)\n",
    "\n",
    "    # display reconstruction\n",
    "    ax = plt.subplot(2, n, i + 1 + n)\n",
    "    plt.imshow(decoded_one_imgs[i].reshape(28, 28))\n",
    "    plt.gray()\n",
    "    ax.get_xaxis().set_visible(False)\n",
    "    ax.get_yaxis().set_visible(False)\n",
    "plt.savefig(os.path.join(\"imgs\", \"one-conv-ae.png\"))"
   ]
  },
  {
   "cell_type": "markdown",
   "metadata": {},
   "source": [
    "## All digits classifier"
   ]
  },
  {
   "cell_type": "code",
   "execution_count": 63,
   "metadata": {},
   "outputs": [],
   "source": [
    "flat = np.prod(encoded_imgs_train.shape[1:], dtype=np.int64)\n",
    "encoded_imgs_train = encoded_imgs_train.reshape(len(encoded_imgs_train), flat)\n",
    "encoded_imgs_validate = encoded_imgs_validate.reshape(\n",
    "    len(encoded_imgs_validate), flat)\n",
    "encoded_imgs_test = encoded_imgs_test.reshape(len(encoded_imgs_test), flat)"
   ]
  },
  {
   "cell_type": "code",
   "execution_count": 67,
   "metadata": {},
   "outputs": [
    {
     "name": "stdout",
     "output_type": "stream",
     "text": [
      "Loading classifier from directory ./ckpts/classifier.hdf5...\n"
     ]
    }
   ],
   "source": [
    "ckpt_loc = os.path.join(CUR_DIR, \"ckpts\", \"classifier.hdf5\")\n",
    "if(os.path.isfile(ckpt_loc)):\n",
    "    print(\"Loading classifier from directory %s...\" % ckpt_loc)\n",
    "    classifier = load_model(ckpt_loc)\n",
    "else:\n",
    "    print(\"Training classifier...\")\n",
    "    classifier = build_classifier(input_dim=flat)\n",
    "    earlyStopping = EarlyStopping(\n",
    "        monitor='val_acc', patience=5, verbose=1, mode='max',  min_delta=0.0005)\n",
    "    mcp_save = ModelCheckpoint(ckpt_loc,\n",
    "                               save_best_only=True, verbose=1, monitor='val_acc', mode='max')\n",
    "    reduce_lr_loss = ReduceLROnPlateau(\n",
    "        monitor='val_acc', factor=0.3, patience=3, verbose=1, mode='max')\n",
    "    classifier.fit(encoded_imgs_train, y_train, validation_data=(\n",
    "        encoded_imgs_validate, y_validate), batch_size=16, epochs=32, shuffle=True, callbacks=[earlyStopping, mcp_save, reduce_lr_loss])"
   ]
  },
  {
   "cell_type": "code",
   "execution_count": 68,
   "metadata": {},
   "outputs": [
    {
     "name": "stdout",
     "output_type": "stream",
     "text": [
      "49000/49000 [==============================] - 3s 52us/step\n",
      "10500/10500 [==============================] - 0s 42us/step\n",
      "10500/10500 [==============================] - 0s 40us/step\n"
     ]
    },
    {
     "data": {
      "text/plain": [
       "([0.009988542235627467, 0.9347551020408164],\n",
       " [0.010621404919995085, 0.9284761904761905],\n",
       " [0.01085971777589016, 0.9284761904761905])"
      ]
     },
     "execution_count": 68,
     "metadata": {},
     "output_type": "execute_result"
    }
   ],
   "source": [
    "eval_train = classifier.evaluate(encoded_imgs_train, y_train)\n",
    "eval_validate = classifier.evaluate(encoded_imgs_validate, y_validate)\n",
    "eval_test = classifier.evaluate(encoded_imgs_test, y_test)\n",
    "eval_train,eval_validate, eval_test"
   ]
  },
  {
   "cell_type": "code",
   "execution_count": 69,
   "metadata": {},
   "outputs": [],
   "source": [
    "def get_cm(input, y_true):\n",
    "    \"\"\"Computes confusion matrix.\"\"\"\n",
    "    y_pred = tf.argmax(classifier.predict(input), axis=1)\n",
    "    y_true = tf.argmax(y_true, axis=1)\n",
    "\n",
    "    c = tf.keras.backend.eval(y_pred)\n",
    "    d = tf.keras.backend.eval(y_true)\n",
    "\n",
    "    return confusion_matrix(c, d)"
   ]
  },
  {
   "cell_type": "code",
   "execution_count": 70,
   "metadata": {},
   "outputs": [],
   "source": [
    "def precision(cm):\n",
    "    results = []\n",
    "    for i in range(len(cm)):  # rows\n",
    "        TP = cm[i][i]\n",
    "        fp_tp = np.sum(cm[i])\n",
    "        results.append(TP/fp_tp)\n",
    "    return results + [np.mean(results)]"
   ]
  },
  {
   "cell_type": "code",
   "execution_count": 71,
   "metadata": {},
   "outputs": [],
   "source": [
    "def recall(cm):\n",
    "    results = []\n",
    "    for i in range(len(cm)):  # rows\n",
    "        TP = cm[i][i]\n",
    "        tp_fn = 0\n",
    "        for j in range(len(cm[i])):\n",
    "            tp_fn += cm[j][i]\n",
    "        results.append(TP/tp_fn)\n",
    "    return results + [np.mean(results)]"
   ]
  },
  {
   "cell_type": "code",
   "execution_count": 72,
   "metadata": {},
   "outputs": [
    {
     "name": "stdout",
     "output_type": "stream",
     "text": [
      "[[4800    1   57   27   12   34   34   15   49   57]\n",
      " [   1 5368   14   20   23   10   11   29   32   19]\n",
      " [   4   42 4616  109   34   24    9   56   40   17]\n",
      " [   0   20   56 4525   15  105    2   28   63   55]\n",
      " [   5    4   12    8 4181    9   13   28   33  106]\n",
      " [   8    5    9   82    3 4123   35    7   91   20]\n",
      " [  12    2    8    3   70   39 4739    0   38    0]\n",
      " [   2    7   47   32   10    3    0 4676   13  120]\n",
      " [  27   18   61  111   86   75   25   33 4339   81]\n",
      " [   3   10    9   24  284   22    0  272   48 4436]]\n",
      "0.9347102538187887\n",
      "0.9341304435680249\n",
      "[[ 999    0   19    4    2    9   11    3   16   14]\n",
      " [   0 1182    3    8    7    4    3    8   14    6]\n",
      " [   1   12 1029   15   11    5    0   11    7    5]\n",
      " [   1    3    9  959    2   24    1    6    5   22]\n",
      " [   0    3    3    0  895    2    2    3    6   17]\n",
      " [   3    4    2   22    0  881    6    2   24    8]\n",
      " [   2    1    0    0   15   10  995    0   14    0]\n",
      " [   0    2   12    9    1    0    0  983    3   28]\n",
      " [  11    5   10   23   31   17   13    7  941   16]\n",
      " [   1    4    1    5   55    4    0   59   14  885]]\n",
      "0.9283116726193636\n",
      "0.9275753119607701\n",
      "[[1011    0    8    8    4   16   12    2   10    7]\n",
      " [   0 1165    3    5    5    2    9    3    8    6]\n",
      " [   1    4  956   25   11    1    0   13    9    4]\n",
      " [   0    6   12 1044    1   13    0    5   13   21]\n",
      " [   0    1    5    0  967    2    2   10    6   16]\n",
      " [   3    0    1   24    1  842    8    1   23    8]\n",
      " [   3    2    1    1   13   16  934    0   10    1]\n",
      " [   0    2    9    7    4    1    0  962    2   27]\n",
      " [   5    2   16   33   19   14   12    6  938   26]\n",
      " [   0    2    2    8   62    6    0   65   16  930]]\n",
      "0.9285455098269633\n",
      "0.9284651401159518\n"
     ]
    }
   ],
   "source": [
    "cm_train = get_cm(encoded_imgs_train, y_train)\n",
    "print(cm_train, precision(cm_train)[-1], recall(cm_train)[-1], sep=\"\\n\")\n",
    "\n",
    "cm_validate = get_cm(encoded_imgs_validate, y_validate)\n",
    "print(cm_validate, precision(cm_validate)[-1], recall(cm_validate)[-1], sep=\"\\n\")\n",
    "\n",
    "cm_test = get_cm(encoded_imgs_test, y_test)\n",
    "print(cm_test, precision(cm_test)[-1], recall(cm_test)[-1], sep=\"\\n\")"
   ]
  },
  {
   "cell_type": "markdown",
   "metadata": {},
   "source": [
    "# Anomaly Detection with DJ CF Gauss"
   ]
  },
  {
   "cell_type": "code",
   "execution_count": 73,
   "metadata": {},
   "outputs": [],
   "source": [
    "one_flat = np.prod(encoded_one_imgs_train.shape[1:], dtype=np.int64)\n",
    "encoded_one_imgs_train = encoded_one_imgs_train.reshape(len(encoded_one_imgs_train), one_flat)\n",
    "encoded_one_imgs_validate = encoded_one_imgs_validate.reshape(\n",
    "    len(encoded_one_imgs_validate), one_flat)\n",
    "encoded_one_imgs_test = encoded_one_imgs_test.reshape(len(encoded_one_imgs_test), one_flat)"
   ]
  },
  {
   "cell_type": "code",
   "execution_count": 74,
   "metadata": {},
   "outputs": [],
   "source": [
    "def gauss(x_i, my_i, sigma_i2):\n",
    "    # gaussian distribution for one feature\n",
    "    if sigma_i2 == 0:\n",
    "        return 1 if x_i == my_i  else 0\n",
    "    return np.array((1/np.sqrt(2*np.pi*sigma_i2)) *\n",
    "                    np.exp(-(x_i-my_i)**2/(2*sigma_i2)))"
   ]
  },
  {
   "cell_type": "code",
   "execution_count": 75,
   "metadata": {},
   "outputs": [],
   "source": [
    "def my(X):\n",
    "    return np.array([(1 / len(x)) * np.sum(x) for x in X.T])"
   ]
  },
  {
   "cell_type": "code",
   "execution_count": 76,
   "metadata": {},
   "outputs": [],
   "source": [
    "def sigma2(X, my):\n",
    "    # computes sigma squared for each feature\n",
    "    m = len(X)  # number of data points\n",
    "    return np.array([(1/m)*np.sum((X[:, i] - my[i]) ** 2) for i in range(len(my))])"
   ]
  },
  {
   "cell_type": "code",
   "execution_count": 80,
   "metadata": {},
   "outputs": [],
   "source": [
    "def p(X,my,sigma2):\n",
    "    return np.array([np.prod([gauss(x[i], my[i], sigma2[i])\n",
    "               for i in range(len(x))]) for x in X])"
   ]
  },
  {
   "cell_type": "code",
   "execution_count": 81,
   "metadata": {},
   "outputs": [
    {
     "data": {
      "text/plain": [
       "(0.5294757845093415,\n",
       " array([1.84982017e+00, 2.74012420e+00, 2.64077946e+00, 1.43267175e+00,\n",
       "        3.91905142e+00, 2.27522908e+00, 3.63035771e-04, 3.25541618e+00,\n",
       "        6.74511302e-01, 6.01849605e+00, 1.89010351e+00, 2.81298554e+00,\n",
       "        1.12724363e+00, 3.01555627e+00, 2.46752420e+00, 1.79792259e+00,\n",
       "        1.16948558e+00, 1.36342013e+00, 8.52866502e-02, 1.18456757e+00,\n",
       "        2.49557792e+00, 5.19481687e+00, 1.30515116e+00, 2.82049354e+00]),\n",
       " array([2.41987334e-01, 1.83408517e+00, 1.77642671e+00, 8.90007319e-01,\n",
       "        2.17625571e-01, 7.25981708e-01, 6.02347317e-05, 3.85505797e-01,\n",
       "        3.46326629e-01, 1.30616288e+00, 1.96352589e-01, 3.13626466e-01,\n",
       "        1.03905417e-01, 4.48970934e-01, 1.12012339e+00, 7.59588133e-01,\n",
       "        2.14902958e-01, 1.46769246e-01, 2.72530359e-02, 2.83271921e-01,\n",
       "        3.32076465e-01, 2.48776542e+00, 2.55820139e-01, 1.70360978e-01]))"
      ]
     },
     "execution_count": 81,
     "metadata": {},
     "output_type": "execute_result"
    }
   ],
   "source": [
    "X = encoded_one_imgs_train\n",
    "m = len(X)\n",
    "number_of_features = len(X[0])\n",
    "my =  np.array([(1 / len(x)) * np.sum(x) for x in X.T])\n",
    "sigma_2 =  np.array([np.sum((X[:, i] - my[i]) ** 2)/m for i in range(number_of_features)])\n",
    "\n",
    "p_all = np.sort(p(X,my,sigma_2))\n",
    "epsilon = 1e-7\n",
    "thresholded_P = p_all[np.where(p_all>epsilon)]\n",
    "len(thresholded_P)/len(p_all), my, sigma_2"
   ]
  },
  {
   "cell_type": "markdown",
   "metadata": {},
   "source": [
    "## Distribution of Encoded Features"
   ]
  },
  {
   "cell_type": "code",
   "execution_count": null,
   "metadata": {},
   "outputs": [],
   "source": [
    "plt.figure(figsize=(20, 20))\n",
    "for i in range(len(my)):\n",
    "    # plots distribution of i-th feature\n",
    "    # display original\n",
    "    bins = 50\n",
    "    hist = np.histogram(X[:, i], bins=bins)\n",
    "    ax = plt.subplot(4, 6, i + 1)\n",
    "    h_min = min(hist[1])\n",
    "    h_max = max(hist[1])\n",
    "    delta = abs(h_max - h_min)\n",
    "    step = delta / (bins-1)\n",
    "    r = np.arange(h_min, h_max, step)\n",
    "    plt.plot(r, hist[0])\n",
    "    print(r,hist[0],step)\n",
    "step"
   ]
  },
  {
   "cell_type": "code",
   "execution_count": 100,
   "metadata": {},
   "outputs": [],
   "source": [
    "def convert_values_to_img(values):\n",
    "    values = np.reshape(values,(1,2,2,6))\n",
    "    random_img = decoder.predict(values)\n",
    "    return np.reshape(random_img, (28,28))"
   ]
  },
  {
   "cell_type": "code",
   "execution_count": null,
   "metadata": {},
   "outputs": [],
   "source": [
    "bins = 50\n",
    "hist_all = np.histogram(p_all,bins =bins)\n",
    "h_min = min(hist_all[1])\n",
    "h_max = max(hist_all[1])\n",
    "delta = abs(h_max-h_min)\n",
    "r = np.arange(h_min,h_max, delta/bins)\n",
    "plt.plot(r,hist_all[0])"
   ]
  },
  {
   "cell_type": "markdown",
   "metadata": {},
   "source": [
    "# Getting fashion-y"
   ]
  },
  {
   "cell_type": "code",
   "execution_count": 4,
   "metadata": {},
   "outputs": [],
   "source": [
    "def get_fashion():\n",
    "    (X_train, y_train), (X_test, y_test) = fashion_mnist.load_data()\n",
    "    img = X_train[0].reshape((28, 28))\n",
    "    # reshape data to fit model\n",
    "    plt.imshow(X_train[0], cmap=\"Greys\", vmin=0, vmax=255)\n",
    "    plt.savefig(\"example_img.png\")\n",
    "\n",
    "    \"\"\"for Autoencoder\"\"\"\n",
    "    X_train = X_train.reshape((len(X_train), np.prod(X_train.shape[1:])))\n",
    "    X_test = X_test.reshape((len(X_test), np.prod(X_test.shape[1:])))\n",
    "    np.random.shuffle(X_test)\n",
    "    X_validate = X_test[len(X_test)//2:]\n",
    "    X_test = X_test[:len(X_test)//2]\n",
    "\n",
    "    return X_train/255.0, X_test/255.0, X_validate/255.0"
   ]
  },
  {
   "cell_type": "code",
   "execution_count": 8,
   "metadata": {},
   "outputs": [
    {
     "name": "stdout",
     "output_type": "stream",
     "text": [
      "Downloading data from http://fashion-mnist.s3-website.eu-central-1.amazonaws.com/train-labels-idx1-ubyte.gz\n",
      "32768/29515 [=================================] - 0s 1us/step\n",
      "Downloading data from http://fashion-mnist.s3-website.eu-central-1.amazonaws.com/train-images-idx3-ubyte.gz\n",
      "26427392/26421880 [==============================] - 13s 1us/step\n",
      "Downloading data from http://fashion-mnist.s3-website.eu-central-1.amazonaws.com/t10k-labels-idx1-ubyte.gz\n",
      "8192/5148 [===============================================] - 0s 0us/step\n",
      "Downloading data from http://fashion-mnist.s3-website.eu-central-1.amazonaws.com/t10k-images-idx3-ubyte.gz\n",
      "4423680/4422102 [==============================] - 2s 0us/step\n"
     ]
    },
    {
     "ename": "ValueError",
     "evalue": "assignment destination is read-only",
     "output_type": "error",
     "traceback": [
      "\u001b[1;31m---------------------------------------------------------------------------\u001b[0m",
      "\u001b[1;31mValueError\u001b[0m                                Traceback (most recent call last)",
      "\u001b[1;32m<ipython-input-8-47eb5ba7a2d4>\u001b[0m in \u001b[0;36m<module>\u001b[1;34m\u001b[0m\n\u001b[1;32m----> 1\u001b[1;33m \u001b[0mX_fashion_train\u001b[0m\u001b[1;33m,\u001b[0m \u001b[0mX_fashion_test\u001b[0m\u001b[1;33m,\u001b[0m \u001b[0mX_fashion_validate\u001b[0m \u001b[1;33m=\u001b[0m \u001b[0mget_fashion\u001b[0m\u001b[1;33m(\u001b[0m\u001b[1;33m)\u001b[0m\u001b[1;33m\u001b[0m\u001b[1;33m\u001b[0m\u001b[0m\n\u001b[0m\u001b[0;32m      2\u001b[0m \u001b[0mprint\u001b[0m\u001b[1;33m(\u001b[0m\u001b[0mX_fashion_test\u001b[0m\u001b[1;33m[\u001b[0m\u001b[1;33m:\u001b[0m\u001b[1;36m5\u001b[0m\u001b[1;33m]\u001b[0m\u001b[1;33m)\u001b[0m\u001b[1;33m\u001b[0m\u001b[1;33m\u001b[0m\u001b[0m\n",
      "\u001b[1;32m<ipython-input-4-70a604210eff>\u001b[0m in \u001b[0;36mget_fashion\u001b[1;34m()\u001b[0m\n\u001b[0;32m      9\u001b[0m     \u001b[0mX_train\u001b[0m \u001b[1;33m=\u001b[0m \u001b[0mX_train\u001b[0m\u001b[1;33m.\u001b[0m\u001b[0mreshape\u001b[0m\u001b[1;33m(\u001b[0m\u001b[1;33m(\u001b[0m\u001b[0mlen\u001b[0m\u001b[1;33m(\u001b[0m\u001b[0mX_train\u001b[0m\u001b[1;33m)\u001b[0m\u001b[1;33m,\u001b[0m \u001b[0mnp\u001b[0m\u001b[1;33m.\u001b[0m\u001b[0mprod\u001b[0m\u001b[1;33m(\u001b[0m\u001b[0mX_train\u001b[0m\u001b[1;33m.\u001b[0m\u001b[0mshape\u001b[0m\u001b[1;33m[\u001b[0m\u001b[1;36m1\u001b[0m\u001b[1;33m:\u001b[0m\u001b[1;33m]\u001b[0m\u001b[1;33m)\u001b[0m\u001b[1;33m)\u001b[0m\u001b[1;33m)\u001b[0m\u001b[1;33m\u001b[0m\u001b[1;33m\u001b[0m\u001b[0m\n\u001b[0;32m     10\u001b[0m     \u001b[0mX_test\u001b[0m \u001b[1;33m=\u001b[0m \u001b[0mX_test\u001b[0m\u001b[1;33m.\u001b[0m\u001b[0mreshape\u001b[0m\u001b[1;33m(\u001b[0m\u001b[1;33m(\u001b[0m\u001b[0mlen\u001b[0m\u001b[1;33m(\u001b[0m\u001b[0mX_test\u001b[0m\u001b[1;33m)\u001b[0m\u001b[1;33m,\u001b[0m \u001b[0mnp\u001b[0m\u001b[1;33m.\u001b[0m\u001b[0mprod\u001b[0m\u001b[1;33m(\u001b[0m\u001b[0mX_test\u001b[0m\u001b[1;33m.\u001b[0m\u001b[0mshape\u001b[0m\u001b[1;33m[\u001b[0m\u001b[1;36m1\u001b[0m\u001b[1;33m:\u001b[0m\u001b[1;33m]\u001b[0m\u001b[1;33m)\u001b[0m\u001b[1;33m)\u001b[0m\u001b[1;33m)\u001b[0m\u001b[1;33m\u001b[0m\u001b[1;33m\u001b[0m\u001b[0m\n\u001b[1;32m---> 11\u001b[1;33m     \u001b[0mnp\u001b[0m\u001b[1;33m.\u001b[0m\u001b[0mrandom\u001b[0m\u001b[1;33m.\u001b[0m\u001b[0mshuffle\u001b[0m\u001b[1;33m(\u001b[0m\u001b[0mX_test\u001b[0m\u001b[1;33m)\u001b[0m\u001b[1;33m\u001b[0m\u001b[1;33m\u001b[0m\u001b[0m\n\u001b[0m\u001b[0;32m     12\u001b[0m     \u001b[0mX_validate\u001b[0m \u001b[1;33m=\u001b[0m \u001b[0mX_test\u001b[0m\u001b[1;33m[\u001b[0m\u001b[0mlen\u001b[0m\u001b[1;33m(\u001b[0m\u001b[0mX_test\u001b[0m\u001b[1;33m)\u001b[0m\u001b[1;33m//\u001b[0m\u001b[1;36m2\u001b[0m\u001b[1;33m:\u001b[0m\u001b[1;33m]\u001b[0m\u001b[1;33m\u001b[0m\u001b[1;33m\u001b[0m\u001b[0m\n\u001b[0;32m     13\u001b[0m     \u001b[0mX_test\u001b[0m \u001b[1;33m=\u001b[0m \u001b[0mX_test\u001b[0m\u001b[1;33m[\u001b[0m\u001b[1;33m:\u001b[0m\u001b[0mlen\u001b[0m\u001b[1;33m(\u001b[0m\u001b[0mX_test\u001b[0m\u001b[1;33m)\u001b[0m\u001b[1;33m//\u001b[0m\u001b[1;36m2\u001b[0m\u001b[1;33m]\u001b[0m\u001b[1;33m\u001b[0m\u001b[1;33m\u001b[0m\u001b[0m\n",
      "\u001b[1;32mmtrand.pyx\u001b[0m in \u001b[0;36mmtrand.RandomState.shuffle\u001b[1;34m()\u001b[0m\n",
      "\u001b[1;32mmtrand.pyx\u001b[0m in \u001b[0;36mmtrand.RandomState.shuffle\u001b[1;34m()\u001b[0m\n",
      "\u001b[1;31mValueError\u001b[0m: assignment destination is read-only"
     ]
    },
    {
     "data": {
      "image/png": "[encoded data removed]",
      "text/plain": [
       "<Figure size 432x288 with 1 Axes>"
      ]
     },
     "metadata": {
      "needs_background": "light"
     },
     "output_type": "display_data"
    }
   ],
   "source": [
    "X_fashion_train, X_fashion_test, X_fashion_validate = get_fashion()\n",
    "print(X_fashion_test[:5])"
   ]
  },
  {
   "cell_type": "code",
   "execution_count": null,
   "metadata": {},
   "outputs": [],
   "source": []
  },
  {
   "cell_type": "code",
   "execution_count": null,
   "metadata": {},
   "outputs": [],
   "source": []
  },
  {
   "cell_type": "code",
   "execution_count": null,
   "metadata": {},
   "outputs": [],
   "source": []
  }
 ],
 "metadata": {
  "kernelspec": {
   "display_name": "Python 3",
   "language": "python",
   "name": "python3"
  },
  "language_info": {
   "codemirror_mode": {
    "name": "ipython",
    "version": 3
   },
   "file_extension": ".py",
   "mimetype": "text/x-python",
   "name": "python",
   "nbconvert_exporter": "python",
   "pygments_lexer": "ipython3",
   "version": "3.7.3"
  }
 },
 "nbformat": 4,
 "nbformat_minor": 2
}
