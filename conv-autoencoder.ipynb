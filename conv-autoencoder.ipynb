{
 "cells": [
  {
   "cell_type": "code",
   "execution_count": 1,
   "metadata": {},
   "outputs": [
    {
     "name": "stderr",
     "output_type": "stream",
     "text": [
      "Using TensorFlow backend.\n"
     ]
    }
   ],
   "source": [
    "import os\n",
    "import sys\n",
    "\n",
    "import matplotlib.pyplot as plt\n",
    "import numpy as np\n",
    "import tensorflow as tf\n",
    "from keras.callbacks import EarlyStopping, ModelCheckpoint, ReduceLROnPlateau\n",
    "from keras.datasets import mnist\n",
    "from keras.layers import (\n",
    "    Conv2D, Dense, Flatten, Input, MaxPooling2D, Reshape, UpSampling2D)\n",
    "from keras.models import Model, Sequential, load_model\n",
    "from keras.utils import to_categorical\n",
    "\n",
    "from sklearn.metrics import confusion_matrix"
   ]
  },
  {
   "cell_type": "code",
   "execution_count": 2,
   "metadata": {},
   "outputs": [],
   "source": [
    "# this is the size of our encoded representations\n",
    "ENCODING_DIM = 10\n",
    "\n",
    "# decision boundary for classifier\n",
    "THRESHOLD = 0.7\n",
    "\n",
    "# working directory\n",
    "CUR_DIR = os.path.curdir\n",
    "\n",
    "np.random.seed(42)"
   ]
  },
  {
   "cell_type": "code",
   "execution_count": 3,
   "metadata": {},
   "outputs": [],
   "source": [
    "def get_data(train_split=.7, test_split=.85):\n",
    "    \"\"\"retrieves data MNIST data set and rebalances dataset, such that train=.7, test=.15 and validation=.15\"\"\"\n",
    "    (X_train, y_train), (X_test, y_test) = mnist.load_data()\n",
    "\n",
    "    X_train = X_train.reshape((len(X_train), 28, 28, 1))\n",
    "    test_len = len(X_test)\n",
    "\n",
    "    X_test = X_test.reshape((test_len, 28, 28, 1))\n",
    "\n",
    "    # divide X values bei 255.0 since MNIST data set changed such that pixel values are in [0,255]\n",
    "    X = np.concatenate((X_train, X_test)) / 255.0\n",
    "    y = np.concatenate((y_train, y_test))\n",
    "\n",
    "    indices = np.arange(X.shape[0])\n",
    "    np.random.shuffle(indices)\n",
    "    X = X[indices]\n",
    "    y = y[indices]\n",
    "\n",
    "    # define boundaries for train,validation and test set at .7 and .85 % of the MNIST data set\n",
    "    x_len = len(X)\n",
    "    boundaries = [int(x_len * 0.7), int(x_len*0.85)]\n",
    "\n",
    "    [X_train, X_test, X_validate] = np.split(X, boundaries)\n",
    "\n",
    "    [y_train, y_test, y_validate] = np.split(y, boundaries)\n",
    "\n",
    "    # non-anomalies\n",
    "    zero_indices = np.where(y_train == 0)\n",
    "    zeros_train = X_train[zero_indices]\n",
    "    # anomalies\n",
    "    zero_indices = np.where(y_train == 8)\n",
    "    eights_train = X_train[zero_indices]\n",
    "\n",
    "    # one-hot encode target columns\n",
    "    y_train = to_categorical(y_train)\n",
    "    y_test = to_categorical(y_test)\n",
    "    y_validate = to_categorical(y_validate)\n",
    "\n",
    "    return (X_train, X_test, X_validate), (y_train, y_test, y_validate)"
   ]
  },
  {
   "cell_type": "code",
   "execution_count": 4,
   "metadata": {},
   "outputs": [],
   "source": [
    "def build_classifier(input_dim):\n",
    "    \"\"\"Builds classifier for classification of MNIST encoded representation.\"\"\"\n",
    "    classifier = Sequential()\n",
    "    classifier.add(Dense(32, activation=\"relu\", input_dim=input_dim,\n",
    "                         kernel_initializer=\"random_normal\"))\n",
    "    classifier.add(Dense(ENCODING_DIM, activation=\"softmax\",\n",
    "                         kernel_initializer=\"random_normal\"))\n",
    "\n",
    "    classifier.compile(optimizer='adam', loss='mean_squared_error',\n",
    "                       metrics=['accuracy'])\n",
    "    return classifier"
   ]
  },
  {
   "cell_type": "code",
   "execution_count": 5,
   "metadata": {},
   "outputs": [],
   "source": [
    "def build_conv_aue():\n",
    "    INPUT_SHAPE = (28, 28, 1)\n",
    "    DEFAULT_KERNEL = (3, 3)\n",
    "    DEFAULT_POOL_SIZE = (2, 2)\n",
    "    # this is our input placeholder\n",
    "    input_img = Input(shape=INPUT_SHAPE)\n",
    "    # layer between input and middle layer\n",
    "    encode = Conv2D(16, DEFAULT_KERNEL, activation=\"relu\",\n",
    "                    padding=\"same\")(input_img)\n",
    "    encode = MaxPooling2D(DEFAULT_POOL_SIZE, padding=\"same\")(encode)\n",
    "    encode = Conv2D(8, DEFAULT_KERNEL, activation=\"relu\",\n",
    "                    padding=\"same\")(encode)\n",
    "    encode = MaxPooling2D(DEFAULT_POOL_SIZE, padding=\"same\")(encode)\n",
    "    encode = Conv2D(8, DEFAULT_KERNEL, activation=\"relu\",\n",
    "                    padding=\"same\")(encode)\n",
    "    encode = MaxPooling2D(DEFAULT_POOL_SIZE, padding=\"same\")(encode)\n",
    "    encode = Conv2D(4, DEFAULT_KERNEL, activation=\"relu\",\n",
    "                    padding=\"same\")(encode)\n",
    "\n",
    "    # \"encoded\" is the encoded representation of the input, middle layer of the aue\n",
    "    encoded = MaxPooling2D(\n",
    "        DEFAULT_POOL_SIZE, padding=\"same\", name=\"encoder\")(encode)\n",
    "\n",
    "    # layer between middle and output layer\n",
    "    decode = Conv2D(4, DEFAULT_KERNEL, activation=\"relu\", padding=\"same\"\n",
    "                    )(encoded)\n",
    "    decode = UpSampling2D(DEFAULT_POOL_SIZE)(decode)\n",
    "    decode = Conv2D(8, DEFAULT_KERNEL, activation=\"relu\", padding=\"same\"\n",
    "                    )(decode)\n",
    "    decode = UpSampling2D(DEFAULT_POOL_SIZE)(decode)\n",
    "    decode = Conv2D(8, DEFAULT_KERNEL, activation=\"relu\", padding=\"same\"\n",
    "                    )(decode)\n",
    "    decode = UpSampling2D(DEFAULT_POOL_SIZE)(decode)\n",
    "    decode = Conv2D(16, DEFAULT_KERNEL, activation=\"relu\")(decode)\n",
    "    decode = UpSampling2D(DEFAULT_POOL_SIZE)(decode)\n",
    "    decoded = Conv2D(1, DEFAULT_KERNEL, activation=\"sigmoid\",\n",
    "                     padding=\"same\")(decode)\n",
    "\n",
    "    # this model maps an input to its reconstruction\n",
    "    autoencoder = Model(inputs=input_img, outputs=decoded)\n",
    "\n",
    "    encoder, decoder = get_codec_from_aue(autoencoder)\n",
    "\n",
    "    # build (aka \"compile\") the model\n",
    "    autoencoder.compile(optimizer=\"adadelta\", loss=\"binary_crossentropy\")\n",
    "    return autoencoder, encoder, decoder"
   ]
  },
  {
   "cell_type": "code",
   "execution_count": 6,
   "metadata": {},
   "outputs": [],
   "source": [
    "def get_codec_from_aue(autoencoder):\n",
    "    encoder_layer = autoencoder.get_layer(\"encoder\")\n",
    "    # this model maps an input to its encoded representation; Big image to small rep\n",
    "    encoder = Model(\n",
    "        inputs=autoencoder.input, outputs=encoder_layer.output)\n",
    "\n",
    "    # create a placeholder for an encoded (ENCODING_DIM-dimensional) input\n",
    "    encoded_input = Input(shape=encoder_layer.output_shape[1:])\n",
    "\n",
    "    # getting the middle of the autoencoder\n",
    "    start = (len(autoencoder.layers))//2\n",
    "    decoder = autoencoder.layers[-start](encoded_input)\n",
    "    # stacking the decoder layers\n",
    "    for i in range(start-1, 0, -1):\n",
    "        decoder = autoencoder.layers[-i](decoder)\n",
    "\n",
    "    # create the decoder model; \"<\": encoded(small) representation to big image\n",
    "    decoder = Model(encoded_input, decoder)\n",
    "    return encoder, decoder"
   ]
  },
  {
   "cell_type": "code",
   "execution_count": 7,
   "metadata": {},
   "outputs": [
    {
     "data": {
      "text/plain": [
       "<matplotlib.image.AxesImage at 0x22e997f8518>"
      ]
     },
     "execution_count": 7,
     "metadata": {},
     "output_type": "execute_result"
    },
    {
     "data": {
      "image/png": "[encoded data removed]",
      "text/plain": [
       "<Figure size 432x288 with 1 Axes>"
      ]
     },
     "metadata": {
      "needs_background": "light"
     },
     "output_type": "display_data"
    }
   ],
   "source": [
    "(X_train, X_test, X_validate), (y_train, y_test, y_validate) = get_data()\n",
    "plt.imshow(X_train[2].reshape((28,28)),cmap=\"gray\")"
   ]
  },
  {
   "cell_type": "code",
   "execution_count": 8,
   "metadata": {},
   "outputs": [
    {
     "name": "stdout",
     "output_type": "stream",
     "text": [
      "Loading Autoencoder from directory .\\ckpts\\conv-aue.hdf5...\n",
      "WARNING:tensorflow:From C:\\Users\\danie\\.conda\\envs\\tf-env\\lib\\site-packages\\tensorflow\\python\\framework\\op_def_library.py:263: colocate_with (from tensorflow.python.framework.ops) is deprecated and will be removed in a future version.\n",
      "Instructions for updating:\n",
      "Colocations handled automatically by placer.\n",
      "WARNING:tensorflow:From C:\\Users\\danie\\.conda\\envs\\tf-env\\lib\\site-packages\\tensorflow\\python\\ops\\math_ops.py:3066: to_int32 (from tensorflow.python.ops.math_ops) is deprecated and will be removed in a future version.\n",
      "Instructions for updating:\n",
      "Use tf.cast instead.\n",
      "_________________________________________________________________\n",
      "Layer (type)                 Output Shape              Param #   \n",
      "=================================================================\n",
      "input_1 (InputLayer)         (None, 28, 28, 1)         0         \n",
      "_________________________________________________________________\n",
      "conv2d_1 (Conv2D)            (None, 28, 28, 16)        160       \n",
      "_________________________________________________________________\n",
      "max_pooling2d_1 (MaxPooling2 (None, 14, 14, 16)        0         \n",
      "_________________________________________________________________\n",
      "conv2d_2 (Conv2D)            (None, 14, 14, 8)         1160      \n",
      "_________________________________________________________________\n",
      "max_pooling2d_2 (MaxPooling2 (None, 7, 7, 8)           0         \n",
      "_________________________________________________________________\n",
      "conv2d_3 (Conv2D)            (None, 7, 7, 8)           584       \n",
      "_________________________________________________________________\n",
      "max_pooling2d_3 (MaxPooling2 (None, 4, 4, 8)           0         \n",
      "_________________________________________________________________\n",
      "conv2d_4 (Conv2D)            (None, 4, 4, 4)           292       \n",
      "_________________________________________________________________\n",
      "encoder (MaxPooling2D)       (None, 2, 2, 4)           0         \n",
      "_________________________________________________________________\n",
      "conv2d_5 (Conv2D)            (None, 2, 2, 4)           148       \n",
      "_________________________________________________________________\n",
      "up_sampling2d_1 (UpSampling2 (None, 4, 4, 4)           0         \n",
      "_________________________________________________________________\n",
      "conv2d_6 (Conv2D)            (None, 4, 4, 8)           296       \n",
      "_________________________________________________________________\n",
      "up_sampling2d_2 (UpSampling2 (None, 8, 8, 8)           0         \n",
      "_________________________________________________________________\n",
      "conv2d_7 (Conv2D)            (None, 8, 8, 8)           584       \n",
      "_________________________________________________________________\n",
      "up_sampling2d_3 (UpSampling2 (None, 16, 16, 8)         0         \n",
      "_________________________________________________________________\n",
      "conv2d_8 (Conv2D)            (None, 14, 14, 16)        1168      \n",
      "_________________________________________________________________\n",
      "up_sampling2d_4 (UpSampling2 (None, 28, 28, 16)        0         \n",
      "_________________________________________________________________\n",
      "conv2d_9 (Conv2D)            (None, 28, 28, 1)         145       \n",
      "=================================================================\n",
      "Total params: 4,537\n",
      "Trainable params: 4,537\n",
      "Non-trainable params: 0\n",
      "_________________________________________________________________\n"
     ]
    }
   ],
   "source": [
    "ckpt_loc = os.path.join(CUR_DIR, \"ckpts\", \"conv-aue.hdf5\")\n",
    "\n",
    "if(os.path.isfile(ckpt_loc)):\n",
    "    print(\"Loading Autoencoder from directory %s...\" % ckpt_loc)\n",
    "    autoencoder = load_model(ckpt_loc)\n",
    "    encoder, decoder = get_codec_from_aue(autoencoder)\n",
    "else:\n",
    "    print(\"Training Autoencoder...\")\n",
    "    autoencoder, encoder, decoder = build_conv_aue()\n",
    "    earlyStopping = EarlyStopping(\n",
    "        monitor='val_loss', patience=10, verbose=1, mode='min', min_delta=0.0005)\n",
    "    mcp_save = ModelCheckpoint(ckpt_loc,\n",
    "                               save_best_only=True, verbose=1, monitor='val_loss', mode='min')\n",
    "    reduce_lr_loss = ReduceLROnPlateau(\n",
    "        monitor='val_loss', factor=0.3, patience=3, verbose=1, mode='min')\n",
    "    autoencoder.fit(X_train, X_train,\n",
    "                    epochs=128,\n",
    "                    batch_size=128,\n",
    "                    shuffle=True,\n",
    "                    validation_data=(X_validate, X_validate), callbacks=[earlyStopping, mcp_save, reduce_lr_loss])\n",
    "    model_path = os.path.join(CUR_DIR, \"model\", \"conv\")\n",
    "    autoencoder.save(os.path.join(model_path, \"autoencoder.h5\"))\n",
    "    encoder.save(os.path.join(model_path, \"encoder.h5\"))\n",
    "    decoder.save(os.path.join(model_path, \"decoder.h5\"))\n",
    "autoencoder.summary()"
   ]
  },
  {
   "cell_type": "code",
   "execution_count": 9,
   "metadata": {},
   "outputs": [
    {
     "name": "stdout",
     "output_type": "stream",
     "text": [
      "49000/49000 [==============================] - 11s 234us/step\n",
      "10500/10500 [==============================] - 2s 185us/step\n",
      "10500/10500 [==============================] - 2s 187us/step\n"
     ]
    },
    {
     "data": {
      "text/plain": [
       "(0.13687659084067053, 0.13702945776496614, 0.13799697311719258)"
      ]
     },
     "execution_count": 9,
     "metadata": {},
     "output_type": "execute_result"
    }
   ],
   "source": [
    "eval_train = autoencoder.evaluate(X_train, X_train)\n",
    "eval_validate = autoencoder.evaluate(X_validate, X_validate)\n",
    "eval_test = autoencoder.evaluate(X_test, X_test)\n",
    "eval_train, eval_validate,eval_test"
   ]
  },
  {
   "cell_type": "code",
   "execution_count": 10,
   "metadata": {},
   "outputs": [
    {
     "data": {
      "image/png": "[encoded data removed]",
      "text/plain": [
       "<Figure size 1440x288 with 20 Axes>"
      ]
     },
     "metadata": {
      "needs_background": "light"
     },
     "output_type": "display_data"
    }
   ],
   "source": [
    "encoded_imgs_train = encoder.predict(X_train)\n",
    "encoded_imgs_validate = encoder.predict(X_validate)\n",
    "encoded_imgs_test = encoder.predict(X_test)\n",
    "\n",
    "decoded_imgs = decoder.predict(encoded_imgs_test)\n",
    "n = 10  # how many digits we will display\n",
    "plt.figure(figsize=(20, 4))\n",
    "for i in range(n):\n",
    "    # display original\n",
    "    ax = plt.subplot(2, n, i + 1)\n",
    "    plt.imshow(X_test[i].reshape(28, 28))\n",
    "    plt.gray()\n",
    "    ax.get_xaxis().set_visible(False)\n",
    "    ax.get_yaxis().set_visible(False)\n",
    "\n",
    "    # display reconstruction\n",
    "    ax = plt.subplot(2, n, i + 1 + n)\n",
    "    plt.imshow(decoded_imgs[i].reshape(28, 28))\n",
    "    plt.gray()\n",
    "    ax.get_xaxis().set_visible(False)\n",
    "    ax.get_yaxis().set_visible(False)\n",
    "plt.savefig(os.path.join(\"imgs\", \"conv-autoencoder.png\"))"
   ]
  },
  {
   "cell_type": "code",
   "execution_count": 11,
   "metadata": {},
   "outputs": [],
   "source": [
    "flat = np.prod(encoded_imgs_train.shape[1:], dtype=np.int64)\n",
    "encoded_imgs_train = encoded_imgs_train.reshape(len(encoded_imgs_train), flat)\n",
    "encoded_imgs_validate = encoded_imgs_validate.reshape(\n",
    "    len(encoded_imgs_validate), flat)\n",
    "encoded_imgs_test = encoded_imgs_test.reshape(len(encoded_imgs_test), flat)"
   ]
  },
  {
   "cell_type": "code",
   "execution_count": 12,
   "metadata": {},
   "outputs": [
    {
     "name": "stdout",
     "output_type": "stream",
     "text": [
      "Loading classifier from directory .\\ckpts\\classifier.hdf5...\n"
     ]
    }
   ],
   "source": [
    "ckpt_loc = os.path.join(CUR_DIR, \"ckpts\", \"classifier.hdf5\")\n",
    "if(os.path.isfile(ckpt_loc)):\n",
    "    print(\"Loading classifier from directory %s...\" % ckpt_loc)\n",
    "    classifier = load_model(ckpt_loc)\n",
    "else:\n",
    "    print(\"Training classifier...\")\n",
    "    classifier = build_classifier(input_dim=flat)\n",
    "    earlyStopping = EarlyStopping(\n",
    "        monitor='val_acc', patience=5, verbose=1, mode='max',  min_delta=0.0005)\n",
    "    mcp_save = ModelCheckpoint(ckpt_loc,\n",
    "                               save_best_only=True, verbose=1, monitor='val_acc', mode='max')\n",
    "    reduce_lr_loss = ReduceLROnPlateau(\n",
    "        monitor='val_acc', factor=0.3, patience=3, verbose=1, mode='max')\n",
    "    classifier.fit(encoded_imgs_train, y_train, validation_data=(\n",
    "        encoded_imgs_validate, y_validate), batch_size=16, epochs=32, shuffle=True, callbacks=[earlyStopping, mcp_save, reduce_lr_loss])"
   ]
  },
  {
   "cell_type": "code",
   "execution_count": 13,
   "metadata": {},
   "outputs": [
    {
     "name": "stdout",
     "output_type": "stream",
     "text": [
      "49000/49000 [==============================] - 5s 99us/step\n",
      "10500/10500 [==============================] - 1s 86us/step\n",
      "10500/10500 [==============================] - 1s 86us/step\n"
     ]
    },
    {
     "data": {
      "text/plain": [
       "([0.021673000293422718, 0.8574489795918367],\n",
       " [0.021721618068360145, 0.8558095238095238],\n",
       " [0.021641030059151706, 0.858])"
      ]
     },
     "execution_count": 13,
     "metadata": {},
     "output_type": "execute_result"
    }
   ],
   "source": [
    "eval_train = classifier.evaluate(encoded_imgs_train, y_train)\n",
    "eval_validate = classifier.evaluate(encoded_imgs_validate, y_validate)\n",
    "eval_test = classifier.evaluate(encoded_imgs_test, y_test)\n",
    "eval_train,eval_validate, eval_test"
   ]
  },
  {
   "cell_type": "code",
   "execution_count": 14,
   "metadata": {},
   "outputs": [],
   "source": [
    "def get_cm(input, y_true):\n",
    "    \"\"\"Computes confusion matrix.\"\"\"\n",
    "    y_pred = tf.argmax(classifier.predict(input), axis=1)\n",
    "    y_true = tf.argmax(y_true, axis=1)\n",
    "\n",
    "    c = tf.keras.backend.eval(y_pred)\n",
    "    d = tf.keras.backend.eval(y_true)\n",
    "\n",
    "    return confusion_matrix(c, d)"
   ]
  },
  {
   "cell_type": "code",
   "execution_count": 15,
   "metadata": {},
   "outputs": [],
   "source": [
    "def precision(cm):\n",
    "    results = []\n",
    "    for i in range(len(cm)):  # rows\n",
    "        TP = cm[i][i]\n",
    "        fp_tp = np.sum(cm[i])\n",
    "        results.append(TP/fp_tp)\n",
    "    return results + [np.mean(results)]"
   ]
  },
  {
   "cell_type": "code",
   "execution_count": 16,
   "metadata": {},
   "outputs": [],
   "source": [
    "def recall(cm):\n",
    "    results = []\n",
    "    for i in range(len(cm)):  # rows\n",
    "        TP = cm[i][i]\n",
    "        tp_fn = 0\n",
    "        for j in range(len(cm[i])):\n",
    "            tp_fn += cm[j][i]\n",
    "        results.append(TP/tp_fn)\n",
    "    return results + [np.mean(results)]"
   ]
  },
  {
   "cell_type": "code",
   "execution_count": 17,
   "metadata": {},
   "outputs": [
    {
     "name": "stdout",
     "output_type": "stream",
     "text": [
      "[[4639    2   38   28    3  178  184   10  123   49]\n",
      " [   3 5296   15   17   26   42   72   43   94   50]\n",
      " [   6   39 4200  199   73   33   41   45  132   29]\n",
      " [  10   49  146 4007    0  277    5   25  134   43]\n",
      " [   8   14   77    6 3842   78   87   62   41  103]\n",
      " [  54   26   21  298   12 3464  102   23  183   93]\n",
      " [  83    9   78   28   92  111 4343    2   24   10]\n",
      " [   1    1   53  115  157   48    2 4332   50  416]\n",
      " [  55   30  257  198   38  111   30   89 3806   32]\n",
      " [   3   11    4   45  475  102    2  513  159 4086]]\n",
      "0.8569204237780838\n",
      "0.8553180962638333\n",
      "[[ 970    0   13    6    2   45   45    2   29   16]\n",
      " [   0 1164    2    5    6    7   23    8   17   10]\n",
      " [   1   14  935   41   17    7    5    8   26    2]\n",
      " [   2    9   30  853    1   84    2    8   30   10]\n",
      " [   0    2   16    3  816   21   17    7    4   22]\n",
      " [  15    7    2   62    6  727   22    7   32   23]\n",
      " [  17    1   14    6   21   25  902    1    7    1]\n",
      " [   0    2   12   13   31    7    0  940   11   81]\n",
      " [  13   13   61   49   13   22   15   15  853   10]\n",
      " [   0    4    3    7  106   11    0   86   35  826]]\n",
      "0.8546617078013924\n",
      "0.8532838786907453\n",
      "[[ 986    0    5    8    1   38   40    5   14   10]\n",
      " [   0 1151    2    6    5    2   17    7   13   10]\n",
      " [   0    3  878   41   17    7    5   10   28    7]\n",
      " [   0   10   34  945    0   61    0    7   36   13]\n",
      " [   3    4   16    2  890   17    9   10   12   18]\n",
      " [   8    4    1   62    5  698   26    6   40   21]\n",
      " [  17    2   11    2   11   20  867    0    9    5]\n",
      " [   0    3    5   26   38   10    0  902    9   95]\n",
      " [   8    4   61   52    6   33   12   14  835   10]\n",
      " [   1    3    0   11  114   27    1  106   39  857]]\n",
      "0.8577824503796719\n",
      "0.8563000599923714\n"
     ]
    }
   ],
   "source": [
    "cm_train = get_cm(encoded_imgs_train, y_train)\n",
    "print(cm_train, precision(cm_train)[-1], recall(cm_train)[-1], sep=\"\\n\")\n",
    "\n",
    "cm_validate = get_cm(encoded_imgs_validate, y_validate)\n",
    "print(cm_validate, precision(cm_validate)[-1], recall(cm_validate)[-1], sep=\"\\n\")\n",
    "\n",
    "cm_test = get_cm(encoded_imgs_test, y_test)\n",
    "print(cm_test, precision(cm_test)[-1], recall(cm_test)[-1], sep=\"\\n\")"
   ]
  },
  {
   "cell_type": "code",
   "execution_count": 51,
   "metadata": {},
   "outputs": [],
   "source": [
    "def gauss(x_i, my_i, sigma_i2):\n",
    "    # gaussian distribution for one feature\n",
    "    if sigma_i2 == 0:\n",
    "        return 1 if x_i == my_i  else 0\n",
    "    return np.array((1/np.sqrt(2*np.pi*sigma_i2)) *\n",
    "                    np.exp(-(x_i-my_i)**2/(2*sigma_i2)))"
   ]
  },
  {
   "cell_type": "code",
   "execution_count": 52,
   "metadata": {},
   "outputs": [],
   "source": [
    "def my(X):\n",
    "    return np.array([(1 / len(x)) * np.sum(x) for x in X.T])"
   ]
  },
  {
   "cell_type": "code",
   "execution_count": 53,
   "metadata": {},
   "outputs": [],
   "source": [
    "def sigma2(X, my):\n",
    "    # computes sigma squared for each feature\n",
    "    m = len(X)  # number of data points\n",
    "    return np.array([np.sum((X[:, i] - my[i]) ** 2)/m for i in range(len(my))])"
   ]
  },
  {
   "cell_type": "code",
   "execution_count": 54,
   "metadata": {},
   "outputs": [],
   "source": [
    "def p(X,my,sigma2):\n",
    "    return np.array([np.prod([gauss(x[i], my_train[i], sigma2_train[i])\n",
    "               for i in range(len(my_train))]) for x in X])"
   ]
  },
  {
   "cell_type": "code",
   "execution_count": 66,
   "metadata": {},
   "outputs": [
    {
     "ename": "ValueError",
     "evalue": "The truth value of an array with more than one element is ambiguous. Use a.any() or a.all()",
     "output_type": "error",
     "traceback": [
      "\u001b[1;31m---------------------------------------------------------------------------\u001b[0m",
      "\u001b[1;31mValueError\u001b[0m                                Traceback (most recent call last)",
      "\u001b[1;32m<ipython-input-66-706cfac06ac4>\u001b[0m in \u001b[0;36m<module>\u001b[1;34m\u001b[0m\n\u001b[0;32m      6\u001b[0m \u001b[1;33m\u001b[0m\u001b[0m\n\u001b[0;32m      7\u001b[0m \u001b[0mthresholded\u001b[0m \u001b[1;33m=\u001b[0m \u001b[0mp\u001b[0m\u001b[1;33m(\u001b[0m\u001b[0mX\u001b[0m\u001b[1;33m,\u001b[0m\u001b[0mmy\u001b[0m\u001b[1;33m,\u001b[0m\u001b[0msigma_2\u001b[0m\u001b[1;33m)\u001b[0m\u001b[1;33m>\u001b[0m\u001b[0mepsilon\u001b[0m\u001b[1;33m\u001b[0m\u001b[1;33m\u001b[0m\u001b[0m\n\u001b[1;32m----> 8\u001b[1;33m \u001b[0mlen\u001b[0m\u001b[1;33m(\u001b[0m\u001b[0mnp\u001b[0m\u001b[1;33m.\u001b[0m\u001b[0mwhere\u001b[0m\u001b[1;33m(\u001b[0m\u001b[1;32mnot\u001b[0m \u001b[0mthresholded\u001b[0m\u001b[1;33m)\u001b[0m\u001b[1;33m)\u001b[0m\u001b[1;33m\u001b[0m\u001b[1;33m\u001b[0m\u001b[0m\n\u001b[0m",
      "\u001b[1;31mValueError\u001b[0m: The truth value of an array with more than one element is ambiguous. Use a.any() or a.all()"
     ]
    }
   ],
   "source": [
    "X = encoded_imgs_train[np.where(np.argmax(y_train,axis=1) == 3)]\n",
    "m = len(X)\n",
    "my =  np.array([(1 / len(x)) * np.sum(x) for x in X.T])\n",
    "sigma_2 =  np.array([np.sum((X[:, i] - my[i]) ** 2)/m for i in range(len(my))])\n",
    "epsilon = 1*10e-10\n",
    "\n",
    "thresholded = p(X,my,sigma_2)>epsilon\n",
    "len(np.where(thresholded))"
   ]
  },
  {
   "cell_type": "code",
   "execution_count": null,
   "metadata": {},
   "outputs": [],
   "source": []
  }
 ],
 "metadata": {
  "kernelspec": {
   "display_name": "Python 3",
   "language": "python",
   "name": "python3"
  },
  "language_info": {
   "codemirror_mode": {
    "name": "ipython",
    "version": 3
   },
   "file_extension": ".py",
   "mimetype": "text/x-python",
   "name": "python",
   "nbconvert_exporter": "python",
   "pygments_lexer": "ipython3",
   "version": "3.7.3"
  }
 },
 "nbformat": 4,
 "nbformat_minor": 2
}
