{
 "cells": [
  {
   "cell_type": "code",
   "execution_count": 1,
   "metadata": {},
   "outputs": [],
   "source": [
    "%load_ext blackcellmagic"
   ]
  },
  {
   "cell_type": "code",
   "execution_count": 2,
   "metadata": {},
   "outputs": [
    {
     "name": "stderr",
     "output_type": "stream",
     "text": [
      "Using TensorFlow backend.\n"
     ]
    }
   ],
   "source": [
    "import os\n",
    "\n",
    "import matplotlib.pyplot as plt\n",
    "import numpy as np\n",
    "import tensorflow as tf\n",
    "from keras.callbacks import (\n",
    "    EarlyStopping,\n",
    "    ModelCheckpoint,\n",
    "    ReduceLROnPlateau,\n",
    "    TensorBoard,\n",
    ")\n",
    "from keras.datasets import mnist, fashion_mnist, cifar10, cifar100\n",
    "from keras.layers import (\n",
    "    Conv2D,\n",
    "    Dense,\n",
    "    Flatten,\n",
    "    Input,\n",
    "    MaxPooling2D,\n",
    "    Reshape,\n",
    "    UpSampling2D,\n",
    ")\n",
    "from keras.models import Model, Sequential, load_model\n",
    "from keras.utils import to_categorical\n",
    "\n",
    "from sklearn.metrics import confusion_matrix"
   ]
  },
  {
   "cell_type": "code",
   "execution_count": 21,
   "metadata": {},
   "outputs": [],
   "source": [
    "#CIFAR_10 = cifar10.load_data()\n",
    "#CIFAR_100 = cifar100.load_data()\n",
    "#MNIST = mnist.load_data()\n",
    "FASHION_MNIST = fashion_mnist.load_data()"
   ]
  },
  {
   "cell_type": "code",
   "execution_count": 22,
   "metadata": {},
   "outputs": [],
   "source": [
    "# this is the size of our encoded representations\n",
    "ENCODING_DIM = 10\n",
    "\n",
    "# decision boundary for classifier\n",
    "THRESHOLD = 0.7\n",
    "\n",
    "# working directory\n",
    "CUR_DIR = os.path.abspath(os.path.curdir)\n",
    "\n",
    "# setting random seed for reproducable results\n",
    "np.random.seed(42)"
   ]
  },
  {
   "cell_type": "code",
   "execution_count": 23,
   "metadata": {},
   "outputs": [],
   "source": [
    "def train_test_split(X, y, train_split=0.7, test_split=0.85):\n",
    "    indices = np.arange(X.shape[0])\n",
    "    np.random.shuffle(indices)\n",
    "    X = X[indices]\n",
    "    y = y[indices]\n",
    "\n",
    "    # define boundaries for train,validation and test set at .7 and .85 % of the MNIST data set\n",
    "    x_len = len(X)\n",
    "    boundaries = [int(x_len * train_split), int(x_len * test_split)]\n",
    "\n",
    "    [X_train, X_test, X_validate] = np.split(X, boundaries)\n",
    "\n",
    "    [y_train, y_test, y_validate] = np.split(y, boundaries)\n",
    "    return (X_train, X_test, X_validate), (y_train, y_test, y_validate)"
   ]
  },
  {
   "cell_type": "code",
   "execution_count": 28,
   "metadata": {},
   "outputs": [],
   "source": [
    "def get_data(dataset, train_split=0.7, test_split=0.85):\n",
    "    \"\"\"retrieves data set and rebalances dataset, such that train=.7, test=.15 and validation=.15.\n",
    "    :param dataset is assumed to be loaded from keras.datasets, thus the from 2-tuple(2-tuple) is assumed.\"\"\"\n",
    "    if not (len(dataset) == 2 and all([len(d) == 2 for d in dataset])):\n",
    "        raise ValueError(\n",
    "            \"Datset has not the correct form. Please load from keras.datasets or convert to similar form.\"\n",
    "        )\n",
    "\n",
    "    (X_train, y_train), (X_test, y_test) = dataset\n",
    "    if len(X_train.shape) == 3: # MNIST data set\n",
    "        X_train = X_train.reshape((list(X_train.shape) + [1])) /255.0\n",
    "        test_len = len(X_test)\n",
    "        X_test = X_test.reshape((list(X_test.shape) + [1])) / 255.0\n",
    "\n",
    "    # divide X values bei 255.0 since MNIST data set changed such that pixel values are in [0,255]\n",
    "    X = np.concatenate((X_train, X_test)) \n",
    "    y = np.concatenate((y_train, y_test))\n",
    "\n",
    "    (X_train, X_test, X_validate), (y_train, y_test, y_validate) = train_test_split(\n",
    "        X, y\n",
    "    )  # default: .7, .85\n",
    "    # one-hot encode target columns\n",
    "    y_train = to_categorical(y_train)\n",
    "    y_test = to_categorical(y_test)\n",
    "    y_validate = to_categorical(y_validate)\n",
    "\n",
    "    return (X_train, X_test, X_validate), (y_train, y_test, y_validate)"
   ]
  },
  {
   "cell_type": "code",
   "execution_count": 29,
   "metadata": {},
   "outputs": [],
   "source": [
    "(X_train, X_test, X_validate), (y_train, y_test, y_validate) = get_data(FASHION_MNIST)\n",
    "#plt.imshow(X_train[3].reshape((28,28)),cmap=\"gray\")"
   ]
  },
  {
   "cell_type": "code",
   "execution_count": 30,
   "metadata": {},
   "outputs": [
    {
     "data": {
      "text/plain": [
       "array([[[0.        ],\n",
       "        [0.        ],\n",
       "        [0.        ],\n",
       "        [0.        ],\n",
       "        [0.        ],\n",
       "        [0.00392157],\n",
       "        [0.        ],\n",
       "        [0.        ],\n",
       "        [0.        ],\n",
       "        [0.03137255],\n",
       "        [0.4745098 ],\n",
       "        [0.37254902],\n",
       "        [0.23921569],\n",
       "        [0.24705882],\n",
       "        [0.34117647],\n",
       "        [0.38431373],\n",
       "        [0.65882353],\n",
       "        [0.65882353],\n",
       "        [0.07843137],\n",
       "        [0.        ],\n",
       "        [0.        ],\n",
       "        [0.        ],\n",
       "        [0.        ],\n",
       "        [0.        ],\n",
       "        [0.        ],\n",
       "        [0.        ],\n",
       "        [0.        ],\n",
       "        [0.        ]],\n",
       "\n",
       "       [[0.        ],\n",
       "        [0.        ],\n",
       "        [0.        ],\n",
       "        [0.        ],\n",
       "        [0.        ],\n",
       "        [0.        ],\n",
       "        [0.        ],\n",
       "        [0.15294118],\n",
       "        [0.4       ],\n",
       "        [0.40784314],\n",
       "        [0.75686275],\n",
       "        [0.8       ],\n",
       "        [0.83137255],\n",
       "        [0.84705882],\n",
       "        [0.89019608],\n",
       "        [0.99607843],\n",
       "        [0.91372549],\n",
       "        [0.4745098 ],\n",
       "        [0.42745098],\n",
       "        [0.52156863],\n",
       "        [0.18431373],\n",
       "        [0.01568627],\n",
       "        [0.        ],\n",
       "        [0.        ],\n",
       "        [0.        ],\n",
       "        [0.        ],\n",
       "        [0.        ],\n",
       "        [0.        ]],\n",
       "\n",
       "       [[0.        ],\n",
       "        [0.        ],\n",
       "        [0.        ],\n",
       "        [0.        ],\n",
       "        [0.        ],\n",
       "        [0.28627451],\n",
       "        [0.45882353],\n",
       "        [0.50980392],\n",
       "        [0.45490196],\n",
       "        [0.39607843],\n",
       "        [0.2745098 ],\n",
       "        [0.29803922],\n",
       "        [0.5372549 ],\n",
       "        [0.53333333],\n",
       "        [0.57647059],\n",
       "        [0.48235294],\n",
       "        [0.30980392],\n",
       "        [0.33333333],\n",
       "        [0.45882353],\n",
       "        [0.48627451],\n",
       "        [0.56470588],\n",
       "        [0.55294118],\n",
       "        [0.49411765],\n",
       "        [0.17254902],\n",
       "        [0.        ],\n",
       "        [0.        ],\n",
       "        [0.        ],\n",
       "        [0.        ]],\n",
       "\n",
       "       [[0.        ],\n",
       "        [0.00392157],\n",
       "        [0.        ],\n",
       "        [0.        ],\n",
       "        [0.38431373],\n",
       "        [0.50588235],\n",
       "        [0.36470588],\n",
       "        [0.39215686],\n",
       "        [0.37254902],\n",
       "        [0.41568627],\n",
       "        [0.42352941],\n",
       "        [0.4       ],\n",
       "        [0.4       ],\n",
       "        [0.36470588],\n",
       "        [0.34509804],\n",
       "        [0.3372549 ],\n",
       "        [0.39215686],\n",
       "        [0.4       ],\n",
       "        [0.37647059],\n",
       "        [0.40784314],\n",
       "        [0.42352941],\n",
       "        [0.39607843],\n",
       "        [0.45098039],\n",
       "        [0.49411765],\n",
       "        [0.00784314],\n",
       "        [0.        ],\n",
       "        [0.        ],\n",
       "        [0.        ]],\n",
       "\n",
       "       [[0.        ],\n",
       "        [0.        ],\n",
       "        [0.        ],\n",
       "        [0.0745098 ],\n",
       "        [0.4745098 ],\n",
       "        [0.3254902 ],\n",
       "        [0.30588235],\n",
       "        [0.38431373],\n",
       "        [0.34509804],\n",
       "        [0.40392157],\n",
       "        [0.39215686],\n",
       "        [0.37254902],\n",
       "        [0.35686275],\n",
       "        [0.31764706],\n",
       "        [0.36862745],\n",
       "        [0.3372549 ],\n",
       "        [0.31764706],\n",
       "        [0.34901961],\n",
       "        [0.38431373],\n",
       "        [0.40784314],\n",
       "        [0.4       ],\n",
       "        [0.30588235],\n",
       "        [0.35686275],\n",
       "        [0.40392157],\n",
       "        [0.24705882],\n",
       "        [0.        ],\n",
       "        [0.        ],\n",
       "        [0.        ]],\n",
       "\n",
       "       [[0.        ],\n",
       "        [0.00784314],\n",
       "        [0.        ],\n",
       "        [0.25882353],\n",
       "        [0.37254902],\n",
       "        [0.39215686],\n",
       "        [0.33333333],\n",
       "        [0.34509804],\n",
       "        [0.29803922],\n",
       "        [0.23137255],\n",
       "        [0.31372549],\n",
       "        [0.35686275],\n",
       "        [0.3254902 ],\n",
       "        [0.33333333],\n",
       "        [0.32941176],\n",
       "        [0.34117647],\n",
       "        [0.34117647],\n",
       "        [0.30196078],\n",
       "        [0.35686275],\n",
       "        [0.36078431],\n",
       "        [0.3254902 ],\n",
       "        [0.31372549],\n",
       "        [0.36862745],\n",
       "        [0.33333333],\n",
       "        [0.40392157],\n",
       "        [0.        ],\n",
       "        [0.        ],\n",
       "        [0.        ]],\n",
       "\n",
       "       [[0.        ],\n",
       "        [0.        ],\n",
       "        [0.00784314],\n",
       "        [0.36470588],\n",
       "        [0.34509804],\n",
       "        [0.4       ],\n",
       "        [0.52941176],\n",
       "        [0.21960784],\n",
       "        [0.38823529],\n",
       "        [0.43137255],\n",
       "        [0.32941176],\n",
       "        [0.24705882],\n",
       "        [0.25490196],\n",
       "        [0.28235294],\n",
       "        [0.27058824],\n",
       "        [0.23921569],\n",
       "        [0.31764706],\n",
       "        [0.47843137],\n",
       "        [0.25490196],\n",
       "        [0.27843137],\n",
       "        [0.30588235],\n",
       "        [0.35686275],\n",
       "        [0.37254902],\n",
       "        [0.33333333],\n",
       "        [0.43137255],\n",
       "        [0.14117647],\n",
       "        [0.        ],\n",
       "        [0.        ]],\n",
       "\n",
       "       [[0.        ],\n",
       "        [0.        ],\n",
       "        [0.22745098],\n",
       "        [0.36078431],\n",
       "        [0.30588235],\n",
       "        [0.34901961],\n",
       "        [0.69411765],\n",
       "        [0.18431373],\n",
       "        [0.4745098 ],\n",
       "        [0.90196078],\n",
       "        [0.67843137],\n",
       "        [0.65490196],\n",
       "        [0.70196078],\n",
       "        [0.77647059],\n",
       "        [0.75686275],\n",
       "        [0.76078431],\n",
       "        [0.56862745],\n",
       "        [0.75686275],\n",
       "        [0.70980392],\n",
       "        [0.25490196],\n",
       "        [0.29803922],\n",
       "        [0.33333333],\n",
       "        [0.41960784],\n",
       "        [0.3372549 ],\n",
       "        [0.39215686],\n",
       "        [0.30980392],\n",
       "        [0.        ],\n",
       "        [0.        ]],\n",
       "\n",
       "       [[0.        ],\n",
       "        [0.        ],\n",
       "        [0.36078431],\n",
       "        [0.28235294],\n",
       "        [0.28627451],\n",
       "        [0.25490196],\n",
       "        [0.69019608],\n",
       "        [0.25098039],\n",
       "        [0.34509804],\n",
       "        [0.89411765],\n",
       "        [0.69411765],\n",
       "        [0.76862745],\n",
       "        [0.72156863],\n",
       "        [0.63921569],\n",
       "        [0.63137255],\n",
       "        [0.78823529],\n",
       "        [0.61176471],\n",
       "        [0.65098039],\n",
       "        [0.71372549],\n",
       "        [0.63137255],\n",
       "        [0.20784314],\n",
       "        [0.40392157],\n",
       "        [0.45098039],\n",
       "        [0.29803922],\n",
       "        [0.3372549 ],\n",
       "        [0.38823529],\n",
       "        [0.00784314],\n",
       "        [0.        ]],\n",
       "\n",
       "       [[0.        ],\n",
       "        [0.16470588],\n",
       "        [0.38431373],\n",
       "        [0.21176471],\n",
       "        [0.30196078],\n",
       "        [0.2       ],\n",
       "        [0.65882353],\n",
       "        [0.30980392],\n",
       "        [0.25490196],\n",
       "        [0.4745098 ],\n",
       "        [0.26666667],\n",
       "        [0.23137255],\n",
       "        [0.25098039],\n",
       "        [0.19607843],\n",
       "        [0.23921569],\n",
       "        [0.21568627],\n",
       "        [0.29411765],\n",
       "        [0.21568627],\n",
       "        [0.25490196],\n",
       "        [0.36078431],\n",
       "        [0.29411765],\n",
       "        [0.38823529],\n",
       "        [0.36470588],\n",
       "        [0.3372549 ],\n",
       "        [0.31764706],\n",
       "        [0.40784314],\n",
       "        [0.22352941],\n",
       "        [0.        ]],\n",
       "\n",
       "       [[0.        ],\n",
       "        [0.2745098 ],\n",
       "        [0.45882353],\n",
       "        [0.35686275],\n",
       "        [0.33333333],\n",
       "        [0.19215686],\n",
       "        [0.65490196],\n",
       "        [0.31764706],\n",
       "        [0.25490196],\n",
       "        [0.34509804],\n",
       "        [0.28627451],\n",
       "        [0.28235294],\n",
       "        [0.28235294],\n",
       "        [0.29411765],\n",
       "        [0.26666667],\n",
       "        [0.29803922],\n",
       "        [0.2745098 ],\n",
       "        [0.28235294],\n",
       "        [0.25882353],\n",
       "        [0.23921569],\n",
       "        [0.29803922],\n",
       "        [0.30980392],\n",
       "        [0.34901961],\n",
       "        [0.43529412],\n",
       "        [0.43137255],\n",
       "        [0.44705882],\n",
       "        [0.18823529],\n",
       "        [0.        ]],\n",
       "\n",
       "       [[0.        ],\n",
       "        [0.        ],\n",
       "        [0.04313725],\n",
       "        [0.27058824],\n",
       "        [0.37647059],\n",
       "        [0.2745098 ],\n",
       "        [0.72156863],\n",
       "        [0.30196078],\n",
       "        [0.28235294],\n",
       "        [0.41960784],\n",
       "        [0.31764706],\n",
       "        [0.31372549],\n",
       "        [0.29411765],\n",
       "        [0.29803922],\n",
       "        [0.30588235],\n",
       "        [0.30196078],\n",
       "        [0.29411765],\n",
       "        [0.2745098 ],\n",
       "        [0.31372549],\n",
       "        [0.31372549],\n",
       "        [0.28627451],\n",
       "        [0.45882353],\n",
       "        [0.49019608],\n",
       "        [0.3372549 ],\n",
       "        [0.1372549 ],\n",
       "        [0.        ],\n",
       "        [0.        ],\n",
       "        [0.        ]],\n",
       "\n",
       "       [[0.        ],\n",
       "        [0.        ],\n",
       "        [0.        ],\n",
       "        [0.        ],\n",
       "        [0.01176471],\n",
       "        [0.09803922],\n",
       "        [0.62745098],\n",
       "        [0.35686275],\n",
       "        [0.30588235],\n",
       "        [0.39607843],\n",
       "        [0.29803922],\n",
       "        [0.3254902 ],\n",
       "        [0.30588235],\n",
       "        [0.27843137],\n",
       "        [0.30588235],\n",
       "        [0.30196078],\n",
       "        [0.29803922],\n",
       "        [0.28235294],\n",
       "        [0.28235294],\n",
       "        [0.30196078],\n",
       "        [0.32941176],\n",
       "        [0.3372549 ],\n",
       "        [0.10588235],\n",
       "        [0.        ],\n",
       "        [0.        ],\n",
       "        [0.        ],\n",
       "        [0.        ],\n",
       "        [0.        ]],\n",
       "\n",
       "       [[0.        ],\n",
       "        [0.        ],\n",
       "        [0.00784314],\n",
       "        [0.00392157],\n",
       "        [0.        ],\n",
       "        [0.        ],\n",
       "        [0.        ],\n",
       "        [0.34509804],\n",
       "        [0.40392157],\n",
       "        [0.38823529],\n",
       "        [0.3254902 ],\n",
       "        [0.33333333],\n",
       "        [0.33333333],\n",
       "        [0.29411765],\n",
       "        [0.31372549],\n",
       "        [0.3254902 ],\n",
       "        [0.30588235],\n",
       "        [0.28235294],\n",
       "        [0.28627451],\n",
       "        [0.32941176],\n",
       "        [0.38431373],\n",
       "        [0.00784314],\n",
       "        [0.        ],\n",
       "        [0.00784314],\n",
       "        [0.        ],\n",
       "        [0.        ],\n",
       "        [0.        ],\n",
       "        [0.        ]],\n",
       "\n",
       "       [[0.        ],\n",
       "        [0.        ],\n",
       "        [0.        ],\n",
       "        [0.        ],\n",
       "        [0.00784314],\n",
       "        [0.        ],\n",
       "        [0.        ],\n",
       "        [0.36862745],\n",
       "        [0.37647059],\n",
       "        [0.37254902],\n",
       "        [0.3254902 ],\n",
       "        [0.31372549],\n",
       "        [0.31764706],\n",
       "        [0.30196078],\n",
       "        [0.31372549],\n",
       "        [0.30980392],\n",
       "        [0.30980392],\n",
       "        [0.28627451],\n",
       "        [0.30196078],\n",
       "        [0.28627451],\n",
       "        [0.38431373],\n",
       "        [0.04313725],\n",
       "        [0.        ],\n",
       "        [0.00392157],\n",
       "        [0.        ],\n",
       "        [0.        ],\n",
       "        [0.        ],\n",
       "        [0.        ]],\n",
       "\n",
       "       [[0.        ],\n",
       "        [0.        ],\n",
       "        [0.00392157],\n",
       "        [0.00392157],\n",
       "        [0.00392157],\n",
       "        [0.        ],\n",
       "        [0.        ],\n",
       "        [0.41568627],\n",
       "        [0.41960784],\n",
       "        [0.37254902],\n",
       "        [0.32941176],\n",
       "        [0.29803922],\n",
       "        [0.28627451],\n",
       "        [0.30980392],\n",
       "        [0.30196078],\n",
       "        [0.29411765],\n",
       "        [0.30588235],\n",
       "        [0.30588235],\n",
       "        [0.29411765],\n",
       "        [0.27058824],\n",
       "        [0.36470588],\n",
       "        [0.03529412],\n",
       "        [0.        ],\n",
       "        [0.00392157],\n",
       "        [0.        ],\n",
       "        [0.00392157],\n",
       "        [0.        ],\n",
       "        [0.        ]],\n",
       "\n",
       "       [[0.        ],\n",
       "        [0.        ],\n",
       "        [0.        ],\n",
       "        [0.        ],\n",
       "        [0.        ],\n",
       "        [0.        ],\n",
       "        [0.02352941],\n",
       "        [0.4627451 ],\n",
       "        [0.38823529],\n",
       "        [0.36862745],\n",
       "        [0.3372549 ],\n",
       "        [0.30980392],\n",
       "        [0.30588235],\n",
       "        [0.31764706],\n",
       "        [0.27843137],\n",
       "        [0.30588235],\n",
       "        [0.31764706],\n",
       "        [0.26666667],\n",
       "        [0.29803922],\n",
       "        [0.29803922],\n",
       "        [0.37647059],\n",
       "        [0.05490196],\n",
       "        [0.        ],\n",
       "        [0.00392157],\n",
       "        [0.        ],\n",
       "        [0.        ],\n",
       "        [0.        ],\n",
       "        [0.        ]],\n",
       "\n",
       "       [[0.        ],\n",
       "        [0.        ],\n",
       "        [0.        ],\n",
       "        [0.        ],\n",
       "        [0.00392157],\n",
       "        [0.        ],\n",
       "        [0.03529412],\n",
       "        [0.4627451 ],\n",
       "        [0.37254902],\n",
       "        [0.37647059],\n",
       "        [0.34509804],\n",
       "        [0.3372549 ],\n",
       "        [0.37254902],\n",
       "        [0.33333333],\n",
       "        [0.2745098 ],\n",
       "        [0.28627451],\n",
       "        [0.3254902 ],\n",
       "        [0.30196078],\n",
       "        [0.31372549],\n",
       "        [0.30588235],\n",
       "        [0.37647059],\n",
       "        [0.0745098 ],\n",
       "        [0.        ],\n",
       "        [0.00392157],\n",
       "        [0.        ],\n",
       "        [0.        ],\n",
       "        [0.        ],\n",
       "        [0.        ]],\n",
       "\n",
       "       [[0.        ],\n",
       "        [0.        ],\n",
       "        [0.        ],\n",
       "        [0.        ],\n",
       "        [0.00392157],\n",
       "        [0.        ],\n",
       "        [0.05490196],\n",
       "        [0.46666667],\n",
       "        [0.34901961],\n",
       "        [0.36470588],\n",
       "        [0.32941176],\n",
       "        [0.31372549],\n",
       "        [0.32941176],\n",
       "        [0.31372549],\n",
       "        [0.28235294],\n",
       "        [0.27843137],\n",
       "        [0.30588235],\n",
       "        [0.30196078],\n",
       "        [0.30980392],\n",
       "        [0.29803922],\n",
       "        [0.37647059],\n",
       "        [0.10980392],\n",
       "        [0.        ],\n",
       "        [0.00392157],\n",
       "        [0.        ],\n",
       "        [0.        ],\n",
       "        [0.        ],\n",
       "        [0.        ]],\n",
       "\n",
       "       [[0.        ],\n",
       "        [0.        ],\n",
       "        [0.        ],\n",
       "        [0.        ],\n",
       "        [0.        ],\n",
       "        [0.        ],\n",
       "        [0.06666667],\n",
       "        [0.4627451 ],\n",
       "        [0.34117647],\n",
       "        [0.36078431],\n",
       "        [0.36078431],\n",
       "        [0.35686275],\n",
       "        [0.34117647],\n",
       "        [0.32941176],\n",
       "        [0.3254902 ],\n",
       "        [0.30588235],\n",
       "        [0.30588235],\n",
       "        [0.29803922],\n",
       "        [0.30980392],\n",
       "        [0.30588235],\n",
       "        [0.4       ],\n",
       "        [0.15294118],\n",
       "        [0.        ],\n",
       "        [0.00392157],\n",
       "        [0.        ],\n",
       "        [0.        ],\n",
       "        [0.        ],\n",
       "        [0.        ]],\n",
       "\n",
       "       [[0.        ],\n",
       "        [0.        ],\n",
       "        [0.        ],\n",
       "        [0.        ],\n",
       "        [0.        ],\n",
       "        [0.        ],\n",
       "        [0.1254902 ],\n",
       "        [0.45490196],\n",
       "        [0.34901961],\n",
       "        [0.34509804],\n",
       "        [0.36862745],\n",
       "        [0.32941176],\n",
       "        [0.36078431],\n",
       "        [0.35686275],\n",
       "        [0.28235294],\n",
       "        [0.29411765],\n",
       "        [0.31372549],\n",
       "        [0.28235294],\n",
       "        [0.3254902 ],\n",
       "        [0.30980392],\n",
       "        [0.39607843],\n",
       "        [0.16862745],\n",
       "        [0.        ],\n",
       "        [0.00392157],\n",
       "        [0.        ],\n",
       "        [0.        ],\n",
       "        [0.        ],\n",
       "        [0.        ]],\n",
       "\n",
       "       [[0.        ],\n",
       "        [0.        ],\n",
       "        [0.        ],\n",
       "        [0.        ],\n",
       "        [0.        ],\n",
       "        [0.        ],\n",
       "        [0.15294118],\n",
       "        [0.45882353],\n",
       "        [0.34509804],\n",
       "        [0.34901961],\n",
       "        [0.36470588],\n",
       "        [0.3372549 ],\n",
       "        [0.36470588],\n",
       "        [0.36470588],\n",
       "        [0.29411765],\n",
       "        [0.28235294],\n",
       "        [0.29411765],\n",
       "        [0.2745098 ],\n",
       "        [0.31372549],\n",
       "        [0.30196078],\n",
       "        [0.38823529],\n",
       "        [0.18039216],\n",
       "        [0.        ],\n",
       "        [0.00392157],\n",
       "        [0.        ],\n",
       "        [0.        ],\n",
       "        [0.        ],\n",
       "        [0.        ]],\n",
       "\n",
       "       [[0.        ],\n",
       "        [0.        ],\n",
       "        [0.        ],\n",
       "        [0.        ],\n",
       "        [0.        ],\n",
       "        [0.        ],\n",
       "        [0.18431373],\n",
       "        [0.46666667],\n",
       "        [0.34509804],\n",
       "        [0.36470588],\n",
       "        [0.36470588],\n",
       "        [0.36078431],\n",
       "        [0.37254902],\n",
       "        [0.36470588],\n",
       "        [0.30980392],\n",
       "        [0.29803922],\n",
       "        [0.31372549],\n",
       "        [0.30588235],\n",
       "        [0.31764706],\n",
       "        [0.31372549],\n",
       "        [0.39607843],\n",
       "        [0.21568627],\n",
       "        [0.        ],\n",
       "        [0.00392157],\n",
       "        [0.        ],\n",
       "        [0.        ],\n",
       "        [0.        ],\n",
       "        [0.        ]],\n",
       "\n",
       "       [[0.        ],\n",
       "        [0.        ],\n",
       "        [0.        ],\n",
       "        [0.        ],\n",
       "        [0.        ],\n",
       "        [0.        ],\n",
       "        [0.21176471],\n",
       "        [0.47843137],\n",
       "        [0.34509804],\n",
       "        [0.37254902],\n",
       "        [0.35686275],\n",
       "        [0.38431373],\n",
       "        [0.38431373],\n",
       "        [0.37254902],\n",
       "        [0.33333333],\n",
       "        [0.29411765],\n",
       "        [0.30196078],\n",
       "        [0.30588235],\n",
       "        [0.31372549],\n",
       "        [0.30980392],\n",
       "        [0.39215686],\n",
       "        [0.23921569],\n",
       "        [0.        ],\n",
       "        [0.00392157],\n",
       "        [0.        ],\n",
       "        [0.        ],\n",
       "        [0.        ],\n",
       "        [0.        ]],\n",
       "\n",
       "       [[0.        ],\n",
       "        [0.        ],\n",
       "        [0.        ],\n",
       "        [0.        ],\n",
       "        [0.00392157],\n",
       "        [0.        ],\n",
       "        [0.25882353],\n",
       "        [0.46666667],\n",
       "        [0.33333333],\n",
       "        [0.37647059],\n",
       "        [0.36862745],\n",
       "        [0.37647059],\n",
       "        [0.36862745],\n",
       "        [0.37254902],\n",
       "        [0.31372549],\n",
       "        [0.30588235],\n",
       "        [0.30196078],\n",
       "        [0.28627451],\n",
       "        [0.30588235],\n",
       "        [0.30588235],\n",
       "        [0.37647059],\n",
       "        [0.25882353],\n",
       "        [0.        ],\n",
       "        [0.        ],\n",
       "        [0.        ],\n",
       "        [0.        ],\n",
       "        [0.        ],\n",
       "        [0.        ]],\n",
       "\n",
       "       [[0.        ],\n",
       "        [0.        ],\n",
       "        [0.        ],\n",
       "        [0.        ],\n",
       "        [0.        ],\n",
       "        [0.        ],\n",
       "        [0.23137255],\n",
       "        [0.44313725],\n",
       "        [0.37254902],\n",
       "        [0.37254902],\n",
       "        [0.34509804],\n",
       "        [0.36470588],\n",
       "        [0.41960784],\n",
       "        [0.37647059],\n",
       "        [0.2745098 ],\n",
       "        [0.2745098 ],\n",
       "        [0.30980392],\n",
       "        [0.28627451],\n",
       "        [0.28627451],\n",
       "        [0.29411765],\n",
       "        [0.34901961],\n",
       "        [0.25098039],\n",
       "        [0.        ],\n",
       "        [0.        ],\n",
       "        [0.00392157],\n",
       "        [0.        ],\n",
       "        [0.        ],\n",
       "        [0.        ]],\n",
       "\n",
       "       [[0.        ],\n",
       "        [0.        ],\n",
       "        [0.        ],\n",
       "        [0.        ],\n",
       "        [0.00392157],\n",
       "        [0.        ],\n",
       "        [0.2745098 ],\n",
       "        [0.52156863],\n",
       "        [0.39607843],\n",
       "        [0.44313725],\n",
       "        [0.37647059],\n",
       "        [0.39607843],\n",
       "        [0.4627451 ],\n",
       "        [0.46666667],\n",
       "        [0.36862745],\n",
       "        [0.32941176],\n",
       "        [0.36862745],\n",
       "        [0.37647059],\n",
       "        [0.38431373],\n",
       "        [0.38823529],\n",
       "        [0.44313725],\n",
       "        [0.34117647],\n",
       "        [0.        ],\n",
       "        [0.        ],\n",
       "        [0.00392157],\n",
       "        [0.00392157],\n",
       "        [0.        ],\n",
       "        [0.        ]],\n",
       "\n",
       "       [[0.        ],\n",
       "        [0.        ],\n",
       "        [0.        ],\n",
       "        [0.        ],\n",
       "        [0.        ],\n",
       "        [0.        ],\n",
       "        [0.17254902],\n",
       "        [0.4       ],\n",
       "        [0.34117647],\n",
       "        [0.36862745],\n",
       "        [0.34117647],\n",
       "        [0.34901961],\n",
       "        [0.37647059],\n",
       "        [0.36078431],\n",
       "        [0.31372549],\n",
       "        [0.29411765],\n",
       "        [0.29411765],\n",
       "        [0.27843137],\n",
       "        [0.26666667],\n",
       "        [0.27058824],\n",
       "        [0.31372549],\n",
       "        [0.23921569],\n",
       "        [0.        ],\n",
       "        [0.        ],\n",
       "        [0.        ],\n",
       "        [0.        ],\n",
       "        [0.        ],\n",
       "        [0.        ]]])"
      ]
     },
     "execution_count": 30,
     "metadata": {},
     "output_type": "execute_result"
    }
   ],
   "source": [
    "X_train[0]"
   ]
  },
  {
   "cell_type": "code",
   "execution_count": 31,
   "metadata": {},
   "outputs": [],
   "source": [
    "def get_specific_data_set(X, y, fashion):\n",
    "    # parameters are training AND test data for X respectively y\n",
    "    # is assumed to be in one-hot-encoding\n",
    "    y = np.argmax(y, axis=1)\n",
    "    indices = np.where(y == fashion)\n",
    "\n",
    "    # filtering by the passed fashion. needs to be an int\n",
    "    X_fashion = X[indices]\n",
    "    y_fashion = y[indices]\n",
    "\n",
    "    y_fashion = to_categorical(y_fashion)  # array of length 2 of form [0., 1.]\n",
    "\n",
    "    # splitting into training and test set is not necessary since the data for single fashions\n",
    "    # is just used for evaluation purposes (except for \"1\")\n",
    "\n",
    "    return [X_fashion, y_fashion]"
   ]
  },
  {
   "cell_type": "code",
   "execution_count": 32,
   "metadata": {},
   "outputs": [
    {
     "data": {
      "text/plain": [
       "((70000, 28, 28, 1), (70000, 10))"
      ]
     },
     "execution_count": 32,
     "metadata": {},
     "output_type": "execute_result"
    }
   ],
   "source": [
    "X = np.concatenate((X_train, X_test, X_validate))\n",
    "y = np.concatenate((y_train, y_test, y_validate))\n",
    "X.shape, y.shape"
   ]
  },
  {
   "cell_type": "code",
   "execution_count": 33,
   "metadata": {},
   "outputs": [],
   "source": [
    "# fashion = 0\n",
    "# X_zero, y_zero = get_specific_data_set(X, y, fashion)\n",
    "# fashion = 8\n",
    "# X_eight, y_eight = get_specific_data_set(X, y, fashion)\n",
    "# fashion = 1\n",
    "# X_one, y_one =  get_specific_data_set(X, y, fashion)\n",
    "# fashion = 7\n",
    "# X_seven, y_seven = get_specific_data_set(X, y, fashion)\n",
    "fashion_data = [get_specific_data_set(X, y, i) for i in range(10)]\n",
    "\n",
    "all_fashions = X[np.where(np.argmax(y,axis=1)!= 1)]"
   ]
  },
  {
   "cell_type": "code",
   "execution_count": 34,
   "metadata": {},
   "outputs": [
    {
     "data": {
      "image/png": "[encoded data removed]",
      "text/plain": [
       "<Figure size 1152x288 with 16 Axes>"
      ]
     },
     "metadata": {
      "needs_background": "light"
     },
     "output_type": "display_data"
    }
   ],
   "source": [
    "plt.figure(figsize=(16, 4))\n",
    "for i in range(len(fashion_data[1][0][0]))[:8]:\n",
    "    ax = plt.subplot(2, 8, i+1)\n",
    "    plt.imshow(fashion_data[0][0][i].reshape(28, 28))\n",
    "    plt.gray()\n",
    "    ax.get_xaxis().set_visible(False)\n",
    "    ax.get_yaxis().set_visible(False)\n",
    "for i in range(len(fashion_data[1][0][0]))[:8]:\n",
    "    ax = plt.subplot(2, 8, 8+i+1)\n",
    "    plt.imshow(fashion_data[2][0][i].reshape(28, 28))\n",
    "    ax.get_xaxis().set_visible(False)\n",
    "    ax.get_yaxis().set_visible(False)"
   ]
  },
  {
   "cell_type": "code",
   "execution_count": 35,
   "metadata": {},
   "outputs": [],
   "source": [
    "def build_classifier(input_dim):\n",
    "    \"\"\"Builds classifier for classification of MNIST encoded representation.\"\"\"\n",
    "    classifier = Sequential()\n",
    "    classifier.add(Dense(32, activation=\"relu\", input_dim=input_dim,\n",
    "                         kernel_initializer=\"random_normal\"))\n",
    "    classifier.add(Dense(ENCODING_DIM, activation=\"softmax\",\n",
    "                         kernel_initializer=\"random_normal\"))\n",
    "\n",
    "    classifier.compile(optimizer='adam', loss='mean_squared_error',\n",
    "                       metrics=['accuracy'])\n",
    "    return classifier"
   ]
  },
  {
   "cell_type": "code",
   "execution_count": 198,
   "metadata": {},
   "outputs": [],
   "source": [
    "def build_conv_aue():\n",
    "    INPUT_SHAPE = (28, 28, 1)\n",
    "    DEFAULT_KERNEL = (3, 3)\n",
    "    DEFAULT_POOL_SIZE = (3, 3)\n",
    "    # this is our input placeholder\n",
    "    input_img = Input(shape=INPUT_SHAPE)\n",
    "    # layer between input and middle layer\n",
    "    encode = Conv2D(64, DEFAULT_KERNEL, activation=\"relu\", padding=\"same\")(input_img)\n",
    "    encode = MaxPooling2D(DEFAULT_POOL_SIZE, padding=\"same\")(encode)\n",
    "    encode = Conv2D(64, DEFAULT_KERNEL, activation=\"relu\", padding=\"same\")(encode)\n",
    "    encode = MaxPooling2D(DEFAULT_POOL_SIZE, padding=\"same\")(encode)\n",
    "    encode = Conv2D(1, DEFAULT_KERNEL, activation=\"relu\", padding=\"same\")(encode)\n",
    "\n",
    "    # \"encoded\" is the encoded representation of the input, middle layer of the aue\n",
    "    encoded = MaxPooling2D(DEFAULT_POOL_SIZE, padding=\"same\", name=\"encoder\")(encode)\n",
    "\n",
    "    # layer between middle and output layer\n",
    "    decode = Conv2D(1, DEFAULT_KERNEL, activation=\"relu\", padding=\"same\")(encoded)\n",
    "    decode = UpSampling2D(DEFAULT_POOL_SIZE)(decode)\n",
    "    decode = Conv2D(64, DEFAULT_KERNEL, activation=\"relu\")(decode)\n",
    "    decode = UpSampling2D(DEFAULT_POOL_SIZE)(decode)\n",
    "    decode = Conv2D(64, DEFAULT_KERNEL, activation=\"relu\")(decode)\n",
    "    decode = UpSampling2D(DEFAULT_POOL_SIZE)(decode)\n",
    "    # decode = Conv2D(16, DEFAULT_KERNEL, activation=\"relu\")(decode)\n",
    "    # decode = UpSampling2D(DEFAULT_POOL_SIZE)(decode)\n",
    "    #decode = Conv2D(1,DEFAULT_KERNEL,activation=\"sigmoid\")(decode)\n",
    "    decoded = Conv2D(1, DEFAULT_KERNEL, activation=\"sigmoid\")(decode)\n",
    "\n",
    "    # this model maps an input to its reconstruction\n",
    "    autoencoder = Model(inputs=input_img, outputs=decoded)\n",
    "\n",
    "    encoder, decoder = get_codec_from_aue(autoencoder)\n",
    "\n",
    "    # build (aka \"compile\") the model\n",
    "    autoencoder.compile(optimizer=\"adam\", loss=\"mean_squared_error\")\n",
    "    return autoencoder, encoder, decoder"
   ]
  },
  {
   "cell_type": "code",
   "execution_count": 191,
   "metadata": {},
   "outputs": [],
   "source": [
    "def get_codec_from_aue(autoencoder):\n",
    "    encoder_layer = autoencoder.get_layer(\"encoder\")\n",
    "    # this model maps an input to its encoded representation; Big image to small rep\n",
    "    encoder = Model(\n",
    "        inputs=autoencoder.input, outputs=encoder_layer.output)\n",
    "\n",
    "    # create a placeholder for an encoded (ENCODING_DIM-dimensional) input\n",
    "    encoded_input = Input(shape=encoder_layer.output_shape[1:])\n",
    "\n",
    "    # getting the middle of the autoencoder\n",
    "    start = (len(autoencoder.layers))//2\n",
    "    decoder = autoencoder.layers[-start](encoded_input)\n",
    "    # stacking the decoder layers\n",
    "    for i in range(start-1, 0, -1):\n",
    "        decoder = autoencoder.layers[-i](decoder)\n",
    "\n",
    "    # create the decoder model; \"<\": encoded(small) representation to big image\n",
    "    decoder = Model(encoded_input, decoder)\n",
    "    return encoder, decoder"
   ]
  },
  {
   "cell_type": "code",
   "execution_count": 192,
   "metadata": {},
   "outputs": [],
   "source": [
    "# array to map inidices to description of the corresponding index\n",
    "fashion_verbose = [\n",
    "    \"t-shirt\",\n",
    "    \"trousers\",\n",
    "    \"pullover\",\n",
    "    \"dress\",\n",
    "    \"coat\",\n",
    "    \"sandal\",\n",
    "    \"shirt\",\n",
    "    \"sneaker\",\n",
    "    \"bag\",\n",
    "    \"ankle boot\",\n",
    "]"
   ]
  },
  {
   "cell_type": "markdown",
   "metadata": {},
   "source": [
    "**all fashion auto encoder**"
   ]
  },
  {
   "cell_type": "code",
   "execution_count": 199,
   "metadata": {},
   "outputs": [
    {
     "name": "stdout",
     "output_type": "stream",
     "text": [
      "_________________________________________________________________\n",
      "Layer (type)                 Output Shape              Param #   \n",
      "=================================================================\n",
      "input_45 (InputLayer)        (None, 28, 28, 1)         0         \n",
      "_________________________________________________________________\n",
      "conv2d_131 (Conv2D)          (None, 28, 28, 64)        640       \n",
      "_________________________________________________________________\n",
      "max_pooling2d_33 (MaxPooling (None, 10, 10, 64)        0         \n",
      "_________________________________________________________________\n",
      "conv2d_132 (Conv2D)          (None, 10, 10, 64)        36928     \n",
      "_________________________________________________________________\n",
      "max_pooling2d_34 (MaxPooling (None, 4, 4, 64)          0         \n",
      "_________________________________________________________________\n",
      "conv2d_133 (Conv2D)          (None, 4, 4, 1)           577       \n",
      "_________________________________________________________________\n",
      "encoder (MaxPooling2D)       (None, 2, 2, 1)           0         \n",
      "_________________________________________________________________\n",
      "conv2d_134 (Conv2D)          (None, 2, 2, 1)           10        \n",
      "_________________________________________________________________\n",
      "up_sampling2d_54 (UpSampling (None, 6, 6, 1)           0         \n",
      "_________________________________________________________________\n",
      "conv2d_135 (Conv2D)          (None, 4, 4, 64)          640       \n",
      "_________________________________________________________________\n",
      "up_sampling2d_55 (UpSampling (None, 12, 12, 64)        0         \n",
      "_________________________________________________________________\n",
      "conv2d_136 (Conv2D)          (None, 10, 10, 64)        36928     \n",
      "_________________________________________________________________\n",
      "up_sampling2d_56 (UpSampling (None, 30, 30, 64)        0         \n",
      "_________________________________________________________________\n",
      "conv2d_137 (Conv2D)          (None, 28, 28, 1)         577       \n",
      "=================================================================\n",
      "Total params: 76,300\n",
      "Trainable params: 76,300\n",
      "Non-trainable params: 0\n",
      "_________________________________________________________________\n"
     ]
    }
   ],
   "source": [
    "all_ae, all_encoder, all_decoder = build_conv_aue()\n",
    "\n",
    "all_ae.summary()"
   ]
  },
  {
   "cell_type": "code",
   "execution_count": 200,
   "metadata": {},
   "outputs": [
    {
     "name": "stdout",
     "output_type": "stream",
     "text": [
      "Training Autoencoder for all fashions...\n",
      "Train on 49000 samples, validate on 10500 samples\n",
      "Epoch 1/128\n",
      "49000/49000 [==============================] - 14s 283us/step - loss: 0.1261 - val_loss: 0.1237\n",
      "\n",
      "Epoch 00001: val_loss improved from inf to 0.12370, saving model to C:\\Users\\danie\\coding\\cnn-auto-encoder\\ckpts\\fashionall-conv-ae.hdf5\n",
      "Epoch 2/128\n",
      "49000/49000 [==============================] - 15s 311us/step - loss: 0.1247 - val_loss: 0.1237\n",
      "\n",
      "Epoch 00002: val_loss improved from 0.12370 to 0.12367, saving model to C:\\Users\\danie\\coding\\cnn-auto-encoder\\ckpts\\fashionall-conv-ae.hdf5\n",
      "Epoch 3/128\n",
      "49000/49000 [==============================] - 17s 348us/step - loss: 0.1248 - val_loss: 0.1237\n",
      "\n",
      "Epoch 00003: val_loss did not improve from 0.12367\n",
      "Epoch 4/128\n",
      "49000/49000 [==============================] - 15s 298us/step - loss: 0.1247 - val_loss: 0.1237\n",
      "\n",
      "Epoch 00004: val_loss did not improve from 0.12367\n",
      "\n",
      "Epoch 00004: ReduceLROnPlateau reducing learning rate to 0.0003000000142492354.\n",
      "Epoch 5/128\n",
      "49000/49000 [==============================] - 16s 318us/step - loss: 0.1247 - val_loss: 0.1237\n",
      "\n",
      "Epoch 00005: val_loss improved from 0.12367 to 0.12366, saving model to C:\\Users\\danie\\coding\\cnn-auto-encoder\\ckpts\\fashionall-conv-ae.hdf5\n",
      "Epoch 6/128\n",
      "49000/49000 [==============================] - 14s 278us/step - loss: 0.1247 - val_loss: 0.1237\n",
      "\n",
      "Epoch 00006: val_loss did not improve from 0.12366\n",
      "Epoch 7/128\n",
      "49000/49000 [==============================] - 14s 280us/step - loss: 0.1247 - val_loss: 0.1237\n",
      "\n",
      "Epoch 00007: val_loss did not improve from 0.12366\n",
      "\n",
      "Epoch 00007: ReduceLROnPlateau reducing learning rate to 9.000000427477062e-05.\n",
      "Epoch 8/128\n",
      "49000/49000 [==============================] - 14s 278us/step - loss: 0.1247 - val_loss: 0.1237\n",
      "\n",
      "Epoch 00008: val_loss did not improve from 0.12366\n",
      "Epoch 9/128\n",
      "49000/49000 [==============================] - 14s 283us/step - loss: 0.1247 - val_loss: 0.1237\n",
      "\n",
      "Epoch 00009: val_loss improved from 0.12366 to 0.12365, saving model to C:\\Users\\danie\\coding\\cnn-auto-encoder\\ckpts\\fashionall-conv-ae.hdf5\n",
      "Epoch 10/128\n",
      "49000/49000 [==============================] - 14s 279us/step - loss: 0.1247 - val_loss: 0.1237\n",
      "\n",
      "Epoch 00010: val_loss did not improve from 0.12365\n",
      "\n",
      "Epoch 00010: ReduceLROnPlateau reducing learning rate to 2.700000040931627e-05.\n",
      "Epoch 11/128\n",
      "49000/49000 [==============================] - 14s 278us/step - loss: 0.1247 - val_loss: 0.1237\n",
      "\n",
      "Epoch 00011: val_loss did not improve from 0.12365\n",
      "Epoch 00011: early stopping\n",
      "_________________________________________________________________\n",
      "Layer (type)                 Output Shape              Param #   \n",
      "=================================================================\n",
      "input_47 (InputLayer)        (None, 28, 28, 1)         0         \n",
      "_________________________________________________________________\n",
      "conv2d_138 (Conv2D)          (None, 28, 28, 64)        640       \n",
      "_________________________________________________________________\n",
      "max_pooling2d_35 (MaxPooling (None, 10, 10, 64)        0         \n",
      "_________________________________________________________________\n",
      "conv2d_139 (Conv2D)          (None, 10, 10, 64)        36928     \n",
      "_________________________________________________________________\n",
      "max_pooling2d_36 (MaxPooling (None, 4, 4, 64)          0         \n",
      "_________________________________________________________________\n",
      "conv2d_140 (Conv2D)          (None, 4, 4, 1)           577       \n",
      "_________________________________________________________________\n",
      "encoder (MaxPooling2D)       (None, 2, 2, 1)           0         \n",
      "_________________________________________________________________\n",
      "conv2d_141 (Conv2D)          (None, 2, 2, 1)           10        \n",
      "_________________________________________________________________\n",
      "up_sampling2d_57 (UpSampling (None, 6, 6, 1)           0         \n",
      "_________________________________________________________________\n",
      "conv2d_142 (Conv2D)          (None, 4, 4, 64)          640       \n",
      "_________________________________________________________________\n",
      "up_sampling2d_58 (UpSampling (None, 12, 12, 64)        0         \n",
      "_________________________________________________________________\n",
      "conv2d_143 (Conv2D)          (None, 10, 10, 64)        36928     \n",
      "_________________________________________________________________\n",
      "up_sampling2d_59 (UpSampling (None, 30, 30, 64)        0         \n",
      "_________________________________________________________________\n",
      "conv2d_144 (Conv2D)          (None, 28, 28, 1)         577       \n",
      "=================================================================\n",
      "Total params: 76,300\n",
      "Trainable params: 76,300\n",
      "Non-trainable params: 0\n",
      "_________________________________________________________________\n"
     ]
    }
   ],
   "source": [
    "ckpt_loc = os.path.join(CUR_DIR, \"ckpts\", \"fashionall-conv-ae.hdf5\")\n",
    "\n",
    "if False and os.path.isfile(ckpt_loc):\n",
    "    print(\"Loading Autoencoder for all fashions from directory %s...\" % ckpt_loc)\n",
    "    all_ae = load_model(ckpt_loc)\n",
    "    all_encoder, all_decoder = get_codec_from_aue(all_ae)\n",
    "else:\n",
    "    print(\"Training Autoencoder for all fashions...\")\n",
    "    all_ae, all_encoder, all_decoder = build_conv_aue()\n",
    "    earlyStopping = EarlyStopping(\n",
    "        monitor=\"val_loss\", patience=10, verbose=1, mode=\"min\", min_delta=0.0001\n",
    "    )\n",
    "    mcp_save = ModelCheckpoint(\n",
    "        ckpt_loc, save_best_only=True, verbose=1, monitor=\"val_loss\", mode=\"min\"\n",
    "    )\n",
    "    reduce_lr_loss = ReduceLROnPlateau(\n",
    "        monitor=\"val_loss\", factor=0.3, patience=3, verbose=1, mode=\"min\"\n",
    "    )\n",
    "    tb = TensorBoard(\n",
    "        log_dir=\"./logs/all-fashion\", histogram_freq=0, write_graph=True, write_images=True, update_freq=\"batch\"\n",
    "    )\n",
    "    all_ae.fit(\n",
    "        X_train,\n",
    "        X_train,\n",
    "        epochs=128,\n",
    "        batch_size=128,\n",
    "        shuffle=True,\n",
    "        validation_data=(X_validate, X_validate),\n",
    "        callbacks=[earlyStopping, mcp_save, reduce_lr_loss,tb],\n",
    "    )\n",
    "all_ae.summary()"
   ]
  },
  {
   "cell_type": "code",
   "execution_count": 155,
   "metadata": {
    "scrolled": true
   },
   "outputs": [
    {
     "name": "stdout",
     "output_type": "stream",
     "text": [
      "49000/49000 [==============================] - 3s 62us/step\n",
      "10500/10500 [==============================] - 1s 67us/step\n",
      "10500/10500 [==============================] - 1s 53us/step\n"
     ]
    },
    {
     "data": {
      "text/plain": [
       "(0.02219071474732185, 0.02202836342368807, 0.02218702606785865)"
      ]
     },
     "execution_count": 155,
     "metadata": {},
     "output_type": "execute_result"
    }
   ],
   "source": [
    "eval_train = all_ae.evaluate(X_train, X_train)\n",
    "eval_validate = all_ae.evaluate(X_validate, X_validate)\n",
    "eval_test = all_ae.evaluate(X_test, X_test)\n",
    "eval_train, eval_validate,eval_test"
   ]
  },
  {
   "cell_type": "code",
   "execution_count": 156,
   "metadata": {},
   "outputs": [
    {
     "data": {
      "image/png": "[encoded data removed]",
      "text/plain": [
       "<Figure size 1440x288 with 20 Axes>"
      ]
     },
     "metadata": {
      "needs_background": "light"
     },
     "output_type": "display_data"
    }
   ],
   "source": [
    "encoded_imgs_train = all_encoder.predict(X_train)\n",
    "encoded_imgs_validate = all_encoder.predict(X_validate)\n",
    "encoded_imgs_test = all_encoder.predict(X_test)\n",
    "\n",
    "decoded_imgs = all_decoder.predict(encoded_imgs_test)\n",
    "n = 10  # how many digits we will display\n",
    "plt.figure(figsize=(20, 4))\n",
    "for i in range(n):\n",
    "    # display original\n",
    "    ax = plt.subplot(2, n, i + 1)\n",
    "    plt.imshow(X_test[i].reshape(28, 28))\n",
    "    plt.gray()\n",
    "    ax.get_xaxis().set_visible(False)\n",
    "    ax.get_yaxis().set_visible(False)\n",
    "\n",
    "    # display reconstruction\n",
    "    ax = plt.subplot(2, n, i + 1 + n)\n",
    "    plt.imshow(decoded_imgs[i].reshape(28, 28))\n",
    "    plt.gray()\n",
    "    ax.get_xaxis().set_visible(False)\n",
    "    ax.get_yaxis().set_visible(False)\n",
    "plt.savefig(os.path.join(\"imgs\", \"all-fashion-conv-ae.png\"))"
   ]
  },
  {
   "cell_type": "markdown",
   "metadata": {},
   "source": [
    "**\"one\" auto encoder**\n",
    "\n",
    "Learning features of t shirts (label:0). Afterwards, the distribution of the features will be computed to detect outliers which have low probability."
   ]
  },
  {
   "cell_type": "code",
   "execution_count": 157,
   "metadata": {},
   "outputs": [
    {
     "data": {
      "text/plain": [
       "(4900, 1050, 1050)"
      ]
     },
     "execution_count": 157,
     "metadata": {},
     "output_type": "execute_result"
    }
   ],
   "source": [
    "X_t = fashion_data[0][0]\n",
    "y_t = fashion_data[0][1]\n",
    "\n",
    "(X_t_train, X_t_test, X_t_validate), (\n",
    "    y_t_train,\n",
    "    y_t_test,\n",
    "    y_t_validate,\n",
    ") = train_test_split(X_t, y_t)\n",
    "len(X_t_train), len(X_t_test), len(X_t_validate)"
   ]
  },
  {
   "cell_type": "code",
   "execution_count": null,
   "metadata": {
    "scrolled": false
   },
   "outputs": [],
   "source": [
    "ckpt_loc = os.path.join(CUR_DIR, \"ckpts\", \"%s-conv-ae.hdf5\" % fashion_verbose[0])\n",
    "\n",
    "if False and os.path.isfile(ckpt_loc):\n",
    "    print(\"Loading Autoencoder %s from directory %s...\" % (fashion_verbose[0], ckpt_loc))\n",
    "    t_ae = load_model(ckpt_loc)\n",
    "    t_encoder, t_decoder = get_codec_from_aue(t_ae)\n",
    "else:\n",
    "    print(\"Training Autoencoder for fashion %s...\" % fashion_verbose[0])\n",
    "    t_ae, t_encoder, t_decoder = build_conv_aue()\n",
    "    earlyStopping = EarlyStopping(\n",
    "        monitor=\"val_loss\", patience=10, verbose=1, mode=\"min\", min_delta=0.0001\n",
    "    )\n",
    "    mcp_save = ModelCheckpoint(\n",
    "        ckpt_loc, save_best_only=True, verbose=1, monitor=\"val_loss\", mode=\"min\"\n",
    "    )\n",
    "    reduce_lr_loss = ReduceLROnPlateau(\n",
    "        monitor=\"val_loss\", factor=0.3, patience=3, verbose=1, mode=\"min\"\n",
    "    )\n",
    "    tb = TensorBoard(\n",
    "        log_dir=\"./logs/t-shirt\", histogram_freq=0, write_graph=True, write_images=True, update_freq=\"batch\"\n",
    "    )\n",
    "    t_ae.fit(\n",
    "        X_t_train,\n",
    "        X_t_train,\n",
    "        epochs=128,\n",
    "        batch_size=128,\n",
    "        shuffle=True,\n",
    "        validation_data=(X_t_validate, X_t_validate),\n",
    "        callbacks=[earlyStopping, mcp_save, reduce_lr_loss, tb],\n",
    "    )\n",
    "t_ae.summary()"
   ]
  },
  {
   "cell_type": "code",
   "execution_count": 187,
   "metadata": {},
   "outputs": [
    {
     "name": "stdout",
     "output_type": "stream",
     "text": [
      "4900/4900 [==============================] - 0s 61us/step\n",
      "1050/1050 [==============================] - 0s 69us/step\n",
      "1050/1050 [==============================] - 0s 69us/step\n"
     ]
    },
    {
     "data": {
      "text/plain": [
       "(0.02072415967909049, 0.02015737344111715, 0.02057230099326088)"
      ]
     },
     "execution_count": 187,
     "metadata": {},
     "output_type": "execute_result"
    }
   ],
   "source": [
    "eval_t_train = t_ae.evaluate(X_t_train, X_t_train)\n",
    "eval_t_validate = t_ae.evaluate(X_t_validate, X_t_validate)\n",
    "eval_t_test = t_ae.evaluate(X_t_test, X_t_test)\n",
    "eval_t_train, eval_t_validate, eval_t_test"
   ]
  },
  {
   "cell_type": "code",
   "execution_count": 188,
   "metadata": {},
   "outputs": [],
   "source": [
    "encoded_t_imgs_train = t_encoder.predict(X_t_train)\n",
    "encoded_t_imgs_validate = t_encoder.predict(X_t_validate)\n",
    "encoded_t_imgs_test = t_encoder.predict(X_t_test)"
   ]
  },
  {
   "cell_type": "markdown",
   "metadata": {},
   "source": [
    "## Reconstructed \"t-shirts\" with auto encoder"
   ]
  },
  {
   "cell_type": "code",
   "execution_count": 189,
   "metadata": {},
   "outputs": [
    {
     "data": {
      "image/png": "[encoded data removed]",
      "text/plain": [
       "<Figure size 1440x288 with 20 Axes>"
      ]
     },
     "metadata": {
      "needs_background": "light"
     },
     "output_type": "display_data"
    }
   ],
   "source": [
    "decoded_t_imgs = t_decoder.predict(encoded_t_imgs_train)\n",
    "n = 10  # how many digits we will display\n",
    "plt.figure(figsize=(20, 4))\n",
    "for i in range(n):\n",
    "    # display original\n",
    "    ax = plt.subplot(2, n, i + 1)\n",
    "    plt.imshow(X_t_test[i].reshape(28, 28))\n",
    "    plt.gray()\n",
    "    ax.get_xaxis().set_visible(False)\n",
    "    ax.get_yaxis().set_visible(False)\n",
    "\n",
    "    # display reconstruction\n",
    "    ax = plt.subplot(2, n, i + 1 + n)\n",
    "    plt.imshow(decoded_t_imgs[i].reshape(28, 28))\n",
    "    plt.gray()\n",
    "    ax.get_xaxis().set_visible(False)\n",
    "    ax.get_yaxis().set_visible(False)\n",
    "plt.savefig(os.path.join(\"imgs\", \"t-conv-ae.png\"))"
   ]
  },
  {
   "cell_type": "markdown",
   "metadata": {},
   "source": [
    "## Reconstructed \"pullover\" (aka anomaly) with auto encoder"
   ]
  },
  {
   "cell_type": "code",
   "execution_count": 164,
   "metadata": {},
   "outputs": [
    {
     "data": {
      "image/png": "[encoded data removed]",
      "text/plain": [
       "<Figure size 1440x288 with 20 Axes>"
      ]
     },
     "metadata": {
      "needs_background": "light"
     },
     "output_type": "display_data"
    }
   ],
   "source": [
    "decoded_pullover_imgs = t_ae.predict(fashion_data[2][0])\n",
    "n = 10  # how many digits we will display\n",
    "plt.figure(figsize=(20, 4))\n",
    "for i in range(n):\n",
    "    # display original\n",
    "    ax = plt.subplot(2, n, i + 1)\n",
    "    plt.imshow(fashion_data[2][0][i].reshape(28, 28))\n",
    "    plt.gray()\n",
    "    ax.get_xaxis().set_visible(False)\n",
    "    ax.get_yaxis().set_visible(False)\n",
    "\n",
    "    # display reconstruction\n",
    "    ax = plt.subplot(2, n, i + 1 + n)\n",
    "    plt.imshow(decoded_pullover_imgs[i].reshape(28, 28))\n",
    "    plt.gray()\n",
    "    ax.get_xaxis().set_visible(False)\n",
    "    ax.get_yaxis().set_visible(False)\n",
    "plt.savefig(os.path.join(\"imgs\", \"pullover-conv-t-ae.png\"))"
   ]
  },
  {
   "cell_type": "markdown",
   "metadata": {},
   "source": [
    "## Anomaly detection with root of squared loss per pixel"
   ]
  },
  {
   "cell_type": "code",
   "execution_count": 165,
   "metadata": {},
   "outputs": [],
   "source": [
    "def loss_per_img(img,rec_img):\n",
    "    return np.sqrt(np.sum(np.power(rec_img - img,2)))"
   ]
  },
  {
   "cell_type": "code",
   "execution_count": 166,
   "metadata": {},
   "outputs": [
    {
     "data": {
      "text/plain": [
       "(8.457041092641319, 5.3988359157925325)"
      ]
     },
     "execution_count": 166,
     "metadata": {},
     "output_type": "execute_result"
    }
   ],
   "source": [
    "pullover = fashion_data[2][0][:len(fashion_data[2][0])//50]\n",
    "imgs = pullover.reshape(-1, 28, 28, 1)\n",
    "rec_imgs = t_ae.predict(imgs)\n",
    "pullover_losses = np.array([loss_per_img(i, ri) for i, ri in zip(imgs, rec_imgs)])\n",
    "\n",
    "imgs = all_fashions#.reshape(-1,28,28,1)\n",
    "rec_imgs = t_ae.predict(imgs)\n",
    "all_fashions_losses = np.array([loss_per_img(i,ri) for i,ri in zip(imgs,rec_imgs)])\n",
    "\n",
    "pullover_losses.max(), pullover_losses.mean()"
   ]
  },
  {
   "cell_type": "code",
   "execution_count": 167,
   "metadata": {},
   "outputs": [
    {
     "data": {
      "text/plain": [
       "(9.12198716422725, 3.877387050035183)"
      ]
     },
     "execution_count": 167,
     "metadata": {},
     "output_type": "execute_result"
    }
   ],
   "source": [
    "normal_losses = np.array([])\n",
    "imgs = X_t_test.reshape(len(X_t_test),28,28,1)\n",
    "rec_imgs = t_ae.predict(imgs)\n",
    "normal_losses = np.array([loss_per_img(i,ri) for i,ri in zip(imgs,rec_imgs)])\n",
    "\n",
    "normal_losses.max(), normal_losses.mean()"
   ]
  },
  {
   "cell_type": "code",
   "execution_count": 168,
   "metadata": {},
   "outputs": [
    {
     "data": {
      "image/png": "[encoded data removed]",
      "text/plain": [
       "<Figure size 432x288 with 1 Axes>"
      ]
     },
     "metadata": {
      "needs_background": "light"
     },
     "output_type": "display_data"
    }
   ],
   "source": [
    "# loss distribution over the normal dataset\n",
    "bins = 10\n",
    "t = np.linspace(0, normal_losses.max(), bins)\n",
    "hist_normal = np.histogram(normal_losses, bins=bins)\n",
    "plt.plot(t, hist_normal[0] / len(normal_losses), \"b\")\n",
    "\n",
    "# loss distribution over the anomaly dataset for fashion \"pullover\"\n",
    "hist_pullovers = np.histogram(pullover_losses, bins=bins)\n",
    "t = np.linspace(0, pullover_losses.max(), bins)\n",
    "plt.plot(t, hist_pullovers[0] / len(pullover_losses), \"r\")\n",
    "\n",
    "# loss distribution over the anomaly dataset for all fashions\n",
    "hist_all = np.histogram(all_fashions_losses, bins=bins)\n",
    "t = np.linspace(0, all_fashions_losses.max(), bins)\n",
    "plt.plot(t, hist_all[0] / len(all_fashions_losses), \"g\")\n",
    "plt.show()"
   ]
  },
  {
   "cell_type": "code",
   "execution_count": 169,
   "metadata": {},
   "outputs": [
    {
     "data": {
      "image/png": "[encoded data removed]",
      "text/plain": [
       "<Figure size 432x288 with 1 Axes>"
      ]
     },
     "metadata": {
      "needs_background": "light"
     },
     "output_type": "display_data"
    }
   ],
   "source": [
    "# loss distribution over the anomaly dataset\n",
    "bins = 10\n",
    "hist_anomaly = np.histogram(pullover_losses, bins=bins)\n",
    "t = np.linspace(0, pullover_losses.max(), bins)\n",
    "plt.plot(t, hist_anomaly[0], \"r\")\n",
    "plt.show()"
   ]
  },
  {
   "cell_type": "code",
   "execution_count": 177,
   "metadata": {},
   "outputs": [
    {
     "name": "stdout",
     "output_type": "stream",
     "text": [
      "threshold:0.500,dn:0.500000 + ua:0.042857 = 0.542857\n",
      "threshold:0.510,dn:0.490476 + ua:0.042857 = 0.533333\n",
      "threshold:0.520,dn:0.480000 + ua:0.057143 = 0.537143\n",
      "threshold:0.530,dn:0.470476 + ua:0.057143 = 0.527619\n",
      "threshold:0.540,dn:0.460000 + ua:0.057143 = 0.517143\n",
      "threshold:0.550,dn:0.450476 + ua:0.057143 = 0.507619\n",
      "threshold:0.560,dn:0.440000 + ua:0.057143 = 0.497143\n",
      "threshold:0.570,dn:0.430476 + ua:0.057143 = 0.487619\n",
      "threshold:0.580,dn:0.420000 + ua:0.057143 = 0.477143\n",
      "threshold:0.590,dn:0.410476 + ua:0.057143 = 0.467619\n",
      "threshold:0.600,dn:0.400000 + ua:0.071429 = 0.471429\n",
      "threshold:0.610,dn:0.390476 + ua:0.071429 = 0.461905\n",
      "threshold:0.620,dn:0.380000 + ua:0.071429 = 0.451429\n",
      "threshold:0.630,dn:0.370476 + ua:0.100000 = 0.470476\n",
      "threshold:0.640,dn:0.360000 + ua:0.100000 = 0.460000\n",
      "threshold:0.650,dn:0.350476 + ua:0.100000 = 0.450476\n",
      "threshold:0.660,dn:0.340000 + ua:0.114286 = 0.454286\n",
      "threshold:0.670,dn:0.330476 + ua:0.128571 = 0.459048\n",
      "threshold:0.680,dn:0.320000 + ua:0.142857 = 0.462857\n",
      "threshold:0.690,dn:0.310476 + ua:0.171429 = 0.481905\n",
      "threshold:0.700,dn:0.300000 + ua:0.171429 = 0.471429\n",
      "threshold:0.710,dn:0.290476 + ua:0.185714 = 0.476190\n",
      "threshold:0.720,dn:0.280000 + ua:0.200000 = 0.480000\n",
      "threshold:0.730,dn:0.270476 + ua:0.200000 = 0.470476\n",
      "threshold:0.740,dn:0.260000 + ua:0.200000 = 0.460000\n",
      "threshold:0.750,dn:0.250476 + ua:0.200000 = 0.450476\n",
      "threshold:0.760,dn:0.240000 + ua:0.200000 = 0.440000\n",
      "threshold:0.770,dn:0.230476 + ua:0.214286 = 0.444762\n",
      "threshold:0.780,dn:0.220000 + ua:0.228571 = 0.448571\n",
      "threshold:0.790,dn:0.210476 + ua:0.285714 = 0.496190\n",
      "threshold:0.800,dn:0.200000 + ua:0.314286 = 0.514286\n",
      "threshold:0.810,dn:0.190476 + ua:0.314286 = 0.504762\n",
      "threshold:0.820,dn:0.180000 + ua:0.328571 = 0.508571\n",
      "threshold:0.830,dn:0.170476 + ua:0.342857 = 0.513333\n",
      "threshold:0.840,dn:0.160000 + ua:0.342857 = 0.502857\n",
      "threshold:0.850,dn:0.150476 + ua:0.357143 = 0.507619\n",
      "threshold:0.860,dn:0.140000 + ua:0.371429 = 0.511429\n",
      "threshold:0.870,dn:0.130476 + ua:0.428571 = 0.559048\n",
      "threshold:0.880,dn:0.120000 + ua:0.428571 = 0.548571\n",
      "threshold:0.890,dn:0.110476 + ua:0.442857 = 0.553333\n",
      "threshold:0.900,dn:0.100000 + ua:0.514286 = 0.614286\n",
      "threshold:0.910,dn:0.090476 + ua:0.557143 = 0.647619\n",
      "threshold:0.920,dn:0.080000 + ua:0.571429 = 0.651429\n",
      "threshold:0.930,dn:0.070476 + ua:0.600000 = 0.670476\n",
      "threshold:0.940,dn:0.060000 + ua:0.614286 = 0.674286\n",
      "threshold:0.950,dn:0.050476 + ua:0.685714 = 0.736190\n",
      "threshold:0.960,dn:0.040000 + ua:0.771429 = 0.811429\n",
      "threshold:0.970,dn:0.030476 + ua:0.771429 = 0.801905\n",
      "threshold:0.980,dn:0.020000 + ua:0.857143 = 0.877143\n",
      "threshold:0.990,dn:0.010476 + ua:0.928571 = 0.939048\n"
     ]
    },
    {
     "data": {
      "image/png": "[encoded data removed]",
      "text/plain": [
       "<Figure size 432x288 with 1 Axes>"
      ]
     },
     "metadata": {
      "needs_background": "light"
     },
     "output_type": "display_data"
    },
    {
     "data": {
      "text/plain": [
       "0.7670000000000002"
      ]
     },
     "execution_count": 177,
     "metadata": {},
     "output_type": "execute_result"
    }
   ],
   "source": [
    "# x:= \"false detected anomalies in %\"\n",
    "# y:= \"correct detected normal data points in %\"\n",
    "FPs = FNs = []\n",
    "prec = 1000\n",
    "step_size = 1.0 / prec\n",
    "thresholds = np.arange(0.5, 1, step_size)\n",
    "\n",
    "for i in thresholds:  # i == 0.95 seems to be a valid value\n",
    "    loss_boundary = np.sort(normal_losses)[\n",
    "        int(len(normal_losses) * i)\n",
    "    ]  # loss value for detection of i% normal data points\n",
    "    ind_undetected_anomalies = np.where(\n",
    "        pullover_losses < loss_boundary\n",
    "    )  # indices for undetected anomalies in the data set\n",
    "    ind_detected_normals = np.where(\n",
    "        normal_losses >= loss_boundary\n",
    "    )  # indices for as anomaly detected normal data points in the data set\n",
    "    detected_normals = X_t_test[ind_detected_normals]\n",
    "    undetected_anomalies = fashion_data[2][0][ind_undetected_anomalies]\n",
    "\n",
    "    FP_rate = len(undetected_anomalies) / len(\n",
    "        pullover_losses\n",
    "    )  # ratio between not detected loss values for anomalies\n",
    "    FN_rate = len(detected_normals) / len(\n",
    "        normal_losses\n",
    "    )  # ratio between not detected loss values for anomalies\n",
    "\n",
    "    FPs = np.append(FPs, [FP_rate])  # not detected anomalies\n",
    "    FNs = np.append(FNs, [FN_rate])  # as anomalies detected normalities\n",
    "\n",
    "    if (int(i * prec)) % int(prec / 100) == 0:\n",
    "        print(\n",
    "            \"threshold:%.3f,dn:%f + ua:%f = %f\"\n",
    "            % (i, FN_rate, FP_rate, FN_rate + FP_rate)\n",
    "        )\n",
    "plt.plot(FPs, thresholds)\n",
    "plt.grid()\n",
    "plt.xlabel(\"FALSE POSITIVE RATE\")\n",
    "plt.ylabel(\"TRUE POSITIVE RATE\")\n",
    "plt.show()\n",
    "loss_threshold = thresholds[\n",
    "    np.argmin(FNs + FPs)\n",
    "]  # minimum value for FN_rate + FP_rate (least relative amount of falsely detected)\n",
    "loss_threshold"
   ]
  },
  {
   "cell_type": "code",
   "execution_count": 178,
   "metadata": {},
   "outputs": [
    {
     "data": {
      "text/plain": [
       "(1050, 70)"
      ]
     },
     "execution_count": 178,
     "metadata": {},
     "output_type": "execute_result"
    }
   ],
   "source": [
    "len(normal_losses), len(pullover_losses)"
   ]
  },
  {
   "cell_type": "code",
   "execution_count": 179,
   "metadata": {},
   "outputs": [
    {
     "data": {
      "text/plain": [
       "(4.444602430011335, 245, 14)"
      ]
     },
     "execution_count": 179,
     "metadata": {},
     "output_type": "execute_result"
    }
   ],
   "source": [
    "loss_boundary = np.sort(normal_losses)[int(len(normal_losses) * loss_threshold)]\n",
    "ind_undetected_anomalies = np.where(\n",
    "    pullover_losses < loss_boundary\n",
    ")  # indices for undetected anomalies in the data set\n",
    "ind_detected_normals = np.where(\n",
    "    normal_losses >= loss_boundary\n",
    ")  # indices for as anomaly detected normal data points in the data set\n",
    "\n",
    "detected_normals = X_t_test[ind_detected_normals]\n",
    "undetected_anomalies = fashion_data[2][0][ind_undetected_anomalies]\n",
    "loss_boundary, len(detected_normals), len(undetected_anomalies)"
   ]
  },
  {
   "cell_type": "code",
   "execution_count": 180,
   "metadata": {},
   "outputs": [
    {
     "data": {
      "image/png": "[encoded data removed]",
      "text/plain": [
       "<Figure size 2880x2304 with 14 Axes>"
      ]
     },
     "metadata": {
      "needs_background": "light"
     },
     "output_type": "display_data"
    }
   ],
   "source": [
    "# displays all pullovers which were not detected as such (\"anomalies\")\n",
    "n = len(undetected_anomalies)  # how many digits we will display\n",
    "plt.figure(figsize=(40, 32))\n",
    "for i in range(n):\n",
    "    ax = plt.subplot(n/3, n, i + 1)\n",
    "    plt.imshow(undetected_anomalies[i].reshape(28, 28))\n",
    "    plt.gray()\n",
    "    ax.get_xaxis().set_visible(False)\n",
    "    ax.get_yaxis().set_visible(False)\n",
    "    ax.get_yaxis().set_visible(False)\n",
    "plt.savefig(os.path.join(\"imgs\", \"undetected-pullover.png\"))"
   ]
  },
  {
   "cell_type": "code",
   "execution_count": 181,
   "metadata": {},
   "outputs": [
    {
     "data": {
      "image/png": "[encoded data removed]",
      "text/plain": [
       "<Figure size 2880x2304 with 20 Axes>"
      ]
     },
     "metadata": {
      "needs_background": "light"
     },
     "output_type": "display_data"
    }
   ],
   "source": [
    "# display t-shirts which have been detectes as normaility \n",
    "n = min(len(detected_normals),20)  # how many digits we will display\n",
    "plt.figure(figsize=(40, 32))\n",
    "for i in range(n):\n",
    "    ax = plt.subplot(n//5, n//4, i + 1)\n",
    "    plt.imshow(detected_normals[i].reshape(28, 28))\n",
    "    plt.gray()\n",
    "    ax.get_xaxis().set_visible(False)\n",
    "    ax.get_yaxis().set_visible(False)\n",
    "    ax.get_yaxis().set_visible(False)\n",
    "plt.savefig(os.path.join(\"imgs\", \"detected-t-shirts.png\"))"
   ]
  },
  {
   "cell_type": "code",
   "execution_count": 175,
   "metadata": {
    "scrolled": true
   },
   "outputs": [
    {
     "data": {
      "image/png": "[encoded data removed]",
      "text/plain": [
       "<Figure size 432x288 with 1 Axes>"
      ]
     },
     "metadata": {
      "needs_background": "light"
     },
     "output_type": "display_data"
    }
   ],
   "source": [
    "plt.imshow(X_t_test[np.argmax(normal_losses)].reshape((28,28)))\n",
    "plt.show()"
   ]
  },
  {
   "cell_type": "code",
   "execution_count": 176,
   "metadata": {},
   "outputs": [
    {
     "data": {
      "image/png": "[encoded data removed]",
      "text/plain": [
       "<Figure size 432x288 with 1 Axes>"
      ]
     },
     "metadata": {
      "needs_background": "light"
     },
     "output_type": "display_data"
    }
   ],
   "source": [
    "plt.imshow(fashion_data[2][0][np.argmin(pullover_losses)].reshape((28,28)))\n",
    "plt.show()"
   ]
  },
  {
   "cell_type": "markdown",
   "metadata": {},
   "source": [
    "# Anomaly Detector\n",
    "This anomaly detector should be able to seperate images of the handwritten digits $1$ and $7$."
   ]
  },
  {
   "cell_type": "code",
   "execution_count": null,
   "metadata": {
    "scrolled": true
   },
   "outputs": [],
   "source": [
    "def is_anomaly(ae, x):\n",
    "    x = x.reshape((1,28,28,1))\n",
    "    pred = ae.predict(x)\n",
    "    loss = np.sum(pred - x) **2 # squared loss => positive value"
   ]
  },
  {
   "cell_type": "markdown",
   "metadata": {},
   "source": [
    "## All digits classifier"
   ]
  },
  {
   "cell_type": "code",
   "execution_count": null,
   "metadata": {},
   "outputs": [],
   "source": [
    "flat = np.prod(encoded_imgs_train.shape[1:], dtype=np.int64)\n",
    "encoded_imgs_train = encoded_imgs_train.reshape(len(encoded_imgs_train), flat)\n",
    "encoded_imgs_validate = encoded_imgs_validate.reshape(\n",
    "    len(encoded_imgs_validate), flat)\n",
    "encoded_imgs_test = encoded_imgs_test.reshape(len(encoded_imgs_test), flat)"
   ]
  },
  {
   "cell_type": "code",
   "execution_count": null,
   "metadata": {},
   "outputs": [],
   "source": [
    "ckpt_loc = os.path.join(CUR_DIR, \"ckpts\", \"classifier.hdf5\")\n",
    "if os.path.isfile(ckpt_loc):\n",
    "    print(\"Loading classifier from directory %s...\" % ckpt_loc)\n",
    "    classifier = load_model(ckpt_loc)\n",
    "else:\n",
    "    print(\"Training classifier...\")\n",
    "    classifier = build_classifier(input_dim=flat)\n",
    "    earlyStopping = EarlyStopping(\n",
    "        monitor=\"val_acc\", patience=5, verbose=1, mode=\"max\", min_delta=0.0005\n",
    "    )\n",
    "    mcp_save = ModelCheckpoint(\n",
    "        ckpt_loc, save_best_only=True, verbose=1, monitor=\"val_acc\", mode=\"max\"\n",
    "    )\n",
    "    reduce_lr_loss = ReduceLROnPlateau(\n",
    "        monitor=\"val_acc\", factor=0.3, patience=3, verbose=1, mode=\"max\"\n",
    "    )\n",
    "    classifier.fit(\n",
    "        encoded_imgs_train,\n",
    "        y_train,\n",
    "        validation_data=(encoded_imgs_validate, y_validate),\n",
    "        batch_size=16,\n",
    "        epochs=32,\n",
    "        shuffle=True,\n",
    "        callbacks=[earlyStopping, mcp_save, reduce_lr_loss],\n",
    "    )"
   ]
  },
  {
   "cell_type": "code",
   "execution_count": null,
   "metadata": {},
   "outputs": [],
   "source": [
    "eval_train = classifier.evaluate(encoded_imgs_train, y_train)\n",
    "eval_validate = classifier.evaluate(encoded_imgs_validate, y_validate)\n",
    "eval_test = classifier.evaluate(encoded_imgs_test, y_test)\n",
    "eval_train,eval_validate, eval_test"
   ]
  },
  {
   "cell_type": "code",
   "execution_count": null,
   "metadata": {},
   "outputs": [],
   "source": [
    "def get_cm(input, y_true):\n",
    "    \"\"\"Computes confusion matrix.\"\"\"\n",
    "    y_pred = tf.argmax(classifier.predict(input), axis=1)\n",
    "    y_true = tf.argmax(y_true, axis=1)\n",
    "\n",
    "    c = tf.keras.backend.eval(y_pred)\n",
    "    d = tf.keras.backend.eval(y_true)\n",
    "\n",
    "    return confusion_matrix(c, d)"
   ]
  },
  {
   "cell_type": "code",
   "execution_count": null,
   "metadata": {},
   "outputs": [],
   "source": [
    "def precision(cm):\n",
    "    results = []\n",
    "    for i in range(len(cm)):  # rows\n",
    "        TP = cm[i][i]\n",
    "        fp_tp = np.sum(cm[i])\n",
    "        results.append(TP / fp_tp)\n",
    "    return results + [np.mean(results)]"
   ]
  },
  {
   "cell_type": "code",
   "execution_count": null,
   "metadata": {},
   "outputs": [],
   "source": [
    "def recall(cm):\n",
    "    results = []\n",
    "    for i in range(len(cm)):  # rows\n",
    "        TP = cm[i][i]\n",
    "        tp_fn = 0\n",
    "        for j in range(len(cm[i])):\n",
    "            tp_fn += cm[j][i]\n",
    "        results.append(TP/tp_fn)\n",
    "    return results + [np.mean(results)]"
   ]
  },
  {
   "cell_type": "code",
   "execution_count": null,
   "metadata": {},
   "outputs": [],
   "source": [
    "cm_train = get_cm(encoded_imgs_train, y_train)\n",
    "print(cm_train, precision(cm_train)[-1], recall(cm_train)[-1], sep=\"\\n\")\n",
    "\n",
    "cm_validate = get_cm(encoded_imgs_validate, y_validate)\n",
    "print(cm_validate, precision(cm_validate)[-1], recall(cm_validate)[-1], sep=\"\\n\")\n",
    "\n",
    "cm_test = get_cm(encoded_imgs_test, y_test)\n",
    "print(cm_test, precision(cm_test)[-1], recall(cm_test)[-1], sep=\"\\n\")"
   ]
  },
  {
   "cell_type": "markdown",
   "metadata": {},
   "source": [
    "# Anomaly Detection with DJ CF Gauss"
   ]
  },
  {
   "cell_type": "code",
   "execution_count": null,
   "metadata": {},
   "outputs": [],
   "source": [
    "one_flat = np.prod(encoded_one_imgs_train.shape[1:], dtype=np.int64)\n",
    "encoded_one_imgs_train = encoded_one_imgs_train.reshape(\n",
    "    len(encoded_one_imgs_train), one_flat\n",
    ")\n",
    "encoded_one_imgs_validate = encoded_one_imgs_validate.reshape(\n",
    "    len(encoded_one_imgs_validate), one_flat\n",
    ")\n",
    "encoded_one_imgs_test = encoded_one_imgs_test.reshape(\n",
    "    len(encoded_one_imgs_test), one_flat\n",
    ")"
   ]
  },
  {
   "cell_type": "code",
   "execution_count": null,
   "metadata": {},
   "outputs": [],
   "source": [
    "def gauss(x_i, my_i, sigma_i2):\n",
    "    # gaussian distribution for one feature\n",
    "    if sigma_i2 == 0:\n",
    "        return 1 if x_i == my_i else 0\n",
    "    return np.array(\n",
    "        (1 / np.sqrt(2 * np.pi * sigma_i2))\n",
    "        * np.exp(-(x_i - my_i) ** 2 / (2 * sigma_i2))\n",
    "    )"
   ]
  },
  {
   "cell_type": "code",
   "execution_count": null,
   "metadata": {},
   "outputs": [],
   "source": [
    "def my(X):\n",
    "    return np.array([(1 / len(x)) * np.sum(x) for x in X.T])"
   ]
  },
  {
   "cell_type": "code",
   "execution_count": null,
   "metadata": {},
   "outputs": [],
   "source": [
    "def sigma2(X, my):\n",
    "    # computes sigma squared for each feature\n",
    "    m = len(X)  # number of data points\n",
    "    return np.array([(1/m)*np.sum((X[:, i] - my[i]) ** 2) for i in range(len(my))])"
   ]
  },
  {
   "cell_type": "code",
   "execution_count": null,
   "metadata": {},
   "outputs": [],
   "source": [
    "def p(X,my,sigma2):\n",
    "    return np.array([np.prod([gauss(x[i], my[i], sigma2[i])\n",
    "               for i in range(len(x))]) for x in X])"
   ]
  },
  {
   "cell_type": "code",
   "execution_count": null,
   "metadata": {},
   "outputs": [],
   "source": [
    "X = encoded_one_imgs_train\n",
    "m = len(X)\n",
    "number_of_features = len(X[0])\n",
    "my = np.array([(1 / len(x)) * np.sum(x) for x in X.T])\n",
    "sigma_2 = np.array(\n",
    "    [np.sum((X[:, i] - my[i]) ** 2) / m for i in range(number_of_features)]\n",
    ")\n",
    "\n",
    "p_all = np.sort(p(X, my, sigma_2))\n",
    "epsilon = 1e-7\n",
    "thresholded_P = p_all[np.where(p_all > epsilon)]\n",
    "len(thresholded_P) / len(p_all), my, sigma_2"
   ]
  },
  {
   "cell_type": "markdown",
   "metadata": {},
   "source": [
    "## Distribution of Encoded Features"
   ]
  },
  {
   "cell_type": "code",
   "execution_count": null,
   "metadata": {},
   "outputs": [],
   "source": [
    "plt.figure(figsize=(20, 20))\n",
    "for i in range(len(my)):\n",
    "    # plots distribution of i-th feature\n",
    "    # display original\n",
    "    bins = 51\n",
    "    hist = np.histogram(X[:, i], bins=bins)\n",
    "    ax = plt.subplot(4, 6, i + 1)\n",
    "    h_min = min(hist[1])\n",
    "    h_max = max(hist[1])\n",
    "    delta = abs(h_max - h_min)\n",
    "    step = delta / (bins)\n",
    "    r = np.arange(h_min, h_max, step)\n",
    "    plt.plot(r, hist[0])\n",
    "    print(r, hist[0], step)"
   ]
  },
  {
   "cell_type": "code",
   "execution_count": null,
   "metadata": {},
   "outputs": [],
   "source": [
    "def convert_values_to_img(values):\n",
    "    values = np.reshape(values, (1, 2, 2, 6))\n",
    "    random_img = decoder.predict(values)\n",
    "    return np.reshape(random_img, (28, 28))"
   ]
  },
  {
   "cell_type": "code",
   "execution_count": null,
   "metadata": {},
   "outputs": [],
   "source": [
    "bins = 50\n",
    "hist_all = np.histogram(p_all, bins=bins)\n",
    "h_min = min(hist_all[1])\n",
    "h_max = max(hist_all[1])\n",
    "delta = abs(h_max - h_min)\n",
    "r = np.arange(h_min, h_max, delta / bins)\n",
    "plt.plot(r, hist_all[0])"
   ]
  },
  {
   "cell_type": "markdown",
   "metadata": {},
   "source": [
    "# Getting fashion-y"
   ]
  },
  {
   "cell_type": "code",
   "execution_count": null,
   "metadata": {},
   "outputs": [],
   "source": [
    "def get_fashion():\n",
    "    (X_train, y_train), (X_test, y_test) = fashion_mnist.load_data()\n",
    "    img = X_train[0].reshape((28, 28))\n",
    "    # reshape data to fit model\n",
    "    plt.imshow(X_train[1], cmap=\"Greys\", vmin=0, vmax=255)\n",
    "    plt.savefig(\"fashion_example_img.png\")\n",
    "\n",
    "    \"\"\"for Autoencoder\"\"\"\n",
    "    X_train = X_train.reshape((len(X_train), np.prod(X_train.shape[1:])))\n",
    "    X_test = X_test.reshape((len(X_test), np.prod(X_test.shape[1:])))\n",
    "    # np.random.shuffle(X_test)\n",
    "    X_validate = X_test[len(X_test) // 2 :]\n",
    "    X_test = X_test[: len(X_test) // 2]\n",
    "\n",
    "    return X_train / 255.0, X_test / 255.0, X_validate / 255.0"
   ]
  },
  {
   "cell_type": "code",
   "execution_count": null,
   "metadata": {},
   "outputs": [],
   "source": [
    "X_fashion_train, X_fashion_test, X_fashion_validate = get_fashion()\n",
    "print(X_fashion_test[:5])"
   ]
  },
  {
   "cell_type": "markdown",
   "metadata": {},
   "source": [
    "# Colored images"
   ]
  },
  {
   "cell_type": "code",
   "execution_count": null,
   "metadata": {},
   "outputs": [],
   "source": [
    "def unpickle(file):\n",
    "    import pickle\n",
    "\n",
    "    with open(file, \"rb\") as fo:\n",
    "        dic = pickle.load(fo, encoding=\"bytes\")\n",
    "    return dic"
   ]
  },
  {
   "cell_type": "code",
   "execution_count": null,
   "metadata": {},
   "outputs": [],
   "source": [
    "data_path = os.path.join(CUR_DIR, \"data\", \"cifar-10-batches-py\")\n",
    "train_batches = []\n",
    "test_batch = []\n",
    "for filename in os.listdir(data_path):\n",
    "    filename = os.path.join(data_path, filename)\n",
    "    if \"data_batch\" in filename:\n",
    "        train_batches.append(unpickle(filename))  # keys: labels, data, filenames\n",
    "    if \"test_batch\" in filename:\n",
    "        test_batch = unpickle(filename)\n",
    "len(train_batches), test_batch"
   ]
  },
  {
   "cell_type": "code",
   "execution_count": null,
   "metadata": {
    "scrolled": false
   },
   "outputs": [],
   "source": [
    "data_path = os.path.join(CUR_DIR, \"data\", \"cifar-100-python\")\n",
    "train_batches = []\n",
    "test_batch = []\n",
    "for filename in os.listdir(data_path):\n",
    "    filename = os.path.join(data_path, filename)\n",
    "    if \"train\" in filename:\n",
    "        train_batches = unpickle(filename)  # keys: labels, data, filenames\n",
    "    if \"test\" in filename:\n",
    "        test_batch = unpickle(filename)\n",
    "len(train_batches), test_batch"
   ]
  },
  {
   "cell_type": "code",
   "execution_count": null,
   "metadata": {},
   "outputs": [],
   "source": []
  }
 ],
 "metadata": {
  "kernelspec": {
   "display_name": "Python 3",
   "language": "python",
   "name": "python3"
  },
  "language_info": {
   "codemirror_mode": {
    "name": "ipython",
    "version": 3
   },
   "file_extension": ".py",
   "mimetype": "text/x-python",
   "name": "python",
   "nbconvert_exporter": "python",
   "pygments_lexer": "ipython3",
   "version": "3.7.3"
  }
 },
 "nbformat": 4,
 "nbformat_minor": 2
}
