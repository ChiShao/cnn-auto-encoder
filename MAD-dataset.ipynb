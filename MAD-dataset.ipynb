{
 "cells": [
  {
   "cell_type": "code",
   "execution_count": null,
   "metadata": {},
   "outputs": [],
   "source": [
    "%load_ext blackcellmagic"
   ]
  },
  {
   "cell_type": "code",
   "execution_count": null,
   "metadata": {},
   "outputs": [],
   "source": [
    "import numpy as np\n",
    "import os\n",
    "import cv2\n",
    "import matplotlib.pyplot as plt\n",
    "import time\n",
    "from itertools import chain"
   ]
  },
  {
   "cell_type": "code",
   "execution_count": null,
   "metadata": {},
   "outputs": [],
   "source": [
    "data_path = \"data/mvtec_anomaly_detection\"\n",
    "classes = list(filter(lambda d:os.path.isdir(os.path.join(data_path,d)),  os.listdir(data_path)))\n",
    "classes"
   ]
  },
  {
   "cell_type": "code",
   "execution_count": null,
   "metadata": {},
   "outputs": [],
   "source": [
    "object_categories = [\"bottle\",\"cable\",\"capsule\",\"metal_nut\",\"pill\",\"screw\",\"tile\",\"toothbrush\",\"transistor\",\"zipper\"]"
   ]
  },
  {
   "cell_type": "code",
   "execution_count": null,
   "metadata": {},
   "outputs": [],
   "source": [
    "def read_images_and_yield(dir_path):\n",
    "    \"\"\"Reads images per category for given directory path.\n",
    "    Returns images as a generator object in intervall[0,1] rgb-format\"\"\"\n",
    "    # data = np.empty(shape=(0,1,1,3),dtype=np.int8)\n",
    "    cur_shape= None\n",
    "    for f in os.listdir(dir_path):\n",
    "        file_path =os.path.join(dir_path,f)\n",
    "        if os.path.isfile(file_path):\n",
    "            img = cv2.imread(file_path)   # reads an image in the BGR format\n",
    "            img = cv2.cvtColor(img, cv2.COLOR_BGR2RGB)   # BGR -> RGB\n",
    "            if not cur_shape:\n",
    "                cur_shape = img.shape \n",
    "            yield img / 255"
   ]
  },
  {
   "cell_type": "code",
   "execution_count": null,
   "metadata": {},
   "outputs": [],
   "source": [
    "def np_to_img(x):\n",
    "    plt.imshow(x)\n",
    "    plt.show()"
   ]
  },
  {
   "cell_type": "code",
   "execution_count": null,
   "metadata": {
    "scrolled": true
   },
   "outputs": [],
   "source": [
    "normal_train_data = {}\n",
    "normal_test_data = {}\n",
    "anomaly_test_data = {}\n",
    "for cat in object_categories:\n",
    "    normal_path = os.path.join(data_path, cat, \"train\", \"good\")\n",
    "    normal_train_data[cat] = read_images_and_yield(normal_path)\n",
    "    \n",
    "    test_path = os.path.join(data_path,cat,\"test\")\n",
    "    normal_test_data[cat] = read_images_and_yield(os.path.join(test_path,\"good\"))\n",
    "    anomaly_test_data[cat] = None\n",
    "    for p in os.listdir(test_path):\n",
    "        if p != \"good\":#    \n",
    "            gen = read_images_and_yield(os.path.join(test_path,p))\n",
    "            anomaly_test_data[cat] = chain(anomaly_test_data[cat],gen) if anomaly_test_data[cat] != None else gen\n",
    "normal_train_data,normal_test_data, anomaly_test_data"
   ]
  },
  {
   "cell_type": "code",
   "execution_count": null,
   "metadata": {},
   "outputs": [],
   "source": [
    "# \"materializing\" the generator\n",
    "start = time.perf_counter()\n",
    "for a in anomaly_test_data[\"cable\"]:\n",
    "    np_to_img(a)\n",
    "print(time.perf_counter() -start)\n",
    "len(list(anomaly_test_data[\"cable\"]))\n"
   ]
  }
 ],
 "metadata": {
  "kernelspec": {
   "display_name": "Python 3",
   "language": "python",
   "name": "python3"
  },
  "language_info": {
   "codemirror_mode": {
    "name": "ipython",
    "version": 3
   },
   "file_extension": ".py",
   "mimetype": "text/x-python",
   "name": "python",
   "nbconvert_exporter": "python",
   "pygments_lexer": "ipython3",
   "version": "3.7.3"
  }
 },
 "nbformat": 4,
 "nbformat_minor": 2
}
