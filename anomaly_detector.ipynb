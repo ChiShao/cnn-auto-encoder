{
 "cells": [
  {
   "cell_type": "code",
   "execution_count": 1,
   "metadata": {
    "scrolled": true
   },
   "outputs": [],
   "source": [
    "%load_ext blackcellmagic"
   ]
  },
  {
   "cell_type": "code",
   "execution_count": 2,
   "metadata": {
    "scrolled": true
   },
   "outputs": [
    {
     "name": "stderr",
     "output_type": "stream",
     "text": [
      "Using TensorFlow backend.\n"
     ]
    }
   ],
   "source": [
    "import os\n",
    "\n",
    "import matplotlib.pyplot as plt\n",
    "import numpy as np\n",
    "import tensorflow as tf\n",
    "from keras.callbacks import (\n",
    "    EarlyStopping,\n",
    "    ModelCheckpoint,\n",
    "    ReduceLROnPlateau,\n",
    "    TensorBoard,\n",
    ")\n",
    "from keras.datasets import mnist, fashion_mnist, cifar10, cifar100\n",
    "from keras.layers import (\n",
    "    Conv2D,\n",
    "    Dense,\n",
    "    Flatten,\n",
    "    Input,\n",
    "    MaxPooling2D,\n",
    "    Reshape,\n",
    "    UpSampling2D,\n",
    ")\n",
    "from keras.models import Model, Sequential, load_model\n",
    "from keras.utils import to_categorical\n",
    "\n",
    "from sklearn.metrics import confusion_matrix"
   ]
  },
  {
   "cell_type": "code",
   "execution_count": 3,
   "metadata": {
    "scrolled": true
   },
   "outputs": [],
   "source": [
    "np.random.seed(42)"
   ]
  },
  {
   "cell_type": "markdown",
   "metadata": {},
   "source": [
    "# Preparing the data"
   ]
  },
  {
   "cell_type": "code",
   "execution_count": 161,
   "metadata": {
    "scrolled": true
   },
   "outputs": [],
   "source": [
    "def train_test_split(X, y, train_split=0.7, test_split=0.85):\n",
    "    \"\"\"Splits data in training and test data according to the defined boundaries.\"\"\"\n",
    "    indices = np.arange(X.shape[0])\n",
    "    np.random.shuffle(indices)\n",
    "    X = X[indices]\n",
    "    y = y[indices]\n",
    "\n",
    "    # define boundaries for train,validation and test set at .7 and .85 % of the MNIST data set\n",
    "    x_len = len(X)\n",
    "    boundaries = [int(x_len * train_split), int(x_len * test_split)]\n",
    "\n",
    "    [X_train, X_test, X_validate] = np.split(X, boundaries)\n",
    "\n",
    "    [y_train, y_test, y_validate] = np.split(y, boundaries)\n",
    "    return (X_train, X_test, X_validate), (y_train, y_test, y_validate)"
   ]
  },
  {
   "cell_type": "code",
   "execution_count": 162,
   "metadata": {
    "scrolled": true
   },
   "outputs": [],
   "source": [
    "def merge_data(dataset, train_split=0.7, test_split=0.85):\n",
    "    \"\"\"merges training and test data set \n",
    "    :param dataset is assumed to be loaded from keras.datasets, thus the from 2-tuple(2-tuple) is assumed.\n",
    "    :return value y is in one hot encoding\n",
    "    \"\"\"\n",
    "    if not (len(dataset) == 2 and all([len(d) == 2 for d in dataset])):\n",
    "        raise ValueError(\n",
    "            \"Datset has not the correct form. Please load from keras.datasets or convert to similar form.\"\n",
    "        )\n",
    "\n",
    "    (X_train, y_train), (X_test, y_test) = dataset\n",
    "\n",
    "    # divide X values bei 255.0 since MNIST data set changed such that pixel values are in [0,255]\n",
    "    X = np.concatenate((X_train, X_test)) \n",
    "    y = np.concatenate((y_train, y_test))\n",
    "    if len(X.shape) == 3: # MNIST data set\n",
    "        X = X.reshape((list(X.shape) + [1]))\n",
    "        \n",
    "    \n",
    "    # one-hot encode target columns\n",
    "    y = to_categorical(y)\n",
    "\n",
    "    return X,y"
   ]
  },
  {
   "cell_type": "code",
   "execution_count": 163,
   "metadata": {
    "scrolled": true
   },
   "outputs": [],
   "source": [
    "# CIFAR_10 = cifar10.load_data()\n",
    "# CIFAR_100 = cifar100.load_data()\n",
    "MNIST = mnist.load_data()\n",
    "# FASHION_MNIST = fashion_mnist.load_data()"
   ]
  },
  {
   "cell_type": "code",
   "execution_count": 164,
   "metadata": {
    "scrolled": true
   },
   "outputs": [],
   "source": [
    "NORMAL = 1\n",
    "ANOMALY = 7"
   ]
  },
  {
   "cell_type": "code",
   "execution_count": 165,
   "metadata": {
    "scrolled": true
   },
   "outputs": [],
   "source": [
    "X,y = merge_data(MNIST)\n",
    "X = X / 255.0"
   ]
  },
  {
   "cell_type": "code",
   "execution_count": 166,
   "metadata": {
    "scrolled": true
   },
   "outputs": [],
   "source": [
    "def get_indices(filter):\n",
    "    return np.where(np.argmax(y,axis=1)==filter)"
   ]
  },
  {
   "cell_type": "code",
   "execution_count": 167,
   "metadata": {
    "scrolled": true
   },
   "outputs": [
    {
     "data": {
      "text/plain": [
       "((7877, 28, 28, 1), (7877, 10))"
      ]
     },
     "execution_count": 167,
     "metadata": {},
     "output_type": "execute_result"
    }
   ],
   "source": [
    "normal_indices = get_indices(NORMAL)\n",
    "X_normal, y_normal = X[normal_indices],y[normal_indices]\n",
    "X_normal.shape,y_normal.shape"
   ]
  },
  {
   "cell_type": "code",
   "execution_count": 168,
   "metadata": {
    "scrolled": true
   },
   "outputs": [
    {
     "data": {
      "text/plain": [
       "((7293, 28, 28, 1), (7293, 10))"
      ]
     },
     "execution_count": 168,
     "metadata": {},
     "output_type": "execute_result"
    }
   ],
   "source": [
    "anomaly_indices = get_indices(ANOMALY)\n",
    "X_anomaly, y_anomaly = X[anomaly_indices],y[anomaly_indices]\n",
    "X_anomaly.shape,y_anomaly.shape"
   ]
  },
  {
   "cell_type": "code",
   "execution_count": 169,
   "metadata": {
    "scrolled": true
   },
   "outputs": [],
   "source": [
    "(X_normal_train, X_normal_test, X_normal_validate), (\n",
    "    y_normal_train,\n",
    "    y_normal_test,\n",
    "    y_normal_validate,\n",
    ") = train_test_split(X_normal, y_normal)\n",
    "(X_anomaly_train, X_anomaly_test, X_anomaly_validate), (\n",
    "    y_anomaly_train,\n",
    "    y_anomaly_test,\n",
    "    y_anomaly_validate,\n",
    ") = train_test_split(X_anomaly, y_anomaly)"
   ]
  },
  {
   "cell_type": "code",
   "execution_count": 170,
   "metadata": {
    "scrolled": true
   },
   "outputs": [],
   "source": [
    "def plot_mnist(data):\n",
    "    plt.imshow(data.reshape((28,28)))\n",
    "    plt.gray()"
   ]
  },
  {
   "cell_type": "code",
   "execution_count": 171,
   "metadata": {
    "scrolled": true
   },
   "outputs": [],
   "source": [
    "def hide_axis(subplt, x=True, y=True):\n",
    "    if x:\n",
    "        subplt.get_xaxis().set_visible(False)\n",
    "    if y:\n",
    "        subplt.get_yaxis().set_visible(False)"
   ]
  },
  {
   "cell_type": "code",
   "execution_count": 172,
   "metadata": {
    "scrolled": true
   },
   "outputs": [],
   "source": [
    "def plot_samples(row_one, row_two, f_plot, outfile=\"\"):\n",
    "    \"\"\"Plot 8 sample images of the row_one and row_two\"\"\"\n",
    "    plt.figure(figsize=(16, 4))\n",
    "    # row_one\n",
    "    n = 8\n",
    "    for i in range(n):\n",
    "        ax = plt.subplot(2, 8, i+1)\n",
    "        hide_axis(ax)\n",
    "        f_plot(row_one[i]) # row_one\n",
    "        ax = plt.subplot(2, 8, 8+i+1)\n",
    "        f_plot(row_two[i]) # row_two\n",
    "        hide_axis(ax)\n",
    "    if outfile!=\"\":\n",
    "        plt.savefig(outfile)"
   ]
  },
  {
   "cell_type": "code",
   "execution_count": 173,
   "metadata": {
    "scrolled": true
   },
   "outputs": [
    {
     "data": {
      "image/png": "[encoded data removed]",
      "text/plain": [
       "<Figure size 1152x288 with 16 Axes>"
      ]
     },
     "metadata": {
      "needs_background": "light"
     },
     "output_type": "display_data"
    }
   ],
   "source": [
    "plot_samples(X_normal_train, X_anomaly_train, plot_mnist,\"imgs/ones-and-sevens.png\")"
   ]
  },
  {
   "cell_type": "markdown",
   "metadata": {},
   "source": [
    "# Extracting features with an auto encoder (ae)"
   ]
  },
  {
   "cell_type": "code",
   "execution_count": 174,
   "metadata": {
    "scrolled": true
   },
   "outputs": [],
   "source": [
    "def get_codec_from_ae(autoencoder):\n",
    "    encoder_layer = autoencoder.get_layer(\"encoder\")\n",
    "    # this model maps an input to its encoded representation; Big image to small rep\n",
    "    encoder = Model(\n",
    "        inputs=autoencoder.input, outputs=encoder_layer.output)\n",
    "\n",
    "    # create a placeholder for an encoded (ENCODING_DIM-dimensional) input\n",
    "    encoded_input = Input(shape=encoder_layer.output_shape[1:])\n",
    "\n",
    "    # getting the middle of the autoencoder\n",
    "    start = (len(autoencoder.layers))//2\n",
    "    decoder = autoencoder.layers[-start](encoded_input)\n",
    "    # stacking the decoder layers\n",
    "    for i in range(start-1, 0, -1):\n",
    "        decoder = autoencoder.layers[-i](decoder)\n",
    "\n",
    "    # create the decoder model; \"<\": encoded(small) representation to big image\n",
    "    decoder = Model(encoded_input, decoder)\n",
    "    return encoder, decoder"
   ]
  },
  {
   "cell_type": "code",
   "execution_count": 175,
   "metadata": {
    "scrolled": true
   },
   "outputs": [],
   "source": [
    "def build_conv_ae(\n",
    "    filters, input_shape=(28, 28, 1), kernel=(3, 3), pool_size=(2, 2), color=\"gray\"\n",
    "):\n",
    "    # STRETCH GOAL: variable number of layers and pool_size\n",
    "    pool_size = (2, 2)\n",
    "    kernel = (3, 3)\n",
    "    if len(filters) != 4:\n",
    "        raise ValueError(\"Four Filters must be given. Sorry.\")\n",
    "    # this is our input placeholder\n",
    "    input_img = Input(shape=input_shape)\n",
    "    # layer between input and middle layer\n",
    "    i = 0\n",
    "    encode = Conv2D(filters[i], kernel, activation=\"relu\", padding=\"same\")(input_img)\n",
    "    encode = MaxPooling2D(pool_size, padding=\"same\")(encode)\n",
    "    i += 1\n",
    "    encode = Conv2D(filters[i], kernel, activation=\"relu\", padding=\"same\")(encode)\n",
    "    encode = MaxPooling2D(pool_size, padding=\"same\")(encode)\n",
    "    i += 1\n",
    "    encode = Conv2D(filters[i], kernel, activation=\"relu\", padding=\"same\")(encode)\n",
    "    encode = MaxPooling2D(pool_size, padding=\"same\")(encode)\n",
    "    i += 1\n",
    "    encode = Conv2D(filters[i], kernel, activation=\"relu\", padding=\"same\")(encode)\n",
    "\n",
    "    # \"encoded\" is the encoded representation of the input, middle layer of the aue\n",
    "    encoded = MaxPooling2D(pool_size, padding=\"same\", name=\"encoder\")(encode)\n",
    "\n",
    "    # layer between middle and output layer\n",
    "    decode = Conv2D(filters[i], kernel, activation=\"relu\", padding=\"same\")(encoded)\n",
    "    decode = UpSampling2D(pool_size)(decode)\n",
    "    i -= 1\n",
    "    decode = Conv2D(filters[i], kernel, activation=\"relu\", padding=\"same\")(decode)\n",
    "    decode = UpSampling2D(pool_size)(decode)\n",
    "    i -= 1\n",
    "    decode = Conv2D(filters[i], kernel, activation=\"relu\", padding=\"same\")(decode)\n",
    "    decode = UpSampling2D(pool_size)(decode)\n",
    "    i -= 1\n",
    "    decode = Conv2D(filters[i], kernel, activation=\"relu\")(decode)\n",
    "    decode = UpSampling2D(pool_size)(decode)\n",
    "    decoded = Conv2D(\n",
    "        1 if color == \"gray\" else 3, kernel, activation=\"sigmoid\", padding=\"same\"\n",
    "    )(decode)\n",
    "\n",
    "    # this model maps an input to its reconstruction\n",
    "    autoencoder = Model(inputs=input_img, outputs=decoded)\n",
    "\n",
    "    encoder, decoder = get_codec_from_ae(autoencoder)\n",
    "\n",
    "    # build (aka \"compile\") the model\n",
    "    autoencoder.compile(optimizer=\"adadelta\", loss=\"binary_crossentropy\")\n",
    "    return autoencoder, encoder, decoder"
   ]
  },
  {
   "cell_type": "markdown",
   "metadata": {},
   "source": [
    "## Training the feature extractor"
   ]
  },
  {
   "cell_type": "code",
   "execution_count": 176,
   "metadata": {
    "scrolled": false
   },
   "outputs": [
    {
     "name": "stdout",
     "output_type": "stream",
     "text": [
      "Loading Autoencoder for feature extraction from directory .\\ckpts\\feature-extractor-ae.hdf5...\n",
      "_________________________________________________________________\n",
      "Layer (type)                 Output Shape              Param #   \n",
      "=================================================================\n",
      "input_100 (InputLayer)       (None, 28, 28, 1)         0         \n",
      "_________________________________________________________________\n",
      "conv2d_485 (Conv2D)          (None, 28, 28, 32)        320       \n",
      "_________________________________________________________________\n",
      "max_pooling2d_152 (MaxPoolin (None, 14, 14, 32)        0         \n",
      "_________________________________________________________________\n",
      "conv2d_486 (Conv2D)          (None, 14, 14, 32)        9248      \n",
      "_________________________________________________________________\n",
      "max_pooling2d_153 (MaxPoolin (None, 7, 7, 32)          0         \n",
      "_________________________________________________________________\n",
      "conv2d_487 (Conv2D)          (None, 7, 7, 16)          4624      \n",
      "_________________________________________________________________\n",
      "max_pooling2d_154 (MaxPoolin (None, 4, 4, 16)          0         \n",
      "_________________________________________________________________\n",
      "conv2d_488 (Conv2D)          (None, 4, 4, 2)           290       \n",
      "_________________________________________________________________\n",
      "encoder (MaxPooling2D)       (None, 2, 2, 2)           0         \n",
      "_________________________________________________________________\n",
      "conv2d_489 (Conv2D)          (None, 2, 2, 2)           38        \n",
      "_________________________________________________________________\n",
      "up_sampling2d_212 (UpSamplin (None, 4, 4, 2)           0         \n",
      "_________________________________________________________________\n",
      "conv2d_490 (Conv2D)          (None, 4, 4, 16)          304       \n",
      "_________________________________________________________________\n",
      "up_sampling2d_213 (UpSamplin (None, 8, 8, 16)          0         \n",
      "_________________________________________________________________\n",
      "conv2d_491 (Conv2D)          (None, 8, 8, 32)          4640      \n",
      "_________________________________________________________________\n",
      "up_sampling2d_214 (UpSamplin (None, 16, 16, 32)        0         \n",
      "_________________________________________________________________\n",
      "conv2d_492 (Conv2D)          (None, 14, 14, 32)        9248      \n",
      "_________________________________________________________________\n",
      "up_sampling2d_215 (UpSamplin (None, 28, 28, 32)        0         \n",
      "_________________________________________________________________\n",
      "conv2d_493 (Conv2D)          (None, 28, 28, 1)         289       \n",
      "=================================================================\n",
      "Total params: 29,001\n",
      "Trainable params: 29,001\n",
      "Non-trainable params: 0\n",
      "_________________________________________________________________\n"
     ]
    }
   ],
   "source": [
    "ckpt_loc = os.path.join(os.curdir, \"ckpts\", \"feature-extractor-ae.hdf5\")\n",
    "\n",
    "if os.path.isfile(ckpt_loc):\n",
    "    print(\"Loading Autoencoder for feature extraction from directory %s...\" % ckpt_loc)\n",
    "    ae = load_model(ckpt_loc)\n",
    "    encoder, decoder = get_codec_from_ae(ae)\n",
    "    ae.summary()    \n",
    "else:\n",
    "    print(\"Training Autoencoder for feature extraction...\")\n",
    "    ae, encoder, decoder = build_conv_ae(filters=[32,32,16,3])\n",
    "    earlyStopping = EarlyStopping(\n",
    "        monitor=\"val_loss\", patience=10, verbose=1, mode=\"min\", min_delta=0.0005\n",
    "    )\n",
    "    mcp_save = ModelCheckpoint(\n",
    "        ckpt_loc, save_best_only=True, verbose=1, monitor=\"val_loss\", mode=\"min\"\n",
    "    )\n",
    "    reduce_lr_loss = ReduceLROnPlateau(\n",
    "        monitor=\"val_loss\", factor=0.3, patience=3, verbose=1, mode=\"min\"\n",
    "    )\n",
    "    ae.summary()    \n",
    "    ae.fit(\n",
    "        X_normal_train,\n",
    "        X_normal_train,\n",
    "        epochs=128,\n",
    "        batch_size=128,\n",
    "        shuffle=True,\n",
    "        validation_data=(X_normal_validate, X_normal_validate),\n",
    "        callbacks=[earlyStopping, mcp_save, reduce_lr_loss],\n",
    "    )"
   ]
  },
  {
   "cell_type": "markdown",
   "metadata": {},
   "source": [
    "TODO fix parametrised ae building"
   ]
  },
  {
   "cell_type": "markdown",
   "metadata": {},
   "source": [
    "## Evaluating the feature extractor"
   ]
  },
  {
   "cell_type": "code",
   "execution_count": 177,
   "metadata": {
    "scrolled": true
   },
   "outputs": [],
   "source": [
    "def evaluate_ae(ae, X_train, X_validate, X_test):\n",
    "    eval_train = ae.evaluate(X_train, X_train)\n",
    "    eval_validate = ae.evaluate(X_validate, X_validate)\n",
    "    eval_test = ae.evaluate(X_test, X_test)\n",
    "    return eval_train, eval_validate, eval_test"
   ]
  },
  {
   "cell_type": "code",
   "execution_count": 178,
   "metadata": {},
   "outputs": [
    {
     "name": "stdout",
     "output_type": "stream",
     "text": [
      "5513/5513 [==============================] - 5s 995us/step\n",
      "1182/1182 [==============================] - 1s 741us/step\n",
      "1182/1182 [==============================] - 1s 759us/step\n",
      "0.06287592171449616 0.0637703076912667\n"
     ]
    }
   ],
   "source": [
    "eval_train, eval_validate, eval_test = evaluate_ae(\n",
    "    ae, X_normal_train, X_normal_validate, X_normal_test\n",
    ")\n",
    "print(eval_train, eval_test)"
   ]
  },
  {
   "cell_type": "code",
   "execution_count": 227,
   "metadata": {},
   "outputs": [
    {
     "data": {
      "image/png": "[encoded data removed]",
      "text/plain": [
       "<Figure size 1152x288 with 16 Axes>"
      ]
     },
     "metadata": {
      "needs_background": "light"
     },
     "output_type": "display_data"
    }
   ],
   "source": [
    "encoded_normal_imgs_train = encoder.predict(X_normal_train)  # used later for One Class Classification\n",
    "encoded_normal_imgs_test = encoder.predict(X_normal_test) \n",
    "decoded_normal_imgs = decoder.predict(encoded_normal_imgs_test)\n",
    "plot_samples(X_normal_test, decoded_normal_imgs, plot_mnist,\"imgs/rec-ones.png\")"
   ]
  },
  {
   "cell_type": "code",
   "execution_count": 213,
   "metadata": {},
   "outputs": [
    {
     "data": {
      "image/png": "[encoded data removed]",
      "text/plain": [
       "<Figure size 1152x288 with 16 Axes>"
      ]
     },
     "metadata": {
      "needs_background": "light"
     },
     "output_type": "display_data"
    }
   ],
   "source": [
    "encoded_anomaly_imgs = encoder.predict(X_anomaly_test) # used later for One Class Classification\n",
    "decoded_anomaly_imgs = decoder.predict(encoded_anomaly_imgs)\n",
    "plot_samples(X_anomaly_test, decoded_anomaly_imgs, plot_mnist,\"imgs/rec-sevens.png\")"
   ]
  },
  {
   "cell_type": "markdown",
   "metadata": {},
   "source": [
    "# Anomaly detection\n",
    "## Loss based\n",
    "### Computing the reconstruction loss for anomalies and normalities"
   ]
  },
  {
   "cell_type": "code",
   "execution_count": 181,
   "metadata": {},
   "outputs": [],
   "source": [
    "def loss_per_img(img,rec_img):\n",
    "    return np.sum(np.power(rec_img - img,2))"
   ]
  },
  {
   "cell_type": "code",
   "execution_count": 182,
   "metadata": {},
   "outputs": [
    {
     "data": {
      "text/plain": [
       "(7.003179657658316, 75.31125993441096)"
      ]
     },
     "execution_count": 182,
     "metadata": {},
     "output_type": "execute_result"
    }
   ],
   "source": [
    "normal_losses = np.array([loss_per_img(i,ri) for i,ri in zip(X_normal_test,decoded_normal_imgs)])\n",
    "anomaly_losses = np.array([loss_per_img(i, ri) for i, ri in zip(X_anomaly_test, decoded_anomaly_imgs)])\n",
    "\n",
    "normal_losses.mean(), anomaly_losses.mean()"
   ]
  },
  {
   "cell_type": "code",
   "execution_count": 183,
   "metadata": {},
   "outputs": [],
   "source": [
    "def plot_hist(values, bins=50, relative=False, color=\"r\"):\n",
    "    t = np.linspace(values.min(), values.max(), bins)\n",
    "    denominator = len(values) if relative else 1\n",
    "    hist = np.histogram(values, bins)\n",
    "    plt.plot(t, hist[0]/denominator, color)"
   ]
  },
  {
   "cell_type": "code",
   "execution_count": 185,
   "metadata": {},
   "outputs": [
    {
     "data": {
      "image/png": "[encoded data removed]",
      "text/plain": [
       "<Figure size 432x288 with 1 Axes>"
      ]
     },
     "metadata": {
      "needs_background": "light"
     },
     "output_type": "display_data"
    }
   ],
   "source": [
    "bins = 10\n",
    "# loss distribution over the normal dataset\n",
    "plot_hist(normal_losses,relative=True,color=\"g\",bins=bins)\n",
    "# loss distribution over the anomaly dataset \n",
    "plot_hist(anomaly_losses,relative=True,color=\"r\",bins=bins)\n",
    "plt.show()"
   ]
  },
  {
   "cell_type": "markdown",
   "metadata": {},
   "source": [
    "### Evaluating the loss based approach"
   ]
  },
  {
   "cell_type": "code",
   "execution_count": 206,
   "metadata": {},
   "outputs": [
    {
     "data": {
      "image/png": "[encoded data removed]",
      "text/plain": [
       "<Figure size 432x288 with 1 Axes>"
      ]
     },
     "metadata": {
      "needs_background": "light"
     },
     "output_type": "display_data"
    },
    {
     "data": {
      "text/plain": [
       "(0.9728999999999755, 24.02903313509902)"
      ]
     },
     "execution_count": 206,
     "metadata": {},
     "output_type": "execute_result"
    }
   ],
   "source": [
    "# x:= \"false detected anomalies in %\"\n",
    "# y:= \"correct detected normal data points in %\"\n",
    "FPs = FNs = []\n",
    "prec = 10000  # precision for getting the best threshold value\n",
    "step_size = 1.0 / prec\n",
    "TPs = np.arange(0.75, 1, step_size)\n",
    "\n",
    "for i in TPs: \n",
    "    # loss value for detection of i*100 percent normal data points\n",
    "    loss_boundary = np.sort(normal_losses)[int(len(normal_losses) * i)] \n",
    "\n",
    "    detected_normals = X_normal_test[normal_losses >= loss_boundary]\n",
    "    undetected_anomalies = X_anomaly_test[anomaly_losses < loss_boundary]\n",
    "\n",
    "    FP_rate = len(undetected_anomalies) / len(\n",
    "        anomaly_losses\n",
    "    )  # ratio between not detected loss values for anomalies\n",
    "    FN_rate = len(detected_normals) / len(\n",
    "        normal_losses\n",
    "    )  # ratio between not detected loss values for anomalies\n",
    "\n",
    "    FPs = np.append(FPs, FP_rate)  # not detected anomalies\n",
    "    FNs = np.append(FNs, FN_rate)  # as anomalies detected normalities\n",
    "    if FP_rate + FN_rate <= min(FNs + FPs): # less or equal since we want the biggest TP_rate (i)\n",
    "        loss_threshold = i\n",
    "        best_boundary = loss_boundary\n",
    "        \n",
    "    # print every 1/10 threshold step\n",
    "    if (int(i * prec)) % prec // 10 == 0:\n",
    "        print(\n",
    "            \"threshold:%.3f,dn:%f + ua:%f = %f\"\n",
    "            % (i, FN_rate, FP_rate, FN_rate + FP_rate)\n",
    "        )\n",
    "    # minimum value for FN_rate + FP_rate (least relative amount of falsely detected)\n",
    "\n",
    "plt.plot(FPs,TPs)\n",
    "plt.grid()\n",
    "plt.xlabel(\"FALSE POSITIVE RATE\")\n",
    "plt.ylabel(\"TRUE POSITIVE RATE\")\n",
    "plt.show()\n",
    "loss_threshold, best_boundary"
   ]
  },
  {
   "cell_type": "code",
   "execution_count": 215,
   "metadata": {},
   "outputs": [
    {
     "data": {
      "text/plain": [
       "(33, 10)"
      ]
     },
     "execution_count": 215,
     "metadata": {},
     "output_type": "execute_result"
    }
   ],
   "source": [
    "detected_normals = X_normal_test[normal_losses >= best_boundary] # values on the boundary are seen as anomalies\n",
    "undetected_anomalies = X_anomaly_test[anomaly_losses < best_boundary]\n",
    "len(detected_normals), len(undetected_anomalies)"
   ]
  },
  {
   "cell_type": "code",
   "execution_count": 216,
   "metadata": {},
   "outputs": [
    {
     "data": {
      "image/png": "[encoded data removed]",
      "text/plain": [
       "<Figure size 1152x288 with 16 Axes>"
      ]
     },
     "metadata": {
      "needs_background": "light"
     },
     "output_type": "display_data"
    }
   ],
   "source": [
    "plot_samples(detected_normals,undetected_anomalies,plot_mnist, \"imgs/wrong-samples.png\")"
   ]
  },
  {
   "cell_type": "markdown",
   "metadata": {},
   "source": [
    "## One Class SVM approach"
   ]
  },
  {
   "cell_type": "code",
   "execution_count": 217,
   "metadata": {},
   "outputs": [],
   "source": [
    "from sklearn import svm\n",
    "from sklearn.metrics import precision_recall_curve, auc, roc_auc_score,accuracy_score"
   ]
  },
  {
   "cell_type": "code",
   "execution_count": 244,
   "metadata": {},
   "outputs": [
    {
     "name": "stdout",
     "output_type": "stream",
     "text": [
      "(1094, 8)\n",
      "0.10 0.9248681898066784 0.88917089678511 0.9633363886342805\n",
      "0.20 0.8914762741652021 0.8037225042301185 0.9844559585492227\n",
      "0.30 0.8413884007029877 0.7013536379018612 0.9904420549581839\n",
      "0.40 0.7855887521968365 0.5913705583756346 0.9928977272727273\n",
      "0.50 0.7438488576449912 0.5093062605752962 0.9950413223140496\n",
      "0.60 0.6805799648506151 0.3866328257191201 0.9956427015250545\n",
      "0.70 0.6344463971880492 0.2969543147208122 0.9971590909090909\n",
      "0.80 0.586555360281195 0.2038917089678511 1.0\n",
      "0.90 0.5276801405975395 0.09052453468697123 1.0\n"
     ]
    }
   ],
   "source": [
    "encoded_normal_imgs_train = encoded_normal_imgs_train.reshape(\n",
    "            -1, np.prod(encoded_normal_imgs_train.shape[1:])\n",
    "        )\n",
    "encoded_normal_imgs_test = encoded_normal_imgs_test.reshape(\n",
    "            -1, np.prod(encoded_normal_imgs_test.shape[1:])\n",
    "        )\n",
    "encoded_anomalies = encoded_anomalies.reshape(-1, np.prod(encoded_anomalies.shape[1:]))\n",
    "for i in np.arange(0.1, 1, 0.1):\n",
    "    clf = svm.OneClassSVM(gamma=\"auto\", nu=i)\n",
    "    clf.fit(encoded_normal_imgs_train)\n",
    "    \n",
    "    score_normal = clf.predict(encoded_normal_imgs_test)\n",
    "    bins = 2\n",
    "    # hist_normal = np.histogram(score_normal, bins)\n",
    "    # t = np.linspace(score_normal.min(), score_normal.max(), bins)\n",
    "    # plt.bar(t, hist_normal[0], width=0.5, color=\"g\")\n",
    "    # plt.show()\n",
    "\n",
    "    score_anomaly = clf.predict(encoded_anomalies)\n",
    "\n",
    "    # hist_anomaly = np.histogram(score_anomaly, bins)\n",
    "    # t = np.linspace(score_anomaly.min(), score_anomaly.max(), bins)\n",
    "    # plt.bar(t, hist_anomaly[0], width=0.5, color=\"r\")\n",
    "    # plt.show()\n",
    "\n",
    "\n",
    "    TP = len(score_normal[score_normal == 1])\n",
    "    FN = len(score_normal[score_normal == -1])\n",
    "\n",
    "    TN = len(score_anomaly[score_anomaly == -1])\n",
    "    FP = len(score_anomaly[score_anomaly == 1])\n",
    "\n",
    "    accuracy = (TP + TN) / (len(score_normal) + len(score_anomaly))\n",
    "    precision = TP / (TP + FN)\n",
    "    recall = TP / (TP + FP)\n",
    "    print(\"%.2f\" % i, accuracy, precision, recall)"
   ]
  },
  {
   "cell_type": "markdown",
   "metadata": {},
   "source": [
    "# TODO: Encoded feature analysis with our friend CF Gauss"
   ]
  },
  {
   "cell_type": "code",
   "execution_count": null,
   "metadata": {},
   "outputs": [],
   "source": []
  }
 ],
 "metadata": {
  "kernelspec": {
   "display_name": "Python 3",
   "language": "python",
   "name": "python3"
  },
  "language_info": {
   "codemirror_mode": {
    "name": "ipython",
    "version": 3
   },
   "file_extension": ".py",
   "mimetype": "text/x-python",
   "name": "python",
   "nbconvert_exporter": "python",
   "pygments_lexer": "ipython3",
   "version": "3.7.3"
  }
 },
 "nbformat": 4,
 "nbformat_minor": 2
}
