{
 "cells": [
  {
   "cell_type": "code",
   "execution_count": 124,
   "metadata": {
    "scrolled": true
   },
   "outputs": [
    {
     "name": "stdout",
     "output_type": "stream",
     "text": [
      "The blackcellmagic extension is already loaded. To reload it, use:\n",
      "  %reload_ext blackcellmagic\n"
     ]
    }
   ],
   "source": [
    "%load_ext blackcellmagic"
   ]
  },
  {
   "cell_type": "code",
   "execution_count": 125,
   "metadata": {
    "scrolled": true
   },
   "outputs": [],
   "source": [
    "import os\n",
    "\n",
    "import matplotlib.pyplot as plt\n",
    "import numpy as np\n",
    "import tensorflow as tf\n",
    "from keras.callbacks import (\n",
    "    EarlyStopping,\n",
    "    ModelCheckpoint,\n",
    "    ReduceLROnPlateau,\n",
    "    TensorBoard,\n",
    ")\n",
    "from keras.datasets import mnist, fashion_mnist, cifar10, cifar100\n",
    "from keras.layers import (\n",
    "    Conv2D,\n",
    "    Dense,\n",
    "    Input,\n",
    "    MaxPooling2D,\n",
    "    UpSampling2D,\n",
    ")\n",
    "from keras.models import Model, Sequential, load_model\n",
    "from keras.utils import to_categorical\n",
    "\n",
    "from sklearn.metrics import confusion_matrix"
   ]
  },
  {
   "cell_type": "code",
   "execution_count": 126,
   "metadata": {},
   "outputs": [],
   "source": [
    "np.random.seed(42)"
   ]
  },
  {
   "cell_type": "code",
   "execution_count": 127,
   "metadata": {
    "scrolled": true
   },
   "outputs": [],
   "source": [
    "ANOMALY_STR =\"seven\"\n",
    "NORMAL_STR = \"one\"\n",
    "USE_CASE =\"digits\"\n",
    "img_path = os.path.join(\"imgs\",USE_CASE)\n",
    "if not os.path.isdir(img_path):\n",
    "    os.mkdir(img_path)\n",
    "ckpt_path = os.path.join(\"ckpts\",USE_CASE)\n",
    "if not os.path.isdir(ckpt_path):\n",
    "    os.mkdir(ckpt_path)"
   ]
  },
  {
   "cell_type": "markdown",
   "metadata": {},
   "source": [
    "# Preparing the data"
   ]
  },
  {
   "cell_type": "code",
   "execution_count": 128,
   "metadata": {
    "scrolled": true
   },
   "outputs": [],
   "source": [
    "def train_test_split(X, y, train_split=0.7, test_split=0.85):\n",
    "    \"\"\"Splits data in training and test data according to the defined boundaries.\"\"\"\n",
    "    indices = np.arange(X.shape[0])\n",
    "    np.random.shuffle(indices)\n",
    "    X = X[indices]\n",
    "    y = y[indices]\n",
    "\n",
    "    # define boundaries for train,validation and test set at .7 and .85 % of the MNIST data set\n",
    "    x_len = len(X)\n",
    "    boundaries = [int(x_len * train_split), int(x_len * test_split)]\n",
    "\n",
    "    [X_train, X_test, X_validate] = np.split(X, boundaries)\n",
    "\n",
    "    [y_train, y_test, y_validate] = np.split(y, boundaries)\n",
    "    return (X_train, X_test, X_validate), (y_train, y_test, y_validate)"
   ]
  },
  {
   "cell_type": "code",
   "execution_count": 129,
   "metadata": {
    "scrolled": true
   },
   "outputs": [],
   "source": [
    "def merge_data(dataset, train_split=0.7, test_split=0.85):\n",
    "    \"\"\"merges training and test data set \n",
    "    :param dataset is assumed to be loaded from keras.datasets, thus the from 2-tuple(2-tuple) is assumed.\n",
    "    :return value y is in one hot encoding\n",
    "    \"\"\"\n",
    "    if not (len(dataset) == 2 and all([len(d) == 2 for d in dataset])):\n",
    "        raise ValueError(\n",
    "            \"Datset has not the correct form. Please load from keras.datasets or convert to similar form.\"\n",
    "        )\n",
    "\n",
    "    (X_train, y_train), (X_test, y_test) = dataset\n",
    "\n",
    "    # divide X values bei 255.0 since MNIST data set changed such that pixel values are in [0,255]\n",
    "    X = np.concatenate((X_train, X_test)) \n",
    "    y = np.concatenate((y_train, y_test))\n",
    "    if len(X.shape) == 3: # MNIST data set\n",
    "        X = X.reshape((list(X.shape) + [1]))\n",
    "        \n",
    "    \n",
    "    # one-hot encode target columns\n",
    "    y = to_categorical(y)\n",
    "\n",
    "    return X,y"
   ]
  },
  {
   "cell_type": "code",
   "execution_count": 130,
   "metadata": {
    "scrolled": true
   },
   "outputs": [],
   "source": [
    "# CIFAR_10 = cifar10.load_data()\n",
    "# CIFAR_100 = cifar100.load_data()\n",
    "MNIST = mnist.load_data()\n",
    "# FASHION_MNIST = fashion_mnist.load_data()"
   ]
  },
  {
   "cell_type": "code",
   "execution_count": 131,
   "metadata": {
    "scrolled": true
   },
   "outputs": [],
   "source": [
    "NORMAL = 1\n",
    "ANOMALY = 7"
   ]
  },
  {
   "cell_type": "code",
   "execution_count": 132,
   "metadata": {
    "scrolled": true
   },
   "outputs": [],
   "source": [
    "X,y = merge_data(MNIST)\n",
    "X = X / 255.0"
   ]
  },
  {
   "cell_type": "code",
   "execution_count": 133,
   "metadata": {
    "scrolled": true
   },
   "outputs": [],
   "source": [
    "def get_indices(filter):\n",
    "    return np.where(np.argmax(y,axis=1)==filter)"
   ]
  },
  {
   "cell_type": "code",
   "execution_count": 134,
   "metadata": {
    "scrolled": true
   },
   "outputs": [
    {
     "data": {
      "text/plain": [
       "((7877, 28, 28, 1), (7877, 10))"
      ]
     },
     "execution_count": 134,
     "metadata": {},
     "output_type": "execute_result"
    }
   ],
   "source": [
    "normal_indices = get_indices(NORMAL)\n",
    "X_normal, y_normal = X[normal_indices],y[normal_indices]\n",
    "X_normal.shape,y_normal.shape"
   ]
  },
  {
   "cell_type": "code",
   "execution_count": 135,
   "metadata": {
    "scrolled": true
   },
   "outputs": [
    {
     "data": {
      "text/plain": [
       "((7293, 28, 28, 1), (7293, 10))"
      ]
     },
     "execution_count": 135,
     "metadata": {},
     "output_type": "execute_result"
    }
   ],
   "source": [
    "anomaly_indices = get_indices(ANOMALY)\n",
    "X_anomaly, y_anomaly = X[anomaly_indices],y[anomaly_indices]\n",
    "X_anomaly.shape,y_anomaly.shape"
   ]
  },
  {
   "cell_type": "code",
   "execution_count": 136,
   "metadata": {
    "scrolled": true
   },
   "outputs": [],
   "source": [
    "(X_normal_train, X_normal_test, X_normal_validate), (\n",
    "    y_normal_train,\n",
    "    y_normal_test,\n",
    "    y_normal_validate,\n",
    ") = train_test_split(X_normal, y_normal)\n",
    "(X_anomaly_train, X_anomaly_test, X_anomaly_validate), (\n",
    "    y_anomaly_train,\n",
    "    y_anomaly_test,\n",
    "    y_anomaly_validate,\n",
    ") = train_test_split(X_anomaly, y_anomaly)"
   ]
  },
  {
   "cell_type": "code",
   "execution_count": 137,
   "metadata": {
    "scrolled": true
   },
   "outputs": [],
   "source": [
    "def plot_mnist(data):\n",
    "    plt.imshow(data.reshape((28,28)))\n",
    "    plt.gray()"
   ]
  },
  {
   "cell_type": "code",
   "execution_count": 138,
   "metadata": {
    "scrolled": true
   },
   "outputs": [],
   "source": [
    "def hide_axis(subplt, x=True, y=True):\n",
    "    if x:\n",
    "        subplt.get_xaxis().set_visible(False)\n",
    "    if y:\n",
    "        subplt.get_yaxis().set_visible(False)"
   ]
  },
  {
   "cell_type": "code",
   "execution_count": 139,
   "metadata": {
    "scrolled": true
   },
   "outputs": [],
   "source": [
    "def plot_samples(row_one, row_two, f_plot, outfile=\"\"):\n",
    "    \"\"\"Plot 8 sample images of the row_one and row_two\"\"\"\n",
    "    plt.figure(figsize=(16, 4))\n",
    "    # row_one\n",
    "    n = min([len(row_one),len(row_two),8])\n",
    "    for i in range(n):\n",
    "        ax = plt.subplot(2, n, i+1)\n",
    "        hide_axis(ax)\n",
    "        f_plot(row_one[i]) # row_one\n",
    "        ax = plt.subplot(2, n, n+i+1)\n",
    "        f_plot(row_two[i]) # row_two\n",
    "        hide_axis(ax)\n",
    "    if outfile!=\"\":\n",
    "        plt.savefig(outfile)"
   ]
  },
  {
   "cell_type": "code",
   "execution_count": 140,
   "metadata": {
    "scrolled": true
   },
   "outputs": [
    {
     "data": {
      "image/png": "[encoded data removed]",
      "text/plain": [
       "<Figure size 1152x288 with 16 Axes>"
      ]
     },
     "metadata": {
      "needs_background": "light"
     },
     "output_type": "display_data"
    }
   ],
   "source": [
    "path = os.path.join(img_path,\"{}-{}.png\".format(NORMAL_STR,ANOMALY_STR))\n",
    "plot_samples(X_normal_train, X_anomaly_train, plot_mnist,path)"
   ]
  },
  {
   "cell_type": "markdown",
   "metadata": {},
   "source": [
    "# Extracting features with an auto encoder (ae)"
   ]
  },
  {
   "cell_type": "code",
   "execution_count": 141,
   "metadata": {
    "scrolled": true
   },
   "outputs": [],
   "source": [
    "def get_codec_from_ae(autoencoder):\n",
    "    encoder_layer = autoencoder.get_layer(\"encoder\")\n",
    "    # this model maps an input to its encoded representation; Big image to small rep\n",
    "    encoder = Model(\n",
    "        inputs=autoencoder.input, outputs=encoder_layer.output)\n",
    "\n",
    "    # create a placeholder for an encoded (ENCODING_DIM-dimensional) input\n",
    "    encoded_input = Input(shape=encoder_layer.output_shape[1:])\n",
    "\n",
    "    # getting the middle of the autoencoder\n",
    "    start = (len(autoencoder.layers))//2\n",
    "    decoder = autoencoder.layers[-start](encoded_input)\n",
    "    # stacking the decoder layers\n",
    "    for i in range(start-1, 0, -1):\n",
    "        decoder = autoencoder.layers[-i](decoder)\n",
    "\n",
    "    # create the decoder model; \"<\": encoded(small) representation to big image\n",
    "    decoder = Model(encoded_input, decoder)\n",
    "    return encoder, decoder"
   ]
  },
  {
   "cell_type": "code",
   "execution_count": 142,
   "metadata": {
    "scrolled": true
   },
   "outputs": [],
   "source": [
    "def build_conv_ae(\n",
    "    filters, input_shape=(28, 28, 1), kernel=(3, 3), pool_size=(2, 2), color=\"gray\"\n",
    "):\n",
    "    # STRETCH GOAL: variable number of layers and pool_size\n",
    "    pool_size = (2, 2)\n",
    "    kernel = (3, 3)\n",
    "    if len(filters) != 4:\n",
    "        raise ValueError(\"Four Filters must be given. Sorry.\")\n",
    "    # this is our input placeholder\n",
    "    input_img = Input(shape=input_shape)\n",
    "    # layer between input and middle layer\n",
    "    i = 0\n",
    "    encode = Conv2D(filters[i], kernel, activation=\"relu\", padding=\"same\")(input_img)\n",
    "    encode = MaxPooling2D(pool_size, padding=\"same\")(encode)\n",
    "    i += 1\n",
    "    encode = Conv2D(filters[i], kernel, activation=\"relu\", padding=\"same\")(encode)\n",
    "    encode = MaxPooling2D(pool_size, padding=\"same\")(encode)\n",
    "    i += 1\n",
    "    encode = Conv2D(filters[i], kernel, activation=\"relu\", padding=\"same\")(encode)\n",
    "    encode = MaxPooling2D(pool_size, padding=\"same\")(encode)\n",
    "    i += 1\n",
    "    encode = Conv2D(filters[i], kernel, activation=\"relu\", padding=\"same\")(encode)\n",
    "\n",
    "    # \"encoded\" is the encoded representation of the input, middle layer of the aue\n",
    "    encoded = MaxPooling2D(pool_size, padding=\"same\", name=\"encoder\")(encode)\n",
    "\n",
    "    # layer between middle and output layer\n",
    "    decode = Conv2D(filters[i], kernel, activation=\"relu\", padding=\"same\")(encoded)\n",
    "    decode = UpSampling2D(pool_size)(decode)\n",
    "    i -= 1\n",
    "    decode = Conv2D(filters[i], kernel, activation=\"relu\", padding=\"same\")(decode)\n",
    "    decode = UpSampling2D(pool_size)(decode)\n",
    "    i -= 1\n",
    "    decode = Conv2D(filters[i], kernel, activation=\"relu\", padding=\"same\")(decode)\n",
    "    decode = UpSampling2D(pool_size)(decode)\n",
    "    i -= 1\n",
    "    decode = Conv2D(filters[i], kernel, activation=\"relu\")(decode)\n",
    "    decode = UpSampling2D(pool_size)(decode)\n",
    "    decoded = Conv2D(\n",
    "        1 if color == \"gray\" else 3, kernel, activation=\"sigmoid\", padding=\"same\"\n",
    "    )(decode)\n",
    "\n",
    "    # this model maps an input to its reconstruction\n",
    "    autoencoder = Model(inputs=input_img, outputs=decoded)\n",
    "\n",
    "    encoder, decoder = get_codec_from_ae(autoencoder)\n",
    "\n",
    "    # build (aka \"compile\") the model\n",
    "    autoencoder.compile(optimizer=\"adadelta\", loss=\"binary_crossentropy\")\n",
    "    return autoencoder, encoder, decoder"
   ]
  },
  {
   "cell_type": "markdown",
   "metadata": {},
   "source": [
    "## Training the feature extractor auto encoder"
   ]
  },
  {
   "cell_type": "code",
   "execution_count": 143,
   "metadata": {
    "scrolled": false
   },
   "outputs": [
    {
     "name": "stdout",
     "output_type": "stream",
     "text": [
      "Training Autoencoder for digits feature extraction...\n",
      "_________________________________________________________________\n",
      "Layer (type)                 Output Shape              Param #   \n",
      "=================================================================\n",
      "input_6 (InputLayer)         (None, 28, 28, 1)         0         \n",
      "_________________________________________________________________\n",
      "conv2d_19 (Conv2D)           (None, 28, 28, 16)        160       \n",
      "_________________________________________________________________\n",
      "max_pooling2d_7 (MaxPooling2 (None, 14, 14, 16)        0         \n",
      "_________________________________________________________________\n",
      "conv2d_20 (Conv2D)           (None, 14, 14, 12)        1740      \n",
      "_________________________________________________________________\n",
      "max_pooling2d_8 (MaxPooling2 (None, 7, 7, 12)          0         \n",
      "_________________________________________________________________\n",
      "conv2d_21 (Conv2D)           (None, 7, 7, 8)           872       \n",
      "_________________________________________________________________\n",
      "max_pooling2d_9 (MaxPooling2 (None, 4, 4, 8)           0         \n",
      "_________________________________________________________________\n",
      "conv2d_22 (Conv2D)           (None, 4, 4, 2)           146       \n",
      "_________________________________________________________________\n",
      "encoder (MaxPooling2D)       (None, 2, 2, 2)           0         \n",
      "_________________________________________________________________\n",
      "conv2d_23 (Conv2D)           (None, 2, 2, 2)           38        \n",
      "_________________________________________________________________\n",
      "up_sampling2d_9 (UpSampling2 (None, 4, 4, 2)           0         \n",
      "_________________________________________________________________\n",
      "conv2d_24 (Conv2D)           (None, 4, 4, 8)           152       \n",
      "_________________________________________________________________\n",
      "up_sampling2d_10 (UpSampling (None, 8, 8, 8)           0         \n",
      "_________________________________________________________________\n",
      "conv2d_25 (Conv2D)           (None, 8, 8, 12)          876       \n",
      "_________________________________________________________________\n",
      "up_sampling2d_11 (UpSampling (None, 16, 16, 12)        0         \n",
      "_________________________________________________________________\n",
      "conv2d_26 (Conv2D)           (None, 14, 14, 16)        1744      \n",
      "_________________________________________________________________\n",
      "up_sampling2d_12 (UpSampling (None, 28, 28, 16)        0         \n",
      "_________________________________________________________________\n",
      "conv2d_27 (Conv2D)           (None, 28, 28, 1)         145       \n",
      "=================================================================\n",
      "Total params: 5,873\n",
      "Trainable params: 5,873\n",
      "Non-trainable params: 0\n",
      "_________________________________________________________________\n",
      "Train on 5513 samples, validate on 1182 samples\n",
      "Epoch 1/128\n",
      "5513/5513 [==============================] - 4s 673us/step - loss: 0.3253 - val_loss: 0.1513\n",
      "\n",
      "Epoch 00001: val_loss improved from inf to 0.15134, saving model to ckpts\\digits\\feature-extractor-ae.hdf5\n",
      "Epoch 2/128\n",
      "5513/5513 [==============================] - 1s 233us/step - loss: 0.1403 - val_loss: 0.1295\n",
      "\n",
      "Epoch 00002: val_loss improved from 0.15134 to 0.12953, saving model to ckpts\\digits\\feature-extractor-ae.hdf5\n",
      "Epoch 3/128\n",
      "5513/5513 [==============================] - 1s 263us/step - loss: 0.1247 - val_loss: 0.1146\n",
      "\n",
      "Epoch 00003: val_loss improved from 0.12953 to 0.11462, saving model to ckpts\\digits\\feature-extractor-ae.hdf5\n",
      "Epoch 4/128\n",
      "5513/5513 [==============================] - 1s 264us/step - loss: 0.1100 - val_loss: 0.1064\n",
      "\n",
      "Epoch 00004: val_loss improved from 0.11462 to 0.10644, saving model to ckpts\\digits\\feature-extractor-ae.hdf5\n",
      "Epoch 5/128\n",
      "5513/5513 [==============================] - 2s 277us/step - loss: 0.1016 - val_loss: 0.1041\n",
      "\n",
      "Epoch 00005: val_loss improved from 0.10644 to 0.10406, saving model to ckpts\\digits\\feature-extractor-ae.hdf5\n",
      "Epoch 6/128\n",
      "5513/5513 [==============================] - 1s 270us/step - loss: 0.0963 - val_loss: 0.1071\n",
      "\n",
      "Epoch 00006: val_loss did not improve from 0.10406\n",
      "Epoch 7/128\n",
      "5513/5513 [==============================] - 2s 272us/step - loss: 0.0927 - val_loss: 0.0914\n",
      "\n",
      "Epoch 00007: val_loss improved from 0.10406 to 0.09144, saving model to ckpts\\digits\\feature-extractor-ae.hdf5\n",
      "Epoch 8/128\n",
      "5513/5513 [==============================] - 2s 275us/step - loss: 0.0895 - val_loss: 0.1001\n",
      "\n",
      "Epoch 00008: val_loss did not improve from 0.09144\n",
      "Epoch 9/128\n",
      "5513/5513 [==============================] - 2s 273us/step - loss: 0.0886 - val_loss: 0.0886\n",
      "\n",
      "Epoch 00009: val_loss improved from 0.09144 to 0.08863, saving model to ckpts\\digits\\feature-extractor-ae.hdf5\n",
      "Epoch 10/128\n",
      "5513/5513 [==============================] - 2s 275us/step - loss: 0.0855 - val_loss: 0.0935\n",
      "\n",
      "Epoch 00010: val_loss did not improve from 0.08863\n",
      "Epoch 11/128\n",
      "5513/5513 [==============================] - 1s 269us/step - loss: 0.0847 - val_loss: 0.0837\n",
      "\n",
      "Epoch 00011: val_loss improved from 0.08863 to 0.08367, saving model to ckpts\\digits\\feature-extractor-ae.hdf5\n",
      "Epoch 12/128\n",
      "5513/5513 [==============================] - 2s 279us/step - loss: 0.0837 - val_loss: 0.0926\n",
      "\n",
      "Epoch 00012: val_loss did not improve from 0.08367\n",
      "Epoch 13/128\n",
      "5513/5513 [==============================] - 2s 280us/step - loss: 0.0823 - val_loss: 0.0834\n",
      "\n",
      "Epoch 00013: val_loss improved from 0.08367 to 0.08340, saving model to ckpts\\digits\\feature-extractor-ae.hdf5\n",
      "Epoch 14/128\n",
      "5513/5513 [==============================] - 2s 294us/step - loss: 0.0815 - val_loss: 0.0869\n",
      "\n",
      "Epoch 00014: val_loss did not improve from 0.08340\n",
      "Epoch 15/128\n",
      "5513/5513 [==============================] - 2s 293us/step - loss: 0.0813 - val_loss: 0.0803\n",
      "\n",
      "Epoch 00015: val_loss improved from 0.08340 to 0.08025, saving model to ckpts\\digits\\feature-extractor-ae.hdf5\n",
      "Epoch 16/128\n",
      "5513/5513 [==============================] - 1s 263us/step - loss: 0.0801 - val_loss: 0.0791\n",
      "\n",
      "Epoch 00016: val_loss improved from 0.08025 to 0.07909, saving model to ckpts\\digits\\feature-extractor-ae.hdf5\n",
      "Epoch 17/128\n",
      "5513/5513 [==============================] - 1s 257us/step - loss: 0.0794 - val_loss: 0.0810\n",
      "\n",
      "Epoch 00017: val_loss did not improve from 0.07909\n",
      "Epoch 18/128\n",
      "5513/5513 [==============================] - 1s 264us/step - loss: 0.0786 - val_loss: 0.0875\n",
      "\n",
      "Epoch 00018: val_loss did not improve from 0.07909\n",
      "Epoch 19/128\n",
      "5513/5513 [==============================] - 1s 209us/step - loss: 0.0780 - val_loss: 0.0769\n",
      "\n",
      "Epoch 00019: val_loss improved from 0.07909 to 0.07693, saving model to ckpts\\digits\\feature-extractor-ae.hdf5\n",
      "Epoch 20/128\n",
      "5513/5513 [==============================] - 1s 228us/step - loss: 0.0777 - val_loss: 0.0783\n",
      "\n",
      "Epoch 00020: val_loss did not improve from 0.07693\n",
      "Epoch 21/128\n",
      "5513/5513 [==============================] - 1s 271us/step - loss: 0.0768 - val_loss: 0.0777\n",
      "\n",
      "Epoch 00021: val_loss did not improve from 0.07693\n",
      "Epoch 22/128\n",
      "5513/5513 [==============================] - 1s 240us/step - loss: 0.0761 - val_loss: 0.0753\n",
      "\n",
      "Epoch 00022: val_loss improved from 0.07693 to 0.07529, saving model to ckpts\\digits\\feature-extractor-ae.hdf5\n",
      "Epoch 23/128\n",
      "5513/5513 [==============================] - 1s 220us/step - loss: 0.0758 - val_loss: 0.0803\n",
      "\n",
      "Epoch 00023: val_loss did not improve from 0.07529\n",
      "Epoch 24/128\n",
      "5513/5513 [==============================] - 1s 224us/step - loss: 0.0754 - val_loss: 0.0758\n",
      "\n",
      "Epoch 00024: val_loss did not improve from 0.07529\n",
      "Epoch 25/128\n",
      "5513/5513 [==============================] - 1s 212us/step - loss: 0.0739 - val_loss: 0.0753\n",
      "\n",
      "Epoch 00025: val_loss did not improve from 0.07529\n",
      "\n",
      "Epoch 00025: ReduceLROnPlateau reducing learning rate to 0.3.\n",
      "Epoch 26/128\n",
      "5513/5513 [==============================] - 1s 196us/step - loss: 0.0703 - val_loss: 0.0700\n",
      "\n",
      "Epoch 00026: val_loss improved from 0.07529 to 0.06998, saving model to ckpts\\digits\\feature-extractor-ae.hdf5\n",
      "Epoch 27/128\n",
      "5513/5513 [==============================] - 1s 238us/step - loss: 0.0696 - val_loss: 0.0698\n",
      "\n",
      "Epoch 00027: val_loss improved from 0.06998 to 0.06981, saving model to ckpts\\digits\\feature-extractor-ae.hdf5\n",
      "Epoch 28/128\n",
      "5513/5513 [==============================] - 1s 228us/step - loss: 0.0690 - val_loss: 0.0693\n",
      "\n",
      "Epoch 00028: val_loss improved from 0.06981 to 0.06934, saving model to ckpts\\digits\\feature-extractor-ae.hdf5\n"
     ]
    },
    {
     "name": "stdout",
     "output_type": "stream",
     "text": [
      "Epoch 29/128\n",
      "5513/5513 [==============================] - 1s 228us/step - loss: 0.0685 - val_loss: 0.0707\n",
      "\n",
      "Epoch 00029: val_loss did not improve from 0.06934\n",
      "Epoch 30/128\n",
      "5513/5513 [==============================] - 1s 192us/step - loss: 0.0681 - val_loss: 0.0680\n",
      "\n",
      "Epoch 00030: val_loss improved from 0.06934 to 0.06797, saving model to ckpts\\digits\\feature-extractor-ae.hdf5\n",
      "Epoch 31/128\n",
      "5513/5513 [==============================] - 1s 233us/step - loss: 0.0675 - val_loss: 0.0695\n",
      "\n",
      "Epoch 00031: val_loss did not improve from 0.06797\n",
      "Epoch 32/128\n",
      "5513/5513 [==============================] - 1s 270us/step - loss: 0.0674 - val_loss: 0.0667\n",
      "\n",
      "Epoch 00032: val_loss improved from 0.06797 to 0.06672, saving model to ckpts\\digits\\feature-extractor-ae.hdf5\n",
      "Epoch 33/128\n",
      "5513/5513 [==============================] - 1s 229us/step - loss: 0.0668 - val_loss: 0.0697\n",
      "\n",
      "Epoch 00033: val_loss did not improve from 0.06672\n",
      "Epoch 34/128\n",
      "5513/5513 [==============================] - 1s 230us/step - loss: 0.0665 - val_loss: 0.0694\n",
      "\n",
      "Epoch 00034: val_loss did not improve from 0.06672\n",
      "Epoch 35/128\n",
      "5513/5513 [==============================] - 1s 213us/step - loss: 0.0661 - val_loss: 0.0656\n",
      "\n",
      "Epoch 00035: val_loss improved from 0.06672 to 0.06561, saving model to ckpts\\digits\\feature-extractor-ae.hdf5\n",
      "Epoch 36/128\n",
      "5513/5513 [==============================] - 1s 243us/step - loss: 0.0659 - val_loss: 0.0661\n",
      "\n",
      "Epoch 00036: val_loss did not improve from 0.06561\n",
      "Epoch 37/128\n",
      "5513/5513 [==============================] - 1s 258us/step - loss: 0.0660 - val_loss: 0.0676\n",
      "\n",
      "Epoch 00037: val_loss did not improve from 0.06561\n",
      "Epoch 38/128\n",
      "5513/5513 [==============================] - 1s 266us/step - loss: 0.0655 - val_loss: 0.0671\n",
      "\n",
      "Epoch 00038: val_loss did not improve from 0.06561\n",
      "\n",
      "Epoch 00038: ReduceLROnPlateau reducing learning rate to 0.09000000357627869.\n",
      "Epoch 39/128\n",
      "5513/5513 [==============================] - 1s 262us/step - loss: 0.0644 - val_loss: 0.0644\n",
      "\n",
      "Epoch 00039: val_loss improved from 0.06561 to 0.06439, saving model to ckpts\\digits\\feature-extractor-ae.hdf5\n",
      "Epoch 40/128\n",
      "5513/5513 [==============================] - 1s 261us/step - loss: 0.0641 - val_loss: 0.0642\n",
      "\n",
      "Epoch 00040: val_loss improved from 0.06439 to 0.06418, saving model to ckpts\\digits\\feature-extractor-ae.hdf5\n",
      "Epoch 41/128\n",
      "5513/5513 [==============================] - 1s 244us/step - loss: 0.0640 - val_loss: 0.0642\n",
      "\n",
      "Epoch 00041: val_loss did not improve from 0.06418\n",
      "Epoch 42/128\n",
      "5513/5513 [==============================] - 1s 148us/step - loss: 0.0639 - val_loss: 0.0640\n",
      "\n",
      "Epoch 00042: val_loss improved from 0.06418 to 0.06400, saving model to ckpts\\digits\\feature-extractor-ae.hdf5\n",
      "Epoch 43/128\n",
      "5513/5513 [==============================] - 1s 161us/step - loss: 0.0638 - val_loss: 0.0638\n",
      "\n",
      "Epoch 00043: val_loss improved from 0.06400 to 0.06379, saving model to ckpts\\digits\\feature-extractor-ae.hdf5\n",
      "Epoch 44/128\n",
      "5513/5513 [==============================] - 1s 157us/step - loss: 0.0636 - val_loss: 0.0638\n",
      "\n",
      "Epoch 00044: val_loss improved from 0.06379 to 0.06379, saving model to ckpts\\digits\\feature-extractor-ae.hdf5\n",
      "Epoch 45/128\n",
      "5513/5513 [==============================] - 1s 139us/step - loss: 0.0635 - val_loss: 0.0636\n",
      "\n",
      "Epoch 00045: val_loss improved from 0.06379 to 0.06357, saving model to ckpts\\digits\\feature-extractor-ae.hdf5\n",
      "Epoch 46/128\n",
      "5513/5513 [==============================] - 1s 132us/step - loss: 0.0634 - val_loss: 0.0635\n",
      "\n",
      "Epoch 00046: val_loss improved from 0.06357 to 0.06349, saving model to ckpts\\digits\\feature-extractor-ae.hdf5\n",
      "Epoch 47/128\n",
      "5513/5513 [==============================] - 1s 183us/step - loss: 0.0633 - val_loss: 0.0633\n",
      "\n",
      "Epoch 00047: val_loss improved from 0.06349 to 0.06327, saving model to ckpts\\digits\\feature-extractor-ae.hdf5\n",
      "Epoch 48/128\n",
      "5513/5513 [==============================] - 1s 181us/step - loss: 0.0631 - val_loss: 0.0632\n",
      "\n",
      "Epoch 00048: val_loss improved from 0.06327 to 0.06323, saving model to ckpts\\digits\\feature-extractor-ae.hdf5\n",
      "Epoch 49/128\n",
      "5513/5513 [==============================] - 1s 184us/step - loss: 0.0630 - val_loss: 0.0631\n",
      "\n",
      "Epoch 00049: val_loss improved from 0.06323 to 0.06306, saving model to ckpts\\digits\\feature-extractor-ae.hdf5\n",
      "Epoch 50/128\n",
      "5513/5513 [==============================] - 1s 215us/step - loss: 0.0629 - val_loss: 0.0630\n",
      "\n",
      "Epoch 00050: val_loss improved from 0.06306 to 0.06302, saving model to ckpts\\digits\\feature-extractor-ae.hdf5\n",
      "Epoch 51/128\n",
      "5513/5513 [==============================] - 1s 189us/step - loss: 0.0628 - val_loss: 0.0629\n",
      "\n",
      "Epoch 00051: val_loss improved from 0.06302 to 0.06292, saving model to ckpts\\digits\\feature-extractor-ae.hdf5\n",
      "Epoch 52/128\n",
      "5513/5513 [==============================] - 1s 191us/step - loss: 0.0627 - val_loss: 0.0628\n",
      "\n",
      "Epoch 00052: val_loss improved from 0.06292 to 0.06281, saving model to ckpts\\digits\\feature-extractor-ae.hdf5\n",
      "Epoch 53/128\n",
      "5513/5513 [==============================] - 1s 164us/step - loss: 0.0626 - val_loss: 0.0627\n",
      "\n",
      "Epoch 00053: val_loss improved from 0.06281 to 0.06268, saving model to ckpts\\digits\\feature-extractor-ae.hdf5\n",
      "Epoch 54/128\n",
      "5513/5513 [==============================] - 1s 132us/step - loss: 0.0625 - val_loss: 0.0627\n",
      "\n",
      "Epoch 00054: val_loss did not improve from 0.06268\n",
      "Epoch 55/128\n",
      "5513/5513 [==============================] - 1s 146us/step - loss: 0.0624 - val_loss: 0.0628\n",
      "\n",
      "Epoch 00055: val_loss did not improve from 0.06268\n",
      "Epoch 56/128\n",
      "5513/5513 [==============================] - 1s 168us/step - loss: 0.0623 - val_loss: 0.0624\n",
      "\n",
      "Epoch 00056: val_loss improved from 0.06268 to 0.06242, saving model to ckpts\\digits\\feature-extractor-ae.hdf5\n",
      "Epoch 57/128\n",
      "5513/5513 [==============================] - 1s 171us/step - loss: 0.0622 - val_loss: 0.0624\n",
      "\n",
      "Epoch 00057: val_loss improved from 0.06242 to 0.06238, saving model to ckpts\\digits\\feature-extractor-ae.hdf5\n",
      "Epoch 58/128\n",
      "5513/5513 [==============================] - 1s 148us/step - loss: 0.0621 - val_loss: 0.0626\n",
      "\n",
      "Epoch 00058: val_loss did not improve from 0.06238\n",
      "Epoch 59/128\n",
      "5513/5513 [==============================] - 2s 276us/step - loss: 0.0620 - val_loss: 0.0622\n",
      "\n",
      "Epoch 00059: val_loss improved from 0.06238 to 0.06222, saving model to ckpts\\digits\\feature-extractor-ae.hdf5\n",
      "Epoch 60/128\n",
      "5513/5513 [==============================] - 1s 262us/step - loss: 0.0619 - val_loss: 0.0626\n",
      "\n",
      "Epoch 00060: val_loss did not improve from 0.06222\n",
      "Epoch 61/128\n",
      "5513/5513 [==============================] - 1s 254us/step - loss: 0.0618 - val_loss: 0.0621\n",
      "\n",
      "Epoch 00061: val_loss improved from 0.06222 to 0.06208, saving model to ckpts\\digits\\feature-extractor-ae.hdf5\n",
      "Epoch 62/128\n",
      "5513/5513 [==============================] - 1s 269us/step - loss: 0.0617 - val_loss: 0.0623\n",
      "\n",
      "Epoch 00062: val_loss did not improve from 0.06208\n",
      "Epoch 63/128\n",
      "5513/5513 [==============================] - 1s 260us/step - loss: 0.0616 - val_loss: 0.0619\n",
      "\n",
      "Epoch 00063: val_loss improved from 0.06208 to 0.06193, saving model to ckpts\\digits\\feature-extractor-ae.hdf5\n",
      "Epoch 64/128\n",
      "5513/5513 [==============================] - 1s 257us/step - loss: 0.0616 - val_loss: 0.0620\n",
      "\n",
      "Epoch 00064: val_loss did not improve from 0.06193\n",
      "Epoch 65/128\n",
      "5513/5513 [==============================] - 1s 270us/step - loss: 0.0615 - val_loss: 0.0617\n",
      "\n",
      "Epoch 00065: val_loss improved from 0.06193 to 0.06170, saving model to ckpts\\digits\\feature-extractor-ae.hdf5\n",
      "Epoch 66/128\n",
      "5513/5513 [==============================] - 1s 250us/step - loss: 0.0614 - val_loss: 0.0619\n",
      "\n",
      "Epoch 00066: val_loss did not improve from 0.06170\n",
      "Epoch 67/128\n",
      "5513/5513 [==============================] - 1s 182us/step - loss: 0.0613 - val_loss: 0.0621\n",
      "\n",
      "Epoch 00067: val_loss did not improve from 0.06170\n",
      "Epoch 68/128\n",
      "5513/5513 [==============================] - 1s 123us/step - loss: 0.0612 - val_loss: 0.0615\n",
      "\n",
      "Epoch 00068: val_loss improved from 0.06170 to 0.06147, saving model to ckpts\\digits\\feature-extractor-ae.hdf5\n",
      "Epoch 69/128\n",
      "5513/5513 [==============================] - 1s 203us/step - loss: 0.0611 - val_loss: 0.0614\n",
      "\n",
      "Epoch 00069: val_loss improved from 0.06147 to 0.06136, saving model to ckpts\\digits\\feature-extractor-ae.hdf5\n",
      "Epoch 70/128\n",
      "5513/5513 [==============================] - 1s 176us/step - loss: 0.0611 - val_loss: 0.0615\n",
      "\n",
      "Epoch 00070: val_loss did not improve from 0.06136\n",
      "Epoch 71/128\n"
     ]
    },
    {
     "name": "stdout",
     "output_type": "stream",
     "text": [
      "5513/5513 [==============================] - 1s 266us/step - loss: 0.0610 - val_loss: 0.0613\n",
      "\n",
      "Epoch 00071: val_loss improved from 0.06136 to 0.06133, saving model to ckpts\\digits\\feature-extractor-ae.hdf5\n",
      "Epoch 72/128\n",
      "5513/5513 [==============================] - 1s 248us/step - loss: 0.0609 - val_loss: 0.0612\n",
      "\n",
      "Epoch 00072: val_loss improved from 0.06133 to 0.06119, saving model to ckpts\\digits\\feature-extractor-ae.hdf5\n",
      "Epoch 73/128\n",
      "5513/5513 [==============================] - 1s 216us/step - loss: 0.0609 - val_loss: 0.0612\n",
      "\n",
      "Epoch 00073: val_loss improved from 0.06119 to 0.06116, saving model to ckpts\\digits\\feature-extractor-ae.hdf5\n",
      "Epoch 74/128\n",
      "5513/5513 [==============================] - 1s 256us/step - loss: 0.0608 - val_loss: 0.0611\n",
      "\n",
      "Epoch 00074: val_loss improved from 0.06116 to 0.06109, saving model to ckpts\\digits\\feature-extractor-ae.hdf5\n",
      "Epoch 75/128\n",
      "5513/5513 [==============================] - 1s 255us/step - loss: 0.0607 - val_loss: 0.0611\n",
      "\n",
      "Epoch 00075: val_loss improved from 0.06109 to 0.06105, saving model to ckpts\\digits\\feature-extractor-ae.hdf5\n",
      "Epoch 76/128\n",
      "5513/5513 [==============================] - 1s 272us/step - loss: 0.0606 - val_loss: 0.0612\n",
      "\n",
      "Epoch 00076: val_loss did not improve from 0.06105\n",
      "Epoch 77/128\n",
      "5513/5513 [==============================] - 1s 263us/step - loss: 0.0606 - val_loss: 0.0608\n",
      "\n",
      "Epoch 00077: val_loss improved from 0.06105 to 0.06084, saving model to ckpts\\digits\\feature-extractor-ae.hdf5\n",
      "Epoch 78/128\n",
      "5513/5513 [==============================] - 1s 259us/step - loss: 0.0605 - val_loss: 0.0616\n",
      "\n",
      "Epoch 00078: val_loss did not improve from 0.06084\n",
      "Epoch 79/128\n",
      "5513/5513 [==============================] - 1s 262us/step - loss: 0.0605 - val_loss: 0.0607\n",
      "\n",
      "Epoch 00079: val_loss improved from 0.06084 to 0.06072, saving model to ckpts\\digits\\feature-extractor-ae.hdf5\n",
      "Epoch 80/128\n",
      "5513/5513 [==============================] - 1s 264us/step - loss: 0.0604 - val_loss: 0.0606\n",
      "\n",
      "Epoch 00080: val_loss improved from 0.06072 to 0.06063, saving model to ckpts\\digits\\feature-extractor-ae.hdf5\n",
      "Epoch 81/128\n",
      "5513/5513 [==============================] - 1s 251us/step - loss: 0.0603 - val_loss: 0.0606\n",
      "\n",
      "Epoch 00081: val_loss did not improve from 0.06063\n",
      "Epoch 82/128\n",
      "5513/5513 [==============================] - 1s 230us/step - loss: 0.0603 - val_loss: 0.0605\n",
      "\n",
      "Epoch 00082: val_loss improved from 0.06063 to 0.06048, saving model to ckpts\\digits\\feature-extractor-ae.hdf5\n",
      "Epoch 83/128\n",
      "5513/5513 [==============================] - 1s 262us/step - loss: 0.0602 - val_loss: 0.0605\n",
      "\n",
      "Epoch 00083: val_loss did not improve from 0.06048\n",
      "Epoch 84/128\n",
      "5513/5513 [==============================] - 2s 276us/step - loss: 0.0602 - val_loss: 0.0604\n",
      "\n",
      "Epoch 00084: val_loss improved from 0.06048 to 0.06043, saving model to ckpts\\digits\\feature-extractor-ae.hdf5\n",
      "Epoch 85/128\n",
      "5513/5513 [==============================] - 1s 199us/step - loss: 0.0601 - val_loss: 0.0605\n",
      "\n",
      "Epoch 00085: val_loss did not improve from 0.06043\n",
      "\n",
      "Epoch 00085: ReduceLROnPlateau reducing learning rate to 0.027000001072883605.\n",
      "Epoch 86/128\n",
      "5513/5513 [==============================] - 1s 264us/step - loss: 0.0600 - val_loss: 0.0602\n",
      "\n",
      "Epoch 00086: val_loss improved from 0.06043 to 0.06024, saving model to ckpts\\digits\\feature-extractor-ae.hdf5\n",
      "Epoch 87/128\n",
      "5513/5513 [==============================] - 1s 252us/step - loss: 0.0600 - val_loss: 0.0602\n",
      "\n",
      "Epoch 00087: val_loss improved from 0.06024 to 0.06023, saving model to ckpts\\digits\\feature-extractor-ae.hdf5\n",
      "Epoch 88/128\n",
      "5513/5513 [==============================] - 1s 257us/step - loss: 0.0600 - val_loss: 0.0602\n",
      "\n",
      "Epoch 00088: val_loss did not improve from 0.06023\n",
      "Epoch 89/128\n",
      "5513/5513 [==============================] - 1s 269us/step - loss: 0.0600 - val_loss: 0.0603\n",
      "\n",
      "Epoch 00089: val_loss did not improve from 0.06023\n",
      "\n",
      "Epoch 00089: ReduceLROnPlateau reducing learning rate to 0.008100000210106373.\n",
      "Epoch 90/128\n",
      "5513/5513 [==============================] - 2s 278us/step - loss: 0.0600 - val_loss: 0.0602\n",
      "\n",
      "Epoch 00090: val_loss improved from 0.06023 to 0.06019, saving model to ckpts\\digits\\feature-extractor-ae.hdf5\n",
      "Epoch 91/128\n",
      "5513/5513 [==============================] - 1s 245us/step - loss: 0.0599 - val_loss: 0.0602\n",
      "\n",
      "Epoch 00091: val_loss improved from 0.06019 to 0.06018, saving model to ckpts\\digits\\feature-extractor-ae.hdf5\n",
      "Epoch 92/128\n",
      "5513/5513 [==============================] - 1s 223us/step - loss: 0.0599 - val_loss: 0.0602\n",
      "\n",
      "Epoch 00092: val_loss improved from 0.06018 to 0.06018, saving model to ckpts\\digits\\feature-extractor-ae.hdf5\n",
      "\n",
      "Epoch 00092: ReduceLROnPlateau reducing learning rate to 0.0024300000630319116.\n",
      "Epoch 93/128\n",
      "5513/5513 [==============================] - 1s 244us/step - loss: 0.0599 - val_loss: 0.0602\n",
      "\n",
      "Epoch 00093: val_loss improved from 0.06018 to 0.06018, saving model to ckpts\\digits\\feature-extractor-ae.hdf5\n",
      "Epoch 94/128\n",
      "5513/5513 [==============================] - 1s 262us/step - loss: 0.0599 - val_loss: 0.0602\n",
      "\n",
      "Epoch 00094: val_loss improved from 0.06018 to 0.06017, saving model to ckpts\\digits\\feature-extractor-ae.hdf5\n",
      "Epoch 95/128\n",
      "5513/5513 [==============================] - 1s 268us/step - loss: 0.0599 - val_loss: 0.0602\n",
      "\n",
      "Epoch 00095: val_loss improved from 0.06017 to 0.06017, saving model to ckpts\\digits\\feature-extractor-ae.hdf5\n",
      "\n",
      "Epoch 00095: ReduceLROnPlateau reducing learning rate to 0.0007290000328794121.\n",
      "Epoch 96/128\n",
      "5513/5513 [==============================] - 1s 252us/step - loss: 0.0599 - val_loss: 0.0602\n",
      "\n",
      "Epoch 00096: val_loss improved from 0.06017 to 0.06017, saving model to ckpts\\digits\\feature-extractor-ae.hdf5\n",
      "Epoch 00096: early stopping\n"
     ]
    }
   ],
   "source": [
    "ckpt_loc = os.path.join(ckpt_path,\"feature-extractor-ae.hdf5\")\n",
    "\n",
    "if os.path.isfile(ckpt_loc):\n",
    "    print(\"Loading Autoencoder for %s feature extraction from directory %s...\" % (USE_CASE,ckpt_loc))\n",
    "    ae = load_model(ckpt_loc)\n",
    "    encoder, decoder = get_codec_from_ae(ae)\n",
    "    ae.summary()    \n",
    "else:\n",
    "    print(\"Training Autoencoder for %s feature extraction...\" % USE_CASE)\n",
    "    ae, encoder, decoder = build_conv_ae(filters=[16,12,8,2])\n",
    "    earlyStopping = EarlyStopping(\n",
    "        monitor=\"val_loss\", patience=10, verbose=1, mode=\"min\", min_delta=0.0005\n",
    "    )\n",
    "    mcp_save = ModelCheckpoint(\n",
    "        ckpt_loc, save_best_only=True, verbose=1, monitor=\"val_loss\", mode=\"min\"\n",
    "    )\n",
    "    reduce_lr_loss = ReduceLROnPlateau(\n",
    "        monitor=\"val_loss\", factor=0.3, patience=3, verbose=1, mode=\"min\"\n",
    "    )\n",
    "    ae.summary()    \n",
    "    ae.fit(\n",
    "        X_normal_train,\n",
    "        X_normal_train,\n",
    "        epochs=128,\n",
    "        batch_size=128,\n",
    "        shuffle=True,\n",
    "        validation_data=(X_normal_validate, X_normal_validate),\n",
    "        callbacks=[earlyStopping, mcp_save, reduce_lr_loss],\n",
    "    )"
   ]
  },
  {
   "cell_type": "markdown",
   "metadata": {},
   "source": [
    "TODO fix parametrised ae building"
   ]
  },
  {
   "cell_type": "markdown",
   "metadata": {},
   "source": [
    "## Evaluating the feature extractor"
   ]
  },
  {
   "cell_type": "code",
   "execution_count": 144,
   "metadata": {
    "scrolled": true
   },
   "outputs": [],
   "source": [
    "def evaluate_ae(ae, X_train, X_validate, X_test):\n",
    "    eval_train = ae.evaluate(X_train, X_train)\n",
    "    eval_validate = ae.evaluate(X_validate, X_validate)\n",
    "    eval_test = ae.evaluate(X_test, X_test)\n",
    "    return eval_train, eval_validate, eval_test"
   ]
  },
  {
   "cell_type": "code",
   "execution_count": 145,
   "metadata": {},
   "outputs": [
    {
     "name": "stdout",
     "output_type": "stream",
     "text": [
      "5513/5513 [==============================] - 1s 250us/step\n",
      "1182/1182 [==============================] - 0s 312us/step\n",
      "1182/1182 [==============================] - 0s 181us/step\n",
      "0.05992409170319916 0.059252494835813234\n"
     ]
    }
   ],
   "source": [
    "eval_train, eval_validate, eval_test = evaluate_ae(\n",
    "    ae, X_normal_train, X_normal_validate, X_normal_test\n",
    ")\n",
    "print(eval_train, eval_test)"
   ]
  },
  {
   "cell_type": "code",
   "execution_count": 146,
   "metadata": {},
   "outputs": [
    {
     "data": {
      "image/png": "[encoded data removed]",
      "text/plain": [
       "<Figure size 1152x288 with 16 Axes>"
      ]
     },
     "metadata": {
      "needs_background": "light"
     },
     "output_type": "display_data"
    }
   ],
   "source": [
    "encoded_normal_imgs_train = encoder.predict(X_normal_train)  # used later for One Class Classification\n",
    "encoded_normal_imgs_test = encoder.predict(X_normal_test) \n",
    "decoded_normal_imgs = decoder.predict(encoded_normal_imgs_test)\n",
    "plot_samples(X_normal_test, decoded_normal_imgs, plot_mnist,os.path.join(img_path,\"rec-{}.png\".format(NORMAL_STR)))"
   ]
  },
  {
   "cell_type": "code",
   "execution_count": 147,
   "metadata": {},
   "outputs": [
    {
     "data": {
      "image/png": "[encoded data removed]",
      "text/plain": [
       "<Figure size 1152x288 with 16 Axes>"
      ]
     },
     "metadata": {
      "needs_background": "light"
     },
     "output_type": "display_data"
    }
   ],
   "source": [
    "encoded_anomaly_imgs = encoder.predict(X_anomaly_test) # used later for One Class Classification\n",
    "decoded_anomaly_imgs = decoder.predict(encoded_anomaly_imgs)\n",
    "plot_samples(X_anomaly_test, decoded_anomaly_imgs, plot_mnist,os.path.join(img_path,\"rec-{}.png\".format(ANOMALY_STR)))"
   ]
  },
  {
   "cell_type": "markdown",
   "metadata": {},
   "source": [
    "# Anomaly detection\n",
    "## Loss based\n",
    "### Computing the reconstruction loss for anomalies and normalities"
   ]
  },
  {
   "cell_type": "code",
   "execution_count": 148,
   "metadata": {},
   "outputs": [],
   "source": [
    "def loss_per_img(img,rec_img):\n",
    "    return np.sum(np.power(rec_img - img,2))"
   ]
  },
  {
   "cell_type": "code",
   "execution_count": 149,
   "metadata": {},
   "outputs": [
    {
     "data": {
      "text/plain": [
       "(5.78772041792575, 54.64229229951634)"
      ]
     },
     "execution_count": 149,
     "metadata": {},
     "output_type": "execute_result"
    }
   ],
   "source": [
    "normal_losses = np.array([loss_per_img(i,ri) for i,ri in zip(X_normal_test,decoded_normal_imgs)])\n",
    "anomaly_losses = np.array([loss_per_img(i, ri) for i, ri in zip(X_anomaly_test, decoded_anomaly_imgs)])\n",
    "\n",
    "normal_losses.mean(), anomaly_losses.mean()"
   ]
  },
  {
   "cell_type": "code",
   "execution_count": 150,
   "metadata": {},
   "outputs": [],
   "source": [
    "def plot_hist(values, bins=50, relative=False, color=\"r\"):\n",
    "    t = np.linspace(values.min(), values.max(), bins)\n",
    "    denominator = len(values) if relative else 1\n",
    "    hist = np.histogram(values, bins)\n",
    "    plt.plot(t, hist[0]/denominator, color)"
   ]
  },
  {
   "cell_type": "code",
   "execution_count": 151,
   "metadata": {},
   "outputs": [
    {
     "data": {
      "image/png": "[encoded data removed]",
      "text/plain": [
       "<Figure size 432x288 with 1 Axes>"
      ]
     },
     "metadata": {
      "needs_background": "light"
     },
     "output_type": "display_data"
    }
   ],
   "source": [
    "bins = 10\n",
    "# loss distribution over the normal dataset\n",
    "plot_hist(normal_losses,relative=True,color=\"g\",bins=bins)\n",
    "# loss distribution over the anomaly dataset \n",
    "plot_hist(anomaly_losses,relative=True,color=\"r\",bins=bins)\n",
    "plt.show()"
   ]
  },
  {
   "cell_type": "markdown",
   "metadata": {},
   "source": [
    "### Evaluating the loss based approach"
   ]
  },
  {
   "cell_type": "code",
   "execution_count": 152,
   "metadata": {},
   "outputs": [
    {
     "data": {
      "image/png": "[encoded data removed]",
      "text/plain": [
       "<Figure size 432x288 with 1 Axes>"
      ]
     },
     "metadata": {
      "needs_background": "light"
     },
     "output_type": "display_data"
    },
    {
     "data": {
      "text/plain": [
       "(0.9711999999999756, 18.61047104896136)"
      ]
     },
     "execution_count": 152,
     "metadata": {},
     "output_type": "execute_result"
    }
   ],
   "source": [
    "# x:= \"false detected anomalies in %\"\n",
    "# y:= \"correct detected normal data points in %\"\n",
    "FPs = FNs = []\n",
    "prec = 10000  # precision for getting the best threshold value\n",
    "step_size = 1.0 / prec\n",
    "TPs = np.arange(0.75, 1, step_size)\n",
    "\n",
    "for i in TPs: \n",
    "    # loss value for detection of i*100 percent normal data points\n",
    "    loss_boundary = np.sort(normal_losses)[int(len(normal_losses) * i)] \n",
    "\n",
    "    detected_normals = X_normal_test[normal_losses >= loss_boundary]\n",
    "    undetected_anomalies = X_anomaly_test[anomaly_losses < loss_boundary]\n",
    "\n",
    "    FP_rate = len(undetected_anomalies) / len(\n",
    "        anomaly_losses\n",
    "    )  # ratio between not detected loss values for anomalies\n",
    "    FN_rate = len(detected_normals) / len(\n",
    "        normal_losses\n",
    "    )  # ratio between not detected loss values for anomalies\n",
    "\n",
    "    FPs = np.append(FPs, FP_rate)  # not detected anomalies\n",
    "    FNs = np.append(FNs, FN_rate)  # as anomalies detected normalities\n",
    "    if FP_rate + FN_rate <= min(FNs + FPs): # less or equal since we want the biggest TP_rate (i)\n",
    "        loss_threshold = i\n",
    "        best_boundary = loss_boundary\n",
    "        \n",
    "    # print every 1/10 threshold step\n",
    "    if (int(i * prec)) % prec // 10 == 0:\n",
    "        print(\n",
    "            \"threshold:%.3f,dn:%f + ua:%f = %f\"\n",
    "            % (i, FN_rate, FP_rate, FN_rate + FP_rate)\n",
    "        )\n",
    "    # minimum value for FN_rate + FP_rate (least relative amount of falsely detected)\n",
    "\n",
    "plt.plot(FPs,TPs)\n",
    "plt.grid()\n",
    "plt.xlabel(\"FALSE POSITIVE RATE\")\n",
    "plt.ylabel(\"TRUE POSITIVE RATE\")\n",
    "plt.show()\n",
    "loss_threshold, best_boundary"
   ]
  },
  {
   "cell_type": "code",
   "execution_count": 153,
   "metadata": {},
   "outputs": [
    {
     "data": {
      "text/plain": [
       "(35, 3)"
      ]
     },
     "execution_count": 153,
     "metadata": {},
     "output_type": "execute_result"
    }
   ],
   "source": [
    "detected_normals = X_normal_test[normal_losses >= best_boundary] # values on the boundary are seen as anomalies\n",
    "undetected_anomalies = X_anomaly_test[anomaly_losses < best_boundary]\n",
    "len(detected_normals), len(undetected_anomalies)"
   ]
  },
  {
   "cell_type": "code",
   "execution_count": null,
   "metadata": {},
   "outputs": [],
   "source": [
    "plot_samples(detected_normals,undetected_anomalies,plot_mnist, os.path.join(img_path,\"wrong-{}.png\".format(USE_CASE)))"
   ]
  },
  {
   "cell_type": "markdown",
   "metadata": {},
   "source": [
    "### Predicting with the reconstruction loss approach"
   ]
  },
  {
   "cell_type": "code",
   "execution_count": 171,
   "metadata": {},
   "outputs": [],
   "source": [
    "def is_anomaly(X,boundary):\n",
    "    rec_img = ae.predict(X.reshape(1,28,28,1))\n",
    "    return loss_per_img(rec_img,X) > boundary"
   ]
  },
  {
   "cell_type": "code",
   "execution_count": 172,
   "metadata": {},
   "outputs": [
    {
     "data": {
      "text/plain": [
       "(False, True)"
      ]
     },
     "execution_count": 172,
     "metadata": {},
     "output_type": "execute_result"
    }
   ],
   "source": [
    "this_should_be_false = is_anomaly(X_normal_validate[0], best_boundary)\n",
    "this_should_be_true = is_anomaly(X_anomaly_validate[0], best_boundary)\n",
    "this_should_be_false, this_should_be_true"
   ]
  },
  {
   "cell_type": "markdown",
   "metadata": {},
   "source": [
    "## One Class SVM approach"
   ]
  },
  {
   "cell_type": "code",
   "execution_count": 155,
   "metadata": {},
   "outputs": [],
   "source": [
    "from sklearn import svm\n",
    "from sklearn.metrics import precision_recall_curve, auc, roc_auc_score,accuracy_score"
   ]
  },
  {
   "cell_type": "code",
   "execution_count": 204,
   "metadata": {},
   "outputs": [
    {
     "name": "stdout",
     "output_type": "stream",
     "text": [
      "0.10 0.9103690685413005 0.8967851099830795 0.9281961471103327\n",
      "0.20 0.8804920913884007 0.7961082910321489 0.9681069958847737\n",
      "0.30 0.8347978910369068 0.6971235194585449 0.9786223277909739\n",
      "0.40 0.7926186291739895 0.6099830795262268 0.9849726775956285\n",
      "0.50 0.7451669595782073 0.511844331641286 0.9950657894736842\n",
      "0.60 0.6884885764499121 0.4027072758037225 0.9937369519832986\n",
      "0.70 0.6432337434094904 0.3147208121827411 0.9946524064171123\n",
      "0.80 0.5900702987697716 0.21150592216582065 0.9960159362549801\n",
      "0.90 0.5373462214411248 0.10998307952622674 0.9923664122137404\n"
     ]
    },
    {
     "data": {
      "text/plain": [
       "(0.1, 0.9117834418782375)"
      ]
     },
     "execution_count": 204,
     "metadata": {},
     "output_type": "execute_result"
    }
   ],
   "source": [
    "encoded_normal_imgs_train = encoded_normal_imgs_train.reshape(\n",
    "            -1, np.prod(encoded_normal_imgs_train.shape[1:])\n",
    "        )\n",
    "encoded_normal_imgs_test = encoded_normal_imgs_test.reshape(\n",
    "            -1, np.prod(encoded_normal_imgs_test.shape[1:])\n",
    "        )\n",
    "encoded_anomaly_imgs = encoded_anomaly_imgs.reshape(-1, np.prod(encoded_anomaly_imgs.shape[1:]))\n",
    "best_metrics =0\n",
    "for i in np.arange(0.1, 1, 0.1):\n",
    "    clf = svm.OneClassSVM(gamma=\"auto\", nu=i)\n",
    "    clf.fit(encoded_normal_imgs_train)\n",
    "    \n",
    "    score_normal = clf.predict(encoded_normal_imgs_test)\n",
    "    bins = 2\n",
    "    # hist_normal = np.histogram(score_normal, bins)\n",
    "    # t = np.linspace(score_normal.min(), score_normal.max(), bins)\n",
    "    # plt.bar(t, hist_normal[0], width=0.5, color=\"g\")\n",
    "    # plt.show()\n",
    "\n",
    "    score_anomaly = clf.predict(encoded_anomaly_imgs)\n",
    "\n",
    "    # hist_anomaly = np.histogram(score_anomaly, bins)\n",
    "    # t = np.linspace(score_anomaly.min(), score_anomaly.max(), bins)\n",
    "    # plt.bar(t, hist_anomaly[0], width=0.5, color=\"r\")\n",
    "    # plt.show()\n",
    "\n",
    "\n",
    "    TP = len(score_normal[score_normal == 1])\n",
    "    FN = len(score_normal[score_normal == -1])\n",
    "\n",
    "    TN = len(score_anomaly[score_anomaly == -1])\n",
    "    FP = len(score_anomaly[score_anomaly == 1])\n",
    "    accuracy = (TP + TN) / (len(score_normal) + len(score_anomaly))\n",
    "    precision = TP / (TP + FN)\n",
    "    recall = TP / (TP + FP)\n",
    "    if (accuracy+precision+recall)/3 > best_metrics:\n",
    "        best_nu = i\n",
    "        best_metrics = (accuracy+precision+recall)/3\n",
    "        oc_svm = clf\n",
    "    print(\"%.2f\" % i, accuracy, precision, recall)\n",
    "best_nu,best_metrics\n"
   ]
  },
  {
   "cell_type": "code",
   "execution_count": 226,
   "metadata": {},
   "outputs": [],
   "source": [
    "def is_anomaly_svm(X,oc_svm):\n",
    "    X = X.reshape((1,X.shape[0]))\n",
    "    prediction = oc_svm.predict(X)[0]\n",
    "    return prediction == -1"
   ]
  },
  {
   "cell_type": "code",
   "execution_count": 228,
   "metadata": {},
   "outputs": [
    {
     "data": {
      "text/plain": [
       "(False, True)"
      ]
     },
     "execution_count": 228,
     "metadata": {},
     "output_type": "execute_result"
    }
   ],
   "source": [
    "this_should_be_false_svm = is_anomaly_svm(encoded_normal_imgs_train[0], oc_svm)\n",
    "this_should_be_true_svm = is_anomaly_svm(encoded_anomaly_imgs[0], oc_svm)\n",
    "this_should_be_false_svm, this_should_be_true_svm"
   ]
  },
  {
   "cell_type": "markdown",
   "metadata": {},
   "source": [
    "# TODO: Encoded feature analysis with our friend CF Gauss"
   ]
  },
  {
   "cell_type": "code",
   "execution_count": 157,
   "metadata": {},
   "outputs": [],
   "source": [
    "flat_shape = np.prod(encoded_normal_imgs_train.shape[1:], dtype=np.int64)\n",
    "encoded_normal_imgs_train = encoded_normal_imgs_train.reshape(\n",
    "    len(encoded_normal_imgs_train), flat_shape\n",
    ")\n",
    "encoded_normal_imgs_test = encoded_normal_imgs_test.reshape(\n",
    "    len(encoded_normal_imgs_test), flat_shape\n",
    ")"
   ]
  },
  {
   "cell_type": "code",
   "execution_count": 158,
   "metadata": {},
   "outputs": [],
   "source": [
    "def gauss(x_i, my_i, sigma_i2):\n",
    "    # gaussian distribution for one feature\n",
    "    if sigma_i2 == 0:\n",
    "        return 1 if x_i == my_i else 0\n",
    "    return np.array(\n",
    "        (1 / np.sqrt(2 * np.pi * sigma_i2))\n",
    "        * np.exp(-(x_i - my_i) ** 2 / (2 * sigma_i2))\n",
    "    )"
   ]
  },
  {
   "cell_type": "code",
   "execution_count": 159,
   "metadata": {},
   "outputs": [],
   "source": [
    "def my(X):\n",
    "    return np.array([(1 / len(x)) * np.sum(x) for x in X.T])"
   ]
  },
  {
   "cell_type": "code",
   "execution_count": 160,
   "metadata": {},
   "outputs": [],
   "source": [
    "def sigma2(X, my):\n",
    "    # computes sigma squared for each feature\n",
    "    m = len(X)  # number of data points\n",
    "    return np.array([(1/m)*np.sum((X[:, i] - my[i]) ** 2) for i in range(len(my))])"
   ]
  },
  {
   "cell_type": "code",
   "execution_count": 161,
   "metadata": {},
   "outputs": [],
   "source": [
    "def p(X,my,sigma2):\n",
    "    return np.array([np.prod([gauss(x[i], my[i], sigma2[i])\n",
    "               for i in range(len(x))]) for x in X])"
   ]
  },
  {
   "cell_type": "code",
   "execution_count": 162,
   "metadata": {},
   "outputs": [],
   "source": [
    "X= encoded_normal_imgs_test\n",
    "m = len(X)\n",
    "number_of_features = len(X[0])\n",
    "my = np.array([(1 / len(x)) * np.sum(x) for x in X.T])\n",
    "sigma_2 = np.array(\n",
    "    [np.sum((X[:, i] - my[i]) ** 2) / m for i in range(number_of_features)]\n",
    ")\n",
    "\n",
    "p_all = p(X, my, sigma_2)\n"
   ]
  },
  {
   "cell_type": "code",
   "execution_count": 163,
   "metadata": {},
   "outputs": [
    {
     "data": {
      "image/png": "[encoded data removed]",
      "text/plain": [
       "<Figure size 1440x1440 with 7 Axes>"
      ]
     },
     "metadata": {
      "needs_background": "light"
     },
     "output_type": "display_data"
    }
   ],
   "source": [
    "plt.figure(figsize=(20, 20))\n",
    "for i in range(len(my)-1):\n",
    "    # plots distribution of i-th feature\n",
    "    # display original\n",
    "    bins = 20\n",
    "    hist = np.histogram(X[:, i], bins=bins)\n",
    "    ax = plt.subplot(4, 6, i + 1)\n",
    "    r = np.linspace(start=min(X[:, i]), stop=max(X[:, i]), num=bins)\n",
    "    plt.plot(r, hist[0]/len(X[:,i]))"
   ]
  },
  {
   "cell_type": "code",
   "execution_count": 164,
   "metadata": {},
   "outputs": [
    {
     "data": {
      "image/png": "[encoded data removed]",
      "text/plain": [
       "<Figure size 1440x1440 with 7 Axes>"
      ]
     },
     "metadata": {
      "needs_background": "light"
     },
     "output_type": "display_data"
    }
   ],
   "source": [
    "X= encoded_anomaly_imgs\n",
    "m = len(X)\n",
    "number_of_features = len(X[0])\n",
    "my = np.array([(1 / len(x)) * np.sum(x) for x in X.T])\n",
    "sigma_2 = np.array(\n",
    "    [np.sum((X[:, i] - my[i]) ** 2) / m for i in range(number_of_features)]\n",
    ")\n",
    "\n",
    "p_all = p(X, my, sigma_2)\n",
    "plt.figure(figsize=(20, 20))\n",
    "for i in range(len(my)-1):\n",
    "    # plots distribution of i-th feature\n",
    "    # display original\n",
    "    bins = 20\n",
    "    hist = np.histogram(X[:, i], bins=bins)\n",
    "    ax = plt.subplot(4, 6, i + 1)\n",
    "    r = np.linspace(start=min(X[:, i]), stop=max(X[:, i]), num=bins)\n",
    "    plt.plot(r, hist[0]/len(X[:,i]))"
   ]
  },
  {
   "cell_type": "code",
   "execution_count": null,
   "metadata": {},
   "outputs": [],
   "source": []
  },
  {
   "cell_type": "code",
   "execution_count": null,
   "metadata": {},
   "outputs": [],
   "source": []
  }
 ],
 "metadata": {
  "kernelspec": {
   "display_name": "Python 3",
   "language": "python",
   "name": "python3"
  },
  "language_info": {
   "codemirror_mode": {
    "name": "ipython",
    "version": 3
   },
   "file_extension": ".py",
   "mimetype": "text/x-python",
   "name": "python",
   "nbconvert_exporter": "python",
   "pygments_lexer": "ipython3",
   "version": "3.7.3"
  }
 },
 "nbformat": 4,
 "nbformat_minor": 2
}
