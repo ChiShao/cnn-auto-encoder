{
 "cells": [
  {
   "cell_type": "code",
   "execution_count": 1,
   "metadata": {},
   "outputs": [],
   "source": [
    "%load_ext blackcellmagic"
   ]
  },
  {
   "cell_type": "code",
   "execution_count": 2,
   "metadata": {},
   "outputs": [
    {
     "name": "stderr",
     "output_type": "stream",
     "text": [
      "Using TensorFlow backend.\n"
     ]
    }
   ],
   "source": [
    "import os\n",
    "\n",
    "import matplotlib.pyplot as plt\n",
    "import numpy as np\n",
    "import tensorflow as tf\n",
    "from keras.callbacks import (\n",
    "    EarlyStopping,\n",
    "    ModelCheckpoint,\n",
    "    ReduceLROnPlateau,\n",
    "    TensorBoard,\n",
    ")\n",
    "from keras.datasets import mnist, fashion_mnist, cifar10, cifar100\n",
    "from keras.layers import (\n",
    "    Conv2D,\n",
    "    Dense,\n",
    "    Flatten,\n",
    "    Input,\n",
    "    MaxPooling2D,\n",
    "    Reshape,\n",
    "    UpSampling2D,\n",
    ")\n",
    "from keras.models import Model, Sequential, load_model\n",
    "from keras.utils import to_categorical\n",
    "\n",
    "from sklearn.metrics import confusion_matrix"
   ]
  },
  {
   "cell_type": "code",
   "execution_count": 3,
   "metadata": {},
   "outputs": [],
   "source": [
    "# CIFAR_10 = cifar10.load_data()\n",
    "# CIFAR_100 = cifar100.load_data()\n",
    "MNIST = mnist.load_data()\n",
    "# FASHION_MNIST = fashion_mnist.load_data()"
   ]
  },
  {
   "cell_type": "code",
   "execution_count": 4,
   "metadata": {},
   "outputs": [],
   "source": [
    "# this is the size of our encoded representations\n",
    "ENCODING_DIM = 10\n",
    "\n",
    "# decision boundary for classifier\n",
    "THRESHOLD = 0.7\n",
    "\n",
    "# working directory\n",
    "CUR_DIR = os.path.abspath(os.path.curdir)\n",
    "\n",
    "# setting random seed for reproducable results\n",
    "np.random.seed(42)"
   ]
  },
  {
   "cell_type": "code",
   "execution_count": 5,
   "metadata": {},
   "outputs": [],
   "source": [
    "def train_test_split(X, y, train_split=0.7, test_split=0.85):\n",
    "    indices = np.arange(X.shape[0])\n",
    "    np.random.shuffle(indices)\n",
    "    X = X[indices]\n",
    "    y = y[indices]\n",
    "\n",
    "    # define boundaries for train,validation and test set at .7 and .85 % of the MNIST data set\n",
    "    x_len = len(X)\n",
    "    boundaries = [int(x_len * train_split), int(x_len * test_split)]\n",
    "\n",
    "    [X_train, X_test, X_validate] = np.split(X, boundaries)\n",
    "\n",
    "    [y_train, y_test, y_validate] = np.split(y, boundaries)\n",
    "    return (X_train, X_test, X_validate), (y_train, y_test, y_validate)"
   ]
  },
  {
   "cell_type": "code",
   "execution_count": 6,
   "metadata": {},
   "outputs": [],
   "source": [
    "def get_data(dataset, train_split=0.7, test_split=0.85):\n",
    "    \"\"\"retrieves data set and rebalances dataset, such that train=.7, test=.15 and validation=.15.\n",
    "    :param dataset is assumed to be loaded from keras.datasets, thus the from 2-tuple(2-tuple) is assumed.\"\"\"\n",
    "    if not (len(dataset) == 2 and all([len(d) == 2 for d in dataset])):\n",
    "        raise ValueError(\n",
    "            \"Datset has not the correct form. Please load from keras.datasets or convert to similar form.\"\n",
    "        )\n",
    "\n",
    "    (X_train, y_train), (X_test, y_test) = dataset\n",
    "    if len(X_train.shape) == 3: # MNIST data set\n",
    "        X_train = X_train.reshape((list(X_train.shape) + [1])) /255.0\n",
    "        test_len = len(X_test)\n",
    "        X_test = X_test.reshape((list(X_test.shape) + [1])) / 255.0\n",
    "\n",
    "    # divide X values bei 255.0 since MNIST data set changed such that pixel values are in [0,255]\n",
    "    X = np.concatenate((X_train, X_test)) \n",
    "    y = np.concatenate((y_train, y_test))\n",
    "\n",
    "    (X_train, X_test, X_validate), (y_train, y_test, y_validate) = train_test_split(\n",
    "        X, y\n",
    "    )  # default: .7, .85\n",
    "    # one-hot encode target columns\n",
    "    y_train = to_categorical(y_train)\n",
    "    y_test = to_categorical(y_test)\n",
    "    y_validate = to_categorical(y_validate)\n",
    "\n",
    "    return (X_train, X_test, X_validate), (y_train, y_test, y_validate)"
   ]
  },
  {
   "cell_type": "code",
   "execution_count": 7,
   "metadata": {},
   "outputs": [],
   "source": [
    "(X_train, X_test, X_validate), (y_train, y_test, y_validate) = get_data(MNIST)\n",
    "#plt.imshow(X_train[3].reshape((28,28)),cmap=\"gray\")"
   ]
  },
  {
   "cell_type": "code",
   "execution_count": 8,
   "metadata": {},
   "outputs": [
    {
     "data": {
      "text/plain": [
       "(49000, 28, 28, 1)"
      ]
     },
     "execution_count": 8,
     "metadata": {},
     "output_type": "execute_result"
    }
   ],
   "source": [
    "X_train.shape"
   ]
  },
  {
   "cell_type": "code",
   "execution_count": 9,
   "metadata": {},
   "outputs": [],
   "source": [
    "def get_specific_data_set(X, y, digit):\n",
    "    # parameters are training AND test data for X respectively y \n",
    "    # is assumed to be in one-hot-encoding\n",
    "    y = np.argmax(y, axis=1)\n",
    "    indices = np.where(y == digit)\n",
    "\n",
    "    # filtering by the passed digit. needs to be an int\n",
    "    X_digit = X[indices]    \n",
    "    y_digit = y[indices]\n",
    "     \n",
    "    y_digit = to_categorical(y_digit) # array of length 2 of form [0., 1.]\n",
    "    \n",
    "    # splitting into training and test set is not necessary since the data for single digits\n",
    "    # is just used for evaluation purposes (except for \"1\")\n",
    "    \n",
    "    return [X_digit, y_digit]"
   ]
  },
  {
   "cell_type": "code",
   "execution_count": 10,
   "metadata": {},
   "outputs": [
    {
     "data": {
      "text/plain": [
       "((70000, 28, 28, 1), (70000, 10))"
      ]
     },
     "execution_count": 10,
     "metadata": {},
     "output_type": "execute_result"
    }
   ],
   "source": [
    "X = np.concatenate((X_train, X_test, X_validate))\n",
    "y = np.concatenate((y_train, y_test, y_validate))\n",
    "X.shape, y.shape"
   ]
  },
  {
   "cell_type": "code",
   "execution_count": 11,
   "metadata": {},
   "outputs": [],
   "source": [
    "# digit = 0\n",
    "# X_zero, y_zero = get_specific_data_set(X, y, digit)\n",
    "# digit = 8\n",
    "# X_eight, y_eight = get_specific_data_set(X, y, digit)\n",
    "# digit = 1\n",
    "# X_one, y_one =  get_specific_data_set(X, y, digit)\n",
    "# digit = 7\n",
    "# X_seven, y_seven = get_specific_data_set(X, y, digit)\n",
    "digit_data = [get_specific_data_set(X, y, i) for i in range(10)]\n",
    "\n",
    "all_digits = X[np.where(np.argmax(y,axis=1)!= 1)]"
   ]
  },
  {
   "cell_type": "code",
   "execution_count": 12,
   "metadata": {},
   "outputs": [
    {
     "data": {
      "image/png": "[encoded data removed]",
      "text/plain": [
       "<Figure size 1152x288 with 16 Axes>"
      ]
     },
     "metadata": {
      "needs_background": "light"
     },
     "output_type": "display_data"
    }
   ],
   "source": [
    "plt.figure(figsize=(16, 4))\n",
    "# normalities\n",
    "for i in range(len(digit_data[1][0][0]))[:8]:\n",
    "    ax = plt.subplot(2, 8, i+1)\n",
    "    plt.imshow(digit_data[1][0][i].reshape(28, 28))\n",
    "    plt.gray()\n",
    "    ax.get_xaxis().set_visible(False)\n",
    "    ax.get_yaxis().set_visible(False)\n",
    "# anomalies\n",
    "for i in range(len(digit_data[1][0][0]))[:8]:\n",
    "    ax = plt.subplot(2, 8, 8+i+1)\n",
    "    plt.imshow(digit_data[7][0][i].reshape(28, 28))\n",
    "    ax.get_xaxis().set_visible(False)\n",
    "    ax.get_yaxis().set_visible(False)"
   ]
  },
  {
   "cell_type": "code",
   "execution_count": 13,
   "metadata": {},
   "outputs": [],
   "source": [
    "def build_classifier(input_dim):\n",
    "    \"\"\"Builds classifier for classification of MNIST encoded representation.\"\"\"\n",
    "    classifier = Sequential()\n",
    "    classifier.add(Dense(32, activation=\"relu\", input_dim=input_dim,\n",
    "                         kernel_initializer=\"random_normal\"))\n",
    "    classifier.add(Dense(ENCODING_DIM, activation=\"softmax\",\n",
    "                         kernel_initializer=\"random_normal\"))\n",
    "\n",
    "    classifier.compile(optimizer='adam', loss='mean_squared_error',\n",
    "                       metrics=['accuracy'])\n",
    "    return classifier"
   ]
  },
  {
   "cell_type": "code",
   "execution_count": 14,
   "metadata": {},
   "outputs": [],
   "source": [
    "def build_conv_aue():\n",
    "    INPUT_SHAPE = (28, 28, 1)\n",
    "    DEFAULT_KERNEL = (3, 3)\n",
    "    DEFAULT_POOL_SIZE = (2, 2)\n",
    "    # this is our input placeholder\n",
    "    input_img = Input(shape=INPUT_SHAPE)\n",
    "    # layer between input and middle layer\n",
    "    encode = Conv2D(16, DEFAULT_KERNEL, activation=\"relu\", padding=\"same\")(input_img)\n",
    "    encode = MaxPooling2D(DEFAULT_POOL_SIZE, padding=\"same\")(encode)\n",
    "    encode = Conv2D(8, DEFAULT_KERNEL, activation=\"relu\", padding=\"same\")(encode)\n",
    "    encode = MaxPooling2D(DEFAULT_POOL_SIZE, padding=\"same\")(encode)\n",
    "    encode = Conv2D(8, DEFAULT_KERNEL, activation=\"relu\", padding=\"same\")(encode)\n",
    "    encode = MaxPooling2D(DEFAULT_POOL_SIZE, padding=\"same\")(encode)\n",
    "    encode = Conv2D(6, DEFAULT_KERNEL, activation=\"relu\", padding=\"same\")(encode)\n",
    "\n",
    "    # \"encoded\" is the encoded representation of the input, middle layer of the aue\n",
    "    encoded = MaxPooling2D(DEFAULT_POOL_SIZE, padding=\"same\", name=\"encoder\")(encode)\n",
    "\n",
    "    # layer between middle and output layer\n",
    "    decode = Conv2D(6, DEFAULT_KERNEL, activation=\"relu\", padding=\"same\")(encoded)\n",
    "    decode = UpSampling2D(DEFAULT_POOL_SIZE)(decode)\n",
    "    decode = Conv2D(8, DEFAULT_KERNEL, activation=\"relu\", padding=\"same\")(decode)\n",
    "    decode = UpSampling2D(DEFAULT_POOL_SIZE)(decode)\n",
    "    decode = Conv2D(8, DEFAULT_KERNEL, activation=\"relu\", padding=\"same\")(decode)\n",
    "    decode = UpSampling2D(DEFAULT_POOL_SIZE)(decode)\n",
    "    decode = Conv2D(16, DEFAULT_KERNEL, activation=\"relu\")(decode)\n",
    "    decode = UpSampling2D(DEFAULT_POOL_SIZE)(decode)\n",
    "    decoded = Conv2D(1, DEFAULT_KERNEL, activation=\"sigmoid\", padding=\"same\")(decode)\n",
    "\n",
    "    # this model maps an input to its reconstruction\n",
    "    autoencoder = Model(inputs=input_img, outputs=decoded)\n",
    "\n",
    "    encoder, decoder = get_codec_from_aue(autoencoder)\n",
    "\n",
    "    # build (aka \"compile\") the model\n",
    "    autoencoder.compile(optimizer=\"adadelta\", loss=\"binary_crossentropy\")\n",
    "    return autoencoder, encoder, decoder"
   ]
  },
  {
   "cell_type": "code",
   "execution_count": 15,
   "metadata": {},
   "outputs": [],
   "source": [
    "def get_codec_from_aue(autoencoder):\n",
    "    encoder_layer = autoencoder.get_layer(\"encoder\")\n",
    "    # this model maps an input to its encoded representation; Big image to small rep\n",
    "    encoder = Model(\n",
    "        inputs=autoencoder.input, outputs=encoder_layer.output)\n",
    "\n",
    "    # create a placeholder for an encoded (ENCODING_DIM-dimensional) input\n",
    "    encoded_input = Input(shape=encoder_layer.output_shape[1:])\n",
    "\n",
    "    # getting the middle of the autoencoder\n",
    "    start = (len(autoencoder.layers))//2\n",
    "    decoder = autoencoder.layers[-start](encoded_input)\n",
    "    # stacking the decoder layers\n",
    "    for i in range(start-1, 0, -1):\n",
    "        decoder = autoencoder.layers[-i](decoder)\n",
    "\n",
    "    # create the decoder model; \"<\": encoded(small) representation to big image\n",
    "    decoder = Model(encoded_input, decoder)\n",
    "    return encoder, decoder"
   ]
  },
  {
   "cell_type": "code",
   "execution_count": 16,
   "metadata": {},
   "outputs": [],
   "source": [
    "# array to map digits to verbose representation to store model with appropriate naming\n",
    "digits_verbose = [\n",
    "    \"zero\",\n",
    "    \"one\",\n",
    "    \"two\",\n",
    "    \"three\",\n",
    "    \"four\",\n",
    "    \"five\",\n",
    "    \"six\",\n",
    "    \"seven\",\n",
    "    \"eight\",\n",
    "    \"nine\",\n",
    "]"
   ]
  },
  {
   "cell_type": "markdown",
   "metadata": {},
   "source": [
    "**all digits auto encoder**"
   ]
  },
  {
   "cell_type": "code",
   "execution_count": 17,
   "metadata": {},
   "outputs": [
    {
     "name": "stdout",
     "output_type": "stream",
     "text": [
      "Training Autoencoder for all digits...\n",
      "WARNING:tensorflow:From C:\\Users\\danie\\.conda\\envs\\tf-env\\lib\\site-packages\\tensorflow\\python\\framework\\op_def_library.py:263: colocate_with (from tensorflow.python.framework.ops) is deprecated and will be removed in a future version.\n",
      "Instructions for updating:\n",
      "Colocations handled automatically by placer.\n",
      "WARNING:tensorflow:From C:\\Users\\danie\\.conda\\envs\\tf-env\\lib\\site-packages\\tensorflow\\python\\ops\\math_ops.py:3066: to_int32 (from tensorflow.python.ops.math_ops) is deprecated and will be removed in a future version.\n",
      "Instructions for updating:\n",
      "Use tf.cast instead.\n",
      "Train on 49000 samples, validate on 10500 samples\n",
      "Epoch 1/128\n",
      "49000/49000 [==============================] - 20s 405us/step - loss: 0.2648 - val_loss: 0.2257\n",
      "\n",
      "Epoch 00001: val_loss improved from inf to 0.22572, saving model to C:\\Users\\danie\\coding\\cnn-auto-encoder\\ckpts\\all-conv-ae.hdf5\n",
      "Epoch 2/128\n",
      "49000/49000 [==============================] - 11s 223us/step - loss: 0.2108 - val_loss: 0.2043\n",
      "\n",
      "Epoch 00002: val_loss improved from 0.22572 to 0.20433, saving model to C:\\Users\\danie\\coding\\cnn-auto-encoder\\ckpts\\all-conv-ae.hdf5\n",
      "Epoch 3/128\n",
      "49000/49000 [==============================] - 7s 139us/step - loss: 0.1923 - val_loss: 0.1850\n",
      "\n",
      "Epoch 00003: val_loss improved from 0.20433 to 0.18504, saving model to C:\\Users\\danie\\coding\\cnn-auto-encoder\\ckpts\\all-conv-ae.hdf5\n",
      "Epoch 4/128\n",
      "49000/49000 [==============================] - 10s 205us/step - loss: 0.1818 - val_loss: 0.1813\n",
      "\n",
      "Epoch 00004: val_loss improved from 0.18504 to 0.18135, saving model to C:\\Users\\danie\\coding\\cnn-auto-encoder\\ckpts\\all-conv-ae.hdf5\n",
      "Epoch 5/128\n",
      "49000/49000 [==============================] - 11s 225us/step - loss: 0.1738 - val_loss: 0.1708\n",
      "\n",
      "Epoch 00005: val_loss improved from 0.18135 to 0.17076, saving model to C:\\Users\\danie\\coding\\cnn-auto-encoder\\ckpts\\all-conv-ae.hdf5\n",
      "Epoch 6/128\n",
      "49000/49000 [==============================] - 11s 215us/step - loss: 0.1672 - val_loss: 0.1655\n",
      "\n",
      "Epoch 00006: val_loss improved from 0.17076 to 0.16548, saving model to C:\\Users\\danie\\coding\\cnn-auto-encoder\\ckpts\\all-conv-ae.hdf5\n",
      "Epoch 7/128\n",
      "49000/49000 [==============================] - 10s 199us/step - loss: 0.1622 - val_loss: 0.1586\n",
      "\n",
      "Epoch 00007: val_loss improved from 0.16548 to 0.15860, saving model to C:\\Users\\danie\\coding\\cnn-auto-encoder\\ckpts\\all-conv-ae.hdf5\n",
      "Epoch 8/128\n",
      "49000/49000 [==============================] - 13s 266us/step - loss: 0.1588 - val_loss: 0.1571\n",
      "\n",
      "Epoch 00008: val_loss improved from 0.15860 to 0.15710, saving model to C:\\Users\\danie\\coding\\cnn-auto-encoder\\ckpts\\all-conv-ae.hdf5\n",
      "Epoch 9/128\n",
      "49000/49000 [==============================] - 10s 200us/step - loss: 0.1554 - val_loss: 0.1564\n",
      "\n",
      "Epoch 00009: val_loss improved from 0.15710 to 0.15643, saving model to C:\\Users\\danie\\coding\\cnn-auto-encoder\\ckpts\\all-conv-ae.hdf5\n",
      "Epoch 10/128\n",
      "49000/49000 [==============================] - 7s 147us/step - loss: 0.1530 - val_loss: 0.1504\n",
      "\n",
      "Epoch 00010: val_loss improved from 0.15643 to 0.15040, saving model to C:\\Users\\danie\\coding\\cnn-auto-encoder\\ckpts\\all-conv-ae.hdf5\n",
      "Epoch 11/128\n",
      "49000/49000 [==============================] - 9s 184us/step - loss: 0.1509 - val_loss: 0.1489\n",
      "\n",
      "Epoch 00011: val_loss improved from 0.15040 to 0.14895, saving model to C:\\Users\\danie\\coding\\cnn-auto-encoder\\ckpts\\all-conv-ae.hdf5\n",
      "Epoch 12/128\n",
      "49000/49000 [==============================] - 10s 208us/step - loss: 0.1489 - val_loss: 0.1501\n",
      "\n",
      "Epoch 00012: val_loss did not improve from 0.14895\n",
      "Epoch 13/128\n",
      "49000/49000 [==============================] - 10s 195us/step - loss: 0.1473 - val_loss: 0.1474\n",
      "\n",
      "Epoch 00013: val_loss improved from 0.14895 to 0.14743, saving model to C:\\Users\\danie\\coding\\cnn-auto-encoder\\ckpts\\all-conv-ae.hdf5\n",
      "Epoch 14/128\n",
      "49000/49000 [==============================] - 12s 247us/step - loss: 0.1462 - val_loss: 0.1429\n",
      "\n",
      "Epoch 00014: val_loss improved from 0.14743 to 0.14286, saving model to C:\\Users\\danie\\coding\\cnn-auto-encoder\\ckpts\\all-conv-ae.hdf5\n",
      "Epoch 15/128\n",
      "49000/49000 [==============================] - 8s 165us/step - loss: 0.1447 - val_loss: 0.1418\n",
      "\n",
      "Epoch 00015: val_loss improved from 0.14286 to 0.14179, saving model to C:\\Users\\danie\\coding\\cnn-auto-encoder\\ckpts\\all-conv-ae.hdf5\n",
      "Epoch 16/128\n",
      "49000/49000 [==============================] - 12s 240us/step - loss: 0.1440 - val_loss: 0.1448\n",
      "\n",
      "Epoch 00016: val_loss did not improve from 0.14179\n",
      "Epoch 17/128\n",
      "49000/49000 [==============================] - 12s 244us/step - loss: 0.1425 - val_loss: 0.1439\n",
      "\n",
      "Epoch 00017: val_loss did not improve from 0.14179\n",
      "Epoch 18/128\n",
      "49000/49000 [==============================] - 9s 185us/step - loss: 0.1417 - val_loss: 0.1405\n",
      "\n",
      "Epoch 00018: val_loss improved from 0.14179 to 0.14054, saving model to C:\\Users\\danie\\coding\\cnn-auto-encoder\\ckpts\\all-conv-ae.hdf5\n",
      "Epoch 19/128\n",
      "49000/49000 [==============================] - 12s 243us/step - loss: 0.1409 - val_loss: 0.1458\n",
      "\n",
      "Epoch 00019: val_loss did not improve from 0.14054\n",
      "Epoch 20/128\n",
      "49000/49000 [==============================] - 9s 177us/step - loss: 0.1405 - val_loss: 0.1375\n",
      "\n",
      "Epoch 00020: val_loss improved from 0.14054 to 0.13751, saving model to C:\\Users\\danie\\coding\\cnn-auto-encoder\\ckpts\\all-conv-ae.hdf5\n",
      "Epoch 21/128\n",
      "49000/49000 [==============================] - 10s 210us/step - loss: 0.1395 - val_loss: 0.1409\n",
      "\n",
      "Epoch 00021: val_loss did not improve from 0.13751\n",
      "Epoch 22/128\n",
      "49000/49000 [==============================] - 12s 238us/step - loss: 0.1390 - val_loss: 0.1378\n",
      "\n",
      "Epoch 00022: val_loss did not improve from 0.13751\n",
      "Epoch 23/128\n",
      "49000/49000 [==============================] - 10s 214us/step - loss: 0.1382 - val_loss: 0.1362\n",
      "\n",
      "Epoch 00023: val_loss improved from 0.13751 to 0.13617, saving model to C:\\Users\\danie\\coding\\cnn-auto-encoder\\ckpts\\all-conv-ae.hdf5\n",
      "Epoch 24/128\n",
      "49000/49000 [==============================] - 12s 251us/step - loss: 0.1377 - val_loss: 0.1393\n",
      "\n",
      "Epoch 00024: val_loss did not improve from 0.13617\n",
      "Epoch 25/128\n",
      "49000/49000 [==============================] - 9s 189us/step - loss: 0.1368 - val_loss: 0.1367\n",
      "\n",
      "Epoch 00025: val_loss did not improve from 0.13617\n",
      "Epoch 26/128\n",
      "49000/49000 [==============================] - 11s 220us/step - loss: 0.1368 - val_loss: 0.1343\n",
      "\n",
      "Epoch 00026: val_loss improved from 0.13617 to 0.13425, saving model to C:\\Users\\danie\\coding\\cnn-auto-encoder\\ckpts\\all-conv-ae.hdf5\n",
      "Epoch 27/128\n",
      "49000/49000 [==============================] - 9s 190us/step - loss: 0.1362 - val_loss: 0.1398\n",
      "\n",
      "Epoch 00027: val_loss did not improve from 0.13425\n",
      "Epoch 28/128\n",
      "49000/49000 [==============================] - 11s 234us/step - loss: 0.1358 - val_loss: 0.1327\n",
      "\n",
      "Epoch 00028: val_loss improved from 0.13425 to 0.13266, saving model to C:\\Users\\danie\\coding\\cnn-auto-encoder\\ckpts\\all-conv-ae.hdf5\n",
      "Epoch 29/128\n",
      "49000/49000 [==============================] - 8s 171us/step - loss: 0.1353 - val_loss: 0.1306\n",
      "\n",
      "Epoch 00029: val_loss improved from 0.13266 to 0.13061, saving model to C:\\Users\\danie\\coding\\cnn-auto-encoder\\ckpts\\all-conv-ae.hdf5\n",
      "Epoch 30/128\n",
      "49000/49000 [==============================] - 6s 122us/step - loss: 0.1345 - val_loss: 0.1342\n",
      "\n",
      "Epoch 00030: val_loss did not improve from 0.13061\n",
      "Epoch 31/128\n",
      "49000/49000 [==============================] - 8s 163us/step - loss: 0.1346 - val_loss: 0.1387\n",
      "\n",
      "Epoch 00031: val_loss did not improve from 0.13061\n",
      "Epoch 32/128\n",
      "49000/49000 [==============================] - 6s 117us/step - loss: 0.1341 - val_loss: 0.1314\n",
      "\n",
      "Epoch 00032: val_loss did not improve from 0.13061\n",
      "\n",
      "Epoch 00032: ReduceLROnPlateau reducing learning rate to 0.3.\n",
      "Epoch 33/128\n",
      "49000/49000 [==============================] - 5s 106us/step - loss: 0.1261 - val_loss: 0.1260\n",
      "\n",
      "Epoch 00033: val_loss improved from 0.13061 to 0.12597, saving model to C:\\Users\\danie\\coding\\cnn-auto-encoder\\ckpts\\all-conv-ae.hdf5\n",
      "Epoch 34/128\n",
      "49000/49000 [==============================] - 8s 156us/step - loss: 0.1256 - val_loss: 0.1256\n",
      "\n",
      "Epoch 00034: val_loss improved from 0.12597 to 0.12560, saving model to C:\\Users\\danie\\coding\\cnn-auto-encoder\\ckpts\\all-conv-ae.hdf5\n",
      "Epoch 35/128\n",
      "49000/49000 [==============================] - 12s 241us/step - loss: 0.1252 - val_loss: 0.1251\n",
      "\n",
      "Epoch 00035: val_loss improved from 0.12560 to 0.12506, saving model to C:\\Users\\danie\\coding\\cnn-auto-encoder\\ckpts\\all-conv-ae.hdf5\n",
      "Epoch 36/128\n"
     ]
    },
    {
     "name": "stdout",
     "output_type": "stream",
     "text": [
      "49000/49000 [==============================] - 10s 204us/step - loss: 0.1248 - val_loss: 0.1253\n",
      "\n",
      "Epoch 00036: val_loss did not improve from 0.12506\n",
      "Epoch 37/128\n",
      "49000/49000 [==============================] - 9s 194us/step - loss: 0.1245 - val_loss: 0.1253\n",
      "\n",
      "Epoch 00037: val_loss did not improve from 0.12506\n",
      "Epoch 38/128\n",
      "49000/49000 [==============================] - 10s 197us/step - loss: 0.1243 - val_loss: 0.1248\n",
      "\n",
      "Epoch 00038: val_loss improved from 0.12506 to 0.12478, saving model to C:\\Users\\danie\\coding\\cnn-auto-encoder\\ckpts\\all-conv-ae.hdf5\n",
      "Epoch 39/128\n",
      "49000/49000 [==============================] - 10s 210us/step - loss: 0.1241 - val_loss: 0.1245\n",
      "\n",
      "Epoch 00039: val_loss improved from 0.12478 to 0.12447, saving model to C:\\Users\\danie\\coding\\cnn-auto-encoder\\ckpts\\all-conv-ae.hdf5\n",
      "Epoch 40/128\n",
      "49000/49000 [==============================] - 12s 242us/step - loss: 0.1238 - val_loss: 0.1237\n",
      "\n",
      "Epoch 00040: val_loss improved from 0.12447 to 0.12372, saving model to C:\\Users\\danie\\coding\\cnn-auto-encoder\\ckpts\\all-conv-ae.hdf5\n",
      "Epoch 41/128\n",
      "49000/49000 [==============================] - 10s 214us/step - loss: 0.1237 - val_loss: 0.1238\n",
      "\n",
      "Epoch 00041: val_loss did not improve from 0.12372\n",
      "Epoch 42/128\n",
      "49000/49000 [==============================] - 12s 248us/step - loss: 0.1235 - val_loss: 0.1243\n",
      "\n",
      "Epoch 00042: val_loss did not improve from 0.12372\n",
      "Epoch 43/128\n",
      "49000/49000 [==============================] - 9s 178us/step - loss: 0.1231 - val_loss: 0.1232\n",
      "\n",
      "Epoch 00043: val_loss improved from 0.12372 to 0.12322, saving model to C:\\Users\\danie\\coding\\cnn-auto-encoder\\ckpts\\all-conv-ae.hdf5\n",
      "Epoch 44/128\n",
      "49000/49000 [==============================] - 8s 161us/step - loss: 0.1231 - val_loss: 0.1232\n",
      "\n",
      "Epoch 00044: val_loss improved from 0.12322 to 0.12317, saving model to C:\\Users\\danie\\coding\\cnn-auto-encoder\\ckpts\\all-conv-ae.hdf5\n",
      "Epoch 45/128\n",
      "49000/49000 [==============================] - 9s 192us/step - loss: 0.1230 - val_loss: 0.1237\n",
      "\n",
      "Epoch 00045: val_loss did not improve from 0.12317\n",
      "Epoch 46/128\n",
      "49000/49000 [==============================] - 12s 250us/step - loss: 0.1229 - val_loss: 0.1246\n",
      "\n",
      "Epoch 00046: val_loss did not improve from 0.12317\n",
      "\n",
      "Epoch 00046: ReduceLROnPlateau reducing learning rate to 0.09000000357627869.\n",
      "Epoch 47/128\n",
      "49000/49000 [==============================] - 7s 150us/step - loss: 0.1216 - val_loss: 0.1218\n",
      "\n",
      "Epoch 00047: val_loss improved from 0.12317 to 0.12182, saving model to C:\\Users\\danie\\coding\\cnn-auto-encoder\\ckpts\\all-conv-ae.hdf5\n",
      "Epoch 48/128\n",
      "49000/49000 [==============================] - 11s 231us/step - loss: 0.1215 - val_loss: 0.1217\n",
      "\n",
      "Epoch 00048: val_loss improved from 0.12182 to 0.12173, saving model to C:\\Users\\danie\\coding\\cnn-auto-encoder\\ckpts\\all-conv-ae.hdf5\n",
      "Epoch 49/128\n",
      "49000/49000 [==============================] - 11s 233us/step - loss: 0.1214 - val_loss: 0.1217\n",
      "\n",
      "Epoch 00049: val_loss improved from 0.12173 to 0.12166, saving model to C:\\Users\\danie\\coding\\cnn-auto-encoder\\ckpts\\all-conv-ae.hdf5\n",
      "Epoch 50/128\n",
      "49000/49000 [==============================] - 11s 218us/step - loss: 0.1213 - val_loss: 0.1216\n",
      "\n",
      "Epoch 00050: val_loss improved from 0.12166 to 0.12163, saving model to C:\\Users\\danie\\coding\\cnn-auto-encoder\\ckpts\\all-conv-ae.hdf5\n",
      "Epoch 51/128\n",
      "49000/49000 [==============================] - 11s 233us/step - loss: 0.1212 - val_loss: 0.1215\n",
      "\n",
      "Epoch 00051: val_loss improved from 0.12163 to 0.12155, saving model to C:\\Users\\danie\\coding\\cnn-auto-encoder\\ckpts\\all-conv-ae.hdf5\n",
      "Epoch 52/128\n",
      "49000/49000 [==============================] - 8s 157us/step - loss: 0.1211 - val_loss: 0.1214\n",
      "\n",
      "Epoch 00052: val_loss improved from 0.12155 to 0.12138, saving model to C:\\Users\\danie\\coding\\cnn-auto-encoder\\ckpts\\all-conv-ae.hdf5\n",
      "Epoch 53/128\n",
      "49000/49000 [==============================] - 9s 184us/step - loss: 0.1210 - val_loss: 0.1214\n",
      "\n",
      "Epoch 00053: val_loss improved from 0.12138 to 0.12136, saving model to C:\\Users\\danie\\coding\\cnn-auto-encoder\\ckpts\\all-conv-ae.hdf5\n",
      "Epoch 54/128\n",
      "49000/49000 [==============================] - 7s 147us/step - loss: 0.1210 - val_loss: 0.1213\n",
      "\n",
      "Epoch 00054: val_loss improved from 0.12136 to 0.12126, saving model to C:\\Users\\danie\\coding\\cnn-auto-encoder\\ckpts\\all-conv-ae.hdf5\n",
      "Epoch 55/128\n",
      "49000/49000 [==============================] - 10s 194us/step - loss: 0.1209 - val_loss: 0.1211\n",
      "\n",
      "Epoch 00055: val_loss improved from 0.12126 to 0.12114, saving model to C:\\Users\\danie\\coding\\cnn-auto-encoder\\ckpts\\all-conv-ae.hdf5\n",
      "Epoch 56/128\n",
      "49000/49000 [==============================] - 9s 188us/step - loss: 0.1208 - val_loss: 0.1211\n",
      "\n",
      "Epoch 00056: val_loss improved from 0.12114 to 0.12107, saving model to C:\\Users\\danie\\coding\\cnn-auto-encoder\\ckpts\\all-conv-ae.hdf5\n",
      "Epoch 57/128\n",
      "49000/49000 [==============================] - 8s 161us/step - loss: 0.1207 - val_loss: 0.1210\n",
      "\n",
      "Epoch 00057: val_loss improved from 0.12107 to 0.12103, saving model to C:\\Users\\danie\\coding\\cnn-auto-encoder\\ckpts\\all-conv-ae.hdf5\n",
      "Epoch 58/128\n",
      "49000/49000 [==============================] - 7s 148us/step - loss: 0.1207 - val_loss: 0.1211\n",
      "\n",
      "Epoch 00058: val_loss did not improve from 0.12103\n",
      "Epoch 59/128\n",
      "49000/49000 [==============================] - 6s 126us/step - loss: 0.1206 - val_loss: 0.1209\n",
      "\n",
      "Epoch 00059: val_loss improved from 0.12103 to 0.12086, saving model to C:\\Users\\danie\\coding\\cnn-auto-encoder\\ckpts\\all-conv-ae.hdf5\n",
      "Epoch 60/128\n",
      "49000/49000 [==============================] - 7s 142us/step - loss: 0.1205 - val_loss: 0.1209\n",
      "\n",
      "Epoch 00060: val_loss did not improve from 0.12086\n",
      "Epoch 61/128\n",
      "49000/49000 [==============================] - 8s 173us/step - loss: 0.1204 - val_loss: 0.1207\n",
      "\n",
      "Epoch 00061: val_loss improved from 0.12086 to 0.12074, saving model to C:\\Users\\danie\\coding\\cnn-auto-encoder\\ckpts\\all-conv-ae.hdf5\n",
      "Epoch 62/128\n",
      "49000/49000 [==============================] - 5s 111us/step - loss: 0.1204 - val_loss: 0.1206\n",
      "\n",
      "Epoch 00062: val_loss improved from 0.12074 to 0.12063, saving model to C:\\Users\\danie\\coding\\cnn-auto-encoder\\ckpts\\all-conv-ae.hdf5\n",
      "Epoch 63/128\n",
      "49000/49000 [==============================] - 8s 172us/step - loss: 0.1203 - val_loss: 0.1205\n",
      "\n",
      "Epoch 00063: val_loss improved from 0.12063 to 0.12054, saving model to C:\\Users\\danie\\coding\\cnn-auto-encoder\\ckpts\\all-conv-ae.hdf5\n",
      "Epoch 64/128\n",
      "49000/49000 [==============================] - 8s 155us/step - loss: 0.1202 - val_loss: 0.1205\n",
      "\n",
      "Epoch 00064: val_loss improved from 0.12054 to 0.12050, saving model to C:\\Users\\danie\\coding\\cnn-auto-encoder\\ckpts\\all-conv-ae.hdf5\n",
      "Epoch 65/128\n",
      "49000/49000 [==============================] - 9s 188us/step - loss: 0.1202 - val_loss: 0.1204\n",
      "\n",
      "Epoch 00065: val_loss improved from 0.12050 to 0.12044, saving model to C:\\Users\\danie\\coding\\cnn-auto-encoder\\ckpts\\all-conv-ae.hdf5\n",
      "Epoch 66/128\n",
      "49000/49000 [==============================] - 10s 208us/step - loss: 0.1201 - val_loss: 0.1203\n",
      "\n",
      "Epoch 00066: val_loss improved from 0.12044 to 0.12034, saving model to C:\\Users\\danie\\coding\\cnn-auto-encoder\\ckpts\\all-conv-ae.hdf5\n",
      "Epoch 67/128\n",
      "49000/49000 [==============================] - 11s 231us/step - loss: 0.1200 - val_loss: 0.1203\n",
      "\n",
      "Epoch 00067: val_loss improved from 0.12034 to 0.12029, saving model to C:\\Users\\danie\\coding\\cnn-auto-encoder\\ckpts\\all-conv-ae.hdf5\n",
      "Epoch 68/128\n",
      "49000/49000 [==============================] - 11s 218us/step - loss: 0.1200 - val_loss: 0.1203\n",
      "\n",
      "Epoch 00068: val_loss did not improve from 0.12029\n",
      "Epoch 69/128\n",
      "49000/49000 [==============================] - 11s 217us/step - loss: 0.1199 - val_loss: 0.1202\n",
      "\n",
      "Epoch 00069: val_loss improved from 0.12029 to 0.12019, saving model to C:\\Users\\danie\\coding\\cnn-auto-encoder\\ckpts\\all-conv-ae.hdf5\n",
      "Epoch 70/128\n",
      "49000/49000 [==============================] - 9s 179us/step - loss: 0.1198 - val_loss: 0.1201\n",
      "\n",
      "Epoch 00070: val_loss improved from 0.12019 to 0.12012, saving model to C:\\Users\\danie\\coding\\cnn-auto-encoder\\ckpts\\all-conv-ae.hdf5\n",
      "Epoch 71/128\n",
      "49000/49000 [==============================] - 10s 201us/step - loss: 0.1198 - val_loss: 0.1200\n",
      "\n",
      "Epoch 00071: val_loss improved from 0.12012 to 0.11999, saving model to C:\\Users\\danie\\coding\\cnn-auto-encoder\\ckpts\\all-conv-ae.hdf5\n",
      "Epoch 72/128\n",
      "49000/49000 [==============================] - 11s 215us/step - loss: 0.1197 - val_loss: 0.1200\n"
     ]
    },
    {
     "name": "stdout",
     "output_type": "stream",
     "text": [
      "\n",
      "Epoch 00072: val_loss improved from 0.11999 to 0.11996, saving model to C:\\Users\\danie\\coding\\cnn-auto-encoder\\ckpts\\all-conv-ae.hdf5\n",
      "Epoch 73/128\n",
      "49000/49000 [==============================] - 10s 204us/step - loss: 0.1196 - val_loss: 0.1199\n",
      "\n",
      "Epoch 00073: val_loss improved from 0.11996 to 0.11988, saving model to C:\\Users\\danie\\coding\\cnn-auto-encoder\\ckpts\\all-conv-ae.hdf5\n",
      "Epoch 74/128\n",
      "49000/49000 [==============================] - 10s 212us/step - loss: 0.1196 - val_loss: 0.1199\n",
      "\n",
      "Epoch 00074: val_loss did not improve from 0.11988\n",
      "Epoch 75/128\n",
      "49000/49000 [==============================] - 11s 219us/step - loss: 0.1195 - val_loss: 0.1198\n",
      "\n",
      "Epoch 00075: val_loss improved from 0.11988 to 0.11978, saving model to C:\\Users\\danie\\coding\\cnn-auto-encoder\\ckpts\\all-conv-ae.hdf5\n",
      "Epoch 76/128\n",
      "49000/49000 [==============================] - 10s 202us/step - loss: 0.1195 - val_loss: 0.1197\n",
      "\n",
      "Epoch 00076: val_loss improved from 0.11978 to 0.11966, saving model to C:\\Users\\danie\\coding\\cnn-auto-encoder\\ckpts\\all-conv-ae.hdf5\n",
      "Epoch 77/128\n",
      "49000/49000 [==============================] - 10s 196us/step - loss: 0.1194 - val_loss: 0.1197\n",
      "\n",
      "Epoch 00077: val_loss did not improve from 0.11966\n",
      "Epoch 78/128\n",
      "49000/49000 [==============================] - 10s 202us/step - loss: 0.1193 - val_loss: 0.1196\n",
      "\n",
      "Epoch 00078: val_loss improved from 0.11966 to 0.11959, saving model to C:\\Users\\danie\\coding\\cnn-auto-encoder\\ckpts\\all-conv-ae.hdf5\n",
      "Epoch 79/128\n",
      "49000/49000 [==============================] - 10s 210us/step - loss: 0.1193 - val_loss: 0.1195\n",
      "\n",
      "Epoch 00079: val_loss improved from 0.11959 to 0.11953, saving model to C:\\Users\\danie\\coding\\cnn-auto-encoder\\ckpts\\all-conv-ae.hdf5\n",
      "Epoch 80/128\n",
      "49000/49000 [==============================] - 12s 239us/step - loss: 0.1192 - val_loss: 0.1195\n",
      "\n",
      "Epoch 00080: val_loss improved from 0.11953 to 0.11950, saving model to C:\\Users\\danie\\coding\\cnn-auto-encoder\\ckpts\\all-conv-ae.hdf5\n",
      "Epoch 81/128\n",
      "49000/49000 [==============================] - 11s 216us/step - loss: 0.1192 - val_loss: 0.1194\n",
      "\n",
      "Epoch 00081: val_loss improved from 0.11950 to 0.11942, saving model to C:\\Users\\danie\\coding\\cnn-auto-encoder\\ckpts\\all-conv-ae.hdf5\n",
      "Epoch 82/128\n",
      "49000/49000 [==============================] - 11s 224us/step - loss: 0.1191 - val_loss: 0.1194\n",
      "\n",
      "Epoch 00082: val_loss did not improve from 0.11942\n",
      "Epoch 83/128\n",
      "49000/49000 [==============================] - 8s 170us/step - loss: 0.1191 - val_loss: 0.1194\n",
      "\n",
      "Epoch 00083: val_loss improved from 0.11942 to 0.11939, saving model to C:\\Users\\danie\\coding\\cnn-auto-encoder\\ckpts\\all-conv-ae.hdf5\n",
      "Epoch 84/128\n",
      "49000/49000 [==============================] - 11s 216us/step - loss: 0.1190 - val_loss: 0.1192\n",
      "\n",
      "Epoch 00084: val_loss improved from 0.11939 to 0.11925, saving model to C:\\Users\\danie\\coding\\cnn-auto-encoder\\ckpts\\all-conv-ae.hdf5\n",
      "Epoch 85/128\n",
      "49000/49000 [==============================] - 11s 229us/step - loss: 0.1189 - val_loss: 0.1192\n",
      "\n",
      "Epoch 00085: val_loss improved from 0.11925 to 0.11919, saving model to C:\\Users\\danie\\coding\\cnn-auto-encoder\\ckpts\\all-conv-ae.hdf5\n",
      "Epoch 86/128\n",
      "49000/49000 [==============================] - 12s 235us/step - loss: 0.1189 - val_loss: 0.1192\n",
      "\n",
      "Epoch 00086: val_loss did not improve from 0.11919\n",
      "Epoch 00086: early stopping\n",
      "_________________________________________________________________\n",
      "Layer (type)                 Output Shape              Param #   \n",
      "=================================================================\n",
      "input_1 (InputLayer)         (None, 28, 28, 1)         0         \n",
      "_________________________________________________________________\n",
      "conv2d_1 (Conv2D)            (None, 28, 28, 16)        160       \n",
      "_________________________________________________________________\n",
      "max_pooling2d_1 (MaxPooling2 (None, 14, 14, 16)        0         \n",
      "_________________________________________________________________\n",
      "conv2d_2 (Conv2D)            (None, 14, 14, 8)         1160      \n",
      "_________________________________________________________________\n",
      "max_pooling2d_2 (MaxPooling2 (None, 7, 7, 8)           0         \n",
      "_________________________________________________________________\n",
      "conv2d_3 (Conv2D)            (None, 7, 7, 8)           584       \n",
      "_________________________________________________________________\n",
      "max_pooling2d_3 (MaxPooling2 (None, 4, 4, 8)           0         \n",
      "_________________________________________________________________\n",
      "conv2d_4 (Conv2D)            (None, 4, 4, 6)           438       \n",
      "_________________________________________________________________\n",
      "encoder (MaxPooling2D)       (None, 2, 2, 6)           0         \n",
      "_________________________________________________________________\n",
      "conv2d_5 (Conv2D)            (None, 2, 2, 6)           330       \n",
      "_________________________________________________________________\n",
      "up_sampling2d_1 (UpSampling2 (None, 4, 4, 6)           0         \n",
      "_________________________________________________________________\n",
      "conv2d_6 (Conv2D)            (None, 4, 4, 8)           440       \n",
      "_________________________________________________________________\n",
      "up_sampling2d_2 (UpSampling2 (None, 8, 8, 8)           0         \n",
      "_________________________________________________________________\n",
      "conv2d_7 (Conv2D)            (None, 8, 8, 8)           584       \n",
      "_________________________________________________________________\n",
      "up_sampling2d_3 (UpSampling2 (None, 16, 16, 8)         0         \n",
      "_________________________________________________________________\n",
      "conv2d_8 (Conv2D)            (None, 14, 14, 16)        1168      \n",
      "_________________________________________________________________\n",
      "up_sampling2d_4 (UpSampling2 (None, 28, 28, 16)        0         \n",
      "_________________________________________________________________\n",
      "conv2d_9 (Conv2D)            (None, 28, 28, 1)         145       \n",
      "=================================================================\n",
      "Total params: 5,009\n",
      "Trainable params: 5,009\n",
      "Non-trainable params: 0\n",
      "_________________________________________________________________\n"
     ]
    }
   ],
   "source": [
    "ckpt_loc = os.path.join(CUR_DIR, \"ckpts\", \"all-conv-ae.hdf5\")\n",
    "\n",
    "if os.path.isfile(ckpt_loc):\n",
    "    print(\"Loading Autoencoder for all digits from directory %s...\" % ckpt_loc)\n",
    "    all_ae = load_model(ckpt_loc)\n",
    "    all_encoder, all_decoder = get_codec_from_aue(all_ae)\n",
    "else:\n",
    "    print(\"Training Autoencoder for all digits...\")\n",
    "    all_ae, all_encoder, all_decoder = build_conv_aue()\n",
    "    earlyStopping = EarlyStopping(\n",
    "        monitor=\"val_loss\", patience=10, verbose=1, mode=\"min\", min_delta=0.0005\n",
    "    )\n",
    "    mcp_save = ModelCheckpoint(\n",
    "        ckpt_loc, save_best_only=True, verbose=1, monitor=\"val_loss\", mode=\"min\"\n",
    "    )\n",
    "    reduce_lr_loss = ReduceLROnPlateau(\n",
    "        monitor=\"val_loss\", factor=0.3, patience=3, verbose=1, mode=\"min\"\n",
    "    )\n",
    "    all_ae.fit(\n",
    "        X_train,\n",
    "        X_train,\n",
    "        epochs=128,\n",
    "        batch_size=128,\n",
    "        shuffle=True,\n",
    "        validation_data=(X_validate, X_validate),\n",
    "        callbacks=[earlyStopping, mcp_save, reduce_lr_loss],\n",
    "    )\n",
    "all_ae.summary()"
   ]
  },
  {
   "cell_type": "code",
   "execution_count": 18,
   "metadata": {},
   "outputs": [
    {
     "name": "stdout",
     "output_type": "stream",
     "text": [
      "49000/49000 [==============================] - 10s 199us/step\n",
      "10500/10500 [==============================] - 2s 158us/step\n",
      "10500/10500 [==============================] - 2s 147us/step\n"
     ]
    },
    {
     "data": {
      "text/plain": [
       "(0.11890904368916336, 0.11922056790760585, 0.11973807741346813)"
      ]
     },
     "execution_count": 18,
     "metadata": {},
     "output_type": "execute_result"
    }
   ],
   "source": [
    "eval_train = all_ae.evaluate(X_train, X_train)\n",
    "eval_validate = all_ae.evaluate(X_validate, X_validate)\n",
    "eval_test = all_ae.evaluate(X_test, X_test)\n",
    "eval_train, eval_validate,eval_test"
   ]
  },
  {
   "cell_type": "code",
   "execution_count": 19,
   "metadata": {},
   "outputs": [
    {
     "data": {
      "image/png": "[encoded data removed]",
      "text/plain": [
       "<Figure size 1440x288 with 20 Axes>"
      ]
     },
     "metadata": {
      "needs_background": "light"
     },
     "output_type": "display_data"
    }
   ],
   "source": [
    "encoded_imgs_train = all_encoder.predict(X_train)\n",
    "encoded_imgs_validate = all_encoder.predict(X_validate)\n",
    "encoded_imgs_test = all_encoder.predict(X_test)\n",
    "\n",
    "decoded_imgs = all_decoder.predict(encoded_imgs_test)\n",
    "n = 10  # how many digits we will display\n",
    "plt.figure(figsize=(20, 4))\n",
    "for i in range(n):\n",
    "    # display original\n",
    "    ax = plt.subplot(2, n, i + 1)\n",
    "    plt.imshow(X_test[i].reshape(28, 28))\n",
    "    plt.gray()\n",
    "    ax.get_xaxis().set_visible(False)\n",
    "    ax.get_yaxis().set_visible(False)\n",
    "\n",
    "    # display reconstruction\n",
    "    ax = plt.subplot(2, n, i + 1 + n)\n",
    "    plt.imshow(decoded_imgs[i].reshape(28, 28))\n",
    "    plt.gray()\n",
    "    ax.get_xaxis().set_visible(False)\n",
    "    ax.get_yaxis().set_visible(False)\n",
    "plt.savefig(os.path.join(\"imgs\", \"all-conv-ae.png\"))"
   ]
  },
  {
   "cell_type": "markdown",
   "metadata": {},
   "source": [
    "**\"one\" auto encoder**\n",
    "\n",
    "Learning features of the digit one. Afterwards, the distribution of the features will be computed to detect outliers which have low probability."
   ]
  },
  {
   "cell_type": "code",
   "execution_count": 20,
   "metadata": {},
   "outputs": [
    {
     "data": {
      "text/plain": [
       "(5513, 1182, 1182)"
      ]
     },
     "execution_count": 20,
     "metadata": {},
     "output_type": "execute_result"
    }
   ],
   "source": [
    "X_one = digit_data[1][0]\n",
    "y_one = digit_data[1][1]\n",
    "\n",
    "(X_one_train, X_one_test, X_one_validate), (\n",
    "    y_one_train,\n",
    "    y_one_test,\n",
    "    y_one_validate,\n",
    ") = train_test_split(X_one, y_one)\n",
    "len(X_one_train), len(X_one_test), len(X_one_validate)"
   ]
  },
  {
   "cell_type": "code",
   "execution_count": 21,
   "metadata": {},
   "outputs": [
    {
     "name": "stdout",
     "output_type": "stream",
     "text": [
      "Loading Autoencoder one from directory C:\\Users\\danie\\coding\\cnn-auto-encoder\\ckpts\\one-conv-ae.hdf5...\n",
      "_________________________________________________________________\n",
      "Layer (type)                 Output Shape              Param #   \n",
      "=================================================================\n",
      "input_13 (InputLayer)        (None, 28, 28, 1)         0         \n",
      "_________________________________________________________________\n",
      "conv2d_46 (Conv2D)           (None, 28, 28, 16)        160       \n",
      "_________________________________________________________________\n",
      "max_pooling2d_16 (MaxPooling (None, 14, 14, 16)        0         \n",
      "_________________________________________________________________\n",
      "conv2d_47 (Conv2D)           (None, 14, 14, 8)         1160      \n",
      "_________________________________________________________________\n",
      "max_pooling2d_17 (MaxPooling (None, 7, 7, 8)           0         \n",
      "_________________________________________________________________\n",
      "conv2d_48 (Conv2D)           (None, 7, 7, 8)           584       \n",
      "_________________________________________________________________\n",
      "max_pooling2d_18 (MaxPooling (None, 4, 4, 8)           0         \n",
      "_________________________________________________________________\n",
      "conv2d_49 (Conv2D)           (None, 4, 4, 6)           438       \n",
      "_________________________________________________________________\n",
      "encoder (MaxPooling2D)       (None, 2, 2, 6)           0         \n",
      "_________________________________________________________________\n",
      "conv2d_50 (Conv2D)           (None, 2, 2, 6)           330       \n",
      "_________________________________________________________________\n",
      "up_sampling2d_21 (UpSampling (None, 4, 4, 6)           0         \n",
      "_________________________________________________________________\n",
      "conv2d_51 (Conv2D)           (None, 4, 4, 8)           440       \n",
      "_________________________________________________________________\n",
      "up_sampling2d_22 (UpSampling (None, 8, 8, 8)           0         \n",
      "_________________________________________________________________\n",
      "conv2d_52 (Conv2D)           (None, 8, 8, 8)           584       \n",
      "_________________________________________________________________\n",
      "up_sampling2d_23 (UpSampling (None, 16, 16, 8)         0         \n",
      "_________________________________________________________________\n",
      "conv2d_53 (Conv2D)           (None, 14, 14, 16)        1168      \n",
      "_________________________________________________________________\n",
      "up_sampling2d_24 (UpSampling (None, 28, 28, 16)        0         \n",
      "_________________________________________________________________\n",
      "conv2d_54 (Conv2D)           (None, 28, 28, 1)         145       \n",
      "=================================================================\n",
      "Total params: 5,009\n",
      "Trainable params: 5,009\n",
      "Non-trainable params: 0\n",
      "_________________________________________________________________\n"
     ]
    }
   ],
   "source": [
    "ckpt_loc = os.path.join(CUR_DIR, \"ckpts\", \"%s-conv-ae.hdf5\" % digits_verbose[1])\n",
    "\n",
    "if os.path.isfile(ckpt_loc):\n",
    "    print(\"Loading Autoencoder %s from directory %s...\" % (digits_verbose[1], ckpt_loc))\n",
    "    one_ae = load_model(ckpt_loc)\n",
    "    one_encoder, one_decoder = get_codec_from_aue(one_ae)\n",
    "else:\n",
    "    print(\"Training Autoencoder for digit %s...\" % digits_verbose[1])\n",
    "    one_ae, one_encoder, one_decoder = build_conv_aue()\n",
    "    earlyStopping = EarlyStopping(\n",
    "        monitor=\"val_loss\", patience=10, verbose=1, mode=\"min\", min_delta=0.0005\n",
    "    )\n",
    "    mcp_save = ModelCheckpoint(\n",
    "        ckpt_loc, save_best_only=True, verbose=1, monitor=\"val_loss\", mode=\"min\"\n",
    "    )\n",
    "    reduce_lr_loss = ReduceLROnPlateau(\n",
    "        monitor=\"val_loss\", factor=0.3, patience=3, verbose=1, mode=\"min\"\n",
    "    )\n",
    "    tb = TensorBoard(\n",
    "        log_dir=\"./ckpts\", histogram_freq=0, write_graph=True, write_images=True\n",
    "    )\n",
    "    one_ae.fit(\n",
    "        X_one_train,\n",
    "        X_one_train,\n",
    "        epochs=128,\n",
    "        batch_size=128,\n",
    "        shuffle=True,\n",
    "        validation_data=(X_one_validate, X_one_validate),\n",
    "        callbacks=[earlyStopping, mcp_save, reduce_lr_loss, tb],\n",
    "    )\n",
    "one_ae.summary()"
   ]
  },
  {
   "cell_type": "code",
   "execution_count": 22,
   "metadata": {},
   "outputs": [
    {
     "name": "stdout",
     "output_type": "stream",
     "text": [
      "5513/5513 [==============================] - 1s 222us/step\n",
      "1182/1182 [==============================] - 0s 256us/step\n",
      "1182/1182 [==============================] - 0s 241us/step\n"
     ]
    },
    {
     "data": {
      "text/plain": [
       "(0.05847261273858769, 0.05957152064126962, 0.05993253299604011)"
      ]
     },
     "execution_count": 22,
     "metadata": {},
     "output_type": "execute_result"
    }
   ],
   "source": [
    "eval_one_train = one_ae.evaluate(X_one_train, X_one_train)\n",
    "eval_one_validate = one_ae.evaluate(X_one_validate, X_one_validate)\n",
    "eval_one_test = one_ae.evaluate(X_one_test, X_one_test)\n",
    "eval_one_train, eval_one_validate, eval_one_test"
   ]
  },
  {
   "cell_type": "code",
   "execution_count": 23,
   "metadata": {},
   "outputs": [],
   "source": [
    "encoded_one_imgs_train = one_encoder.predict(X_one_train)\n",
    "encoded_one_imgs_validate = one_encoder.predict(X_one_validate)\n",
    "encoded_one_imgs_test = one_encoder.predict(X_one_test)"
   ]
  },
  {
   "cell_type": "markdown",
   "metadata": {},
   "source": [
    "## Reconstructed \"1\" with auto encoder"
   ]
  },
  {
   "cell_type": "code",
   "execution_count": 27,
   "metadata": {},
   "outputs": [
    {
     "data": {
      "image/png": "[encoded data removed]",
      "text/plain": [
       "<Figure size 1440x288 with 20 Axes>"
      ]
     },
     "metadata": {
      "needs_background": "light"
     },
     "output_type": "display_data"
    }
   ],
   "source": [
    "decoded_one_imgs = one_decoder.predict(encoded_one_imgs_train)\n",
    "n = 10  # how many digits we will display\n",
    "plt.figure(figsize=(20, 4))\n",
    "for i in range(n):\n",
    "    # display original\n",
    "    ax = plt.subplot(2, n, i + 1)\n",
    "    plt.imshow(X_one_test[i].reshape(28, 28))\n",
    "    plt.gray()\n",
    "    ax.get_xaxis().set_visible(False)\n",
    "    ax.get_yaxis().set_visible(False)\n",
    "\n",
    "    # display reconstruction\n",
    "    ax = plt.subplot(2, n, i + 1 + n)\n",
    "    plt.imshow(decoded_one_imgs[i].reshape(28, 28))\n",
    "    plt.gray()\n",
    "    ax.get_xaxis().set_visible(False)\n",
    "    ax.get_yaxis().set_visible(False)\n",
    "plt.savefig(os.path.join(\"imgs\", \"one-conv-ae.png\"))"
   ]
  },
  {
   "cell_type": "markdown",
   "metadata": {},
   "source": [
    "## Reconstructed \"7\" (aka anomaly) with auto encoder"
   ]
  },
  {
   "cell_type": "code",
   "execution_count": 28,
   "metadata": {},
   "outputs": [
    {
     "data": {
      "image/png": "[encoded data removed]",
      "text/plain": [
       "<Figure size 1440x288 with 20 Axes>"
      ]
     },
     "metadata": {
      "needs_background": "light"
     },
     "output_type": "display_data"
    }
   ],
   "source": [
    "decoded_sevens_imgs = one_ae.predict(digit_data[7][0])\n",
    "n = 10  # how many digits we will display\n",
    "plt.figure(figsize=(20, 4))\n",
    "for i in range(n):\n",
    "    # display original\n",
    "    ax = plt.subplot(2, n, i + 1)\n",
    "    plt.imshow(digit_data[7][0][i].reshape(28, 28))\n",
    "    plt.gray()\n",
    "    ax.get_xaxis().set_visible(False)\n",
    "    ax.get_yaxis().set_visible(False)\n",
    "\n",
    "    # display reconstruction\n",
    "    ax = plt.subplot(2, n, i + 1 + n)\n",
    "    plt.imshow(decoded_sevens_imgs[i].reshape(28, 28))\n",
    "    plt.gray()\n",
    "    ax.get_xaxis().set_visible(False)\n",
    "    ax.get_yaxis().set_visible(False)\n",
    "plt.savefig(os.path.join(\"imgs\", \"seven-conv-one-ae.png\"))"
   ]
  },
  {
   "cell_type": "markdown",
   "metadata": {},
   "source": [
    "## Anomaly detection with root of squared loss per pixel"
   ]
  },
  {
   "cell_type": "code",
   "execution_count": 29,
   "metadata": {},
   "outputs": [],
   "source": [
    "def loss_per_img(img,rec_img):\n",
    "    return np.sqrt(np.sum(np.power(rec_img - img,2)))"
   ]
  },
  {
   "cell_type": "code",
   "execution_count": 30,
   "metadata": {},
   "outputs": [
    {
     "data": {
      "text/plain": [
       "(11.820069444244304, 6.99841623002535)"
      ]
     },
     "execution_count": 30,
     "metadata": {},
     "output_type": "execute_result"
    }
   ],
   "source": [
    "anomaly_losses = np.array([])\n",
    "# for img in digit_data[7][0]:\n",
    "\n",
    "\n",
    "sevens = digit_data[7][0]\n",
    "imgs = sevens.reshape(-1, 28, 28, 1)\n",
    "rec_imgs = one_ae.predict(imgs)\n",
    "seven_losses = np.array([loss_per_img(i, ri) for i, ri in zip(imgs, rec_imgs)])\n",
    "\n",
    "imgs = all_digits#.reshape(-1,28,28,1)\n",
    "rec_imgs = one_ae.predict(imgs)\n",
    "all_digits_losses = np.array([loss_per_img(i,ri) for i,ri in zip(imgs,rec_imgs)])\n",
    "\n",
    "seven_losses.max(), seven_losses.mean()"
   ]
  },
  {
   "cell_type": "code",
   "execution_count": 31,
   "metadata": {},
   "outputs": [
    {
     "data": {
      "text/plain": [
       "(8.09602611792766, 2.2190365750846452)"
      ]
     },
     "execution_count": 31,
     "metadata": {},
     "output_type": "execute_result"
    }
   ],
   "source": [
    "normal_losses = np.array([])\n",
    "imgs = X_one_test.reshape(len(X_one_test),28,28,1)\n",
    "rec_imgs = one_ae.predict(imgs)\n",
    "normal_losses = np.array([loss_per_img(i,ri) for i,ri in zip(imgs,rec_imgs)])\n",
    "\n",
    "normal_losses.max(), normal_losses.mean()"
   ]
  },
  {
   "cell_type": "code",
   "execution_count": 32,
   "metadata": {},
   "outputs": [
    {
     "data": {
      "image/png": "[encoded data removed]",
      "text/plain": [
       "<Figure size 432x288 with 1 Axes>"
      ]
     },
     "metadata": {
      "needs_background": "light"
     },
     "output_type": "display_data"
    }
   ],
   "source": [
    "# loss distribution over the normal dataset\n",
    "bins = 50\n",
    "t = np.linspace(0, normal_losses.max(), bins)\n",
    "hist_normal = np.histogram(normal_losses, bins=bins)\n",
    "plt.plot(t, hist_normal[0] / len(normal_losses), \"b\")\n",
    "\n",
    "# loss distribution over the anomaly dataset for digit \"seven\"\n",
    "hist_sevens = np.histogram(seven_losses, bins=bins)\n",
    "t = np.linspace(0, seven_losses.max(), bins)\n",
    "plt.plot(t, hist_sevens[0] / len(seven_losses), \"r\")\n",
    "\n",
    "# loss distribution over the anomaly dataset for all digits\n",
    "#hist_all = np.histogram(all_digits_losses, bins=bins)\n",
    "#t = np.linspace(0, all_digits_losses.max(), bins)\n",
    "#plt.plot(t, hist_all[0] / len(all_digits_losses), \"g\")\n",
    "plt.show()"
   ]
  },
  {
   "cell_type": "code",
   "execution_count": 30,
   "metadata": {},
   "outputs": [
    {
     "data": {
      "image/png": "[encoded data removed]",
      "text/plain": [
       "<Figure size 432x288 with 1 Axes>"
      ]
     },
     "metadata": {
      "needs_background": "light"
     },
     "output_type": "display_data"
    }
   ],
   "source": [
    "# loss distribution over the anomaly dataset\n",
    "bins = 100\n",
    "hist_anomaly = np.histogram(seven_losses, bins=bins)\n",
    "t = np.linspace(0, seven_losses.max(), bins)\n",
    "plt.plot(t, hist_anomaly[0], \"r\")\n",
    "plt.show()"
   ]
  },
  {
   "cell_type": "code",
   "execution_count": 59,
   "metadata": {},
   "outputs": [
    {
     "name": "stdout",
     "output_type": "stream",
     "text": [
      "threshold:0.900,dn:0.100677 + ua:0.000137 = 0.100814\n",
      "threshold:0.910,dn:0.090525 + ua:0.000137 = 0.090662\n",
      "threshold:0.920,dn:0.080372 + ua:0.000274 = 0.080646\n",
      "threshold:0.930,dn:0.070220 + ua:0.000548 = 0.070768\n",
      "threshold:0.940,dn:0.060068 + ua:0.001097 = 0.061165\n",
      "threshold:0.950,dn:0.049915 + ua:0.001783 = 0.051698\n",
      "threshold:0.960,dn:0.040609 + ua:0.002742 = 0.043351\n",
      "threshold:0.970,dn:0.030457 + ua:0.003839 = 0.034296\n",
      "threshold:0.980,dn:0.020305 + ua:0.008364 = 0.028669\n",
      "threshold:0.990,dn:0.010152 + ua:0.128068 = 0.138220\n"
     ]
    },
    {
     "data": {
      "image/png": "[encoded data removed]",
      "text/plain": [
       "<Figure size 432x288 with 1 Axes>"
      ]
     },
     "metadata": {
      "needs_background": "light"
     },
     "output_type": "display_data"
    },
    {
     "data": {
      "text/plain": [
       "(0.9780999999999914, 26.0, 0.0)"
      ]
     },
     "execution_count": 59,
     "metadata": {},
     "output_type": "execute_result"
    }
   ],
   "source": [
    "# x:= \"false detected anomalies in %\"\n",
    "# y:= \"correct detected normal data points in %\"\n",
    "FPs = FNs = []\n",
    "prec = 10000\n",
    "step_size = 1.0 / prec\n",
    "thresholds = np.arange(0.9, 1, step_size)\n",
    "\n",
    "for i in thresholds:  # i == 0.95 seems to be a valid value\n",
    "    loss_boundary = np.sort(normal_losses)[\n",
    "        int(len(normal_losses) * i)\n",
    "    ]  # loss value for detection of i% normal data points\n",
    "    ind_undetected_anomalies = np.where(\n",
    "        seven_losses < loss_boundary\n",
    "    )  # indices for undetected anomalies in the data set\n",
    "    ind_detected_normals = np.where(\n",
    "        normal_losses >= loss_boundary\n",
    "    )  # indices for as anomaly detected normal data points in the data set\n",
    "    detected_normals = X_one_test[ind_detected_normals]\n",
    "    undetected_anomalies = digit_data[7][0][ind_undetected_anomalies]\n",
    "\n",
    "    FP_rate = len(undetected_anomalies) / len(\n",
    "        seven_losses\n",
    "    )  # ratio between not detected loss values for anomalies\n",
    "    FN_rate = len(detected_normals) / len(\n",
    "        normal_losses\n",
    "    )  # ratio between not detected loss values for anomalies\n",
    "\n",
    "    FPs = np.append(FPs, [FP_rate])  # not detected anomalies\n",
    "    FNs = np.append(FNs, [FN_rate])  # as anomalies detected normalities\n",
    "\n",
    "    if (int(i * prec)) % int(prec / 100) == 0:\n",
    "        print(\n",
    "            \"threshold:%.3f,dn:%f + ua:%f = %f\"\n",
    "            % (i, FN_rate, FP_rate, FN_rate + FP_rate)\n",
    "        )\n",
    "plt.plot(FPs, thresholds)\n",
    "plt.grid()\n",
    "plt.xlabel(\"FALSE POSITIVE RATE\")\n",
    "plt.ylabel(\"TRUE POSITIVE RATE\")\n",
    "plt.show()\n",
    "loss_threshold = thresholds[\n",
    "    np.argmin(FNs + FPs)\n",
    "]  # minimum value for FN_rate + FP_rate (least relative amount of falsely detected)\n",
    "thresholds[781], FNs[781]*len(normal_losses),FPs[781]*len(anomaly_losses)"
   ]
  },
  {
   "cell_type": "code",
   "execution_count": 62,
   "metadata": {},
   "outputs": [
    {
     "data": {
      "text/plain": [
       "(4.607403225821856, 26, 48)"
      ]
     },
     "execution_count": 62,
     "metadata": {},
     "output_type": "execute_result"
    }
   ],
   "source": [
    "loss_boundary = np.sort(normal_losses)[int(len(normal_losses) * loss_threshold)]\n",
    "ind_undetected_anomalies = np.where(\n",
    "    seven_losses < loss_boundary\n",
    ")  # indices for undetected anomalies in the data set\n",
    "ind_detected_normals = np.where(\n",
    "    normal_losses >= loss_boundary\n",
    ")  # indices for as anomaly detected normal data points in the data set\n",
    "\n",
    "detected_normals = X_one_test[ind_detected_normals]\n",
    "undetected_anomalies = digit_data[7][0][ind_undetected_anomalies]\n",
    "loss_boundary, len(detected_normals), len(undetected_anomalies)"
   ]
  },
  {
   "cell_type": "code",
   "execution_count": 63,
   "metadata": {},
   "outputs": [
    {
     "data": {
      "image/png": "[encoded data removed]",
      "text/plain": [
       "<Figure size 2880x2304 with 48 Axes>"
      ]
     },
     "metadata": {
      "needs_background": "light"
     },
     "output_type": "display_data"
    }
   ],
   "source": [
    "n = len(undetected_anomalies)  # how many digits we will display\n",
    "plt.figure(figsize=(40, 32))\n",
    "for i in range(n):\n",
    "    ax = plt.subplot(n/5, n/4, i + 1)\n",
    "    plt.imshow(undetected_anomalies[i].reshape(28, 28))\n",
    "    plt.gray()\n",
    "    ax.get_xaxis().set_visible(False)\n",
    "    ax.get_yaxis().set_visible(False)\n",
    "    ax.get_yaxis().set_visible(False)\n",
    "plt.savefig(os.path.join(\"imgs\", \"undetected-sevens.png\"))"
   ]
  },
  {
   "cell_type": "code",
   "execution_count": 64,
   "metadata": {},
   "outputs": [
    {
     "data": {
      "image/png": "[encoded data removed]",
      "text/plain": [
       "<Figure size 2880x2304 with 26 Axes>"
      ]
     },
     "metadata": {
      "needs_background": "light"
     },
     "output_type": "display_data"
    }
   ],
   "source": [
    "# display digits \"1\" which have been detected as normaility \n",
    "n = len(detected_normals)  # how many digits we will display\n",
    "plt.figure(figsize=(40, 32))\n",
    "for i in range(n):\n",
    "    ax = plt.subplot(n/5, n/4, i + 1)\n",
    "    plt.imshow(detected_normals[i].reshape(28, 28))\n",
    "    plt.gray()\n",
    "    ax.get_xaxis().set_visible(False)\n",
    "    ax.get_yaxis().set_visible(False)\n",
    "    ax.get_yaxis().set_visible(False)\n",
    "plt.savefig(os.path.join(\"imgs\", \"detected-ones.png\"))"
   ]
  },
  {
   "cell_type": "code",
   "execution_count": 65,
   "metadata": {
    "scrolled": true
   },
   "outputs": [
    {
     "data": {
      "image/png": "[encoded data removed]",
      "text/plain": [
       "<Figure size 432x288 with 1 Axes>"
      ]
     },
     "metadata": {
      "needs_background": "light"
     },
     "output_type": "display_data"
    }
   ],
   "source": [
    "# digit \"1\" with highest loss (in test set). improves understandibility of why this might be identified incorrectly.\n",
    "plt.imshow(X_one_test[np.argmax(normal_losses)].reshape((28,28)))\n",
    "plt.show()"
   ]
  },
  {
   "cell_type": "code",
   "execution_count": 66,
   "metadata": {},
   "outputs": [
    {
     "data": {
      "image/png": "[encoded data removed]",
      "text/plain": [
       "<Figure size 432x288 with 1 Axes>"
      ]
     },
     "metadata": {
      "needs_background": "light"
     },
     "output_type": "display_data"
    }
   ],
   "source": [
    "# what even is this? \"7\" with maximum loss (biggest difference to digit \"1\")\n",
    "plt.imshow(digit_data[7][0][np.argmax(seven_losses)].reshape((28,28)))\n",
    "plt.show()"
   ]
  },
  {
   "cell_type": "code",
   "execution_count": 67,
   "metadata": {},
   "outputs": [
    {
     "data": {
      "image/png": "[encoded data removed]",
      "text/plain": [
       "<Figure size 432x288 with 1 Axes>"
      ]
     },
     "metadata": {
      "needs_background": "light"
     },
     "output_type": "display_data"
    }
   ],
   "source": [
    "# this is supposed to be a seven. minimal loss for a digit in the \"anomaly\" (aka \"7\") data set\n",
    "plt.imshow(digit_data[7][0][np.argmin(seven_losses)].reshape((28,28)))\n",
    "plt.show()"
   ]
  },
  {
   "cell_type": "code",
   "execution_count": 38,
   "metadata": {},
   "outputs": [
    {
     "data": {
      "image/png": "[encoded data removed]",
      "text/plain": [
       "<Figure size 432x288 with 1 Axes>"
      ]
     },
     "metadata": {
      "needs_background": "light"
     },
     "output_type": "display_data"
    }
   ],
   "source": [
    "# this is supposed to be a seven. minimal loss for a digit in the \"anomaly\" (aka \"7\") data set\n",
    "plt.imshow(X_one_test[np.argmin(normal_losses)].reshape((28,28)))\n",
    "plt.show()"
   ]
  },
  {
   "cell_type": "markdown",
   "metadata": {},
   "source": [
    "## All digits classifier"
   ]
  },
  {
   "cell_type": "code",
   "execution_count": 68,
   "metadata": {},
   "outputs": [],
   "source": [
    "flat = np.prod(encoded_imgs_train.shape[1:], dtype=np.int64)\n",
    "encoded_imgs_train = encoded_imgs_train.reshape(len(encoded_imgs_train), flat)\n",
    "encoded_imgs_validate = encoded_imgs_validate.reshape(\n",
    "    len(encoded_imgs_validate), flat)\n",
    "encoded_imgs_test = encoded_imgs_test.reshape(len(encoded_imgs_test), flat)"
   ]
  },
  {
   "cell_type": "code",
   "execution_count": 75,
   "metadata": {},
   "outputs": [
    {
     "name": "stdout",
     "output_type": "stream",
     "text": [
      "Training classifier...\n",
      "Train on 49000 samples, validate on 10500 samples\n",
      "Epoch 1/32\n",
      "49000/49000 [==============================] - 33s 665us/step - loss: 0.0386 - acc: 0.7426 - val_loss: 0.0217 - val_acc: 0.8676\n",
      "\n",
      "Epoch 00001: val_acc improved from -inf to 0.86762, saving model to C:\\Users\\danie\\coding\\cnn-auto-encoder\\ckpts\\classifier.hdf5\n",
      "Epoch 2/32\n",
      "49000/49000 [==============================] - 30s 609us/step - loss: 0.0189 - acc: 0.8800 - val_loss: 0.0170 - val_acc: 0.8922\n",
      "\n",
      "Epoch 00002: val_acc improved from 0.86762 to 0.89219, saving model to C:\\Users\\danie\\coding\\cnn-auto-encoder\\ckpts\\classifier.hdf5\n",
      "Epoch 3/32\n",
      "49000/49000 [==============================] - 31s 624us/step - loss: 0.0159 - acc: 0.8959 - val_loss: 0.0149 - val_acc: 0.9020\n",
      "\n",
      "Epoch 00003: val_acc improved from 0.89219 to 0.90200, saving model to C:\\Users\\danie\\coding\\cnn-auto-encoder\\ckpts\\classifier.hdf5\n",
      "Epoch 4/32\n",
      "49000/49000 [==============================] - 30s 614us/step - loss: 0.0146 - acc: 0.9029 - val_loss: 0.0143 - val_acc: 0.9052\n",
      "\n",
      "Epoch 00004: val_acc improved from 0.90200 to 0.90524, saving model to C:\\Users\\danie\\coding\\cnn-auto-encoder\\ckpts\\classifier.hdf5\n",
      "Epoch 5/32\n",
      "49000/49000 [==============================] - 23s 475us/step - loss: 0.0139 - acc: 0.9082 - val_loss: 0.0134 - val_acc: 0.9116\n",
      "\n",
      "Epoch 00005: val_acc improved from 0.90524 to 0.91162, saving model to C:\\Users\\danie\\coding\\cnn-auto-encoder\\ckpts\\classifier.hdf5\n",
      "Epoch 6/32\n",
      "49000/49000 [==============================] - 31s 629us/step - loss: 0.0133 - acc: 0.9122 - val_loss: 0.0128 - val_acc: 0.9148\n",
      "\n",
      "Epoch 00006: val_acc improved from 0.91162 to 0.91476, saving model to C:\\Users\\danie\\coding\\cnn-auto-encoder\\ckpts\\classifier.hdf5\n",
      "Epoch 7/32\n",
      "49000/49000 [==============================] - 30s 607us/step - loss: 0.0129 - acc: 0.9143 - val_loss: 0.0134 - val_acc: 0.9107\n",
      "\n",
      "Epoch 00007: val_acc did not improve from 0.91476\n",
      "Epoch 8/32\n",
      "49000/49000 [==============================] - 35s 715us/step - loss: 0.0125 - acc: 0.9169 - val_loss: 0.0142 - val_acc: 0.9027\n",
      "\n",
      "Epoch 00008: val_acc did not improve from 0.91476\n",
      "Epoch 9/32\n",
      "49000/49000 [==============================] - 32s 650us/step - loss: 0.0124 - acc: 0.9181 - val_loss: 0.0122 - val_acc: 0.9179\n",
      "\n",
      "Epoch 00009: val_acc improved from 0.91476 to 0.91790, saving model to C:\\Users\\danie\\coding\\cnn-auto-encoder\\ckpts\\classifier.hdf5\n",
      "Epoch 10/32\n",
      "49000/49000 [==============================] - 31s 635us/step - loss: 0.0122 - acc: 0.9194 - val_loss: 0.0129 - val_acc: 0.9139\n",
      "\n",
      "Epoch 00010: val_acc did not improve from 0.91790\n",
      "Epoch 11/32\n",
      "49000/49000 [==============================] - 21s 433us/step - loss: 0.0120 - acc: 0.9200 - val_loss: 0.0122 - val_acc: 0.9179\n",
      "\n",
      "Epoch 00011: val_acc did not improve from 0.91790\n",
      "Epoch 12/32\n",
      "49000/49000 [==============================] - 15s 308us/step - loss: 0.0118 - acc: 0.9219 - val_loss: 0.0122 - val_acc: 0.9180\n",
      "\n",
      "Epoch 00012: val_acc improved from 0.91790 to 0.91800, saving model to C:\\Users\\danie\\coding\\cnn-auto-encoder\\ckpts\\classifier.hdf5\n",
      "\n",
      "Epoch 00012: ReduceLROnPlateau reducing learning rate to 0.0003000000142492354.\n",
      "Epoch 13/32\n",
      "49000/49000 [==============================] - 10s 212us/step - loss: 0.0110 - acc: 0.9270 - val_loss: 0.0115 - val_acc: 0.9230\n",
      "\n",
      "Epoch 00013: val_acc improved from 0.91800 to 0.92295, saving model to C:\\Users\\danie\\coding\\cnn-auto-encoder\\ckpts\\classifier.hdf5\n",
      "Epoch 14/32\n",
      "49000/49000 [==============================] - 24s 493us/step - loss: 0.0110 - acc: 0.9277 - val_loss: 0.0111 - val_acc: 0.9270\n",
      "\n",
      "Epoch 00014: val_acc improved from 0.92295 to 0.92705, saving model to C:\\Users\\danie\\coding\\cnn-auto-encoder\\ckpts\\classifier.hdf5\n",
      "Epoch 15/32\n",
      "49000/49000 [==============================] - 15s 304us/step - loss: 0.0109 - acc: 0.9277 - val_loss: 0.0110 - val_acc: 0.9263\n",
      "\n",
      "Epoch 00015: val_acc did not improve from 0.92705\n",
      "Epoch 16/32\n",
      "49000/49000 [==============================] - 23s 471us/step - loss: 0.0109 - acc: 0.9282 - val_loss: 0.0112 - val_acc: 0.9260\n",
      "\n",
      "Epoch 00016: val_acc did not improve from 0.92705\n",
      "Epoch 17/32\n",
      "49000/49000 [==============================] - 25s 512us/step - loss: 0.0108 - acc: 0.9286 - val_loss: 0.0110 - val_acc: 0.9274\n",
      "\n",
      "Epoch 00017: val_acc improved from 0.92705 to 0.92743, saving model to C:\\Users\\danie\\coding\\cnn-auto-encoder\\ckpts\\classifier.hdf5\n",
      "Epoch 18/32\n",
      "49000/49000 [==============================] - 30s 622us/step - loss: 0.0108 - acc: 0.9288 - val_loss: 0.0111 - val_acc: 0.9251\n",
      "\n",
      "Epoch 00018: val_acc did not improve from 0.92743\n",
      "Epoch 19/32\n",
      "49000/49000 [==============================] - 29s 591us/step - loss: 0.0107 - acc: 0.9298 - val_loss: 0.0112 - val_acc: 0.9277\n",
      "\n",
      "Epoch 00019: val_acc improved from 0.92743 to 0.92771, saving model to C:\\Users\\danie\\coding\\cnn-auto-encoder\\ckpts\\classifier.hdf5\n",
      "Epoch 20/32\n",
      "49000/49000 [==============================] - 17s 355us/step - loss: 0.0107 - acc: 0.9292 - val_loss: 0.0109 - val_acc: 0.9273\n",
      "\n",
      "Epoch 00020: val_acc did not improve from 0.92771\n",
      "Epoch 21/32\n",
      "49000/49000 [==============================] - 8s 157us/step - loss: 0.0107 - acc: 0.9302 - val_loss: 0.0107 - val_acc: 0.9283\n",
      "\n",
      "Epoch 00021: val_acc improved from 0.92771 to 0.92829, saving model to C:\\Users\\danie\\coding\\cnn-auto-encoder\\ckpts\\classifier.hdf5\n",
      "Epoch 22/32\n",
      "49000/49000 [==============================] - 8s 169us/step - loss: 0.0106 - acc: 0.9304 - val_loss: 0.0110 - val_acc: 0.9270\n",
      "\n",
      "Epoch 00022: val_acc did not improve from 0.92829\n",
      "Epoch 23/32\n",
      "49000/49000 [==============================] - 8s 172us/step - loss: 0.0106 - acc: 0.9302 - val_loss: 0.0108 - val_acc: 0.9282\n",
      "\n",
      "Epoch 00023: val_acc did not improve from 0.92829\n",
      "Epoch 24/32\n",
      "49000/49000 [==============================] - 9s 174us/step - loss: 0.0106 - acc: 0.9309 - val_loss: 0.0107 - val_acc: 0.9287\n",
      "\n",
      "Epoch 00024: val_acc improved from 0.92829 to 0.92867, saving model to C:\\Users\\danie\\coding\\cnn-auto-encoder\\ckpts\\classifier.hdf5\n",
      "Epoch 25/32\n",
      "49000/49000 [==============================] - 9s 175us/step - loss: 0.0106 - acc: 0.9300 - val_loss: 0.0106 - val_acc: 0.9295\n",
      "\n",
      "Epoch 00025: val_acc improved from 0.92867 to 0.92952, saving model to C:\\Users\\danie\\coding\\cnn-auto-encoder\\ckpts\\classifier.hdf5\n",
      "Epoch 26/32\n",
      "49000/49000 [==============================] - 9s 177us/step - loss: 0.0105 - acc: 0.9309 - val_loss: 0.0107 - val_acc: 0.9293\n",
      "\n",
      "Epoch 00026: val_acc did not improve from 0.92952\n",
      "Epoch 27/32\n",
      "49000/49000 [==============================] - 9s 176us/step - loss: 0.0105 - acc: 0.9313 - val_loss: 0.0107 - val_acc: 0.9291\n",
      "\n",
      "Epoch 00027: val_acc did not improve from 0.92952\n",
      "Epoch 28/32\n",
      "49000/49000 [==============================] - 9s 190us/step - loss: 0.0105 - acc: 0.9309 - val_loss: 0.0106 - val_acc: 0.9324\n",
      "\n",
      "Epoch 00028: val_acc improved from 0.92952 to 0.93238, saving model to C:\\Users\\danie\\coding\\cnn-auto-encoder\\ckpts\\classifier.hdf5\n",
      "Epoch 29/32\n",
      "49000/49000 [==============================] - 9s 177us/step - loss: 0.0104 - acc: 0.9317 - val_loss: 0.0107 - val_acc: 0.9289\n",
      "\n",
      "Epoch 00029: val_acc did not improve from 0.93238\n",
      "Epoch 30/32\n",
      "49000/49000 [==============================] - 8s 169us/step - loss: 0.0104 - acc: 0.9315 - val_loss: 0.0106 - val_acc: 0.9306\n",
      "\n",
      "Epoch 00030: val_acc did not improve from 0.93238\n",
      "Epoch 31/32\n",
      "49000/49000 [==============================] - 8s 171us/step - loss: 0.0104 - acc: 0.9326 - val_loss: 0.0106 - val_acc: 0.9305\n",
      "\n",
      "Epoch 00031: val_acc did not improve from 0.93238\n",
      "\n",
      "Epoch 00031: ReduceLROnPlateau reducing learning rate to 9.000000427477062e-05.\n",
      "Epoch 32/32\n",
      "49000/49000 [==============================] - 8s 171us/step - loss: 0.0102 - acc: 0.9332 - val_loss: 0.0105 - val_acc: 0.9304\n",
      "\n",
      "Epoch 00032: val_acc did not improve from 0.93238\n",
      "_________________________________________________________________\n",
      "Layer (type)                 Output Shape              Param #   \n",
      "=================================================================\n",
      "dense_1 (Dense)              (None, 32)                800       \n",
      "_________________________________________________________________\n",
      "dense_2 (Dense)              (None, 10)                330       \n",
      "=================================================================\n",
      "Total params: 1,130\n",
      "Trainable params: 1,130\n",
      "Non-trainable params: 0\n",
      "_________________________________________________________________\n"
     ]
    }
   ],
   "source": [
    "ckpt_loc = os.path.join(CUR_DIR, \"ckpts\", \"classifier.hdf5\")\n",
    "if False and os.path.isfile(ckpt_loc):\n",
    "    print(\"Loading classifier from directory %s...\" % ckpt_loc)\n",
    "    classifier = load_model(ckpt_loc)\n",
    "else:\n",
    "    print(\"Training classifier...\")\n",
    "    classifier = build_classifier(input_dim=flat)\n",
    "    earlyStopping = EarlyStopping(\n",
    "        monitor=\"val_acc\", patience=5, verbose=1, mode=\"max\", min_delta=0.0005\n",
    "    )\n",
    "    mcp_save = ModelCheckpoint(\n",
    "        ckpt_loc, save_best_only=True, verbose=1, monitor=\"val_acc\", mode=\"max\"\n",
    "    )\n",
    "    reduce_lr_loss = ReduceLROnPlateau(\n",
    "        monitor=\"val_acc\", factor=0.3, patience=3, verbose=1, mode=\"max\"\n",
    "    )\n",
    "    classifier.fit(\n",
    "        encoded_imgs_train,\n",
    "        y_train,\n",
    "        validation_data=(encoded_imgs_validate, y_validate),\n",
    "        batch_size=16,\n",
    "        epochs=32,\n",
    "        shuffle=True,\n",
    "        callbacks=[earlyStopping, mcp_save, reduce_lr_loss],\n",
    "    )\n",
    "classifier.summary()"
   ]
  },
  {
   "cell_type": "code",
   "execution_count": 76,
   "metadata": {},
   "outputs": [
    {
     "name": "stdout",
     "output_type": "stream",
     "text": [
      "49000/49000 [==============================] - 1s 28us/step\n",
      "10500/10500 [==============================] - 0s 28us/step\n",
      "10500/10500 [==============================] - 0s 29us/step\n"
     ]
    },
    {
     "data": {
      "text/plain": [
       "([0.010157373058296056, 0.9335102040816327],\n",
       " [0.010455370216186912, 0.9303809523809524],\n",
       " [0.010909980909233646, 0.9239047619047619])"
      ]
     },
     "execution_count": 76,
     "metadata": {},
     "output_type": "execute_result"
    }
   ],
   "source": [
    "eval_train = classifier.evaluate(encoded_imgs_train, y_train)\n",
    "eval_validate = classifier.evaluate(encoded_imgs_validate, y_validate)\n",
    "eval_test = classifier.evaluate(encoded_imgs_test, y_test)\n",
    "eval_train,eval_validate, eval_test"
   ]
  },
  {
   "cell_type": "code",
   "execution_count": 77,
   "metadata": {},
   "outputs": [],
   "source": [
    "def get_cm(input, y_true):\n",
    "    \"\"\"Computes confusion matrix.\"\"\"\n",
    "    y_pred = tf.argmax(classifier.predict(input), axis=1)\n",
    "    y_true = tf.argmax(y_true, axis=1)\n",
    "\n",
    "    c = tf.keras.backend.eval(y_pred)\n",
    "    d = tf.keras.backend.eval(y_true)\n",
    "\n",
    "    return confusion_matrix(c, d)"
   ]
  },
  {
   "cell_type": "code",
   "execution_count": 78,
   "metadata": {},
   "outputs": [],
   "source": [
    "def precision(cm):\n",
    "    results = []\n",
    "    for i in range(len(cm)):  # rows\n",
    "        TP = cm[i][i]\n",
    "        fp_tp = np.sum(cm[i])\n",
    "        results.append(TP / fp_tp)\n",
    "    return results + [np.mean(results)]"
   ]
  },
  {
   "cell_type": "code",
   "execution_count": 79,
   "metadata": {},
   "outputs": [],
   "source": [
    "def recall(cm):\n",
    "    results = []\n",
    "    for i in range(len(cm)):  # rows\n",
    "        TP = cm[i][i]\n",
    "        tp_fn = 0\n",
    "        for j in range(len(cm[i])):\n",
    "            tp_fn += cm[j][i]\n",
    "        results.append(TP/tp_fn)\n",
    "    return results + [np.mean(results)]"
   ]
  },
  {
   "cell_type": "code",
   "execution_count": 80,
   "metadata": {},
   "outputs": [
    {
     "name": "stdout",
     "output_type": "stream",
     "text": [
      "[[4708    2   14    6    8   24   44    9   23   18]\n",
      " [   2 5367   12    9   12    6   18   11   33   16]\n",
      " [   8   27 4649   87   30    3   18   51   39    6]\n",
      " [   2   17   37 4436    1   87    0   24   89   45]\n",
      " [  16   14   45    3 4287   19   23   37   22  114]\n",
      " [   8    1    1  110    3 4054   31    2   86   19]\n",
      " [  60    5   30   12   66   83 4705    0   33    5]\n",
      " [   5    7   50   64   20    3    1 4733   31  180]\n",
      " [  36   25   45  164   28  149   28   15 4340   45]\n",
      " [  17   12    6   50  263   16    0  262   50 4463]]\n",
      "0.9333967041116578\n",
      "0.932768254149846\n",
      "[[ 978    0    8    1    2    7    7    2    8    6]\n",
      " [   0 1182    2    3    5    2    2    2   10    2]\n",
      " [   2   10 1029   17    6    0    3   10    7    1]\n",
      " [   3    5   11  941    2   19    0    1   17    9]\n",
      " [   2    3   12    0  928    2    5    8    3   23]\n",
      " [   3    0    0   20    1  871    6    0   15    7]\n",
      " [  15    1    7    3   11   16  990    1    5    0]\n",
      " [   4    4   10   10    3    0    2  998    9   47]\n",
      " [   9    5    7   38    9   34   16    3  959   13]\n",
      " [   2    6    2   12   52    5    0   57   11  893]]\n",
      "0.9301315990454542\n",
      "0.9294070938403556\n",
      "[[ 981    0    2    1    3   10   12    3    4    2]\n",
      " [   1 1162    1    3    2    1    9    3    3    4]\n",
      " [   3    7  956   15    7    1    2   11   11    0]\n",
      " [   4    2   10 1023    0   12    1    5   23   12]\n",
      " [   1    2   14    0  991    2    3   11    5   33]\n",
      " [   3    0    0   26    2  820    5    1   23    9]\n",
      " [  14    1    5    2   12   15  942    0   13    3]\n",
      " [   0    3    9   14    7    0    0  976    8   48]\n",
      " [  10    5   15   57    5   48    3    5  933   18]\n",
      " [   6    2    1   14   58    4    0   52   12  917]]\n",
      "0.9238082951528179\n",
      "0.9236643032483307\n"
     ]
    }
   ],
   "source": [
    "cm_train = get_cm(encoded_imgs_train, y_train)\n",
    "print(cm_train, precision(cm_train)[-1], recall(cm_train)[-1], sep=\"\\n\")\n",
    "\n",
    "cm_validate = get_cm(encoded_imgs_validate, y_validate)\n",
    "print(cm_validate, precision(cm_validate)[-1], recall(cm_validate)[-1], sep=\"\\n\")\n",
    "\n",
    "cm_test = get_cm(encoded_imgs_test, y_test)\n",
    "print(cm_test, precision(cm_test)[-1], recall(cm_test)[-1], sep=\"\\n\")"
   ]
  },
  {
   "cell_type": "markdown",
   "metadata": {},
   "source": [
    "# Feature distribution with DJ CF Gauss"
   ]
  },
  {
   "cell_type": "code",
   "execution_count": 81,
   "metadata": {},
   "outputs": [],
   "source": [
    "one_flat = np.prod(encoded_one_imgs_train.shape[1:], dtype=np.int64)\n",
    "encoded_one_imgs_train = encoded_one_imgs_train.reshape(\n",
    "    len(encoded_one_imgs_train), one_flat\n",
    ")\n",
    "encoded_one_imgs_validate = encoded_one_imgs_validate.reshape(\n",
    "    len(encoded_one_imgs_validate), one_flat\n",
    ")\n",
    "encoded_one_imgs_test = encoded_one_imgs_test.reshape(\n",
    "    len(encoded_one_imgs_test), one_flat\n",
    ")"
   ]
  },
  {
   "cell_type": "code",
   "execution_count": 82,
   "metadata": {},
   "outputs": [],
   "source": [
    "def gauss(x_i, my_i, sigma_i2):\n",
    "    # gaussian distribution for one feature\n",
    "    if sigma_i2 == 0:\n",
    "        return 1 if x_i == my_i else 0\n",
    "    return np.array(\n",
    "        (1 / np.sqrt(2 * np.pi * sigma_i2))\n",
    "        * np.exp(-(x_i - my_i) ** 2 / (2 * sigma_i2))\n",
    "    )"
   ]
  },
  {
   "cell_type": "code",
   "execution_count": 83,
   "metadata": {},
   "outputs": [],
   "source": [
    "def my(X):\n",
    "    return np.array([(1 / len(x)) * np.sum(x) for x in X.T])"
   ]
  },
  {
   "cell_type": "code",
   "execution_count": 84,
   "metadata": {},
   "outputs": [],
   "source": [
    "def sigma2(X, my):\n",
    "    # computes sigma squared for each feature\n",
    "    m = len(X)  # number of data points\n",
    "    return np.array([(1/m)*np.sum((X[:, i] - my[i]) ** 2) for i in range(len(my))])"
   ]
  },
  {
   "cell_type": "code",
   "execution_count": 85,
   "metadata": {},
   "outputs": [],
   "source": [
    "def p(X,my,sigma2):\n",
    "    return np.array([np.prod([gauss(x[i], my[i], sigma2[i])\n",
    "               for i in range(len(x))]) for x in X])"
   ]
  },
  {
   "cell_type": "code",
   "execution_count": 86,
   "metadata": {},
   "outputs": [],
   "source": [
    "X = encoded_one_imgs_test"
   ]
  },
  {
   "cell_type": "code",
   "execution_count": 87,
   "metadata": {},
   "outputs": [
    {
     "data": {
      "text/plain": [
       "array([0.0003197 , 0.00011112, 0.00012036, 0.00020606, 0.00010436,\n",
       "       0.00012751, 0.00021457, 0.00010162, 0.00021343, 0.00010372,\n",
       "       0.00011442, 0.00015182, 0.00011803, 0.00017035, 0.00011706,\n",
       "       0.00011271, 0.00011769, 0.00013339, 0.00010214, 0.00021844,\n",
       "       0.00014009, 0.00011139, 0.00018007, 0.00013337])"
      ]
     },
     "execution_count": 87,
     "metadata": {},
     "output_type": "execute_result"
    }
   ],
   "source": [
    "m = len(X)\n",
    "number_of_features = len(X[0])\n",
    "my = np.array([(1 / len(x)) * np.sum(x) for x in X.T])\n",
    "sigma_2 = np.array(\n",
    "    [np.sum((X[:, i] - my[i]) ** 2) / m for i in range(number_of_features)]\n",
    ")\n",
    "\n",
    "p_all = p(X, my, sigma_2)\n",
    "p_all[p_all>0.0001]"
   ]
  },
  {
   "cell_type": "markdown",
   "metadata": {},
   "source": [
    "# One Class SVM"
   ]
  },
  {
   "cell_type": "code",
   "execution_count": 88,
   "metadata": {},
   "outputs": [],
   "source": [
    "from sklearn import svm\n",
    "from sklearn.metrics import precision_recall_curve, auc, roc_auc_score"
   ]
  },
  {
   "cell_type": "code",
   "execution_count": 89,
   "metadata": {},
   "outputs": [
    {
     "data": {
      "text/plain": [
       "OneClassSVM(cache_size=200, coef0=0.0, degree=3, gamma='auto', kernel='rbf',\n",
       "            max_iter=-1, nu=0.5, random_state=None, shrinking=True, tol=0.001,\n",
       "            verbose=False)"
      ]
     },
     "execution_count": 89,
     "metadata": {},
     "output_type": "execute_result"
    }
   ],
   "source": [
    "clf = svm.OneClassSVM(gamma=\"auto\")\n",
    "clf.fit(encoded_one_imgs_train)"
   ]
  },
  {
   "cell_type": "code",
   "execution_count": 90,
   "metadata": {},
   "outputs": [
    {
     "data": {
      "image/png": "[encoded data removed]",
      "text/plain": [
       "<Figure size 432x288 with 1 Axes>"
      ]
     },
     "metadata": {
      "needs_background": "light"
     },
     "output_type": "display_data"
    }
   ],
   "source": [
    "scores = clf.decision_function(encoded_one_imgs_test).ravel()\n",
    "bins = 50\n",
    "hist_oc = np.histogram(scores,bins)\n",
    "# loss distribution over the anomaly dataset\n",
    "t = np.linspace(scores.min(), scores.max(), bins)\n",
    "plt.plot(t, hist_oc[0], \"r\")\n",
    "plt.show()"
   ]
  },
  {
   "cell_type": "code",
   "execution_count": null,
   "metadata": {},
   "outputs": [],
   "source": [
    "precision, recall, thresholds = precision_recall_curve(\n",
    "    y_true=None, probas_pred=None^\n",
    ")  # ytrue = ground truth, probas_pred = predicted results"
   ]
  },
  {
   "cell_type": "markdown",
   "metadata": {},
   "source": [
    "### Distribution of Encoded Features"
   ]
  },
  {
   "cell_type": "code",
   "execution_count": 49,
   "metadata": {},
   "outputs": [
    {
     "ename": "TypeError",
     "evalue": "object of type 'function' has no len()",
     "output_type": "error",
     "traceback": [
      "\u001b[1;31m---------------------------------------------------------------------------\u001b[0m",
      "\u001b[1;31mTypeError\u001b[0m                                 Traceback (most recent call last)",
      "\u001b[1;32m<ipython-input-49-96e34290bc59>\u001b[0m in \u001b[0;36m<module>\u001b[1;34m\u001b[0m\n\u001b[0;32m      1\u001b[0m \u001b[0mplt\u001b[0m\u001b[1;33m.\u001b[0m\u001b[0mfigure\u001b[0m\u001b[1;33m(\u001b[0m\u001b[0mfigsize\u001b[0m\u001b[1;33m=\u001b[0m\u001b[1;33m(\u001b[0m\u001b[1;36m20\u001b[0m\u001b[1;33m,\u001b[0m \u001b[1;36m20\u001b[0m\u001b[1;33m)\u001b[0m\u001b[1;33m)\u001b[0m\u001b[1;33m\u001b[0m\u001b[1;33m\u001b[0m\u001b[0m\n\u001b[1;32m----> 2\u001b[1;33m \u001b[1;32mfor\u001b[0m \u001b[0mi\u001b[0m \u001b[1;32min\u001b[0m \u001b[0mrange\u001b[0m\u001b[1;33m(\u001b[0m\u001b[0mlen\u001b[0m\u001b[1;33m(\u001b[0m\u001b[0mmy\u001b[0m\u001b[1;33m)\u001b[0m\u001b[1;33m-\u001b[0m\u001b[1;36m1\u001b[0m\u001b[1;33m)\u001b[0m\u001b[1;33m:\u001b[0m\u001b[1;33m\u001b[0m\u001b[1;33m\u001b[0m\u001b[0m\n\u001b[0m\u001b[0;32m      3\u001b[0m     \u001b[1;31m# plots distribution of i-th feature\u001b[0m\u001b[1;33m\u001b[0m\u001b[1;33m\u001b[0m\u001b[1;33m\u001b[0m\u001b[0m\n\u001b[0;32m      4\u001b[0m     \u001b[1;31m# display original\u001b[0m\u001b[1;33m\u001b[0m\u001b[1;33m\u001b[0m\u001b[1;33m\u001b[0m\u001b[0m\n\u001b[0;32m      5\u001b[0m     \u001b[0mbins\u001b[0m \u001b[1;33m=\u001b[0m \u001b[0mlen\u001b[0m\u001b[1;33m(\u001b[0m\u001b[0mX\u001b[0m\u001b[1;33m)\u001b[0m\u001b[1;33m//\u001b[0m\u001b[1;36m100\u001b[0m\u001b[1;33m\u001b[0m\u001b[1;33m\u001b[0m\u001b[0m\n",
      "\u001b[1;31mTypeError\u001b[0m: object of type 'function' has no len()"
     ]
    },
    {
     "data": {
      "text/plain": [
       "<Figure size 1440x1440 with 0 Axes>"
      ]
     },
     "metadata": {},
     "output_type": "display_data"
    }
   ],
   "source": [
    "plt.figure(figsize=(20, 20))\n",
    "for i in range(len(my)-1):\n",
    "    # plots distribution of i-th feature\n",
    "    # display original\n",
    "    bins = len(X)//10\n",
    "    hist = np.histogram(X[:, i], bins=bins)\n",
    "    ax = plt.subplot(4, 6, i + 1)\n",
    "    h_min = min(hist[1])\n",
    "    h_max = max(hist[1])\n",
    "    r = np.linspace(start=h_min, stop=h_max, num=bins)\n",
    "    plt.plot(r, hist[0]/len(X[:,i]))"
   ]
  },
  {
   "cell_type": "code",
   "execution_count": 57,
   "metadata": {},
   "outputs": [],
   "source": [
    "def convert_values_to_img(values):\n",
    "    values = np.reshape(values, (1, 2, 2, 6))\n",
    "    random_img = decoder.predict(values)\n",
    "    return np.reshape(random_img, (28, 28))"
   ]
  },
  {
   "cell_type": "code",
   "execution_count": 58,
   "metadata": {},
   "outputs": [
    {
     "data": {
      "text/plain": [
       "[<matplotlib.lines.Line2D at 0x71ae7940>]"
      ]
     },
     "execution_count": 58,
     "metadata": {},
     "output_type": "execute_result"
    },
    {
     "data": {
      "image/png": "[encoded data removed]",
      "text/plain": [
       "<Figure size 432x288 with 1 Axes>"
      ]
     },
     "metadata": {
      "needs_background": "light"
     },
     "output_type": "display_data"
    }
   ],
   "source": [
    "bins = 50\n",
    "hist_all = np.histogram(p_all, bins=bins)\n",
    "h_min = min(hist_all[1])\n",
    "h_max = max(hist_all[1])\n",
    "delta = abs(h_max - h_min)\n",
    "r = np.arange(h_min, h_max, delta / bins)\n",
    "plt.plot(r, hist_all[0])"
   ]
  },
  {
   "cell_type": "markdown",
   "metadata": {},
   "source": [
    "# Getting fashion-y"
   ]
  },
  {
   "cell_type": "code",
   "execution_count": null,
   "metadata": {},
   "outputs": [],
   "source": [
    "def get_fashion():\n",
    "    (X_train, y_train), (X_test, y_test) = fashion_mnist.load_data()\n",
    "    img = X_train[0].reshape((28, 28))\n",
    "    # reshape data to fit model\n",
    "    plt.imshow(X_train[1], cmap=\"Greys\", vmin=0, vmax=255)\n",
    "    plt.savefig(\"fashion_example_img.png\")\n",
    "\n",
    "    \"\"\"for Autoencoder\"\"\"\n",
    "    X_train = X_train.reshape((len(X_train), np.prod(X_train.shape[1:])))\n",
    "    X_test = X_test.reshape((len(X_test), np.prod(X_test.shape[1:])))\n",
    "    # np.random.shuffle(X_test)\n",
    "    X_validate = X_test[len(X_test) // 2 :]\n",
    "    X_test = X_test[: len(X_test) // 2]\n",
    "\n",
    "    return X_train / 255.0, X_test / 255.0, X_validate / 255.0"
   ]
  },
  {
   "cell_type": "code",
   "execution_count": null,
   "metadata": {},
   "outputs": [],
   "source": [
    "X_fashion_train, X_fashion_test, X_fashion_validate = get_fashion()\n",
    "print(X_fashion_test[:5])"
   ]
  },
  {
   "cell_type": "markdown",
   "metadata": {},
   "source": [
    "# Colored images"
   ]
  },
  {
   "cell_type": "code",
   "execution_count": null,
   "metadata": {},
   "outputs": [],
   "source": [
    "def unpickle(file):\n",
    "    import pickle\n",
    "\n",
    "    with open(file, \"rb\") as fo:\n",
    "        dic = pickle.load(fo, encoding=\"bytes\")\n",
    "    return dic"
   ]
  },
  {
   "cell_type": "code",
   "execution_count": null,
   "metadata": {},
   "outputs": [],
   "source": [
    "data_path = os.path.join(CUR_DIR, \"data\", \"cifar-10-batches-py\")\n",
    "train_batches = []\n",
    "test_batch = []\n",
    "for filename in os.listdir(data_path):\n",
    "    filename = os.path.join(data_path, filename)\n",
    "    if \"data_batch\" in filename:\n",
    "        train_batches.append(unpickle(filename))  # keys: labels, data, filenames\n",
    "    if \"test_batch\" in filename:\n",
    "        test_batch = unpickle(filename)\n",
    "len(train_batches), test_batch"
   ]
  },
  {
   "cell_type": "code",
   "execution_count": null,
   "metadata": {
    "scrolled": false
   },
   "outputs": [],
   "source": [
    "data_path = os.path.join(CUR_DIR, \"data\", \"cifar-100-python\")\n",
    "train_batches = []\n",
    "test_batch = []\n",
    "for filename in os.listdir(data_path):\n",
    "    filename = os.path.join(data_path, filename)\n",
    "    if \"train\" in filename:\n",
    "        train_batches = unpickle(filename)  # keys: labels, data, filenames\n",
    "    if \"test\" in filename:\n",
    "        test_batch = unpickle(filename)\n",
    "len(train_batches), test_batch"
   ]
  },
  {
   "cell_type": "code",
   "execution_count": null,
   "metadata": {},
   "outputs": [],
   "source": []
  }
 ],
 "metadata": {
  "kernelspec": {
   "display_name": "Python 3",
   "language": "python",
   "name": "python3"
  },
  "language_info": {
   "codemirror_mode": {
    "name": "ipython",
    "version": 3
   },
   "file_extension": ".py",
   "mimetype": "text/x-python",
   "name": "python",
   "nbconvert_exporter": "python",
   "pygments_lexer": "ipython3",
   "version": "3.7.3"
  }
 },
 "nbformat": 4,
 "nbformat_minor": 2
}
